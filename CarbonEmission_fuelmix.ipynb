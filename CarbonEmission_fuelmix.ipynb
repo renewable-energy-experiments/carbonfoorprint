{
  "nbformat": 4,
  "nbformat_minor": 0,
  "metadata": {
    "colab": {
      "name": "US_CarbonEmission_granular_powergen.ipynb",
      "provenance": [],
      "authorship_tag": "ABX9TyNPTLgP67SQXmll0vugIzeO",
      "include_colab_link": true
    },
    "kernelspec": {
      "name": "python3",
      "display_name": "Python 3"
    },
    "language_info": {
      "name": "python"
    }
  },
  "cells": [
    {
      "cell_type": "markdown",
      "metadata": {
        "id": "view-in-github",
        "colab_type": "text"
      },
      "source": [
        "<a href=\"https://colab.research.google.com/github/renewable-energy-experiments/carbonfoorprint/blob/master/CarbonEmission_fuelmix.ipynb\" target=\"_parent\"><img src=\"https://colab.research.google.com/assets/colab-badge.svg\" alt=\"Open In Colab\"/></a>"
      ]
    },
    {
      "cell_type": "markdown",
      "metadata": {
        "id": "Qoy7C-2K_VdY"
      },
      "source": [
        "<h1><center>Electricity generation by energy source grids and Carbon Emissions <center><h1>  \n",
        "<h2> Includes Carbon Life Cyccle Emission from Renewables </h2>"
      ]
    },
    {
      "cell_type": "markdown",
      "metadata": {
        "id": "UAG4GYl1_d3H"
      },
      "source": [
        "# Table of Contents\n",
        "* [1. DataSet Description](#section-one)\n",
        "* [2. Plot Generation graph](#section-two)\n",
        "* [3. Carbon Emissions](#section-three)\n",
        "* [4. Carbon graph](#section-four)"
      ]
    },
    {
      "cell_type": "code",
      "metadata": {
        "id": "Itm_n0uPOTZD"
      },
      "source": [
        "import os\n",
        "import pandas as pd\n",
        "import numpy as np\n",
        "import datetime\n",
        "import seaborn as sns\n",
        "import matplotlib.pyplot as plt\n",
        "%matplotlib inline\n",
        "import plotly.express as px\n",
        "import plotly.graph_objects as go\n",
        "import matplotlib.dates as mdates \n",
        "xformatter = mdates.DateFormatter('%H:%M') # for time axis plots\n",
        "\n",
        "# import plotly.offline as py\n",
        "# py.init_notebook_mode(connected=True)\n",
        "\n",
        "import sklearn\n",
        "from scipy.optimize import curve_fit\n",
        "\n",
        "import warnings\n",
        "warnings.filterwarnings('ignore')"
      ],
      "execution_count": 546,
      "outputs": []
    },
    {
      "cell_type": "markdown",
      "metadata": {
        "id": "mQ89WJCF_hwp"
      },
      "source": [
        "<a id=\"section-one\"></a>\n",
        "# 1. DataSet Description\n",
        "\n",
        "Dataset is weekly reports from EDA  for CA ISO"
      ]
    },
    {
      "cell_type": "code",
      "metadata": {
        "colab": {
          "base_uri": "https://localhost:8080/",
          "height": 204
        },
        "id": "Gx95-URU_bcn",
        "outputId": "2bc836d1-7aee-47cc-e633-db7b08b6863c"
      },
      "source": [
        "# Import generation  data \n",
        "\n",
        "Region=\"UK\"\n",
        "date = datetime.date(2020, 7, 6)\n",
        "\n",
        "# NYISO\n",
        "# df = pd.read_csv(\"/content/CA ISO_2020-09-07.csv\")\n",
        "\n",
        "# New England\n",
        "# df = pd.read_csv(\"/content/NewEngland_2020-07-11.csv\")\n",
        "\n",
        "# North West BPA \n",
        "# North Western BPA https://transmission.bpa.gov/business/operations/Wind/baltwg.aspx\n",
        "# df = pd.read_csv('/content/baltwg_16_23_jun_2021.txt', \n",
        "#                 #  skiprows=[0,1], \n",
        "#                  sep = \"\\t\",delimiter = \"\\t\")\n",
        "\n",
        "# CA ISO \n",
        "# df = pd.read_csv(\"/content/CA ISO_2020-11-07.csv\")\n",
        "\n",
        "# Texas\n",
        "# df = pd.read_csv(\"/content/CA ISO_2020-09-07.csv\")\n",
        "\n",
        "# Canada\n",
        "# df = pd.read_csv(\"/content/xml-to-csv-generation_fuel_type_multiday.csv\")\n",
        "\n",
        "# UK\n",
        "df = pd.read_csv(\"/content/GenerationbyFuelType_20210615_1905.csv\")\n",
        "\n",
        "\n",
        "df.head()"
      ],
      "execution_count": 547,
      "outputs": [
        {
          "output_type": "execute_result",
          "data": {
            "text/html": [
              "<div>\n",
              "<style scoped>\n",
              "    .dataframe tbody tr th:only-of-type {\n",
              "        vertical-align: middle;\n",
              "    }\n",
              "\n",
              "    .dataframe tbody tr th {\n",
              "        vertical-align: top;\n",
              "    }\n",
              "\n",
              "    .dataframe thead th {\n",
              "        text-align: right;\n",
              "    }\n",
              "</style>\n",
              "<table border=\"1\" class=\"dataframe\">\n",
              "  <thead>\n",
              "    <tr style=\"text-align: right;\">\n",
              "      <th></th>\n",
              "      <th></th>\n",
              "      <th></th>\n",
              "      <th></th>\n",
              "      <th></th>\n",
              "      <th></th>\n",
              "      <th></th>\n",
              "      <th></th>\n",
              "      <th></th>\n",
              "      <th></th>\n",
              "      <th></th>\n",
              "      <th></th>\n",
              "      <th></th>\n",
              "      <th></th>\n",
              "      <th></th>\n",
              "      <th></th>\n",
              "      <th></th>\n",
              "      <th></th>\n",
              "      <th></th>\n",
              "      <th>HDR</th>\n",
              "      <th>HALF HOURLY OUTTURN GENERATION BY FUEL TYPE DATA</th>\n",
              "    </tr>\n",
              "  </thead>\n",
              "  <tbody>\n",
              "    <tr>\n",
              "      <th rowspan=\"5\" valign=\"top\">FUELHH</th>\n",
              "      <th rowspan=\"5\" valign=\"top\">20200706</th>\n",
              "      <th>1.0</th>\n",
              "      <th>3403.0</th>\n",
              "      <th>0.0</th>\n",
              "      <th>0.0</th>\n",
              "      <th>5278.0</th>\n",
              "      <th>9815.0</th>\n",
              "      <th>0.0</th>\n",
              "      <th>311.0</th>\n",
              "      <th>0.0</th>\n",
              "      <th>111.0</th>\n",
              "      <th>0.0</th>\n",
              "      <th>66.0</th>\n",
              "      <th>0.0</th>\n",
              "      <th>208.0</th>\n",
              "      <th>923.0</th>\n",
              "      <th>0.0</th>\n",
              "      <th>0.0</th>\n",
              "      <td>0.0</td>\n",
              "      <td>0.0</td>\n",
              "    </tr>\n",
              "    <tr>\n",
              "      <th>2.0</th>\n",
              "      <th>3394.0</th>\n",
              "      <th>0.0</th>\n",
              "      <th>0.0</th>\n",
              "      <th>5274.0</th>\n",
              "      <th>9494.0</th>\n",
              "      <th>0.0</th>\n",
              "      <th>302.0</th>\n",
              "      <th>0.0</th>\n",
              "      <th>111.0</th>\n",
              "      <th>0.0</th>\n",
              "      <th>72.0</th>\n",
              "      <th>0.0</th>\n",
              "      <th>186.0</th>\n",
              "      <th>910.0</th>\n",
              "      <th>0.0</th>\n",
              "      <th>0.0</th>\n",
              "      <td>0.0</td>\n",
              "      <td>0.0</td>\n",
              "    </tr>\n",
              "    <tr>\n",
              "      <th>3.0</th>\n",
              "      <th>3422.0</th>\n",
              "      <th>0.0</th>\n",
              "      <th>0.0</th>\n",
              "      <th>5258.0</th>\n",
              "      <th>9282.0</th>\n",
              "      <th>0.0</th>\n",
              "      <th>279.0</th>\n",
              "      <th>0.0</th>\n",
              "      <th>126.0</th>\n",
              "      <th>0.0</th>\n",
              "      <th>0.0</th>\n",
              "      <th>0.0</th>\n",
              "      <th>336.0</th>\n",
              "      <th>908.0</th>\n",
              "      <th>0.0</th>\n",
              "      <th>0.0</th>\n",
              "      <td>0.0</td>\n",
              "      <td>0.0</td>\n",
              "    </tr>\n",
              "    <tr>\n",
              "      <th>4.0</th>\n",
              "      <th>3291.0</th>\n",
              "      <th>0.0</th>\n",
              "      <th>0.0</th>\n",
              "      <th>5261.0</th>\n",
              "      <th>9279.0</th>\n",
              "      <th>0.0</th>\n",
              "      <th>276.0</th>\n",
              "      <th>0.0</th>\n",
              "      <th>113.0</th>\n",
              "      <th>0.0</th>\n",
              "      <th>0.0</th>\n",
              "      <th>0.0</th>\n",
              "      <th>458.0</th>\n",
              "      <th>908.0</th>\n",
              "      <th>0.0</th>\n",
              "      <th>0.0</th>\n",
              "      <td>0.0</td>\n",
              "      <td>0.0</td>\n",
              "    </tr>\n",
              "    <tr>\n",
              "      <th>5.0</th>\n",
              "      <th>3268.0</th>\n",
              "      <th>0.0</th>\n",
              "      <th>0.0</th>\n",
              "      <th>5246.0</th>\n",
              "      <th>9385.0</th>\n",
              "      <th>0.0</th>\n",
              "      <th>245.0</th>\n",
              "      <th>0.0</th>\n",
              "      <th>120.0</th>\n",
              "      <th>0.0</th>\n",
              "      <th>0.0</th>\n",
              "      <th>0.0</th>\n",
              "      <th>366.0</th>\n",
              "      <th>909.0</th>\n",
              "      <th>0.0</th>\n",
              "      <th>0.0</th>\n",
              "      <td>0.0</td>\n",
              "      <td>0.0</td>\n",
              "    </tr>\n",
              "  </tbody>\n",
              "</table>\n",
              "</div>"
            ],
            "text/plain": [
              "                                                                                                       HDR  HALF HOURLY OUTTURN GENERATION BY FUEL TYPE DATA\n",
              "FUELHH 20200706 1.0 3403.0 0.0 0.0 5278.0 9815.0 0.0 311.0 0.0 111.0 0.0 66.0 0.0 208.0 923.0 0.0 0.0  0.0                                               0.0\n",
              "                2.0 3394.0 0.0 0.0 5274.0 9494.0 0.0 302.0 0.0 111.0 0.0 72.0 0.0 186.0 910.0 0.0 0.0  0.0                                               0.0\n",
              "                3.0 3422.0 0.0 0.0 5258.0 9282.0 0.0 279.0 0.0 126.0 0.0 0.0  0.0 336.0 908.0 0.0 0.0  0.0                                               0.0\n",
              "                4.0 3291.0 0.0 0.0 5261.0 9279.0 0.0 276.0 0.0 113.0 0.0 0.0  0.0 458.0 908.0 0.0 0.0  0.0                                               0.0\n",
              "                5.0 3268.0 0.0 0.0 5246.0 9385.0 0.0 245.0 0.0 120.0 0.0 0.0  0.0 366.0 909.0 0.0 0.0  0.0                                               0.0"
            ]
          },
          "metadata": {
            "tags": []
          },
          "execution_count": 547
        }
      ]
    },
    {
      "cell_type": "code",
      "metadata": {
        "id": "gmG5PW3HTDvb"
      },
      "source": [
        "column_list = (\"Nuclear\",\"Wind\",\"Solar\",\"Hydro\",\"Other\",  \"Oil\", \"NaturalGas\",\"Coal\")\n",
        "\n",
        "def df_manipulation_casio(dfs):\n",
        "    dfs['Timestamp'] = dfs.index\n",
        "    date =  dfs.iloc[0].Timestamp.replace('Supply ','')\n",
        "    dfs['DATE'] = date\n",
        "    dfs = dfs[1:len(dfs)-1]\n",
        "    dfs['DATE'] =  pd.to_datetime(dfs['DATE'],format = '%m/%d/%Y').dt.date\n",
        "    dfs['TIME'] = pd.to_datetime(dfs['Timestamp'],format = '%H:%M').dt.time\n",
        "    dfs['HOURS'] = pd.to_datetime(dfs['TIME'],format='%H:%M:%S').dt.hour\n",
        "    dfs['MINUTES'] = pd.to_datetime(dfs['TIME'],format='%H:%M:%S').dt.minute\n",
        "    dfs['MINUTES_PASS'] = dfs['MINUTES'] + dfs['HOURS']*60\n",
        "    dfs['Timestamp'] = pd.to_datetime(dfs['DATE'].apply(str) +' '+ dfs['TIME'].apply(str), format = '%Y-%m-%d %H:%M:%S')\n",
        "\n",
        "      # Fill up Nan as 0\n",
        "    dfs = dfs.replace('undefined', 0)\n",
        "    dfs = dfs.fillna(0)\n",
        "    dfs = dfs.replace(np.nan, 0)\n",
        "\n",
        "    return dfs\n",
        "\n",
        "def df_manipulation_northwest(dfs):\n",
        "    dfs = dfs.rename(columns={\"Fossil/Biomass\": \"NaturalGas\",\n",
        "                            \"Large hydro\": \"Hydro\"\n",
        "                          })\n",
        "    for col in column_list:\n",
        "      if col not in dfs.columns:\n",
        "          dfs[col] = 0\n",
        "    dfs[\"total_generation\"] = dfs[np.array(column_list)].sum(axis=1)\n",
        "    dfs['Timestamp'] = pd.to_datetime(dfs['Date/Time       '], format = '%m/%d/%Y %H:%M')\n",
        "                  \n",
        "    # adding separate time and date columns\n",
        "    dfs[\"DATE\"] = pd.to_datetime(dfs[\"Timestamp\"]).dt.date # add new column with date\n",
        "    dfs['TIME'] = pd.to_datetime(dfs['Timestamp'],format = '%H:%M').dt.time\n",
        "    dfs['HOURS'] = pd.to_datetime(dfs['TIME'],format='%H:%M:%S').dt.hour\n",
        "    dfs['MINUTES'] = pd.to_datetime(dfs['TIME'],format='%H:%M:%S').dt.minute\n",
        "    dfs['MINUTES_PASS'] = dfs['MINUTES'] + dfs['HOURS']*60\n",
        "\n",
        "    # Fill up Nan as 0\n",
        "    dfs = dfs.replace('undefined', 0)\n",
        "    dfs = dfs.fillna(0)\n",
        "    dfs = dfs.replace(np.nan, 0)\n",
        "\n",
        "    # drop BeginDate\n",
        "    dfs.drop('Date/Time       ', axis=1, inplace=True)\n",
        "    day1 = dfs[dfs['DATE']== date].reset_index()\n",
        "\n",
        "    return day1\n",
        "\n",
        "def df_manipulation_isone(dfs):\n",
        "\n",
        "    return dfs\n",
        "\n",
        "def df_manipulation_caiso(dfs):\n",
        "\n",
        "    return dfs\n",
        "\n",
        "def df_manipulation_canada(dfs):\n",
        "    cols = list(dfs.columns)\n",
        "    cols = [cols[-1]] + cols[:-1]\n",
        "    dfs = dfs[cols]\n",
        "\n",
        "    dfs.reset_index(inplace=True)\n",
        "    dfs.set_index('_Series', drop=True, inplace=True)\n",
        "    dfs= dfs.transpose()\n",
        "    dfs = dfs[1:]\n",
        "\n",
        "    dfs['Timestamp']=pd.date_range(start='2020-06-10', freq='1H', end='2020-06-16')\n",
        "    dfs = dfs.rename(columns={\"Date\" : \"DATE\",\n",
        "                        \"Hour\" : \"HOUR\",\n",
        "                        \"GAS\": \"NaturalGas\",\n",
        "                        \"SOLAR\" : \"Solar\",\n",
        "                        \"NUCLEAR\" : \"Nuclear\",\n",
        "                        \"WIND\" : \"Wind\",\n",
        "                        \"HYDRO\": \"Hydro\",\n",
        "                        \"BIOFUEL\": \"Other\",\n",
        "                        \"Total Output\":\"total_generation\"\n",
        "                       })\n",
        "    dfs['DATE'] =  pd.to_datetime(dfs['Timestamp'],format = '%Y-%m-%d', errors='coerce').dt.date\n",
        "    dfs['TIME'] = pd.to_datetime(dfs['Timestamp'],format = '%H:%M', errors='coerce').dt.time \n",
        "    dfs['HOURS'] = pd.to_datetime(dfs['Timestamp'],format = '%H', errors='coerce').dt.hour\n",
        "    dfs['MINUTES'] = pd.to_datetime(dfs['Timestamp'],format='%M' , errors='coerce').dt.minute\n",
        "    dfs['MINUTES_PASS'] = dfs['MINUTES'] + dfs['HOURS']*60\n",
        "\n",
        "    for col in column_list:\n",
        "        if col not in dfs.columns:\n",
        "            dfs[col] = 0\n",
        "\n",
        "    dfs['Nuclear'] = pd.to_numeric(dfs['Nuclear'], errors='coerce').fillna(0)\n",
        "    dfs['Hydro'] = pd.to_numeric(dfs['Hydro'], errors='coerce').fillna(0)\n",
        "    dfs['NaturalGas'] = pd.to_numeric(dfs['NaturalGas'], errors='coerce').fillna(0)\n",
        "    dfs['Coal'] = pd.to_numeric(dfs['Coal'], errors='coerce').fillna(0)\n",
        "    dfs['Solar'] = pd.to_numeric(dfs['Solar'], errors='coerce').fillna(0)\n",
        "    dfs['Coal'] = pd.to_numeric(dfs['Coal'], errors='coerce').fillna(0)\n",
        "    dfs['Oil'] = pd.to_numeric(dfs['Oil'], errors='coerce').fillna(0)\n",
        "    dfs['Other'] = pd.to_numeric(dfs['Other'], errors='coerce').fillna(0)\n",
        "    dfs[\"total_generation\"] = dfs[np.array(column_list)].sum(axis=1)\n",
        "\n",
        "    dfs = dfs[dfs['DATE']==date]\n",
        "    return dfs\n",
        "\n",
        "def df_manipulation_uk(dfs):\n",
        "    col_names = ['','Timestamp','MINUTES','NaturalGas', 'Oil', 'Coal', 'Nuclear', 'Wind','','Hydro','','Other','','','','','','','']\n",
        "    dfs = pd.DataFrame(dfs.index.values.tolist(), columns=col_names)\n",
        "\n",
        "    for col in column_list:\n",
        "        if col not in dfs.columns:\n",
        "            dfs[col] = 0\n",
        "    # dfs['Timestamp'] = pd.date_range(start='2020-07-06', freq='1H', end='2020-07-12')\n",
        "    dfs['DATE'] =  pd.to_datetime(dfs['Timestamp'], errors='coerce', format = '%Y%m%d').dt.date\n",
        "    dfs[\"total_generation\"] = dfs[np.array(column_list)].sum(axis=1)\n",
        "\n",
        "    df2 = pd.DataFrame()\n",
        "\n",
        "    dhours = dfs[dfs['DATE']==date]\n",
        "    dunique_minpass = dhours['Timestamp'].unique()\n",
        "    dunique_minpass = pd.to_datetime(dunique_minpass ,format = '%Y-%m-%d %H:%M')\n",
        "    \n",
        "    index = pd.date_range(date, periods=1440, freq='T')\n",
        "    series = pd.Series(range(1440), index=index, name='Timestamp')\n",
        "    series = pd.to_datetime(series.index,format = '%Y-%m-%d %H:%M')\n",
        "\n",
        "    for m in series: \n",
        "        if m not in dunique_minpass:\n",
        "            dhours = dhours.append({ \n",
        "                'Timestamp': m,\n",
        "                'Solar': 0\n",
        "            }, ignore_index = True) \n",
        "    dhours = dhours.interpolate(method ='linear', limit_direction ='forward')\n",
        "    df2 = df2.append(dhours)\n",
        "\n",
        "    # convert minutes ( 30 min apart to hours)\n",
        "    df2['HOURS'] = pd.to_datetime(df2['MINUTES']/2,errors =\"coerce\",format='%H').dt.hour\n",
        "    df2['HOURS'] = df2['HOURS'] .replace(np.nan, 24)\n",
        "\n",
        "    df2 = df2.replace('undefined', 0)\n",
        "    df2 = df2.fillna(0)\n",
        "    df2 = df2.replace(np.nan, 0)\n",
        "    # drop unrecognized fuel types and empty column header columns\n",
        "    df2.drop([''], axis=1, inplace=True)  \n",
        "\n",
        "    df2['MINUTES_PASS'] = df2['MINUTES'] + df2['HOURS']*60\n",
        "\n",
        "    return df2"
      ],
      "execution_count": 548,
      "outputs": []
    },
    {
      "cell_type": "code",
      "metadata": {
        "id": "8kyYfITqTEtB",
        "outputId": "a8a8bb78-604e-4055-b7c8-2a11fa3781c5",
        "colab": {
          "base_uri": "https://localhost:8080/",
          "height": 204
        }
      },
      "source": [
        "# df = df_manipulation_northwest(df)\n",
        "# df = df_manipulation_isone(df)\n",
        "\n",
        "# df = df_manipulation_canada(df)\n",
        "\n",
        "# df = df_manipulation_caiso(df)\n",
        "\n",
        "df = df_manipulation_uk(df)\n",
        "df.head()"
      ],
      "execution_count": 549,
      "outputs": [
        {
          "output_type": "execute_result",
          "data": {
            "text/html": [
              "<div>\n",
              "<style scoped>\n",
              "    .dataframe tbody tr th:only-of-type {\n",
              "        vertical-align: middle;\n",
              "    }\n",
              "\n",
              "    .dataframe tbody tr th {\n",
              "        vertical-align: top;\n",
              "    }\n",
              "\n",
              "    .dataframe thead th {\n",
              "        text-align: right;\n",
              "    }\n",
              "</style>\n",
              "<table border=\"1\" class=\"dataframe\">\n",
              "  <thead>\n",
              "    <tr style=\"text-align: right;\">\n",
              "      <th></th>\n",
              "      <th>Timestamp</th>\n",
              "      <th>MINUTES</th>\n",
              "      <th>NaturalGas</th>\n",
              "      <th>Oil</th>\n",
              "      <th>Coal</th>\n",
              "      <th>Nuclear</th>\n",
              "      <th>Wind</th>\n",
              "      <th>Hydro</th>\n",
              "      <th>Other</th>\n",
              "      <th>Solar</th>\n",
              "      <th>DATE</th>\n",
              "      <th>total_generation</th>\n",
              "      <th>HOURS</th>\n",
              "      <th>MINUTES_PASS</th>\n",
              "    </tr>\n",
              "  </thead>\n",
              "  <tbody>\n",
              "    <tr>\n",
              "      <th>0</th>\n",
              "      <td>20200706</td>\n",
              "      <td>1.0</td>\n",
              "      <td>3403.0</td>\n",
              "      <td>0.0</td>\n",
              "      <td>0.0</td>\n",
              "      <td>5278.0</td>\n",
              "      <td>9815.0</td>\n",
              "      <td>311.0</td>\n",
              "      <td>111.0</td>\n",
              "      <td>0</td>\n",
              "      <td>2020-07-06</td>\n",
              "      <td>18918.0</td>\n",
              "      <td>0.0</td>\n",
              "      <td>1.0</td>\n",
              "    </tr>\n",
              "    <tr>\n",
              "      <th>1</th>\n",
              "      <td>20200706</td>\n",
              "      <td>2.0</td>\n",
              "      <td>3394.0</td>\n",
              "      <td>0.0</td>\n",
              "      <td>0.0</td>\n",
              "      <td>5274.0</td>\n",
              "      <td>9494.0</td>\n",
              "      <td>302.0</td>\n",
              "      <td>111.0</td>\n",
              "      <td>0</td>\n",
              "      <td>2020-07-06</td>\n",
              "      <td>18575.0</td>\n",
              "      <td>1.0</td>\n",
              "      <td>62.0</td>\n",
              "    </tr>\n",
              "    <tr>\n",
              "      <th>2</th>\n",
              "      <td>20200706</td>\n",
              "      <td>3.0</td>\n",
              "      <td>3422.0</td>\n",
              "      <td>0.0</td>\n",
              "      <td>0.0</td>\n",
              "      <td>5258.0</td>\n",
              "      <td>9282.0</td>\n",
              "      <td>279.0</td>\n",
              "      <td>126.0</td>\n",
              "      <td>0</td>\n",
              "      <td>2020-07-06</td>\n",
              "      <td>18367.0</td>\n",
              "      <td>1.0</td>\n",
              "      <td>63.0</td>\n",
              "    </tr>\n",
              "    <tr>\n",
              "      <th>3</th>\n",
              "      <td>20200706</td>\n",
              "      <td>4.0</td>\n",
              "      <td>3291.0</td>\n",
              "      <td>0.0</td>\n",
              "      <td>0.0</td>\n",
              "      <td>5261.0</td>\n",
              "      <td>9279.0</td>\n",
              "      <td>276.0</td>\n",
              "      <td>113.0</td>\n",
              "      <td>0</td>\n",
              "      <td>2020-07-06</td>\n",
              "      <td>18220.0</td>\n",
              "      <td>2.0</td>\n",
              "      <td>124.0</td>\n",
              "    </tr>\n",
              "    <tr>\n",
              "      <th>4</th>\n",
              "      <td>20200706</td>\n",
              "      <td>5.0</td>\n",
              "      <td>3268.0</td>\n",
              "      <td>0.0</td>\n",
              "      <td>0.0</td>\n",
              "      <td>5246.0</td>\n",
              "      <td>9385.0</td>\n",
              "      <td>245.0</td>\n",
              "      <td>120.0</td>\n",
              "      <td>0</td>\n",
              "      <td>2020-07-06</td>\n",
              "      <td>18264.0</td>\n",
              "      <td>2.0</td>\n",
              "      <td>125.0</td>\n",
              "    </tr>\n",
              "  </tbody>\n",
              "</table>\n",
              "</div>"
            ],
            "text/plain": [
              "  Timestamp  MINUTES  NaturalGas  ...  total_generation  HOURS  MINUTES_PASS\n",
              "0  20200706      1.0      3403.0  ...           18918.0    0.0           1.0\n",
              "1  20200706      2.0      3394.0  ...           18575.0    1.0          62.0\n",
              "2  20200706      3.0      3422.0  ...           18367.0    1.0          63.0\n",
              "3  20200706      4.0      3291.0  ...           18220.0    2.0         124.0\n",
              "4  20200706      5.0      3268.0  ...           18264.0    2.0         125.0\n",
              "\n",
              "[5 rows x 14 columns]"
            ]
          },
          "metadata": {
            "tags": []
          },
          "execution_count": 549
        }
      ]
    },
    {
      "cell_type": "code",
      "metadata": {
        "colab": {
          "base_uri": "https://localhost:8080/",
          "height": 297
        },
        "id": "a-o4PHH0NrRT",
        "outputId": "e18611bf-8997-4a82-de40-95c7f709c5e6"
      },
      "source": [
        "df_carbon = pd.read_csv(\"/content/US Utility grids - LCOE, Co2 Emissions - Carbon3.csv\")\n",
        "df_carbon"
      ],
      "execution_count": 550,
      "outputs": [
        {
          "output_type": "execute_result",
          "data": {
            "text/html": [
              "<div>\n",
              "<style scoped>\n",
              "    .dataframe tbody tr th:only-of-type {\n",
              "        vertical-align: middle;\n",
              "    }\n",
              "\n",
              "    .dataframe tbody tr th {\n",
              "        vertical-align: top;\n",
              "    }\n",
              "\n",
              "    .dataframe thead th {\n",
              "        text-align: right;\n",
              "    }\n",
              "</style>\n",
              "<table border=\"1\" class=\"dataframe\">\n",
              "  <thead>\n",
              "    <tr style=\"text-align: right;\">\n",
              "      <th></th>\n",
              "      <th>Fuel Type</th>\n",
              "      <th>Lifecycle emissions (gCO2eq/kWh)</th>\n",
              "      <th>Lifecycle emissions (kgCO2eq/MWh)</th>\n",
              "    </tr>\n",
              "  </thead>\n",
              "  <tbody>\n",
              "    <tr>\n",
              "      <th>0</th>\n",
              "      <td>Nuclear</td>\n",
              "      <td>12</td>\n",
              "      <td>12</td>\n",
              "    </tr>\n",
              "    <tr>\n",
              "      <th>1</th>\n",
              "      <td>Hydro</td>\n",
              "      <td>24</td>\n",
              "      <td>24</td>\n",
              "    </tr>\n",
              "    <tr>\n",
              "      <th>2</th>\n",
              "      <td>Wind</td>\n",
              "      <td>12</td>\n",
              "      <td>12</td>\n",
              "    </tr>\n",
              "    <tr>\n",
              "      <th>3</th>\n",
              "      <td>Solar</td>\n",
              "      <td>48</td>\n",
              "      <td>48</td>\n",
              "    </tr>\n",
              "    <tr>\n",
              "      <th>4</th>\n",
              "      <td>NaturalGas</td>\n",
              "      <td>490</td>\n",
              "      <td>490</td>\n",
              "    </tr>\n",
              "    <tr>\n",
              "      <th>5</th>\n",
              "      <td>Oil</td>\n",
              "      <td>490</td>\n",
              "      <td>490</td>\n",
              "    </tr>\n",
              "    <tr>\n",
              "      <th>6</th>\n",
              "      <td>Coal</td>\n",
              "      <td>820</td>\n",
              "      <td>820</td>\n",
              "    </tr>\n",
              "    <tr>\n",
              "      <th>7</th>\n",
              "      <td>Other</td>\n",
              "      <td>24</td>\n",
              "      <td>24</td>\n",
              "    </tr>\n",
              "  </tbody>\n",
              "</table>\n",
              "</div>"
            ],
            "text/plain": [
              "    Fuel Type  ...  Lifecycle emissions (kgCO2eq/MWh)\n",
              "0     Nuclear  ...                                 12\n",
              "1       Hydro  ...                                 24\n",
              "2        Wind  ...                                 12\n",
              "3       Solar  ...                                 48\n",
              "4  NaturalGas  ...                                490\n",
              "5         Oil  ...                                490\n",
              "6        Coal  ...                                820\n",
              "7       Other  ...                                 24\n",
              "\n",
              "[8 rows x 3 columns]"
            ]
          },
          "metadata": {
            "tags": []
          },
          "execution_count": 550
        }
      ]
    },
    {
      "cell_type": "markdown",
      "metadata": {
        "id": "6zEFpLCe5ogz"
      },
      "source": [
        "<a id=\"section-two\"></a>\n",
        "# 2. Plot Generation graph"
      ]
    },
    {
      "cell_type": "code",
      "metadata": {
        "id": "P_FY2_YI5-SC"
      },
      "source": [
        "color_list = [\"green\",\"skyblue\",\"gold\",\"teal\",\"deeppink\",\"red\",\"brown\",\"darkgrey\"]"
      ],
      "execution_count": 551,
      "outputs": []
    },
    {
      "cell_type": "code",
      "metadata": {
        "colab": {
          "base_uri": "https://localhost:8080/",
          "height": 369
        },
        "id": "Cak47qzp5rSo",
        "outputId": "6b4d13da-7f67-435c-fffb-d87c45b88203"
      },
      "source": [
        "fig, ax = plt.subplots()\n",
        "fig.set_size_inches(12, 5)\n",
        "\n",
        "df.plot(x='MINUTES_PASS', y = np.array(column_list), \n",
        "             ax = ax, \n",
        "             kind='area', stacked=True, \n",
        "             color = np.array(color_list),\n",
        "             title = \"Fuel usage for generation in \"+ Region + \" \"+  str(date), \n",
        "             grid=True,legend=False)\n",
        "\n",
        "ax.set_ylabel(\"generation(Mw)\")\n",
        "\n",
        "mean_gen = round(df[\"total_generation\"].mean())\n",
        "max_gen = df[\"total_generation\"].max()\n",
        "maxh = df.loc[df[\"total_generation\"]== max_gen]\n",
        "maxh = maxh[\"MINUTES_PASS\"]\n",
        "ax.axhline(y=mean_gen, xmin=-1, xmax=1, color='r', linestyle='--', lw=2)\n",
        "\n",
        "ax.text(5,mean_gen+1000, \"Mean \" + str(mean_gen) + \"(MW)\" )\n",
        "\n",
        "#     ax.get_legend().remove()\n",
        "\n",
        "ax.annotate('Peak '+ str(max_gen)+ \"(MWh)\", xy=(maxh,max_gen), xytext=(maxh+1, max_gen+1000),\n",
        "          arrowprops=dict(arrowstyle='-|>') ,ha='left', rotation=0)\n",
        "\n",
        "# ax.set_ylim(bottom = 0,top=39000)\n",
        "    \n",
        "ax.legend(loc='center left', bbox_to_anchor=(1.0, 0.5))"
      ],
      "execution_count": 552,
      "outputs": [
        {
          "output_type": "execute_result",
          "data": {
            "text/plain": [
              "<matplotlib.legend.Legend at 0x7f3bef439f10>"
            ]
          },
          "metadata": {
            "tags": []
          },
          "execution_count": 552
        },
        {
          "output_type": "display_data",
          "data": {
            "image/png": "[encoded data removed]",
            "text/plain": [
              "<Figure size 864x360 with 1 Axes>"
            ]
          },
          "metadata": {
            "tags": [],
            "needs_background": "light"
          }
        }
      ]
    },
    {
      "cell_type": "code",
      "metadata": {
        "id": "st7b2img6gSl",
        "outputId": "7f2a5661-c533-4200-dd16-76726987a634",
        "colab": {
          "base_uri": "https://localhost:8080/",
          "height": 297
        }
      },
      "source": [
        "maxgen = df[\"total_generation\"].max()\n",
        "maxhour = df.loc[df[\"total_generation\"]== maxgen][\"HOURS\"]\n",
        "peakhour = df[ df['HOURS'].values == maxhour.values ]\n",
        "dfpeakfuelmix = pd.DataFrame(peakhour[np.array(column_list)].sum(numeric_only=True, axis=0))\n",
        "\n",
        "for col in dfpeakfuelmix.columns:\n",
        "    dfpeakfuelmix = dfpeakfuelmix.rename(columns={col:'peak generation'})\n",
        "\n",
        "dfpeakfuelmix[\"percent\"] = (dfpeakfuelmix['peak generation'] / dfpeakfuelmix['peak generation'].sum()) * 100\n",
        "dfpeakfuelmix[\"percent\"] = dfpeakfuelmix[\"percent\"].round(3)\n",
        "\n",
        "dfpeakfuelmix"
      ],
      "execution_count": 553,
      "outputs": [
        {
          "output_type": "execute_result",
          "data": {
            "text/html": [
              "<div>\n",
              "<style scoped>\n",
              "    .dataframe tbody tr th:only-of-type {\n",
              "        vertical-align: middle;\n",
              "    }\n",
              "\n",
              "    .dataframe tbody tr th {\n",
              "        vertical-align: top;\n",
              "    }\n",
              "\n",
              "    .dataframe thead th {\n",
              "        text-align: right;\n",
              "    }\n",
              "</style>\n",
              "<table border=\"1\" class=\"dataframe\">\n",
              "  <thead>\n",
              "    <tr style=\"text-align: right;\">\n",
              "      <th></th>\n",
              "      <th>peak generation</th>\n",
              "      <th>percent</th>\n",
              "    </tr>\n",
              "  </thead>\n",
              "  <tbody>\n",
              "    <tr>\n",
              "      <th>Nuclear</th>\n",
              "      <td>10293.0</td>\n",
              "      <td>22.944</td>\n",
              "    </tr>\n",
              "    <tr>\n",
              "      <th>Wind</th>\n",
              "      <td>8481.0</td>\n",
              "      <td>18.905</td>\n",
              "    </tr>\n",
              "    <tr>\n",
              "      <th>Solar</th>\n",
              "      <td>0.0</td>\n",
              "      <td>0.000</td>\n",
              "    </tr>\n",
              "    <tr>\n",
              "      <th>Hydro</th>\n",
              "      <td>1031.0</td>\n",
              "      <td>2.298</td>\n",
              "    </tr>\n",
              "    <tr>\n",
              "      <th>Other</th>\n",
              "      <td>482.0</td>\n",
              "      <td>1.074</td>\n",
              "    </tr>\n",
              "    <tr>\n",
              "      <th>Oil</th>\n",
              "      <td>0.0</td>\n",
              "      <td>0.000</td>\n",
              "    </tr>\n",
              "    <tr>\n",
              "      <th>NaturalGas</th>\n",
              "      <td>24575.0</td>\n",
              "      <td>54.779</td>\n",
              "    </tr>\n",
              "    <tr>\n",
              "      <th>Coal</th>\n",
              "      <td>0.0</td>\n",
              "      <td>0.000</td>\n",
              "    </tr>\n",
              "  </tbody>\n",
              "</table>\n",
              "</div>"
            ],
            "text/plain": [
              "            peak generation  percent\n",
              "Nuclear             10293.0   22.944\n",
              "Wind                 8481.0   18.905\n",
              "Solar                   0.0    0.000\n",
              "Hydro                1031.0    2.298\n",
              "Other                 482.0    1.074\n",
              "Oil                     0.0    0.000\n",
              "NaturalGas          24575.0   54.779\n",
              "Coal                    0.0    0.000"
            ]
          },
          "metadata": {
            "tags": []
          },
          "execution_count": 553
        }
      ]
    },
    {
      "cell_type": "code",
      "metadata": {
        "id": "kn3akcXi8rYE",
        "outputId": "07e23e77-2be3-4c23-dd7b-3ff9b24434a4",
        "colab": {
          "base_uri": "https://localhost:8080/",
          "height": 337
        }
      },
      "source": [
        "pie= dfpeakfuelmix.plot.pie(y='percent',title=\"Fuel Mix in \"+ Region + \" on \"+ str(date) + \" \" + str(maxh.values) , \n",
        "                            colors= np.array(color_list),\n",
        "                            autopct='%1.1f%%',\n",
        "                            figsize=(5, 5))\n",
        "pie.legend(bbox_to_anchor=(1.5,1), loc=\"bottom right\")"
      ],
      "execution_count": 554,
      "outputs": [
        {
          "output_type": "execute_result",
          "data": {
            "text/plain": [
              "<matplotlib.legend.Legend at 0x7f3bf06b18d0>"
            ]
          },
          "metadata": {
            "tags": []
          },
          "execution_count": 554
        },
        {
          "output_type": "display_data",
          "data": {
            "image/png": "[encoded data removed]",
            "text/plain": [
              "<Figure size 360x360 with 1 Axes>"
            ]
          },
          "metadata": {
            "tags": []
          }
        }
      ]
    },
    {
      "cell_type": "markdown",
      "metadata": {
        "id": "QRhkVcTX6imf"
      },
      "source": [
        "<a id=\"section-three\"></a>\n",
        "# 3. Carbon Emissions"
      ]
    },
    {
      "cell_type": "code",
      "metadata": {
        "colab": {
          "base_uri": "https://localhost:8080/",
          "height": 453
        },
        "id": "Nsb_pOcWOvJ9",
        "outputId": "43a2c91e-b60e-471c-8346-0ec0c7a2fd4c"
      },
      "source": [
        "for col in df.columns:\n",
        "    # print(df[col])\n",
        "    for j,carbon in df_carbon.iterrows():\n",
        "        if col in carbon[0]:\n",
        "            print(\"Match between two tables for \"+col+ \" and \"+ carbon[0] +\" - \"+ str(carbon[1]))\n",
        "            df['carbon_'+col] = df[col] * carbon[1]\n",
        "            \n",
        "df.head()"
      ],
      "execution_count": 555,
      "outputs": [
        {
          "output_type": "stream",
          "text": [
            "Match between two tables for NaturalGas and NaturalGas - 490\n",
            "Match between two tables for Oil and Oil - 490\n",
            "Match between two tables for Coal and Coal - 820\n",
            "Match between two tables for Nuclear and Nuclear - 12\n",
            "Match between two tables for Wind and Wind - 12\n",
            "Match between two tables for Hydro and Hydro - 24\n",
            "Match between two tables for Other and Other - 24\n",
            "Match between two tables for Solar and Solar - 48\n"
          ],
          "name": "stdout"
        },
        {
          "output_type": "execute_result",
          "data": {
            "text/html": [
              "<div>\n",
              "<style scoped>\n",
              "    .dataframe tbody tr th:only-of-type {\n",
              "        vertical-align: middle;\n",
              "    }\n",
              "\n",
              "    .dataframe tbody tr th {\n",
              "        vertical-align: top;\n",
              "    }\n",
              "\n",
              "    .dataframe thead th {\n",
              "        text-align: right;\n",
              "    }\n",
              "</style>\n",
              "<table border=\"1\" class=\"dataframe\">\n",
              "  <thead>\n",
              "    <tr style=\"text-align: right;\">\n",
              "      <th></th>\n",
              "      <th>Timestamp</th>\n",
              "      <th>MINUTES</th>\n",
              "      <th>NaturalGas</th>\n",
              "      <th>Oil</th>\n",
              "      <th>Coal</th>\n",
              "      <th>Nuclear</th>\n",
              "      <th>Wind</th>\n",
              "      <th>Hydro</th>\n",
              "      <th>Other</th>\n",
              "      <th>Solar</th>\n",
              "      <th>DATE</th>\n",
              "      <th>total_generation</th>\n",
              "      <th>HOURS</th>\n",
              "      <th>MINUTES_PASS</th>\n",
              "      <th>carbon_NaturalGas</th>\n",
              "      <th>carbon_Oil</th>\n",
              "      <th>carbon_Coal</th>\n",
              "      <th>carbon_Nuclear</th>\n",
              "      <th>carbon_Wind</th>\n",
              "      <th>carbon_Hydro</th>\n",
              "      <th>carbon_Other</th>\n",
              "      <th>carbon_Solar</th>\n",
              "    </tr>\n",
              "  </thead>\n",
              "  <tbody>\n",
              "    <tr>\n",
              "      <th>0</th>\n",
              "      <td>20200706</td>\n",
              "      <td>1.0</td>\n",
              "      <td>3403.0</td>\n",
              "      <td>0.0</td>\n",
              "      <td>0.0</td>\n",
              "      <td>5278.0</td>\n",
              "      <td>9815.0</td>\n",
              "      <td>311.0</td>\n",
              "      <td>111.0</td>\n",
              "      <td>0</td>\n",
              "      <td>2020-07-06</td>\n",
              "      <td>18918.0</td>\n",
              "      <td>0.0</td>\n",
              "      <td>1.0</td>\n",
              "      <td>1667470.0</td>\n",
              "      <td>0.0</td>\n",
              "      <td>0.0</td>\n",
              "      <td>63336.0</td>\n",
              "      <td>117780.0</td>\n",
              "      <td>7464.0</td>\n",
              "      <td>2664.0</td>\n",
              "      <td>0</td>\n",
              "    </tr>\n",
              "    <tr>\n",
              "      <th>1</th>\n",
              "      <td>20200706</td>\n",
              "      <td>2.0</td>\n",
              "      <td>3394.0</td>\n",
              "      <td>0.0</td>\n",
              "      <td>0.0</td>\n",
              "      <td>5274.0</td>\n",
              "      <td>9494.0</td>\n",
              "      <td>302.0</td>\n",
              "      <td>111.0</td>\n",
              "      <td>0</td>\n",
              "      <td>2020-07-06</td>\n",
              "      <td>18575.0</td>\n",
              "      <td>1.0</td>\n",
              "      <td>62.0</td>\n",
              "      <td>1663060.0</td>\n",
              "      <td>0.0</td>\n",
              "      <td>0.0</td>\n",
              "      <td>63288.0</td>\n",
              "      <td>113928.0</td>\n",
              "      <td>7248.0</td>\n",
              "      <td>2664.0</td>\n",
              "      <td>0</td>\n",
              "    </tr>\n",
              "    <tr>\n",
              "      <th>2</th>\n",
              "      <td>20200706</td>\n",
              "      <td>3.0</td>\n",
              "      <td>3422.0</td>\n",
              "      <td>0.0</td>\n",
              "      <td>0.0</td>\n",
              "      <td>5258.0</td>\n",
              "      <td>9282.0</td>\n",
              "      <td>279.0</td>\n",
              "      <td>126.0</td>\n",
              "      <td>0</td>\n",
              "      <td>2020-07-06</td>\n",
              "      <td>18367.0</td>\n",
              "      <td>1.0</td>\n",
              "      <td>63.0</td>\n",
              "      <td>1676780.0</td>\n",
              "      <td>0.0</td>\n",
              "      <td>0.0</td>\n",
              "      <td>63096.0</td>\n",
              "      <td>111384.0</td>\n",
              "      <td>6696.0</td>\n",
              "      <td>3024.0</td>\n",
              "      <td>0</td>\n",
              "    </tr>\n",
              "    <tr>\n",
              "      <th>3</th>\n",
              "      <td>20200706</td>\n",
              "      <td>4.0</td>\n",
              "      <td>3291.0</td>\n",
              "      <td>0.0</td>\n",
              "      <td>0.0</td>\n",
              "      <td>5261.0</td>\n",
              "      <td>9279.0</td>\n",
              "      <td>276.0</td>\n",
              "      <td>113.0</td>\n",
              "      <td>0</td>\n",
              "      <td>2020-07-06</td>\n",
              "      <td>18220.0</td>\n",
              "      <td>2.0</td>\n",
              "      <td>124.0</td>\n",
              "      <td>1612590.0</td>\n",
              "      <td>0.0</td>\n",
              "      <td>0.0</td>\n",
              "      <td>63132.0</td>\n",
              "      <td>111348.0</td>\n",
              "      <td>6624.0</td>\n",
              "      <td>2712.0</td>\n",
              "      <td>0</td>\n",
              "    </tr>\n",
              "    <tr>\n",
              "      <th>4</th>\n",
              "      <td>20200706</td>\n",
              "      <td>5.0</td>\n",
              "      <td>3268.0</td>\n",
              "      <td>0.0</td>\n",
              "      <td>0.0</td>\n",
              "      <td>5246.0</td>\n",
              "      <td>9385.0</td>\n",
              "      <td>245.0</td>\n",
              "      <td>120.0</td>\n",
              "      <td>0</td>\n",
              "      <td>2020-07-06</td>\n",
              "      <td>18264.0</td>\n",
              "      <td>2.0</td>\n",
              "      <td>125.0</td>\n",
              "      <td>1601320.0</td>\n",
              "      <td>0.0</td>\n",
              "      <td>0.0</td>\n",
              "      <td>62952.0</td>\n",
              "      <td>112620.0</td>\n",
              "      <td>5880.0</td>\n",
              "      <td>2880.0</td>\n",
              "      <td>0</td>\n",
              "    </tr>\n",
              "  </tbody>\n",
              "</table>\n",
              "</div>"
            ],
            "text/plain": [
              "  Timestamp  MINUTES  NaturalGas  ...  carbon_Hydro  carbon_Other  carbon_Solar\n",
              "0  20200706      1.0      3403.0  ...        7464.0        2664.0             0\n",
              "1  20200706      2.0      3394.0  ...        7248.0        2664.0             0\n",
              "2  20200706      3.0      3422.0  ...        6696.0        3024.0             0\n",
              "3  20200706      4.0      3291.0  ...        6624.0        2712.0             0\n",
              "4  20200706      5.0      3268.0  ...        5880.0        2880.0             0\n",
              "\n",
              "[5 rows x 22 columns]"
            ]
          },
          "metadata": {
            "tags": []
          },
          "execution_count": 555
        }
      ]
    },
    {
      "cell_type": "code",
      "metadata": {
        "id": "InD-yyGCSoe6"
      },
      "source": [
        "column_list_carbon = (\"carbon_Nuclear\",\"carbon_Wind\",\"carbon_Solar\",\"carbon_Hydro\", \"carbon_Other\", \n",
        "                \"carbon_NaturalGas\",\"carbon_Oil\",\"carbon_Coal\")"
      ],
      "execution_count": 556,
      "outputs": []
    },
    {
      "cell_type": "code",
      "metadata": {
        "colab": {
          "base_uri": "https://localhost:8080/",
          "height": 309
        },
        "id": "MjEsuMdZ0zw0",
        "outputId": "f370e68a-4d39-4e24-d8bd-a3d8e6d49777"
      },
      "source": [
        "df['carbon_total_emission']= df[np.array(column_list_carbon)].sum(axis=1)\n",
        "df.head()"
      ],
      "execution_count": 557,
      "outputs": [
        {
          "output_type": "execute_result",
          "data": {
            "text/html": [
              "<div>\n",
              "<style scoped>\n",
              "    .dataframe tbody tr th:only-of-type {\n",
              "        vertical-align: middle;\n",
              "    }\n",
              "\n",
              "    .dataframe tbody tr th {\n",
              "        vertical-align: top;\n",
              "    }\n",
              "\n",
              "    .dataframe thead th {\n",
              "        text-align: right;\n",
              "    }\n",
              "</style>\n",
              "<table border=\"1\" class=\"dataframe\">\n",
              "  <thead>\n",
              "    <tr style=\"text-align: right;\">\n",
              "      <th></th>\n",
              "      <th>Timestamp</th>\n",
              "      <th>MINUTES</th>\n",
              "      <th>NaturalGas</th>\n",
              "      <th>Oil</th>\n",
              "      <th>Coal</th>\n",
              "      <th>Nuclear</th>\n",
              "      <th>Wind</th>\n",
              "      <th>Hydro</th>\n",
              "      <th>Other</th>\n",
              "      <th>Solar</th>\n",
              "      <th>DATE</th>\n",
              "      <th>total_generation</th>\n",
              "      <th>HOURS</th>\n",
              "      <th>MINUTES_PASS</th>\n",
              "      <th>carbon_NaturalGas</th>\n",
              "      <th>carbon_Oil</th>\n",
              "      <th>carbon_Coal</th>\n",
              "      <th>carbon_Nuclear</th>\n",
              "      <th>carbon_Wind</th>\n",
              "      <th>carbon_Hydro</th>\n",
              "      <th>carbon_Other</th>\n",
              "      <th>carbon_Solar</th>\n",
              "      <th>carbon_total_emission</th>\n",
              "    </tr>\n",
              "  </thead>\n",
              "  <tbody>\n",
              "    <tr>\n",
              "      <th>0</th>\n",
              "      <td>20200706</td>\n",
              "      <td>1.0</td>\n",
              "      <td>3403.0</td>\n",
              "      <td>0.0</td>\n",
              "      <td>0.0</td>\n",
              "      <td>5278.0</td>\n",
              "      <td>9815.0</td>\n",
              "      <td>311.0</td>\n",
              "      <td>111.0</td>\n",
              "      <td>0</td>\n",
              "      <td>2020-07-06</td>\n",
              "      <td>18918.0</td>\n",
              "      <td>0.0</td>\n",
              "      <td>1.0</td>\n",
              "      <td>1667470.0</td>\n",
              "      <td>0.0</td>\n",
              "      <td>0.0</td>\n",
              "      <td>63336.0</td>\n",
              "      <td>117780.0</td>\n",
              "      <td>7464.0</td>\n",
              "      <td>2664.0</td>\n",
              "      <td>0</td>\n",
              "      <td>1858714.0</td>\n",
              "    </tr>\n",
              "    <tr>\n",
              "      <th>1</th>\n",
              "      <td>20200706</td>\n",
              "      <td>2.0</td>\n",
              "      <td>3394.0</td>\n",
              "      <td>0.0</td>\n",
              "      <td>0.0</td>\n",
              "      <td>5274.0</td>\n",
              "      <td>9494.0</td>\n",
              "      <td>302.0</td>\n",
              "      <td>111.0</td>\n",
              "      <td>0</td>\n",
              "      <td>2020-07-06</td>\n",
              "      <td>18575.0</td>\n",
              "      <td>1.0</td>\n",
              "      <td>62.0</td>\n",
              "      <td>1663060.0</td>\n",
              "      <td>0.0</td>\n",
              "      <td>0.0</td>\n",
              "      <td>63288.0</td>\n",
              "      <td>113928.0</td>\n",
              "      <td>7248.0</td>\n",
              "      <td>2664.0</td>\n",
              "      <td>0</td>\n",
              "      <td>1850188.0</td>\n",
              "    </tr>\n",
              "    <tr>\n",
              "      <th>2</th>\n",
              "      <td>20200706</td>\n",
              "      <td>3.0</td>\n",
              "      <td>3422.0</td>\n",
              "      <td>0.0</td>\n",
              "      <td>0.0</td>\n",
              "      <td>5258.0</td>\n",
              "      <td>9282.0</td>\n",
              "      <td>279.0</td>\n",
              "      <td>126.0</td>\n",
              "      <td>0</td>\n",
              "      <td>2020-07-06</td>\n",
              "      <td>18367.0</td>\n",
              "      <td>1.0</td>\n",
              "      <td>63.0</td>\n",
              "      <td>1676780.0</td>\n",
              "      <td>0.0</td>\n",
              "      <td>0.0</td>\n",
              "      <td>63096.0</td>\n",
              "      <td>111384.0</td>\n",
              "      <td>6696.0</td>\n",
              "      <td>3024.0</td>\n",
              "      <td>0</td>\n",
              "      <td>1860980.0</td>\n",
              "    </tr>\n",
              "    <tr>\n",
              "      <th>3</th>\n",
              "      <td>20200706</td>\n",
              "      <td>4.0</td>\n",
              "      <td>3291.0</td>\n",
              "      <td>0.0</td>\n",
              "      <td>0.0</td>\n",
              "      <td>5261.0</td>\n",
              "      <td>9279.0</td>\n",
              "      <td>276.0</td>\n",
              "      <td>113.0</td>\n",
              "      <td>0</td>\n",
              "      <td>2020-07-06</td>\n",
              "      <td>18220.0</td>\n",
              "      <td>2.0</td>\n",
              "      <td>124.0</td>\n",
              "      <td>1612590.0</td>\n",
              "      <td>0.0</td>\n",
              "      <td>0.0</td>\n",
              "      <td>63132.0</td>\n",
              "      <td>111348.0</td>\n",
              "      <td>6624.0</td>\n",
              "      <td>2712.0</td>\n",
              "      <td>0</td>\n",
              "      <td>1796406.0</td>\n",
              "    </tr>\n",
              "    <tr>\n",
              "      <th>4</th>\n",
              "      <td>20200706</td>\n",
              "      <td>5.0</td>\n",
              "      <td>3268.0</td>\n",
              "      <td>0.0</td>\n",
              "      <td>0.0</td>\n",
              "      <td>5246.0</td>\n",
              "      <td>9385.0</td>\n",
              "      <td>245.0</td>\n",
              "      <td>120.0</td>\n",
              "      <td>0</td>\n",
              "      <td>2020-07-06</td>\n",
              "      <td>18264.0</td>\n",
              "      <td>2.0</td>\n",
              "      <td>125.0</td>\n",
              "      <td>1601320.0</td>\n",
              "      <td>0.0</td>\n",
              "      <td>0.0</td>\n",
              "      <td>62952.0</td>\n",
              "      <td>112620.0</td>\n",
              "      <td>5880.0</td>\n",
              "      <td>2880.0</td>\n",
              "      <td>0</td>\n",
              "      <td>1785652.0</td>\n",
              "    </tr>\n",
              "  </tbody>\n",
              "</table>\n",
              "</div>"
            ],
            "text/plain": [
              "  Timestamp  MINUTES  ...  carbon_Solar  carbon_total_emission\n",
              "0  20200706      1.0  ...             0              1858714.0\n",
              "1  20200706      2.0  ...             0              1850188.0\n",
              "2  20200706      3.0  ...             0              1860980.0\n",
              "3  20200706      4.0  ...             0              1796406.0\n",
              "4  20200706      5.0  ...             0              1785652.0\n",
              "\n",
              "[5 rows x 23 columns]"
            ]
          },
          "metadata": {
            "tags": []
          },
          "execution_count": 557
        }
      ]
    },
    {
      "cell_type": "markdown",
      "metadata": {
        "id": "HmuYArKivgpK"
      },
      "source": [
        "<a id=\"section-four\"></a>\n",
        "# 4. Carbon Graphs"
      ]
    },
    {
      "cell_type": "code",
      "metadata": {
        "id": "ZHJG96xAv0US"
      },
      "source": [
        ""
      ],
      "execution_count": 557,
      "outputs": []
    },
    {
      "cell_type": "code",
      "metadata": {
        "id": "aq7hZ_1XAEFo",
        "outputId": "896eb0e8-06f7-4758-8dbb-ae5718ff7d52",
        "colab": {
          "base_uri": "https://localhost:8080/",
          "height": 297
        }
      },
      "source": [
        "subdfcarbon = pd.DataFrame(df[np.array(column_list_carbon)].sum(numeric_only=True, axis=0))\n",
        "\n",
        "for col in subdfcarbon.columns:\n",
        "    subdfcarbon = subdfcarbon.rename(columns={col:'carbon emission'})\n",
        "\n",
        "subdfcarbon[\"percent\"] = (subdfcarbon['carbon emission'] / subdfcarbon['carbon emission'].sum()) * 100\n",
        "subdfcarbon[\"percent\"] = subdfcarbon[\"percent\"].round(3)\n",
        "\n",
        "subdfcarbon"
      ],
      "execution_count": 558,
      "outputs": [
        {
          "output_type": "execute_result",
          "data": {
            "text/html": [
              "<div>\n",
              "<style scoped>\n",
              "    .dataframe tbody tr th:only-of-type {\n",
              "        vertical-align: middle;\n",
              "    }\n",
              "\n",
              "    .dataframe tbody tr th {\n",
              "        vertical-align: top;\n",
              "    }\n",
              "\n",
              "    .dataframe thead th {\n",
              "        text-align: right;\n",
              "    }\n",
              "</style>\n",
              "<table border=\"1\" class=\"dataframe\">\n",
              "  <thead>\n",
              "    <tr style=\"text-align: right;\">\n",
              "      <th></th>\n",
              "      <th>carbon emission</th>\n",
              "      <th>percent</th>\n",
              "    </tr>\n",
              "  </thead>\n",
              "  <tbody>\n",
              "    <tr>\n",
              "      <th>carbon_Nuclear</th>\n",
              "      <td>9.267764e+07</td>\n",
              "      <td>1.612</td>\n",
              "    </tr>\n",
              "    <tr>\n",
              "      <th>carbon_Wind</th>\n",
              "      <td>7.822189e+07</td>\n",
              "      <td>1.361</td>\n",
              "    </tr>\n",
              "    <tr>\n",
              "      <th>carbon_Solar</th>\n",
              "      <td>0.000000e+00</td>\n",
              "      <td>0.000</td>\n",
              "    </tr>\n",
              "    <tr>\n",
              "      <th>carbon_Hydro</th>\n",
              "      <td>1.409791e+07</td>\n",
              "      <td>0.245</td>\n",
              "    </tr>\n",
              "    <tr>\n",
              "      <th>carbon_Other</th>\n",
              "      <td>4.198848e+06</td>\n",
              "      <td>0.073</td>\n",
              "    </tr>\n",
              "    <tr>\n",
              "      <th>carbon_NaturalGas</th>\n",
              "      <td>5.560263e+09</td>\n",
              "      <td>96.709</td>\n",
              "    </tr>\n",
              "    <tr>\n",
              "      <th>carbon_Oil</th>\n",
              "      <td>0.000000e+00</td>\n",
              "      <td>0.000</td>\n",
              "    </tr>\n",
              "    <tr>\n",
              "      <th>carbon_Coal</th>\n",
              "      <td>0.000000e+00</td>\n",
              "      <td>0.000</td>\n",
              "    </tr>\n",
              "  </tbody>\n",
              "</table>\n",
              "</div>"
            ],
            "text/plain": [
              "                   carbon emission  percent\n",
              "carbon_Nuclear        9.267764e+07    1.612\n",
              "carbon_Wind           7.822189e+07    1.361\n",
              "carbon_Solar          0.000000e+00    0.000\n",
              "carbon_Hydro          1.409791e+07    0.245\n",
              "carbon_Other          4.198848e+06    0.073\n",
              "carbon_NaturalGas     5.560263e+09   96.709\n",
              "carbon_Oil            0.000000e+00    0.000\n",
              "carbon_Coal           0.000000e+00    0.000"
            ]
          },
          "metadata": {
            "tags": []
          },
          "execution_count": 558
        }
      ]
    },
    {
      "cell_type": "code",
      "metadata": {
        "id": "S11_RwBuAlxL",
        "outputId": "6220258f-24ed-4a49-e70b-e2c42b8e1bc2",
        "colab": {
          "base_uri": "https://localhost:8080/",
          "height": 337
        }
      },
      "source": [
        "cmap = sns.color_palette(\"Purples_r\", n_colors=8)\n",
        "carbonpie = subdfcarbon[0:8].plot.pie(y='percent',title=\"Carbon emission contribution in \"+ Region + \" on \"+ str(date) , \n",
        "                            colors= cmap,\n",
        "                            autopct='%1.1f%%',\n",
        "                            figsize=(5, 5))\n",
        "carbonpie.legend(bbox_to_anchor=(0,1), loc=\"bottom right\")"
      ],
      "execution_count": 559,
      "outputs": [
        {
          "output_type": "execute_result",
          "data": {
            "text/plain": [
              "<matplotlib.legend.Legend at 0x7f3bf0a0f250>"
            ]
          },
          "metadata": {
            "tags": []
          },
          "execution_count": 559
        },
        {
          "output_type": "display_data",
          "data": {
            "image/png": "[encoded data removed]",
            "text/plain": [
              "<Figure size 360x360 with 1 Axes>"
            ]
          },
          "metadata": {
            "tags": []
          }
        }
      ]
    },
    {
      "cell_type": "code",
      "metadata": {
        "colab": {
          "base_uri": "https://localhost:8080/",
          "height": 369
        },
        "id": "0kvbA_qu3CUT",
        "outputId": "3c596c43-9fa1-4d3e-f352-1b736528a246"
      },
      "source": [
        "fig, ax = plt.subplots()\n",
        "fig.set_size_inches(12, 5)\n",
        "df.plot(x='MINUTES_PASS', y = np.array(column_list_carbon), \n",
        "            ax = ax, \n",
        "             color=cmap, \n",
        "              kind='area', stacked=False,\n",
        "              title = \"Carbon Emission by Fuel for generation in \"+ Region + \" on \"+ str(date),legend=False)\n",
        "ax.set_ylabel(\"Carbon Emission (kgCO2eq/MWh)\")   \n",
        "ax.legend(loc='center left', bbox_to_anchor=(1.0, 0.5))"
      ],
      "execution_count": 560,
      "outputs": [
        {
          "output_type": "execute_result",
          "data": {
            "text/plain": [
              "<matplotlib.legend.Legend at 0x7f3bf0641bd0>"
            ]
          },
          "metadata": {
            "tags": []
          },
          "execution_count": 560
        },
        {
          "output_type": "display_data",
          "data": {
            "image/png": "[encoded data removed]",
            "text/plain": [
              "<Figure size 864x360 with 1 Axes>"
            ]
          },
          "metadata": {
            "tags": [],
            "needs_background": "light"
          }
        }
      ]
    },
    {
      "cell_type": "code",
      "metadata": {
        "colab": {
          "base_uri": "https://localhost:8080/",
          "height": 369
        },
        "id": "kQIhDn1u4Day",
        "outputId": "cdd81786-6bb3-4ea6-cc31-1cc95554b56f"
      },
      "source": [
        "import seaborn as sns\n",
        "cmap = sns.color_palette(\"gray_r\", n_colors=9)\n",
        "\n",
        "fig, ax = plt.subplots()\n",
        "fig.set_size_inches(12, 5)\n",
        "df[200:600].plot(x='MINUTES_PASS', y = np.array(column_list), ax = ax, \n",
        "             color=cmap, \n",
        "              # kind='area', stacked=False,\n",
        "              title = \"Carbon Emission by Fuel for generation in \"+ Region + \" on \"+ str(date),legend=False)\n",
        "ax.set_ylabel(\"Carbon Emission (kgCO2eq/MWh)\")   \n",
        "# ax.set_ylim(bottom = 0,top=50000)\n",
        "ax.legend(loc='center left', bbox_to_anchor=(1.0, 0.5))"
      ],
      "execution_count": 561,
      "outputs": [
        {
          "output_type": "execute_result",
          "data": {
            "text/plain": [
              "<matplotlib.legend.Legend at 0x7f3bf06f0f10>"
            ]
          },
          "metadata": {
            "tags": []
          },
          "execution_count": 561
        },
        {
          "output_type": "display_data",
          "data": {
            "image/png": "[encoded data removed]",
            "text/plain": [
              "<Figure size 864x360 with 1 Axes>"
            ]
          },
          "metadata": {
            "tags": [],
            "needs_background": "light"
          }
        }
      ]
    },
    {
      "cell_type": "code",
      "metadata": {
        "colab": {
          "base_uri": "https://localhost:8080/",
          "height": 551
        },
        "id": "LhPZ6OYQ8EO2",
        "outputId": "3192f21f-f3c2-45e7-b881-561778ca0a53"
      },
      "source": [
        "import seaborn as sns\n",
        "cmap = sns.color_palette(\"Blues_r\", n_colors=4)\n",
        "\n",
        "fig, ax = plt.subplots()\n",
        "fig.set_size_inches(12, 5)\n",
        "df.plot(x='MINUTES_PASS', y = np.array(column_list)[0:4], ax = ax, \n",
        "             color=cmap, \n",
        "              # kind='area', stacked=False,\n",
        "              title = \"Carbon Emission by Fuel for generation in \"+ Region + \" on \"+ pp,legend=False)\n",
        "ax.set_ylabel(\"Carbon Emission (kgCO2eq/MWh)\")   \n",
        "# ax.set_ylim(bottom = 0,top=50000)\n",
        "ax.legend(loc='center left', bbox_to_anchor=(1.0, 0.5))"
      ],
      "execution_count": 562,
      "outputs": [
        {
          "output_type": "error",
          "ename": "NameError",
          "evalue": "ignored",
          "traceback": [
            "\u001b[0;31m---------------------------------------------------------------------------\u001b[0m",
            "\u001b[0;31mNameError\u001b[0m                                 Traceback (most recent call last)",
            "\u001b[0;32m<ipython-input-562-b2e176c0c757>\u001b[0m in \u001b[0;36m<module>\u001b[0;34m()\u001b[0m\n\u001b[1;32m      7\u001b[0m              \u001b[0mcolor\u001b[0m\u001b[0;34m=\u001b[0m\u001b[0mcmap\u001b[0m\u001b[0;34m,\u001b[0m\u001b[0;34m\u001b[0m\u001b[0;34m\u001b[0m\u001b[0m\n\u001b[1;32m      8\u001b[0m               \u001b[0;31m# kind='area', stacked=False,\u001b[0m\u001b[0;34m\u001b[0m\u001b[0;34m\u001b[0m\u001b[0;34m\u001b[0m\u001b[0m\n\u001b[0;32m----> 9\u001b[0;31m               title = \"Carbon Emission by Fuel for generation in \"+ Region + \" on \"+ pp,legend=False)\n\u001b[0m\u001b[1;32m     10\u001b[0m \u001b[0max\u001b[0m\u001b[0;34m.\u001b[0m\u001b[0mset_ylabel\u001b[0m\u001b[0;34m(\u001b[0m\u001b[0;34m\"Carbon Emission (kgCO2eq/MWh)\"\u001b[0m\u001b[0;34m)\u001b[0m\u001b[0;34m\u001b[0m\u001b[0;34m\u001b[0m\u001b[0m\n\u001b[1;32m     11\u001b[0m \u001b[0;31m# ax.set_ylim(bottom = 0,top=50000)\u001b[0m\u001b[0;34m\u001b[0m\u001b[0;34m\u001b[0m\u001b[0;34m\u001b[0m\u001b[0m\n",
            "\u001b[0;31mNameError\u001b[0m: name 'pp' is not defined"
          ]
        },
        {
          "output_type": "display_data",
          "data": {
            "image/png": "[encoded data removed]",
            "text/plain": [
              "<Figure size 864x360 with 1 Axes>"
            ]
          },
          "metadata": {
            "tags": [],
            "needs_background": "light"
          }
        }
      ]
    },
    {
      "cell_type": "code",
      "metadata": {
        "id": "qs7FH7WZ-_VS"
      },
      "source": [
        "## Without total carbon emission \n",
        "import seaborn as sns\n",
        "cmap = sns.color_palette(\"gray_r\", n_colors=8)\n",
        "\n",
        "fig, ax = plt.subplots()\n",
        "fig.set_size_inches(12, 5)\n",
        "df.plot(x='MINUTES_PASS', y = np.array(column_list)[0:8], ax = ax, \n",
        "             color=cmap, \n",
        "              kind='area', stacked=True,\n",
        "              title = \"Carbon Emission by Fuel for generation in \"+ Region + \" on \"+ pp,legend=False)\n",
        "ax.set_ylabel(\"Carbon Emission (kgCO2eq/MWh)\")\n",
        "ax.legend(loc='center left', bbox_to_anchor=(1.0, 0.5))"
      ],
      "execution_count": null,
      "outputs": []
    },
    {
      "cell_type": "code",
      "metadata": {
        "id": "rBxpCNcaxCRT"
      },
      "source": [
        "## With total carbon emission \n",
        "import seaborn as sns\n",
        "cmap = sns.color_palette(\"gray_r\", n_colors=9)\n",
        "\n",
        "fig, ax = plt.subplots()\n",
        "fig.set_size_inches(12, 5)\n",
        "df.plot(x='MINUTES_PASS', y = np.array(column_list), ax = ax, \n",
        "             color=cmap, \n",
        "          kind='area', stacked=True,\n",
        "              title = \"Carbon Emission by Fuel for generation in \"+ Region + \" on \"+ pp,legend=False)\n",
        "ax.set_ylabel(\"Carbon Emission (kgCO2eq/MWh)\")\n",
        "\n",
        "# mean_gen = round(sub_df[\"total_generation\"].mean())\n",
        "# max_gen = sub_df[\"total_generation\"].max()\n",
        "# maxh = sub_df.loc[sub_df[\"total_generation\"]== max_gen]\n",
        "# maxh = maxh[\"HOURS\"]\n",
        "\n",
        "# Mark Mean Line \n",
        "# ax.axhline(y=mean_gen, xmin=-1, xmax=1, color='r', linestyle='--', lw=2)\n",
        "# ax.text(5,mean_gen+1000, \"Mean \" + str(mean_gen) + \"(MW)\" )\n",
        "\n",
        "# ax.get_legend().remove()\n",
        "\n",
        "# Mark Peak consumption \n",
        "# ax.annotate('Peak '+ str(max_gen)+ \"(MWh)\", xy=(maxh,max_gen), xytext=(maxh+1, max_gen+1000),\n",
        "#              arrowprops=dict(arrowstyle='-|>') ,ha='left', rotation=0)\n",
        "    \n",
        "ax.legend(loc='center left', bbox_to_anchor=(1.0, 0.5))\n",
        "# plot.show(block=True);"
      ],
      "execution_count": null,
      "outputs": []
    },
    {
      "cell_type": "code",
      "metadata": {
        "id": "7HDzdPQWwQly"
      },
      "source": [
        "# fig, axs = plt.subplots(nrows=3, ncols=2)\n",
        "# fig.set_size_inches(20, 10)\n",
        "# fig.subplots_adjust(wspace=0.2)\n",
        "# fig.subplots_adjust(hspace=0.5)\n",
        "\n",
        "# fig.legend(column_list)\n",
        "  \n",
        "# for pp,ax in zip(dates,axs.flatten()):\n",
        "#     print(pp)\n",
        "#     sub_df = df[df['DATE']==pp]\n",
        "#     sub_df.plot.line(x='MINUTES_PASS', y = column_list[0], ax = ax, title = \"Fuel Mix for generation in \"+ Region + \" on \"+ pp,legend=False)\n",
        "#     sub_df.plot.line(x='MINUTES_PASS', y = column_list[1], ax = ax,legend=False)\n",
        "#     sub_df.plot.line(x='MINUTES_PASS', y = column_list[2], ax = ax,legend=False)    \n",
        "#     sub_df.plot.line(x='MINUTES_PASS', y = column_list[3], ax = ax,legend=False)\n",
        "#     sub_df.plot.line(x='MINUTES_PASS', y = column_list[4], ax = ax,legend=False)\n",
        "#     sub_df.plot.line(x='MINUTES_PASS', y = column_list[5], ax = ax,legend=False)\n",
        "#     sub_df.plot.line(x='MINUTES_PASS', y = column_list[6], ax = ax,legend=False)\n",
        "#     sub_df.plot.line(x='MINUTES_PASS', y = column_list[7], ax = ax,legend=False)\n",
        "#     sub_df.plot.line(x='MINUTES_PASS', y =['total_generation'], ax = ax,legend=False)\n",
        "    \n",
        "#     ax.set_ylabel(\"generation(Mw)\")\n",
        "    \n",
        "#     mean_gen = round(sub_df[\"total_generation\"].mean())\n",
        "#     max_gen = sub_df[\"total_generation\"].max()\n",
        "#     maxh = sub_df.loc[sub_df[\"total_generation\"]== max_gen]\n",
        "#     maxh = maxh[\"MINUTES_PASS\"]\n",
        "#     ax.axhline(y=mean_gen, xmin=-1, xmax=1, color='r', linestyle='--', lw=2)\n",
        "    \n",
        "#     ax.text(5,mean_gen+1000, \"Mean \" + str(mean_gen) + \"(MW)\" )\n",
        "\n",
        "# #     ax.get_legend().remove()\n",
        "    \n",
        "# #     ax.annotate('Peak '+ str(max_gen)+ \"(MWh)\", xy=(maxh,max_gen), xytext=(maxh+1, max_gen+1000),\n",
        "# #              arrowprops=dict(arrowstyle='-|>') ,ha='left', rotation=0)\n",
        "    \n",
        "#     ax.set_ylim(bottom = 0,top=39000)\n",
        "    \n",
        "# ax.legend(loc='center left', bbox_to_anchor=(1.0, 0.5))"
      ],
      "execution_count": null,
      "outputs": []
    }
  ]
}