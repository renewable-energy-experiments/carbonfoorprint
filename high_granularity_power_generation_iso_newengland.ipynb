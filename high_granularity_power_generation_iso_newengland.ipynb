{
  "nbformat": 4,
  "nbformat_minor": 0,
  "metadata": {
    "kernelspec": {
      "display_name": "Python 3",
      "language": "python",
      "name": "python3"
    },
    "language_info": {
      "codemirror_mode": {
        "name": "ipython",
        "version": 3
      },
      "file_extension": ".py",
      "mimetype": "text/x-python",
      "name": "python",
      "nbconvert_exporter": "python",
      "pygments_lexer": "ipython3",
      "version": "3.7.6"
    },
    "papermill": {
      "duration": 73.246754,
      "end_time": "2021-05-31T04:27:23.728017",
      "environment_variables": {},
      "exception": null,
      "input_path": "__notebook__.ipynb",
      "output_path": "__notebook__.ipynb",
      "parameters": {},
      "start_time": "2021-05-31T04:26:10.481263",
      "version": "2.1.0"
    },
    "colab": {
      "name": "high-granularity-power-generation-iso-newengland.ipynb",
      "provenance": [],
      "collapsed_sections": [
        "ozEVexOhiD0v",
        "0Apb5r-_iD09",
        "_NwGP3EtiD0_",
        "oGvCo0ftiD1A",
        "7_crVhFdiD1D",
        "SxIpyZsaiD1E",
        "wtDGesI_iD1J",
        "gAtuuaNfiD1M",
        "3sX-d3RJiD1O"
      ],
      "include_colab_link": true
    }
  },
  "cells": [
    {
      "cell_type": "markdown",
      "metadata": {
        "id": "view-in-github",
        "colab_type": "text"
      },
      "source": [
        "<a href=\"https://colab.research.google.com/github/renewable-energy-experiments/carbonfoorprint/blob/master/high_granularity_power_generation_iso_newengland.ipynb\" target=\"_parent\"><img src=\"https://colab.research.google.com/assets/colab-badge.svg\" alt=\"Open In Colab\"/></a>"
      ]
    },
    {
      "cell_type": "markdown",
      "metadata": {
        "_cell_guid": "b1076dfc-b9ad-4769-8c92-a6c4dae69d19",
        "_uuid": "8f2839f25d086af736a60e9eeb907d3b93b6e0e5",
        "papermill": {
          "duration": 0.046899,
          "end_time": "2021-05-31T04:26:14.909183",
          "exception": false,
          "start_time": "2021-05-31T04:26:14.862284",
          "status": "completed"
        },
        "tags": [],
        "id": "yYNGD87biD0k"
      },
      "source": [
        "<h1><center> US electricity generation by energy source ( price , co2 emission by grids)<center><h1> \n",
        "  High granularity Power generation ISO NewEngland  "
      ]
    },
    {
      "cell_type": "markdown",
      "metadata": {
        "papermill": {
          "duration": 0.044283,
          "end_time": "2021-05-31T04:26:14.997753",
          "exception": false,
          "start_time": "2021-05-31T04:26:14.953470",
          "status": "completed"
        },
        "tags": [],
        "id": "kGwzL4WKiD0o"
      },
      "source": [
        "# Table of Contents\n",
        "* [1. DataSet Description](#section-one)\n",
        "* [2. Import and Preprocessing](#section-two)\n",
        "* [3. Filler and Filter](#section-three)\n",
        "* [4. Daily Grpahs](#section-four)\n",
        "* [5. Carbon Emission vs Fuel](#section-five)\n",
        "* [6. Price vs Fuel](#section-six)\n",
        "* [7. LMP Locational Marginal Pricing](#section-seven)"
      ]
    },
    {
      "cell_type": "markdown",
      "metadata": {
        "papermill": {
          "duration": 0.044619,
          "end_time": "2021-05-31T04:26:15.089084",
          "exception": false,
          "start_time": "2021-05-31T04:26:15.044465",
          "status": "completed"
        },
        "tags": [],
        "id": "w5NJKoyliD0o"
      },
      "source": [
        "<a id=\"section-one\"></a>\n",
        "# 1. DataSet Description\n",
        "\n",
        "Dataset is weekly reports from EDA for ISO-NE"
      ]
    },
    {
      "cell_type": "markdown",
      "metadata": {
        "papermill": {
          "duration": 0.04426,
          "end_time": "2021-05-31T04:26:15.177952",
          "exception": false,
          "start_time": "2021-05-31T04:26:15.133692",
          "status": "completed"
        },
        "tags": [],
        "id": "tee-boLwiD0p"
      },
      "source": [
        "<a id=\"section-two\"></a>\n",
        "# 2. Import & Preprocessing\n",
        "\n",
        "Let's have a first look at the data. For the sake of simplicity we are only looking at data of plant 1 (power generation and weather). Data of power plant 2 can then be explored in a similar manner."
      ]
    },
    {
      "cell_type": "code",
      "metadata": {
        "_kg_hide-input": true,
        "execution": {
          "iopub.execute_input": "2021-05-31T04:26:15.269975Z",
          "iopub.status.busy": "2021-05-31T04:26:15.269410Z",
          "iopub.status.idle": "2021-05-31T04:26:17.147459Z",
          "shell.execute_reply": "2021-05-31T04:26:17.147953Z",
          "shell.execute_reply.started": "2021-05-31T02:38:57.841001Z"
        },
        "papermill": {
          "duration": 1.925774,
          "end_time": "2021-05-31T04:26:17.148130",
          "exception": false,
          "start_time": "2021-05-31T04:26:15.222356",
          "status": "completed"
        },
        "tags": [],
        "id": "jTTWAjDMiD0p"
      },
      "source": [
        "import os\n",
        "import pandas as pd\n",
        "import numpy as np\n",
        "import datetime\n",
        "import seaborn as sns\n",
        "import matplotlib.pyplot as plt\n",
        "%matplotlib inline\n",
        "import plotly.express as px\n",
        "import plotly.graph_objects as go\n",
        "import matplotlib.dates as mdates \n",
        "xformatter = mdates.DateFormatter('%H:%M') # for time axis plots\n",
        "\n",
        "# import plotly.offline as py\n",
        "# py.init_notebook_mode(connected=True)\n",
        "\n",
        "import sklearn\n",
        "from scipy.optimize import curve_fit\n",
        "\n",
        "import warnings\n",
        "warnings.filterwarnings('ignore')"
      ],
      "execution_count": null,
      "outputs": []
    },
    {
      "cell_type": "code",
      "metadata": {
        "_kg_hide-input": true,
        "execution": {
          "iopub.execute_input": "2021-05-31T04:26:17.240308Z",
          "iopub.status.busy": "2021-05-31T04:26:17.239721Z",
          "iopub.status.idle": "2021-05-31T04:26:17.285822Z",
          "shell.execute_reply": "2021-05-31T04:26:17.286396Z",
          "shell.execute_reply.started": "2021-05-31T02:38:58.720420Z"
        },
        "papermill": {
          "duration": 0.093675,
          "end_time": "2021-05-31T04:26:17.286547",
          "exception": false,
          "start_time": "2021-05-31T04:26:17.192872",
          "status": "completed"
        },
        "tags": [],
        "id": "DkbX3wGAiD0q"
      },
      "source": [
        "# Import all available data \n",
        "# df = pd.read_csv(\"../input/us-electricity-by-energy-source-in-spring/930-data-export.csv\")\n",
        "\n",
        "df = pd.read_csv(\"../input/nyiso-april-2ndweek/fuelmixgraph_Newengland_6_7_jul_2020.csv\")\n",
        "df2 = pd.read_csv(\"../input/nyiso-april-2ndweek/fuelmixgraph_Newengland_8_9_jul_2020.csv\")\n",
        "df3 = pd.read_csv(\"../input/nyiso-april-2ndweek/fuelmixgraph_Newengland_10_11_jul_2020.csv\")"
      ],
      "execution_count": null,
      "outputs": []
    },
    {
      "cell_type": "code",
      "metadata": {
        "execution": {
          "iopub.execute_input": "2021-05-31T04:26:17.378435Z",
          "iopub.status.busy": "2021-05-31T04:26:17.377841Z",
          "iopub.status.idle": "2021-05-31T04:26:17.393135Z",
          "shell.execute_reply": "2021-05-31T04:26:17.393664Z",
          "shell.execute_reply.started": "2021-05-31T02:38:58.751806Z"
        },
        "papermill": {
          "duration": 0.06281,
          "end_time": "2021-05-31T04:26:17.393801",
          "exception": false,
          "start_time": "2021-05-31T04:26:17.330991",
          "status": "completed"
        },
        "tags": [],
        "id": "LdsSprNsiD0q",
        "outputId": "453a1826-bf54-4d8e-f0af-6ed9fcaebbfd"
      },
      "source": [
        "df= df.append(df2)\n",
        "df = df.append(df3)\n",
        "len(df) "
      ],
      "execution_count": null,
      "outputs": [
        {
          "output_type": "execute_result",
          "data": {
            "text/plain": [
              "881"
            ]
          },
          "metadata": {
            "tags": []
          },
          "execution_count": 3
        }
      ]
    },
    {
      "cell_type": "code",
      "metadata": {
        "execution": {
          "iopub.execute_input": "2021-05-31T04:26:17.488720Z",
          "iopub.status.busy": "2021-05-31T04:26:17.488158Z",
          "iopub.status.idle": "2021-05-31T04:26:17.491902Z",
          "shell.execute_reply": "2021-05-31T04:26:17.492367Z",
          "shell.execute_reply.started": "2021-05-31T02:38:58.773523Z"
        },
        "papermill": {
          "duration": 0.052817,
          "end_time": "2021-05-31T04:26:17.492500",
          "exception": false,
          "start_time": "2021-05-31T04:26:17.439683",
          "status": "completed"
        },
        "tags": [],
        "id": "k_eWrASXiD0r"
      },
      "source": [
        "# Region = df['Region Code'].head(1).item()\n",
        "# Region\n",
        "\n",
        "Region=\"NewEngland\""
      ],
      "execution_count": null,
      "outputs": []
    },
    {
      "cell_type": "code",
      "metadata": {
        "execution": {
          "iopub.execute_input": "2021-05-31T04:26:17.585544Z",
          "iopub.status.busy": "2021-05-31T04:26:17.584985Z",
          "iopub.status.idle": "2021-05-31T04:26:17.606985Z",
          "shell.execute_reply": "2021-05-31T04:26:17.607480Z",
          "shell.execute_reply.started": "2021-05-31T02:38:58.781855Z"
        },
        "papermill": {
          "duration": 0.07053,
          "end_time": "2021-05-31T04:26:17.607633",
          "exception": false,
          "start_time": "2021-05-31T04:26:17.537103",
          "status": "completed"
        },
        "tags": [],
        "id": "XpOiwZNxiD0s",
        "outputId": "05bdce66-589d-4d8f-ef97-5dea728d811f"
      },
      "source": [
        "df.head()"
      ],
      "execution_count": null,
      "outputs": [
        {
          "output_type": "execute_result",
          "data": {
            "text/html": [
              "<div>\n",
              "<style scoped>\n",
              "    .dataframe tbody tr th:only-of-type {\n",
              "        vertical-align: middle;\n",
              "    }\n",
              "\n",
              "    .dataframe tbody tr th {\n",
              "        vertical-align: top;\n",
              "    }\n",
              "\n",
              "    .dataframe thead th {\n",
              "        text-align: right;\n",
              "    }\n",
              "</style>\n",
              "<table border=\"1\" class=\"dataframe\">\n",
              "  <thead>\n",
              "    <tr style=\"text-align: right;\">\n",
              "      <th></th>\n",
              "      <th>BeginDate</th>\n",
              "      <th>NaturalGas</th>\n",
              "      <th>Nuclear</th>\n",
              "      <th>Hydro</th>\n",
              "      <th>Coal</th>\n",
              "      <th>Oil</th>\n",
              "      <th>Renewables</th>\n",
              "      <th>Wood</th>\n",
              "      <th>Refuse</th>\n",
              "      <th>Wind</th>\n",
              "      <th>LandfillGas</th>\n",
              "      <th>Solar</th>\n",
              "      <th>Other</th>\n",
              "    </tr>\n",
              "  </thead>\n",
              "  <tbody>\n",
              "    <tr>\n",
              "      <th>0</th>\n",
              "      <td>07/05/2020 21:07</td>\n",
              "      <td>6428</td>\n",
              "      <td>3328</td>\n",
              "      <td>407</td>\n",
              "      <td>0</td>\n",
              "      <td>undefined</td>\n",
              "      <td>627</td>\n",
              "      <td>222</td>\n",
              "      <td>333</td>\n",
              "      <td>58</td>\n",
              "      <td>2</td>\n",
              "      <td>12</td>\n",
              "      <td>undefined</td>\n",
              "    </tr>\n",
              "    <tr>\n",
              "      <th>1</th>\n",
              "      <td>07/05/2020 21:12</td>\n",
              "      <td>6312</td>\n",
              "      <td>3329</td>\n",
              "      <td>409</td>\n",
              "      <td>undefined</td>\n",
              "      <td>undefined</td>\n",
              "      <td>626</td>\n",
              "      <td>221</td>\n",
              "      <td>338</td>\n",
              "      <td>53</td>\n",
              "      <td>2</td>\n",
              "      <td>12</td>\n",
              "      <td>undefined</td>\n",
              "    </tr>\n",
              "    <tr>\n",
              "      <th>2</th>\n",
              "      <td>07/05/2020 21:21</td>\n",
              "      <td>6041</td>\n",
              "      <td>3330</td>\n",
              "      <td>409</td>\n",
              "      <td>undefined</td>\n",
              "      <td>undefined</td>\n",
              "      <td>617</td>\n",
              "      <td>222</td>\n",
              "      <td>335</td>\n",
              "      <td>46</td>\n",
              "      <td>2</td>\n",
              "      <td>12</td>\n",
              "      <td>0</td>\n",
              "    </tr>\n",
              "    <tr>\n",
              "      <th>3</th>\n",
              "      <td>07/05/2020 21:34</td>\n",
              "      <td>6164</td>\n",
              "      <td>3328</td>\n",
              "      <td>407</td>\n",
              "      <td>2</td>\n",
              "      <td>undefined</td>\n",
              "      <td>592</td>\n",
              "      <td>219</td>\n",
              "      <td>333</td>\n",
              "      <td>26</td>\n",
              "      <td>2</td>\n",
              "      <td>12</td>\n",
              "      <td>4</td>\n",
              "    </tr>\n",
              "    <tr>\n",
              "      <th>4</th>\n",
              "      <td>07/05/2020 21:50</td>\n",
              "      <td>6047</td>\n",
              "      <td>3331</td>\n",
              "      <td>407</td>\n",
              "      <td>1</td>\n",
              "      <td>undefined</td>\n",
              "      <td>600</td>\n",
              "      <td>221</td>\n",
              "      <td>333</td>\n",
              "      <td>32</td>\n",
              "      <td>2</td>\n",
              "      <td>12</td>\n",
              "      <td>1</td>\n",
              "    </tr>\n",
              "  </tbody>\n",
              "</table>\n",
              "</div>"
            ],
            "text/plain": [
              "          BeginDate  NaturalGas  Nuclear  Hydro       Coal        Oil  \\\n",
              "0  07/05/2020 21:07        6428     3328    407          0  undefined   \n",
              "1  07/05/2020 21:12        6312     3329    409  undefined  undefined   \n",
              "2  07/05/2020 21:21        6041     3330    409  undefined  undefined   \n",
              "3  07/05/2020 21:34        6164     3328    407          2  undefined   \n",
              "4  07/05/2020 21:50        6047     3331    407          1  undefined   \n",
              "\n",
              "   Renewables  Wood  Refuse  Wind LandfillGas Solar      Other  \n",
              "0         627   222     333    58           2    12  undefined  \n",
              "1         626   221     338    53           2    12  undefined  \n",
              "2         617   222     335    46           2    12          0  \n",
              "3         592   219     333    26           2    12          4  \n",
              "4         600   221     333    32           2    12          1  "
            ]
          },
          "metadata": {
            "tags": []
          },
          "execution_count": 5
        }
      ]
    },
    {
      "cell_type": "markdown",
      "metadata": {
        "papermill": {
          "duration": 0.04611,
          "end_time": "2021-05-31T04:26:17.699415",
          "exception": false,
          "start_time": "2021-05-31T04:26:17.653305",
          "status": "completed"
        },
        "tags": [],
        "id": "Y8OUalHhiD0s"
      },
      "source": [
        "<a id=\"section-three\"></a>\n",
        "## 3. Filter and filler "
      ]
    },
    {
      "cell_type": "code",
      "metadata": {
        "execution": {
          "iopub.execute_input": "2021-05-31T04:26:17.794534Z",
          "iopub.status.busy": "2021-05-31T04:26:17.793971Z",
          "iopub.status.idle": "2021-05-31T04:26:17.800172Z",
          "shell.execute_reply": "2021-05-31T04:26:17.800856Z",
          "shell.execute_reply.started": "2021-05-31T02:38:58.814839Z"
        },
        "papermill": {
          "duration": 0.055414,
          "end_time": "2021-05-31T04:26:17.801034",
          "exception": false,
          "start_time": "2021-05-31T04:26:17.745620",
          "status": "completed"
        },
        "tags": [],
        "id": "k2elN6cAiD0s",
        "outputId": "59d71d8a-7b37-4584-86c8-1728f2cc4848"
      },
      "source": [
        "print(df.dtypes)"
      ],
      "execution_count": null,
      "outputs": [
        {
          "output_type": "stream",
          "text": [
            "BeginDate      object\n",
            "NaturalGas      int64\n",
            "Nuclear         int64\n",
            "Hydro           int64\n",
            "Coal           object\n",
            "Oil            object\n",
            "Renewables      int64\n",
            "Wood            int64\n",
            "Refuse          int64\n",
            "Wind            int64\n",
            "LandfillGas    object\n",
            "Solar          object\n",
            "Other          object\n",
            "dtype: object\n"
          ],
          "name": "stdout"
        }
      ]
    },
    {
      "cell_type": "markdown",
      "metadata": {
        "papermill": {
          "duration": 0.044924,
          "end_time": "2021-05-31T04:26:17.892638",
          "exception": false,
          "start_time": "2021-05-31T04:26:17.847714",
          "status": "completed"
        },
        "tags": [],
        "id": "ildSmcQWiD0t"
      },
      "source": [
        "Change datatype"
      ]
    },
    {
      "cell_type": "code",
      "metadata": {
        "execution": {
          "iopub.execute_input": "2021-05-31T04:26:17.995788Z",
          "iopub.status.busy": "2021-05-31T04:26:17.994973Z",
          "iopub.status.idle": "2021-05-31T04:26:17.999157Z",
          "shell.execute_reply": "2021-05-31T04:26:17.998345Z",
          "shell.execute_reply.started": "2021-05-31T02:38:58.831645Z"
        },
        "papermill": {
          "duration": 0.060737,
          "end_time": "2021-05-31T04:26:17.999388",
          "exception": false,
          "start_time": "2021-05-31T04:26:17.938651",
          "status": "completed"
        },
        "tags": [],
        "id": "GqdKE1JhiD0t",
        "outputId": "91db0fb0-c209-4178-a574-68e9f2cf6f2a"
      },
      "source": [
        "df['Solar'] = pd.to_numeric(df['Solar'], errors='coerce').fillna(0)\n",
        "df['Coal'] = pd.to_numeric(df['Coal'], errors='coerce').fillna(0)\n",
        "df['Oil'] = pd.to_numeric(df['Oil'], errors='coerce').fillna(0)\n",
        "print(df.dtypes)"
      ],
      "execution_count": null,
      "outputs": [
        {
          "output_type": "stream",
          "text": [
            "BeginDate       object\n",
            "NaturalGas       int64\n",
            "Nuclear          int64\n",
            "Hydro            int64\n",
            "Coal           float64\n",
            "Oil            float64\n",
            "Renewables       int64\n",
            "Wood             int64\n",
            "Refuse           int64\n",
            "Wind             int64\n",
            "LandfillGas     object\n",
            "Solar          float64\n",
            "Other           object\n",
            "dtype: object\n"
          ],
          "name": "stdout"
        }
      ]
    },
    {
      "cell_type": "code",
      "metadata": {
        "execution": {
          "iopub.execute_input": "2021-05-31T04:26:18.096855Z",
          "iopub.status.busy": "2021-05-31T04:26:18.096214Z",
          "iopub.status.idle": "2021-05-31T04:26:18.099027Z",
          "shell.execute_reply": "2021-05-31T04:26:18.099425Z",
          "shell.execute_reply.started": "2021-05-31T02:38:58.851892Z"
        },
        "papermill": {
          "duration": 0.052923,
          "end_time": "2021-05-31T04:26:18.099577",
          "exception": false,
          "start_time": "2021-05-31T04:26:18.046654",
          "status": "completed"
        },
        "tags": [],
        "id": "Gv8clEeNiD0t"
      },
      "source": [
        "# check find and remove duplicates - doesnt work \n",
        "\n",
        "# boolean = df[\"BeginDate\"].is_unique  \n",
        "# print(\"Is Unique \" , boolean, df.size)\n",
        "\n",
        "# if(not boolean):\n",
        "#     duplicate = df[df.duplicated()]\n",
        "#     df = df.drop(duplicate.index)\n",
        "\n",
        "# boolean = df[\"BeginDate\"].is_unique  \n",
        "# print(\"Now Is Unique \" , boolean, df.size)"
      ],
      "execution_count": null,
      "outputs": []
    },
    {
      "cell_type": "markdown",
      "metadata": {
        "papermill": {
          "duration": 0.045024,
          "end_time": "2021-05-31T04:26:18.191073",
          "exception": false,
          "start_time": "2021-05-31T04:26:18.146049",
          "status": "completed"
        },
        "tags": [],
        "id": "kL8P_LiSiD0u"
      },
      "source": [
        "## Timestamp  different utility Graphs  "
      ]
    },
    {
      "cell_type": "code",
      "metadata": {
        "execution": {
          "iopub.execute_input": "2021-05-31T04:26:18.296480Z",
          "iopub.status.busy": "2021-05-31T04:26:18.292165Z",
          "iopub.status.idle": "2021-05-31T04:26:18.301302Z",
          "shell.execute_reply": "2021-05-31T04:26:18.300846Z",
          "shell.execute_reply.started": "2021-05-31T02:38:58.865429Z"
        },
        "papermill": {
          "duration": 0.065163,
          "end_time": "2021-05-31T04:26:18.301402",
          "exception": false,
          "start_time": "2021-05-31T04:26:18.236239",
          "status": "completed"
        },
        "tags": [],
        "id": "ki4DKBMJiD0u"
      },
      "source": [
        "df['Timestamp'] = pd.to_datetime(df['BeginDate'], format = '%m/%d/%Y %H:%M')\n",
        "               \n",
        "# adding separate time and date columns\n",
        "df[\"DATE\"] = pd.to_datetime(df[\"Timestamp\"]).dt.date # add new column with date\n",
        "# df[\"TIME\"] = pd.to_datetime(df[\"Timestamp\"]).dt.time # add new column with time\n",
        "\n",
        "# # add hours and minutes for ml models\n",
        "# df['HOURS'] = pd.to_datetime(df['TIME'],format='%H:%M').dt.hour\n",
        "# df['MINUTES'] = pd.to_datetime(df['TIME'],format='%H:%M').dt.minute\n",
        "# df['MINUTES_PASS'] = df['MINUTES'] + df['HOURS']*60\n",
        "\n",
        "# drop BeginDate\n",
        "df.drop('BeginDate', axis=1, inplace=True)  "
      ],
      "execution_count": null,
      "outputs": []
    },
    {
      "cell_type": "code",
      "metadata": {
        "execution": {
          "iopub.execute_input": "2021-05-31T04:26:18.400537Z",
          "iopub.status.busy": "2021-05-31T04:26:18.399984Z",
          "iopub.status.idle": "2021-05-31T04:26:18.404072Z",
          "shell.execute_reply": "2021-05-31T04:26:18.403614Z",
          "shell.execute_reply.started": "2021-05-31T02:38:58.885878Z"
        },
        "papermill": {
          "duration": 0.057392,
          "end_time": "2021-05-31T04:26:18.404170",
          "exception": false,
          "start_time": "2021-05-31T04:26:18.346778",
          "status": "completed"
        },
        "tags": [],
        "id": "_p9hjzHRiD0u",
        "outputId": "9938b8cc-3c36-4c15-b3c5-6a8d81aa812a"
      },
      "source": [
        "df = df.sort_values(by=['DATE'])\n",
        "len(df)"
      ],
      "execution_count": null,
      "outputs": [
        {
          "output_type": "execute_result",
          "data": {
            "text/plain": [
              "881"
            ]
          },
          "metadata": {
            "tags": []
          },
          "execution_count": 10
        }
      ]
    },
    {
      "cell_type": "code",
      "metadata": {
        "execution": {
          "iopub.execute_input": "2021-05-31T04:26:18.501960Z",
          "iopub.status.busy": "2021-05-31T04:26:18.501002Z",
          "iopub.status.idle": "2021-05-31T04:26:18.505162Z",
          "shell.execute_reply": "2021-05-31T04:26:18.504747Z",
          "shell.execute_reply.started": "2021-05-31T02:38:58.895152Z"
        },
        "papermill": {
          "duration": 0.055585,
          "end_time": "2021-05-31T04:26:18.505265",
          "exception": false,
          "start_time": "2021-05-31T04:26:18.449680",
          "status": "completed"
        },
        "tags": [],
        "id": "THxTE2eUiD0v",
        "outputId": "6d648b34-54fe-44c5-d0d1-866da4b3586e"
      },
      "source": [
        "# unique values of DATES\n",
        "dates = df['DATE'].unique()\n",
        "# remove first day which doesnt have all hours \n",
        "dates = dates[1:]\n",
        "len(dates)"
      ],
      "execution_count": null,
      "outputs": [
        {
          "output_type": "execute_result",
          "data": {
            "text/plain": [
              "6"
            ]
          },
          "metadata": {
            "tags": []
          },
          "execution_count": 11
        }
      ]
    },
    {
      "cell_type": "markdown",
      "metadata": {
        "papermill": {
          "duration": 0.045223,
          "end_time": "2021-05-31T04:26:18.596078",
          "exception": false,
          "start_time": "2021-05-31T04:26:18.550855",
          "status": "completed"
        },
        "tags": [],
        "id": "ozEVexOhiD0v"
      },
      "source": [
        "### Inperpolate values for missing dates "
      ]
    },
    {
      "cell_type": "code",
      "metadata": {
        "execution": {
          "iopub.execute_input": "2021-05-31T04:26:18.692984Z",
          "iopub.status.busy": "2021-05-31T04:26:18.691953Z",
          "iopub.status.idle": "2021-05-31T04:26:18.695410Z",
          "shell.execute_reply": "2021-05-31T04:26:18.694945Z",
          "shell.execute_reply.started": "2021-05-31T02:38:58.909441Z"
        },
        "papermill": {
          "duration": 0.053493,
          "end_time": "2021-05-31T04:26:18.695522",
          "exception": false,
          "start_time": "2021-05-31T04:26:18.642029",
          "status": "completed"
        },
        "tags": [],
        "id": "BbltVtwRiD0v"
      },
      "source": [
        "# unique timestamps in a day\n",
        "\n",
        "# dhours = df[ df['DATE'] ==  datetime.date(2020, 7, 6)]\n",
        "# dunique_minpass = dhours['Timestamp'].unique()\n",
        "# dunique_minpass = pd.to_datetime(dunique_minpass ,format = '%m/%d/%Y %H:%M')\n",
        "# dunique_minpass"
      ],
      "execution_count": null,
      "outputs": []
    },
    {
      "cell_type": "code",
      "metadata": {
        "execution": {
          "iopub.execute_input": "2021-05-31T04:26:18.819200Z",
          "iopub.status.busy": "2021-05-31T04:26:18.818493Z",
          "iopub.status.idle": "2021-05-31T04:26:18.820350Z",
          "shell.execute_reply": "2021-05-31T04:26:18.820764Z",
          "shell.execute_reply.started": "2021-05-31T02:38:58.921565Z"
        },
        "papermill": {
          "duration": 0.065938,
          "end_time": "2021-05-31T04:26:18.820901",
          "exception": false,
          "start_time": "2021-05-31T04:26:18.754963",
          "status": "completed"
        },
        "tags": [],
        "id": "p2EHxZRSiD0v"
      },
      "source": [
        "# for m in series: \n",
        "#     if m not in dunique_minpass:\n",
        "# #         print(\"missing tiemstamp \" , m)\n",
        "#         dhours = dhours.append({ \n",
        "#             'Timestamp': m,\n",
        "#             'Renewables': 0\n",
        "#         }, ignore_index = True) \n",
        "# #     else :\n",
        "# #         print(\"Exists tmestamp \" , m) "
      ],
      "execution_count": null,
      "outputs": []
    },
    {
      "cell_type": "code",
      "metadata": {
        "execution": {
          "iopub.execute_input": "2021-05-31T04:26:18.916519Z",
          "iopub.status.busy": "2021-05-31T04:26:18.915871Z",
          "iopub.status.idle": "2021-05-31T04:26:18.918908Z",
          "shell.execute_reply": "2021-05-31T04:26:18.919403Z",
          "shell.execute_reply.started": "2021-05-31T02:38:58.934053Z"
        },
        "papermill": {
          "duration": 0.052247,
          "end_time": "2021-05-31T04:26:18.919534",
          "exception": false,
          "start_time": "2021-05-31T04:26:18.867287",
          "status": "completed"
        },
        "tags": [],
        "id": "-lVoN6WbiD0w"
      },
      "source": [
        "# interpolate \n",
        "\n",
        "# dhours = df[ df['DATE'] ==  datetime.date(2020, 7, 6)]\n",
        "# dhours = dhours.sort_values(by='Timestamp')\n",
        "# dhours = dhours.interpolate(method ='nearest', limit_direction ='forward')\n",
        "# dhours.size\n",
        "# dhours.head(20)"
      ],
      "execution_count": null,
      "outputs": []
    },
    {
      "cell_type": "code",
      "metadata": {
        "execution": {
          "iopub.execute_input": "2021-05-31T04:26:19.016377Z",
          "iopub.status.busy": "2021-05-31T04:26:19.015818Z",
          "iopub.status.idle": "2021-05-31T04:26:19.018808Z",
          "shell.execute_reply": "2021-05-31T04:26:19.019241Z",
          "shell.execute_reply.started": "2021-05-31T02:38:58.947177Z"
        },
        "papermill": {
          "duration": 0.052135,
          "end_time": "2021-05-31T04:26:19.019371",
          "exception": false,
          "start_time": "2021-05-31T04:26:18.967236",
          "status": "completed"
        },
        "tags": [],
        "id": "Tn6VT3SgiD0w"
      },
      "source": [
        "## appending dataframe to an empty one \n",
        "\n",
        "# df2 = pd.DataFrame()\n",
        "# df2 = df2.append(dhours)\n",
        "# df2.head()"
      ],
      "execution_count": null,
      "outputs": []
    },
    {
      "cell_type": "code",
      "metadata": {
        "execution": {
          "iopub.execute_input": "2021-05-31T04:26:19.115494Z",
          "iopub.status.busy": "2021-05-31T04:26:19.114755Z",
          "iopub.status.idle": "2021-05-31T04:27:07.125378Z",
          "shell.execute_reply": "2021-05-31T04:27:07.125869Z",
          "shell.execute_reply.started": "2021-05-31T02:38:58.965410Z"
        },
        "papermill": {
          "duration": 48.06036,
          "end_time": "2021-05-31T04:27:07.126011",
          "exception": false,
          "start_time": "2021-05-31T04:26:19.065651",
          "status": "completed"
        },
        "tags": [],
        "id": "i4Y_UdOsiD0w",
        "outputId": "2ceeeff0-ab4b-4028-ac87-5acb223dc43d"
      },
      "source": [
        "df2 = pd.DataFrame()\n",
        "\n",
        "for d in dates:\n",
        "#     print(d)\n",
        "    dhours = df[df['DATE']==d]\n",
        "    dunique_minpass = dhours['Timestamp'].unique()\n",
        "    dunique_minpass = pd.to_datetime(dunique_minpass ,format = '%m/%d/%Y %H:%M')\n",
        "    \n",
        "    index = pd.date_range(d, periods=1440, freq='T')\n",
        "    series = pd.Series(range(1440), index=index, name='Timestamp')\n",
        "    series = pd.to_datetime(series.index,format = '%m/%d/%Y %H:%M')\n",
        "\n",
        "    for m in series: \n",
        "        if m not in dunique_minpass:\n",
        "    #         print(\"missing tiemstamp \" , m)\n",
        "            dhours = dhours.append({ \n",
        "                'Timestamp': m,\n",
        "                'Renewables': 0\n",
        "            }, ignore_index = True) \n",
        "    #     else :\n",
        "    #         print(\"Exists tmestamp \" , m) \n",
        "    \n",
        "    dhours = dhours.sort_values(by='Timestamp')\n",
        "    dhours = dhours.interpolate(method ='linear', limit_direction ='forward')\n",
        "    \n",
        "    # adding separate time and date columns\n",
        "    dhours[\"DATE\"] = pd.to_datetime(dhours[\"Timestamp\"]).dt.date # add new column with date\n",
        "    dhours[\"TIME\"] = pd.to_datetime(dhours[\"Timestamp\"]).dt.time # add new column with time\n",
        "\n",
        "    # add hours and minutes for ml models\n",
        "    dhours['HOURS'] = pd.to_datetime(dhours['TIME'],format='%H:%M:%S').dt.hour\n",
        "    dhours['MINUTES'] = pd.to_datetime(dhours['TIME'],format='%H:%M:%S').dt.minute\n",
        "    dhours['MINUTES_PASS'] = dhours['MINUTES'] + dhours['HOURS']*60\n",
        "    df2 = df2.append(dhours)\n",
        "\n",
        "df = df2\n",
        "len(df)"
      ],
      "execution_count": null,
      "outputs": [
        {
          "output_type": "execute_result",
          "data": {
            "text/plain": [
              "8645"
            ]
          },
          "metadata": {
            "tags": []
          },
          "execution_count": 16
        }
      ]
    },
    {
      "cell_type": "markdown",
      "metadata": {
        "papermill": {
          "duration": 0.046065,
          "end_time": "2021-05-31T04:27:07.218434",
          "exception": false,
          "start_time": "2021-05-31T04:27:07.172369",
          "status": "completed"
        },
        "tags": [],
        "id": "G3QdB1YhiD0y"
      },
      "source": [
        "Replace undefined with 0"
      ]
    },
    {
      "cell_type": "code",
      "metadata": {
        "execution": {
          "iopub.execute_input": "2021-05-31T04:27:07.317604Z",
          "iopub.status.busy": "2021-05-31T04:27:07.316612Z",
          "iopub.status.idle": "2021-05-31T04:27:07.350344Z",
          "shell.execute_reply": "2021-05-31T04:27:07.349865Z",
          "shell.execute_reply.started": "2021-05-31T02:39:46.527018Z"
        },
        "papermill": {
          "duration": 0.085387,
          "end_time": "2021-05-31T04:27:07.350444",
          "exception": false,
          "start_time": "2021-05-31T04:27:07.265057",
          "status": "completed"
        },
        "tags": [],
        "id": "ry8lPdMNiD0z",
        "outputId": "234ec1ab-b218-4536-d892-0059244e8f6f"
      },
      "source": [
        "df = df.replace('undefined', 0)\n",
        "df = df.fillna(0)\n",
        "df = df.replace(np.nan, 0)\n",
        "df[15:25]"
      ],
      "execution_count": null,
      "outputs": [
        {
          "output_type": "execute_result",
          "data": {
            "text/html": [
              "<div>\n",
              "<style scoped>\n",
              "    .dataframe tbody tr th:only-of-type {\n",
              "        vertical-align: middle;\n",
              "    }\n",
              "\n",
              "    .dataframe tbody tr th {\n",
              "        vertical-align: top;\n",
              "    }\n",
              "\n",
              "    .dataframe thead th {\n",
              "        text-align: right;\n",
              "    }\n",
              "</style>\n",
              "<table border=\"1\" class=\"dataframe\">\n",
              "  <thead>\n",
              "    <tr style=\"text-align: right;\">\n",
              "      <th></th>\n",
              "      <th>NaturalGas</th>\n",
              "      <th>Nuclear</th>\n",
              "      <th>Hydro</th>\n",
              "      <th>Coal</th>\n",
              "      <th>Oil</th>\n",
              "      <th>Renewables</th>\n",
              "      <th>Wood</th>\n",
              "      <th>Refuse</th>\n",
              "      <th>Wind</th>\n",
              "      <th>LandfillGas</th>\n",
              "      <th>Solar</th>\n",
              "      <th>Other</th>\n",
              "      <th>Timestamp</th>\n",
              "      <th>DATE</th>\n",
              "      <th>TIME</th>\n",
              "      <th>HOURS</th>\n",
              "      <th>MINUTES</th>\n",
              "      <th>MINUTES_PASS</th>\n",
              "    </tr>\n",
              "  </thead>\n",
              "  <tbody>\n",
              "    <tr>\n",
              "      <th>186</th>\n",
              "      <td>0.000000</td>\n",
              "      <td>0.000000</td>\n",
              "      <td>0.000000</td>\n",
              "      <td>0.000000</td>\n",
              "      <td>0.0</td>\n",
              "      <td>0</td>\n",
              "      <td>0.000000</td>\n",
              "      <td>0.000000</td>\n",
              "      <td>0.000000</td>\n",
              "      <td>0</td>\n",
              "      <td>0.0</td>\n",
              "      <td>0</td>\n",
              "      <td>2020-07-06 00:15:00</td>\n",
              "      <td>2020-07-06</td>\n",
              "      <td>00:15:00</td>\n",
              "      <td>0</td>\n",
              "      <td>15</td>\n",
              "      <td>15</td>\n",
              "    </tr>\n",
              "    <tr>\n",
              "      <th>109</th>\n",
              "      <td>5182.000000</td>\n",
              "      <td>3326.000000</td>\n",
              "      <td>405.000000</td>\n",
              "      <td>2.000000</td>\n",
              "      <td>0.0</td>\n",
              "      <td>573</td>\n",
              "      <td>184.000000</td>\n",
              "      <td>334.000000</td>\n",
              "      <td>41.000000</td>\n",
              "      <td>2</td>\n",
              "      <td>12.0</td>\n",
              "      <td>0</td>\n",
              "      <td>2020-07-06 00:16:00</td>\n",
              "      <td>2020-07-06</td>\n",
              "      <td>00:16:00</td>\n",
              "      <td>0</td>\n",
              "      <td>16</td>\n",
              "      <td>16</td>\n",
              "    </tr>\n",
              "    <tr>\n",
              "      <th>187</th>\n",
              "      <td>5169.000000</td>\n",
              "      <td>3326.666667</td>\n",
              "      <td>404.666667</td>\n",
              "      <td>4.000000</td>\n",
              "      <td>0.0</td>\n",
              "      <td>0</td>\n",
              "      <td>185.666667</td>\n",
              "      <td>334.666667</td>\n",
              "      <td>42.666667</td>\n",
              "      <td>0</td>\n",
              "      <td>12.0</td>\n",
              "      <td>0</td>\n",
              "      <td>2020-07-06 00:17:00</td>\n",
              "      <td>2020-07-06</td>\n",
              "      <td>00:17:00</td>\n",
              "      <td>0</td>\n",
              "      <td>17</td>\n",
              "      <td>17</td>\n",
              "    </tr>\n",
              "    <tr>\n",
              "      <th>188</th>\n",
              "      <td>5156.000000</td>\n",
              "      <td>3327.333333</td>\n",
              "      <td>404.333333</td>\n",
              "      <td>6.000000</td>\n",
              "      <td>0.0</td>\n",
              "      <td>0</td>\n",
              "      <td>187.333333</td>\n",
              "      <td>335.333333</td>\n",
              "      <td>44.333333</td>\n",
              "      <td>0</td>\n",
              "      <td>12.0</td>\n",
              "      <td>0</td>\n",
              "      <td>2020-07-06 00:18:00</td>\n",
              "      <td>2020-07-06</td>\n",
              "      <td>00:18:00</td>\n",
              "      <td>0</td>\n",
              "      <td>18</td>\n",
              "      <td>18</td>\n",
              "    </tr>\n",
              "    <tr>\n",
              "      <th>110</th>\n",
              "      <td>5143.000000</td>\n",
              "      <td>3328.000000</td>\n",
              "      <td>404.000000</td>\n",
              "      <td>8.000000</td>\n",
              "      <td>0.0</td>\n",
              "      <td>585</td>\n",
              "      <td>189.000000</td>\n",
              "      <td>336.000000</td>\n",
              "      <td>46.000000</td>\n",
              "      <td>2</td>\n",
              "      <td>12.0</td>\n",
              "      <td>3</td>\n",
              "      <td>2020-07-06 00:19:00</td>\n",
              "      <td>2020-07-06</td>\n",
              "      <td>00:19:00</td>\n",
              "      <td>0</td>\n",
              "      <td>19</td>\n",
              "      <td>19</td>\n",
              "    </tr>\n",
              "    <tr>\n",
              "      <th>189</th>\n",
              "      <td>5140.588235</td>\n",
              "      <td>3328.117647</td>\n",
              "      <td>403.823529</td>\n",
              "      <td>7.529412</td>\n",
              "      <td>0.0</td>\n",
              "      <td>0</td>\n",
              "      <td>189.352941</td>\n",
              "      <td>335.411765</td>\n",
              "      <td>46.000000</td>\n",
              "      <td>0</td>\n",
              "      <td>12.0</td>\n",
              "      <td>0</td>\n",
              "      <td>2020-07-06 00:20:00</td>\n",
              "      <td>2020-07-06</td>\n",
              "      <td>00:20:00</td>\n",
              "      <td>0</td>\n",
              "      <td>20</td>\n",
              "      <td>20</td>\n",
              "    </tr>\n",
              "    <tr>\n",
              "      <th>190</th>\n",
              "      <td>5138.176471</td>\n",
              "      <td>3328.235294</td>\n",
              "      <td>403.647059</td>\n",
              "      <td>7.058824</td>\n",
              "      <td>0.0</td>\n",
              "      <td>0</td>\n",
              "      <td>189.705882</td>\n",
              "      <td>334.823529</td>\n",
              "      <td>46.000000</td>\n",
              "      <td>0</td>\n",
              "      <td>12.0</td>\n",
              "      <td>0</td>\n",
              "      <td>2020-07-06 00:21:00</td>\n",
              "      <td>2020-07-06</td>\n",
              "      <td>00:21:00</td>\n",
              "      <td>0</td>\n",
              "      <td>21</td>\n",
              "      <td>21</td>\n",
              "    </tr>\n",
              "    <tr>\n",
              "      <th>191</th>\n",
              "      <td>5135.764706</td>\n",
              "      <td>3328.352941</td>\n",
              "      <td>403.470588</td>\n",
              "      <td>6.588235</td>\n",
              "      <td>0.0</td>\n",
              "      <td>0</td>\n",
              "      <td>190.058824</td>\n",
              "      <td>334.235294</td>\n",
              "      <td>46.000000</td>\n",
              "      <td>0</td>\n",
              "      <td>12.0</td>\n",
              "      <td>0</td>\n",
              "      <td>2020-07-06 00:22:00</td>\n",
              "      <td>2020-07-06</td>\n",
              "      <td>00:22:00</td>\n",
              "      <td>0</td>\n",
              "      <td>22</td>\n",
              "      <td>22</td>\n",
              "    </tr>\n",
              "    <tr>\n",
              "      <th>192</th>\n",
              "      <td>5133.352941</td>\n",
              "      <td>3328.470588</td>\n",
              "      <td>403.294118</td>\n",
              "      <td>6.117647</td>\n",
              "      <td>0.0</td>\n",
              "      <td>0</td>\n",
              "      <td>190.411765</td>\n",
              "      <td>333.647059</td>\n",
              "      <td>46.000000</td>\n",
              "      <td>0</td>\n",
              "      <td>12.0</td>\n",
              "      <td>0</td>\n",
              "      <td>2020-07-06 00:23:00</td>\n",
              "      <td>2020-07-06</td>\n",
              "      <td>00:23:00</td>\n",
              "      <td>0</td>\n",
              "      <td>23</td>\n",
              "      <td>23</td>\n",
              "    </tr>\n",
              "    <tr>\n",
              "      <th>193</th>\n",
              "      <td>5130.941176</td>\n",
              "      <td>3328.588235</td>\n",
              "      <td>403.117647</td>\n",
              "      <td>5.647059</td>\n",
              "      <td>0.0</td>\n",
              "      <td>0</td>\n",
              "      <td>190.764706</td>\n",
              "      <td>333.058824</td>\n",
              "      <td>46.000000</td>\n",
              "      <td>0</td>\n",
              "      <td>12.0</td>\n",
              "      <td>0</td>\n",
              "      <td>2020-07-06 00:24:00</td>\n",
              "      <td>2020-07-06</td>\n",
              "      <td>00:24:00</td>\n",
              "      <td>0</td>\n",
              "      <td>24</td>\n",
              "      <td>24</td>\n",
              "    </tr>\n",
              "  </tbody>\n",
              "</table>\n",
              "</div>"
            ],
            "text/plain": [
              "      NaturalGas      Nuclear       Hydro      Coal  Oil  Renewables  \\\n",
              "186     0.000000     0.000000    0.000000  0.000000  0.0           0   \n",
              "109  5182.000000  3326.000000  405.000000  2.000000  0.0         573   \n",
              "187  5169.000000  3326.666667  404.666667  4.000000  0.0           0   \n",
              "188  5156.000000  3327.333333  404.333333  6.000000  0.0           0   \n",
              "110  5143.000000  3328.000000  404.000000  8.000000  0.0         585   \n",
              "189  5140.588235  3328.117647  403.823529  7.529412  0.0           0   \n",
              "190  5138.176471  3328.235294  403.647059  7.058824  0.0           0   \n",
              "191  5135.764706  3328.352941  403.470588  6.588235  0.0           0   \n",
              "192  5133.352941  3328.470588  403.294118  6.117647  0.0           0   \n",
              "193  5130.941176  3328.588235  403.117647  5.647059  0.0           0   \n",
              "\n",
              "           Wood      Refuse       Wind LandfillGas  Solar Other  \\\n",
              "186    0.000000    0.000000   0.000000           0    0.0     0   \n",
              "109  184.000000  334.000000  41.000000           2   12.0     0   \n",
              "187  185.666667  334.666667  42.666667           0   12.0     0   \n",
              "188  187.333333  335.333333  44.333333           0   12.0     0   \n",
              "110  189.000000  336.000000  46.000000           2   12.0     3   \n",
              "189  189.352941  335.411765  46.000000           0   12.0     0   \n",
              "190  189.705882  334.823529  46.000000           0   12.0     0   \n",
              "191  190.058824  334.235294  46.000000           0   12.0     0   \n",
              "192  190.411765  333.647059  46.000000           0   12.0     0   \n",
              "193  190.764706  333.058824  46.000000           0   12.0     0   \n",
              "\n",
              "              Timestamp        DATE      TIME  HOURS  MINUTES  MINUTES_PASS  \n",
              "186 2020-07-06 00:15:00  2020-07-06  00:15:00      0       15            15  \n",
              "109 2020-07-06 00:16:00  2020-07-06  00:16:00      0       16            16  \n",
              "187 2020-07-06 00:17:00  2020-07-06  00:17:00      0       17            17  \n",
              "188 2020-07-06 00:18:00  2020-07-06  00:18:00      0       18            18  \n",
              "110 2020-07-06 00:19:00  2020-07-06  00:19:00      0       19            19  \n",
              "189 2020-07-06 00:20:00  2020-07-06  00:20:00      0       20            20  \n",
              "190 2020-07-06 00:21:00  2020-07-06  00:21:00      0       21            21  \n",
              "191 2020-07-06 00:22:00  2020-07-06  00:22:00      0       22            22  \n",
              "192 2020-07-06 00:23:00  2020-07-06  00:23:00      0       23            23  \n",
              "193 2020-07-06 00:24:00  2020-07-06  00:24:00      0       24            24  "
            ]
          },
          "metadata": {
            "tags": []
          },
          "execution_count": 17
        }
      ]
    },
    {
      "cell_type": "markdown",
      "metadata": {
        "papermill": {
          "duration": 0.047772,
          "end_time": "2021-05-31T04:27:07.445106",
          "exception": false,
          "start_time": "2021-05-31T04:27:07.397334",
          "status": "completed"
        },
        "tags": [],
        "id": "dKc7TU1GiD01"
      },
      "source": [
        "Set others for un-matched catagories"
      ]
    },
    {
      "cell_type": "code",
      "metadata": {
        "execution": {
          "iopub.execute_input": "2021-05-31T04:27:07.549741Z",
          "iopub.status.busy": "2021-05-31T04:27:07.548856Z",
          "iopub.status.idle": "2021-05-31T04:27:07.578951Z",
          "shell.execute_reply": "2021-05-31T04:27:07.577778Z",
          "shell.execute_reply.started": "2021-05-31T02:39:46.565184Z"
        },
        "papermill": {
          "duration": 0.087239,
          "end_time": "2021-05-31T04:27:07.579143",
          "exception": false,
          "start_time": "2021-05-31T04:27:07.491904",
          "status": "completed"
        },
        "tags": [],
        "id": "7ll2OrTKiD03",
        "outputId": "cb1996e9-9a1e-480d-d915-9b9a70f5ba5f"
      },
      "source": [
        "df['Other'] = df['Other'].astype(int) + df['Wood'].astype(int) + df['Refuse'].astype(int) + df['LandfillGas'].astype(int)\n",
        "df = df.drop(columns=['Wood','Refuse','Renewables','LandfillGas'])\n",
        "df.head()"
      ],
      "execution_count": null,
      "outputs": [
        {
          "output_type": "execute_result",
          "data": {
            "text/html": [
              "<div>\n",
              "<style scoped>\n",
              "    .dataframe tbody tr th:only-of-type {\n",
              "        vertical-align: middle;\n",
              "    }\n",
              "\n",
              "    .dataframe tbody tr th {\n",
              "        vertical-align: top;\n",
              "    }\n",
              "\n",
              "    .dataframe thead th {\n",
              "        text-align: right;\n",
              "    }\n",
              "</style>\n",
              "<table border=\"1\" class=\"dataframe\">\n",
              "  <thead>\n",
              "    <tr style=\"text-align: right;\">\n",
              "      <th></th>\n",
              "      <th>NaturalGas</th>\n",
              "      <th>Nuclear</th>\n",
              "      <th>Hydro</th>\n",
              "      <th>Coal</th>\n",
              "      <th>Oil</th>\n",
              "      <th>Wind</th>\n",
              "      <th>Solar</th>\n",
              "      <th>Other</th>\n",
              "      <th>Timestamp</th>\n",
              "      <th>DATE</th>\n",
              "      <th>TIME</th>\n",
              "      <th>HOURS</th>\n",
              "      <th>MINUTES</th>\n",
              "      <th>MINUTES_PASS</th>\n",
              "    </tr>\n",
              "  </thead>\n",
              "  <tbody>\n",
              "    <tr>\n",
              "      <th>171</th>\n",
              "      <td>0.0</td>\n",
              "      <td>0.0</td>\n",
              "      <td>0.0</td>\n",
              "      <td>0.0</td>\n",
              "      <td>0.0</td>\n",
              "      <td>0.0</td>\n",
              "      <td>0.0</td>\n",
              "      <td>0</td>\n",
              "      <td>2020-07-06 00:00:00</td>\n",
              "      <td>2020-07-06</td>\n",
              "      <td>00:00:00</td>\n",
              "      <td>0</td>\n",
              "      <td>0</td>\n",
              "      <td>0</td>\n",
              "    </tr>\n",
              "    <tr>\n",
              "      <th>172</th>\n",
              "      <td>0.0</td>\n",
              "      <td>0.0</td>\n",
              "      <td>0.0</td>\n",
              "      <td>0.0</td>\n",
              "      <td>0.0</td>\n",
              "      <td>0.0</td>\n",
              "      <td>0.0</td>\n",
              "      <td>0</td>\n",
              "      <td>2020-07-06 00:01:00</td>\n",
              "      <td>2020-07-06</td>\n",
              "      <td>00:01:00</td>\n",
              "      <td>0</td>\n",
              "      <td>1</td>\n",
              "      <td>1</td>\n",
              "    </tr>\n",
              "    <tr>\n",
              "      <th>173</th>\n",
              "      <td>0.0</td>\n",
              "      <td>0.0</td>\n",
              "      <td>0.0</td>\n",
              "      <td>0.0</td>\n",
              "      <td>0.0</td>\n",
              "      <td>0.0</td>\n",
              "      <td>0.0</td>\n",
              "      <td>0</td>\n",
              "      <td>2020-07-06 00:02:00</td>\n",
              "      <td>2020-07-06</td>\n",
              "      <td>00:02:00</td>\n",
              "      <td>0</td>\n",
              "      <td>2</td>\n",
              "      <td>2</td>\n",
              "    </tr>\n",
              "    <tr>\n",
              "      <th>174</th>\n",
              "      <td>0.0</td>\n",
              "      <td>0.0</td>\n",
              "      <td>0.0</td>\n",
              "      <td>0.0</td>\n",
              "      <td>0.0</td>\n",
              "      <td>0.0</td>\n",
              "      <td>0.0</td>\n",
              "      <td>0</td>\n",
              "      <td>2020-07-06 00:03:00</td>\n",
              "      <td>2020-07-06</td>\n",
              "      <td>00:03:00</td>\n",
              "      <td>0</td>\n",
              "      <td>3</td>\n",
              "      <td>3</td>\n",
              "    </tr>\n",
              "    <tr>\n",
              "      <th>175</th>\n",
              "      <td>0.0</td>\n",
              "      <td>0.0</td>\n",
              "      <td>0.0</td>\n",
              "      <td>0.0</td>\n",
              "      <td>0.0</td>\n",
              "      <td>0.0</td>\n",
              "      <td>0.0</td>\n",
              "      <td>0</td>\n",
              "      <td>2020-07-06 00:04:00</td>\n",
              "      <td>2020-07-06</td>\n",
              "      <td>00:04:00</td>\n",
              "      <td>0</td>\n",
              "      <td>4</td>\n",
              "      <td>4</td>\n",
              "    </tr>\n",
              "  </tbody>\n",
              "</table>\n",
              "</div>"
            ],
            "text/plain": [
              "     NaturalGas  Nuclear  Hydro  Coal  Oil  Wind  Solar  Other  \\\n",
              "171         0.0      0.0    0.0   0.0  0.0   0.0    0.0      0   \n",
              "172         0.0      0.0    0.0   0.0  0.0   0.0    0.0      0   \n",
              "173         0.0      0.0    0.0   0.0  0.0   0.0    0.0      0   \n",
              "174         0.0      0.0    0.0   0.0  0.0   0.0    0.0      0   \n",
              "175         0.0      0.0    0.0   0.0  0.0   0.0    0.0      0   \n",
              "\n",
              "              Timestamp        DATE      TIME  HOURS  MINUTES  MINUTES_PASS  \n",
              "171 2020-07-06 00:00:00  2020-07-06  00:00:00      0        0             0  \n",
              "172 2020-07-06 00:01:00  2020-07-06  00:01:00      0        1             1  \n",
              "173 2020-07-06 00:02:00  2020-07-06  00:02:00      0        2             2  \n",
              "174 2020-07-06 00:03:00  2020-07-06  00:03:00      0        3             3  \n",
              "175 2020-07-06 00:04:00  2020-07-06  00:04:00      0        4             4  "
            ]
          },
          "metadata": {
            "tags": []
          },
          "execution_count": 18
        }
      ]
    },
    {
      "cell_type": "code",
      "metadata": {
        "execution": {
          "iopub.execute_input": "2021-05-31T04:27:07.697820Z",
          "iopub.status.busy": "2021-05-31T04:27:07.697077Z",
          "iopub.status.idle": "2021-05-31T04:27:07.723416Z",
          "shell.execute_reply": "2021-05-31T04:27:07.724055Z",
          "shell.execute_reply.started": "2021-05-31T02:39:46.593959Z"
        },
        "papermill": {
          "duration": 0.087973,
          "end_time": "2021-05-31T04:27:07.724204",
          "exception": false,
          "start_time": "2021-05-31T04:27:07.636231",
          "status": "completed"
        },
        "tags": [],
        "id": "Jmmqz4SgiD06",
        "outputId": "0abfe2c9-e4c7-4101-b492-f62d29a785ef"
      },
      "source": [
        "# if 'Petroleum Generation (MWh)' in df_nw:\n",
        "#     print(\"petrolum is there \")\n",
        "# else    \n",
        "#     print(\"petrolum isnt there \")\n",
        "\n",
        "column_list = (\"Wind\",\"Solar\",\"Hydro\",\"Other\", \n",
        "               \"Oil\", \"NaturalGas\",\"Coal\",\"Nuclear\")\n",
        "\n",
        "for col in column_list:\n",
        "    if col not in df.columns:\n",
        "        df[col] = 0\n",
        "\n",
        "df.head()"
      ],
      "execution_count": null,
      "outputs": [
        {
          "output_type": "execute_result",
          "data": {
            "text/html": [
              "<div>\n",
              "<style scoped>\n",
              "    .dataframe tbody tr th:only-of-type {\n",
              "        vertical-align: middle;\n",
              "    }\n",
              "\n",
              "    .dataframe tbody tr th {\n",
              "        vertical-align: top;\n",
              "    }\n",
              "\n",
              "    .dataframe thead th {\n",
              "        text-align: right;\n",
              "    }\n",
              "</style>\n",
              "<table border=\"1\" class=\"dataframe\">\n",
              "  <thead>\n",
              "    <tr style=\"text-align: right;\">\n",
              "      <th></th>\n",
              "      <th>NaturalGas</th>\n",
              "      <th>Nuclear</th>\n",
              "      <th>Hydro</th>\n",
              "      <th>Coal</th>\n",
              "      <th>Oil</th>\n",
              "      <th>Wind</th>\n",
              "      <th>Solar</th>\n",
              "      <th>Other</th>\n",
              "      <th>Timestamp</th>\n",
              "      <th>DATE</th>\n",
              "      <th>TIME</th>\n",
              "      <th>HOURS</th>\n",
              "      <th>MINUTES</th>\n",
              "      <th>MINUTES_PASS</th>\n",
              "    </tr>\n",
              "  </thead>\n",
              "  <tbody>\n",
              "    <tr>\n",
              "      <th>171</th>\n",
              "      <td>0.0</td>\n",
              "      <td>0.0</td>\n",
              "      <td>0.0</td>\n",
              "      <td>0.0</td>\n",
              "      <td>0.0</td>\n",
              "      <td>0.0</td>\n",
              "      <td>0.0</td>\n",
              "      <td>0</td>\n",
              "      <td>2020-07-06 00:00:00</td>\n",
              "      <td>2020-07-06</td>\n",
              "      <td>00:00:00</td>\n",
              "      <td>0</td>\n",
              "      <td>0</td>\n",
              "      <td>0</td>\n",
              "    </tr>\n",
              "    <tr>\n",
              "      <th>172</th>\n",
              "      <td>0.0</td>\n",
              "      <td>0.0</td>\n",
              "      <td>0.0</td>\n",
              "      <td>0.0</td>\n",
              "      <td>0.0</td>\n",
              "      <td>0.0</td>\n",
              "      <td>0.0</td>\n",
              "      <td>0</td>\n",
              "      <td>2020-07-06 00:01:00</td>\n",
              "      <td>2020-07-06</td>\n",
              "      <td>00:01:00</td>\n",
              "      <td>0</td>\n",
              "      <td>1</td>\n",
              "      <td>1</td>\n",
              "    </tr>\n",
              "    <tr>\n",
              "      <th>173</th>\n",
              "      <td>0.0</td>\n",
              "      <td>0.0</td>\n",
              "      <td>0.0</td>\n",
              "      <td>0.0</td>\n",
              "      <td>0.0</td>\n",
              "      <td>0.0</td>\n",
              "      <td>0.0</td>\n",
              "      <td>0</td>\n",
              "      <td>2020-07-06 00:02:00</td>\n",
              "      <td>2020-07-06</td>\n",
              "      <td>00:02:00</td>\n",
              "      <td>0</td>\n",
              "      <td>2</td>\n",
              "      <td>2</td>\n",
              "    </tr>\n",
              "    <tr>\n",
              "      <th>174</th>\n",
              "      <td>0.0</td>\n",
              "      <td>0.0</td>\n",
              "      <td>0.0</td>\n",
              "      <td>0.0</td>\n",
              "      <td>0.0</td>\n",
              "      <td>0.0</td>\n",
              "      <td>0.0</td>\n",
              "      <td>0</td>\n",
              "      <td>2020-07-06 00:03:00</td>\n",
              "      <td>2020-07-06</td>\n",
              "      <td>00:03:00</td>\n",
              "      <td>0</td>\n",
              "      <td>3</td>\n",
              "      <td>3</td>\n",
              "    </tr>\n",
              "    <tr>\n",
              "      <th>175</th>\n",
              "      <td>0.0</td>\n",
              "      <td>0.0</td>\n",
              "      <td>0.0</td>\n",
              "      <td>0.0</td>\n",
              "      <td>0.0</td>\n",
              "      <td>0.0</td>\n",
              "      <td>0.0</td>\n",
              "      <td>0</td>\n",
              "      <td>2020-07-06 00:04:00</td>\n",
              "      <td>2020-07-06</td>\n",
              "      <td>00:04:00</td>\n",
              "      <td>0</td>\n",
              "      <td>4</td>\n",
              "      <td>4</td>\n",
              "    </tr>\n",
              "  </tbody>\n",
              "</table>\n",
              "</div>"
            ],
            "text/plain": [
              "     NaturalGas  Nuclear  Hydro  Coal  Oil  Wind  Solar  Other  \\\n",
              "171         0.0      0.0    0.0   0.0  0.0   0.0    0.0      0   \n",
              "172         0.0      0.0    0.0   0.0  0.0   0.0    0.0      0   \n",
              "173         0.0      0.0    0.0   0.0  0.0   0.0    0.0      0   \n",
              "174         0.0      0.0    0.0   0.0  0.0   0.0    0.0      0   \n",
              "175         0.0      0.0    0.0   0.0  0.0   0.0    0.0      0   \n",
              "\n",
              "              Timestamp        DATE      TIME  HOURS  MINUTES  MINUTES_PASS  \n",
              "171 2020-07-06 00:00:00  2020-07-06  00:00:00      0        0             0  \n",
              "172 2020-07-06 00:01:00  2020-07-06  00:01:00      0        1             1  \n",
              "173 2020-07-06 00:02:00  2020-07-06  00:02:00      0        2             2  \n",
              "174 2020-07-06 00:03:00  2020-07-06  00:03:00      0        3             3  \n",
              "175 2020-07-06 00:04:00  2020-07-06  00:04:00      0        4             4  "
            ]
          },
          "metadata": {
            "tags": []
          },
          "execution_count": 19
        }
      ]
    },
    {
      "cell_type": "code",
      "metadata": {
        "execution": {
          "iopub.execute_input": "2021-05-31T04:27:07.830887Z",
          "iopub.status.busy": "2021-05-31T04:27:07.829961Z",
          "iopub.status.idle": "2021-05-31T04:27:07.832886Z",
          "shell.execute_reply": "2021-05-31T04:27:07.832280Z",
          "shell.execute_reply.started": "2021-05-31T02:39:46.616351Z"
        },
        "papermill": {
          "duration": 0.059922,
          "end_time": "2021-05-31T04:27:07.833035",
          "exception": false,
          "start_time": "2021-05-31T04:27:07.773113",
          "status": "completed"
        },
        "tags": [],
        "id": "JAmoJvEniD07"
      },
      "source": [
        "# Pie chart ( Fuel Mix)\n",
        "# df.plot.pie(\n",
        "#     index = [\"Wind\",\"Solar\",\"Hydro\",\"Other\", \n",
        "#                \"Oil\", \"NaturalGas\",\"Coal\",\"Nuclear\"],\n",
        "#     subplots = True, \n",
        "#     name=\"Fuel Mix throughout the week\")"
      ],
      "execution_count": null,
      "outputs": []
    },
    {
      "cell_type": "markdown",
      "metadata": {
        "papermill": {
          "duration": 0.095898,
          "end_time": "2021-05-31T04:27:07.995482",
          "exception": false,
          "start_time": "2021-05-31T04:27:07.899584",
          "status": "completed"
        },
        "tags": [],
        "id": "rrqjyOp1iD07"
      },
      "source": [
        "Calculate total generation"
      ]
    },
    {
      "cell_type": "code",
      "metadata": {
        "execution": {
          "iopub.execute_input": "2021-05-31T04:27:08.097589Z",
          "iopub.status.busy": "2021-05-31T04:27:08.096672Z",
          "iopub.status.idle": "2021-05-31T04:27:08.111795Z",
          "shell.execute_reply": "2021-05-31T04:27:08.111060Z",
          "shell.execute_reply.started": "2021-05-31T02:39:46.627048Z"
        },
        "papermill": {
          "duration": 0.067911,
          "end_time": "2021-05-31T04:27:08.111965",
          "exception": false,
          "start_time": "2021-05-31T04:27:08.044054",
          "status": "completed"
        },
        "tags": [],
        "id": "mrWcDTbNiD08",
        "outputId": "efb49a1f-22e1-4cd1-b1da-912f4c2a4be5"
      },
      "source": [
        "df[\"total_generation\"] = df[\"Wind\"] + df[\"Solar\"] + df[\"Hydro\"] + df[\"Other\"] + df[\"Oil\"] + df[\"NaturalGas\"] + df[\"Coal\"] + df[\"Nuclear\"]\n",
        "df[[\"TIME\",\"total_generation\"]].head()"
      ],
      "execution_count": null,
      "outputs": [
        {
          "output_type": "execute_result",
          "data": {
            "text/html": [
              "<div>\n",
              "<style scoped>\n",
              "    .dataframe tbody tr th:only-of-type {\n",
              "        vertical-align: middle;\n",
              "    }\n",
              "\n",
              "    .dataframe tbody tr th {\n",
              "        vertical-align: top;\n",
              "    }\n",
              "\n",
              "    .dataframe thead th {\n",
              "        text-align: right;\n",
              "    }\n",
              "</style>\n",
              "<table border=\"1\" class=\"dataframe\">\n",
              "  <thead>\n",
              "    <tr style=\"text-align: right;\">\n",
              "      <th></th>\n",
              "      <th>TIME</th>\n",
              "      <th>total_generation</th>\n",
              "    </tr>\n",
              "  </thead>\n",
              "  <tbody>\n",
              "    <tr>\n",
              "      <th>171</th>\n",
              "      <td>00:00:00</td>\n",
              "      <td>0.0</td>\n",
              "    </tr>\n",
              "    <tr>\n",
              "      <th>172</th>\n",
              "      <td>00:01:00</td>\n",
              "      <td>0.0</td>\n",
              "    </tr>\n",
              "    <tr>\n",
              "      <th>173</th>\n",
              "      <td>00:02:00</td>\n",
              "      <td>0.0</td>\n",
              "    </tr>\n",
              "    <tr>\n",
              "      <th>174</th>\n",
              "      <td>00:03:00</td>\n",
              "      <td>0.0</td>\n",
              "    </tr>\n",
              "    <tr>\n",
              "      <th>175</th>\n",
              "      <td>00:04:00</td>\n",
              "      <td>0.0</td>\n",
              "    </tr>\n",
              "  </tbody>\n",
              "</table>\n",
              "</div>"
            ],
            "text/plain": [
              "         TIME  total_generation\n",
              "171  00:00:00               0.0\n",
              "172  00:01:00               0.0\n",
              "173  00:02:00               0.0\n",
              "174  00:03:00               0.0\n",
              "175  00:04:00               0.0"
            ]
          },
          "metadata": {
            "tags": []
          },
          "execution_count": 21
        }
      ]
    },
    {
      "cell_type": "markdown",
      "metadata": {
        "papermill": {
          "duration": 0.048048,
          "end_time": "2021-05-31T04:27:08.216913",
          "exception": false,
          "start_time": "2021-05-31T04:27:08.168865",
          "status": "completed"
        },
        "tags": [],
        "id": "wGUMDd3piD08"
      },
      "source": [
        "Add unix timestamp"
      ]
    },
    {
      "cell_type": "code",
      "metadata": {
        "execution": {
          "iopub.execute_input": "2021-05-31T04:27:08.328365Z",
          "iopub.status.busy": "2021-05-31T04:27:08.327065Z",
          "iopub.status.idle": "2021-05-31T04:27:08.336177Z",
          "shell.execute_reply": "2021-05-31T04:27:08.335645Z",
          "shell.execute_reply.started": "2021-05-31T02:39:46.650280Z"
        },
        "papermill": {
          "duration": 0.071034,
          "end_time": "2021-05-31T04:27:08.336281",
          "exception": false,
          "start_time": "2021-05-31T04:27:08.265247",
          "status": "completed"
        },
        "tags": [],
        "id": "UvDNh7dAiD08",
        "outputId": "d081b915-4d34-4dd5-eaa0-efef95ef4651"
      },
      "source": [
        "df_unix = pd.to_datetime(df[\"Timestamp\"],origin='unix')\n",
        "df[\"Timestamp (Unix)\"] = (df_unix - pd.Timestamp(\"1970-01-01\")) // pd.Timedelta('1s')\n",
        "df[\"Timestamp (Unix)\"].head()"
      ],
      "execution_count": null,
      "outputs": [
        {
          "output_type": "execute_result",
          "data": {
            "text/plain": [
              "171    1593993600\n",
              "172    1593993660\n",
              "173    1593993720\n",
              "174    1593993780\n",
              "175    1593993840\n",
              "Name: Timestamp (Unix), dtype: int64"
            ]
          },
          "metadata": {
            "tags": []
          },
          "execution_count": 22
        }
      ]
    },
    {
      "cell_type": "markdown",
      "metadata": {
        "papermill": {
          "duration": 0.047924,
          "end_time": "2021-05-31T04:27:08.432380",
          "exception": false,
          "start_time": "2021-05-31T04:27:08.384456",
          "status": "completed"
        },
        "tags": [],
        "id": "0Apb5r-_iD09"
      },
      "source": [
        "### output csv \n",
        "\n",
        "CSV outPut total_generation(MW) and total_generation(W) and \n",
        "one Timestamp (Unix) and total_generation(W)"
      ]
    },
    {
      "cell_type": "code",
      "metadata": {
        "execution": {
          "iopub.execute_input": "2021-05-31T04:27:08.533956Z",
          "iopub.status.busy": "2021-05-31T04:27:08.533033Z",
          "iopub.status.idle": "2021-05-31T04:27:08.951210Z",
          "shell.execute_reply": "2021-05-31T04:27:08.951763Z",
          "shell.execute_reply.started": "2021-05-31T02:39:46.671262Z"
        },
        "papermill": {
          "duration": 0.471173,
          "end_time": "2021-05-31T04:27:08.951965",
          "exception": false,
          "start_time": "2021-05-31T04:27:08.480792",
          "status": "completed"
        },
        "tags": [],
        "id": "PhAdcdR7iD0-"
      },
      "source": [
        "ot = df\n",
        "ot['total_generation(W)'] = ot['total_generation']*1000000\n",
        "ot.to_csv(Region+'.csv',index=False, header=True)\n",
        "ot.to_csv(Region+'_genunix.csv', columns=['Timestamp (Unix)','total_generation(W)'], index=False, header=True)"
      ],
      "execution_count": null,
      "outputs": []
    },
    {
      "cell_type": "markdown",
      "metadata": {
        "papermill": {
          "duration": 0.047504,
          "end_time": "2021-05-31T04:27:09.047175",
          "exception": false,
          "start_time": "2021-05-31T04:27:08.999671",
          "status": "completed"
        },
        "tags": [],
        "id": "7juZfdlLiD0-"
      },
      "source": [
        "Output date wise"
      ]
    },
    {
      "cell_type": "code",
      "metadata": {
        "execution": {
          "iopub.execute_input": "2021-05-31T04:27:09.147270Z",
          "iopub.status.busy": "2021-05-31T04:27:09.146383Z",
          "iopub.status.idle": "2021-05-31T04:27:09.341291Z",
          "shell.execute_reply": "2021-05-31T04:27:09.340748Z",
          "shell.execute_reply.started": "2021-05-31T02:39:47.000158Z"
        },
        "papermill": {
          "duration": 0.246321,
          "end_time": "2021-05-31T04:27:09.341393",
          "exception": false,
          "start_time": "2021-05-31T04:27:09.095072",
          "status": "completed"
        },
        "tags": [],
        "id": "C5i4_ZNaiD0-",
        "outputId": "f0fe5f58-74c0-4e33-e582-b4bf18ed5f6a"
      },
      "source": [
        "for d in dates:\n",
        "    print(d)\n",
        "    # all the hours in day\n",
        "    ot2 = df[df['DATE']==d]\n",
        "    ot2.to_csv(Region+\"_\"+str(d)+'.csv',index=False, header=True)\n",
        "    ot2.to_csv(Region+'_genunix_'+str(d)+'.csv', columns=['Timestamp (Unix)','total_generation(W)'],index=False, header=True)"
      ],
      "execution_count": null,
      "outputs": [
        {
          "output_type": "stream",
          "text": [
            "2020-07-06\n",
            "2020-07-07\n",
            "2020-07-08\n",
            "2020-07-09\n",
            "2020-07-10\n",
            "2020-07-11\n"
          ],
          "name": "stdout"
        }
      ]
    },
    {
      "cell_type": "code",
      "metadata": {
        "execution": {
          "iopub.execute_input": "2021-05-31T04:27:09.443322Z",
          "iopub.status.busy": "2021-05-31T04:27:09.442419Z",
          "iopub.status.idle": "2021-05-31T04:27:09.445220Z",
          "shell.execute_reply": "2021-05-31T04:27:09.445694Z",
          "shell.execute_reply.started": "2021-05-31T02:39:47.193854Z"
        },
        "papermill": {
          "duration": 0.055755,
          "end_time": "2021-05-31T04:27:09.445829",
          "exception": false,
          "start_time": "2021-05-31T04:27:09.390074",
          "status": "completed"
        },
        "tags": [],
        "id": "hPcLD0wxiD0-"
      },
      "source": [
        "# chats of all days in series \n",
        "\n",
        "# for pp in df_nw['DATE'].unique():\n",
        "# #     print(df_nw[pp])\n",
        "#     print(pp)\n",
        "#     sub_df=df_nw[df_nw['DATE']==pp]\n",
        "#     ax = sub_df.plot(x='HOURS', y=[\"total_generation\"], title = \"Total generation in \"+ Region + \" on \"+ pp.strftime('%B %d, %Y'))\n",
        "#     ax.axhline(y=sub_df[\"total_generation\"].mean(), xmin=-1, xmax=1, color='r', linestyle='--', lw=2)"
      ],
      "execution_count": null,
      "outputs": []
    },
    {
      "cell_type": "markdown",
      "metadata": {
        "papermill": {
          "duration": 0.049941,
          "end_time": "2021-05-31T04:27:09.544067",
          "exception": false,
          "start_time": "2021-05-31T04:27:09.494126",
          "status": "completed"
        },
        "tags": [],
        "id": "WyMqJ7DhiD0_"
      },
      "source": [
        "<a id=\"section-four\"></a>\n",
        "# 4.  Daily graphs"
      ]
    },
    {
      "cell_type": "code",
      "metadata": {
        "execution": {
          "iopub.execute_input": "2021-05-31T04:27:09.646850Z",
          "iopub.status.busy": "2021-05-31T04:27:09.646087Z",
          "iopub.status.idle": "2021-05-31T04:27:09.650227Z",
          "shell.execute_reply": "2021-05-31T04:27:09.649681Z",
          "shell.execute_reply.started": "2021-05-31T02:39:47.197714Z"
        },
        "papermill": {
          "duration": 0.057028,
          "end_time": "2021-05-31T04:27:09.650332",
          "exception": false,
          "start_time": "2021-05-31T04:27:09.593304",
          "status": "completed"
        },
        "tags": [],
        "id": "kfi5y151iD0_",
        "outputId": "8051aaad-ac3a-4ead-a9d6-540d978098a6"
      },
      "source": [
        "column_list"
      ],
      "execution_count": null,
      "outputs": [
        {
          "output_type": "execute_result",
          "data": {
            "text/plain": [
              "('Wind', 'Solar', 'Hydro', 'Other', 'Oil', 'NaturalGas', 'Coal', 'Nuclear')"
            ]
          },
          "metadata": {
            "tags": []
          },
          "execution_count": 26
        }
      ]
    },
    {
      "cell_type": "code",
      "metadata": {
        "execution": {
          "iopub.execute_input": "2021-05-31T04:27:09.753765Z",
          "iopub.status.busy": "2021-05-31T04:27:09.753089Z",
          "iopub.status.idle": "2021-05-31T04:27:10.118381Z",
          "shell.execute_reply": "2021-05-31T04:27:10.117737Z",
          "shell.execute_reply.started": "2021-05-31T02:39:47.203758Z"
        },
        "papermill": {
          "duration": 0.419474,
          "end_time": "2021-05-31T04:27:10.118497",
          "exception": false,
          "start_time": "2021-05-31T04:27:09.699023",
          "status": "completed"
        },
        "tags": [],
        "id": "L1LS4LrwiD0_",
        "outputId": "5ffbe50e-9fec-46f2-f7e7-c15e535a9487"
      },
      "source": [
        "# # Line Chart ( Trend during the day)\n",
        "weekplot = df.plot.line(x='Timestamp (Unix)',\n",
        "                y = ['Wind', 'Solar', 'Hydro', 'Other', 'Oil', 'NaturalGas', 'Coal', 'Nuclear'],\n",
        "                    title = \"Generation in \"+ Region)\n",
        "weekplot.legend(loc='center left', bbox_to_anchor=(1.0, 0.5))"
      ],
      "execution_count": null,
      "outputs": [
        {
          "output_type": "execute_result",
          "data": {
            "text/plain": [
              "<matplotlib.legend.Legend at 0x7fae6d0dbf10>"
            ]
          },
          "metadata": {
            "tags": []
          },
          "execution_count": 27
        },
        {
          "output_type": "display_data",
          "data": {
            "image/png": "[encoded data removed]",
            "text/plain": [
              "<Figure size 432x288 with 1 Axes>"
            ]
          },
          "metadata": {
            "tags": [],
            "needs_background": "light"
          }
        }
      ]
    },
    {
      "cell_type": "markdown",
      "metadata": {
        "papermill": {
          "duration": 0.04958,
          "end_time": "2021-05-31T04:27:10.219180",
          "exception": false,
          "start_time": "2021-05-31T04:27:10.169600",
          "status": "completed"
        },
        "tags": [],
        "id": "_NwGP3EtiD0_"
      },
      "source": [
        "## Daily chart for the week by MINUTES_PASS"
      ]
    },
    {
      "cell_type": "code",
      "metadata": {
        "execution": {
          "iopub.execute_input": "2021-05-31T04:27:10.330636Z",
          "iopub.status.busy": "2021-05-31T04:27:10.329881Z",
          "iopub.status.idle": "2021-05-31T04:27:11.305355Z",
          "shell.execute_reply": "2021-05-31T04:27:11.305809Z",
          "shell.execute_reply.started": "2021-05-31T02:39:47.525808Z"
        },
        "papermill": {
          "duration": 1.036812,
          "end_time": "2021-05-31T04:27:11.305944",
          "exception": false,
          "start_time": "2021-05-31T04:27:10.269132",
          "status": "completed"
        },
        "tags": [],
        "id": "IfvL-XmCiD1A",
        "outputId": "befd2d4c-056a-460f-86c9-af46de8343cb"
      },
      "source": [
        "fig, axs = plt.subplots(nrows=3, ncols=2)\n",
        "fig.set_size_inches(20, 10)\n",
        "fig.subplots_adjust(wspace=0.2)\n",
        "fig.subplots_adjust(hspace=0.5)\n",
        "\n",
        "for pp,ax in zip(dates,axs.flatten()):\n",
        "#     print(df_nw[pp])\n",
        "    print(pp)\n",
        "    sub_df=df[df['DATE']==pp]\n",
        "    sub_df.plot(x='MINUTES_PASS', y=[\"total_generation\"], ax = ax, title = \"Total generation in \"+ Region + \" on \"+ pp.strftime('%B %d, %Y'))\n",
        "    \n",
        "    ax.set_ylabel(\"generation(Mw)\")\n",
        "    \n",
        "    mean_gen = round(sub_df[\"total_generation\"].mean())\n",
        "    max_gen = sub_df[\"total_generation\"].max()\n",
        "    maxh = sub_df.loc[sub_df[\"total_generation\"]== max_gen]\n",
        "    maxh = maxh[\"MINUTES_PASS\"]\n",
        "    ax.axhline(y=mean_gen, xmin=-1, xmax=1, color='r', linestyle='--', lw=2)\n",
        "    \n",
        "    ax.text(5,mean_gen+1000, \"Mean \" + str(mean_gen) + \"(MWh)\" )\n",
        "    \n",
        "    ax.get_legend().remove()\n",
        "    \n",
        "    ax.annotate('Peak '+ str(max_gen)+ \"(MWh)\", xy=(maxh,max_gen), xytext=(maxh+1, max_gen+1000),\n",
        "             arrowprops=dict(arrowstyle='-|>') ,ha='left', rotation=0)\n",
        "    \n",
        "    ax.set_ylim(bottom = 0,top=22000)\n",
        "\n",
        "# ax.axhline(y=df_nw[\"total_generation\"].median(), xmin=-1, xmax=1, color='g', linestyle='--', lw=2)"
      ],
      "execution_count": null,
      "outputs": [
        {
          "output_type": "stream",
          "text": [
            "2020-07-06\n",
            "2020-07-07\n",
            "2020-07-08\n",
            "2020-07-09\n",
            "2020-07-10\n",
            "2020-07-11\n"
          ],
          "name": "stdout"
        },
        {
          "output_type": "display_data",
          "data": {
            "image/png": "[encoded data removed]",
            "text/plain": [
              "<Figure size 1440x720 with 6 Axes>"
            ]
          },
          "metadata": {
            "tags": [],
            "needs_background": "light"
          }
        }
      ]
    },
    {
      "cell_type": "markdown",
      "metadata": {
        "papermill": {
          "duration": 0.052401,
          "end_time": "2021-05-31T04:27:11.411635",
          "exception": false,
          "start_time": "2021-05-31T04:27:11.359234",
          "status": "completed"
        },
        "tags": [],
        "id": "oGvCo0ftiD1A"
      },
      "source": [
        "## Daily chart for the week as per fuel sources by MINUTES_PASS"
      ]
    },
    {
      "cell_type": "code",
      "metadata": {
        "execution": {
          "iopub.execute_input": "2021-05-31T04:27:11.539625Z",
          "iopub.status.busy": "2021-05-31T04:27:11.536087Z",
          "iopub.status.idle": "2021-05-31T04:27:12.993396Z",
          "shell.execute_reply": "2021-05-31T04:27:12.993883Z",
          "shell.execute_reply.started": "2021-05-31T02:39:48.479920Z"
        },
        "papermill": {
          "duration": 1.529752,
          "end_time": "2021-05-31T04:27:12.994019",
          "exception": false,
          "start_time": "2021-05-31T04:27:11.464267",
          "status": "completed"
        },
        "tags": [],
        "id": "7ONSUtsciD1B",
        "outputId": "2fb9f6e9-067a-4784-95f0-9d23e6ae4e53"
      },
      "source": [
        "fig, axs = plt.subplots(nrows=3, ncols=2)\n",
        "fig.set_size_inches(20, 10)\n",
        "fig.subplots_adjust(wspace=0.2)\n",
        "fig.subplots_adjust(hspace=0.5)\n",
        "\n",
        "fig.legend(column_list)\n",
        "    \n",
        "for pp,ax in zip(dates,axs.flatten()):\n",
        "#     print(df_nw[pp])\n",
        "    print(pp)\n",
        "    sub_df = df[df['DATE']==pp]\n",
        "    sub_df.plot.line(x='MINUTES_PASS', y = column_list[0], ax = ax, title = \"Fuel Mix for generation in \"+ Region + \" on \"+ pp.strftime('%B %d, %Y'),legend=False)\n",
        "    sub_df.plot.line(x='MINUTES_PASS', y = column_list[1], ax = ax,legend=False)\n",
        "    sub_df.plot.line(x='MINUTES_PASS', y = column_list[2], ax = ax,legend=False)    \n",
        "    sub_df.plot.line(x='MINUTES_PASS', y = column_list[3], ax = ax,legend=False)\n",
        "    sub_df.plot.line(x='MINUTES_PASS', y = column_list[4], ax = ax,legend=False)\n",
        "    sub_df.plot.line(x='MINUTES_PASS', y = column_list[5], ax = ax,legend=False)\n",
        "    sub_df.plot.line(x='MINUTES_PASS', y = column_list[6], ax = ax,legend=False)\n",
        "    sub_df.plot.line(x='MINUTES_PASS', y = column_list[7], ax = ax,legend=False)\n",
        "    sub_df.plot.line(x='MINUTES_PASS', y =['total_generation'], ax = ax,legend=False)\n",
        "    \n",
        "    ax.set_ylabel(\"generation(Mw)\")\n",
        "    \n",
        "    mean_gen = round(sub_df[\"total_generation\"].mean())\n",
        "    max_gen = sub_df[\"total_generation\"].max()\n",
        "    maxh = sub_df.loc[sub_df[\"total_generation\"]== max_gen]\n",
        "    maxh = maxh[\"MINUTES_PASS\"]\n",
        "    ax.axhline(y=mean_gen, xmin=-1, xmax=1, color='r', linestyle='--', lw=2)\n",
        "    \n",
        "    ax.text(5,mean_gen+1000, \"Mean \" + str(mean_gen) + \"(MW)\" )\n",
        "\n",
        "#     ax.get_legend().remove()\n",
        "    \n",
        "    ax.annotate('Peak '+ str(max_gen)+ \"(MW)\", xy=(maxh,max_gen), xytext=(maxh+1, max_gen+1000),\n",
        "             arrowprops=dict(arrowstyle='-|>') ,ha='left', rotation=0)\n",
        "    \n",
        "    ax.set_ylim(bottom = 0,top=22000)\n",
        "    \n",
        "ax.legend(loc='center left', bbox_to_anchor=(1.0, 0.5))"
      ],
      "execution_count": null,
      "outputs": [
        {
          "output_type": "stream",
          "text": [
            "2020-07-06\n",
            "2020-07-07\n",
            "2020-07-08\n",
            "2020-07-09\n",
            "2020-07-10\n",
            "2020-07-11\n"
          ],
          "name": "stdout"
        },
        {
          "output_type": "execute_result",
          "data": {
            "text/plain": [
              "<matplotlib.legend.Legend at 0x7fae65991150>"
            ]
          },
          "metadata": {
            "tags": []
          },
          "execution_count": 29
        },
        {
          "output_type": "display_data",
          "data": {
            "image/png": "[encoded data removed]",
            "text/plain": [
              "<Figure size 1440x720 with 6 Axes>"
            ]
          },
          "metadata": {
            "tags": [],
            "needs_background": "light"
          }
        }
      ]
    },
    {
      "cell_type": "code",
      "metadata": {
        "execution": {
          "iopub.execute_input": "2021-05-31T04:27:13.114237Z",
          "iopub.status.busy": "2021-05-31T04:27:13.113624Z",
          "iopub.status.idle": "2021-05-31T04:27:13.116887Z",
          "shell.execute_reply": "2021-05-31T04:27:13.116382Z",
          "shell.execute_reply.started": "2021-05-31T02:39:49.972725Z"
        },
        "papermill": {
          "duration": 0.06469,
          "end_time": "2021-05-31T04:27:13.116994",
          "exception": false,
          "start_time": "2021-05-31T04:27:13.052304",
          "status": "completed"
        },
        "tags": [],
        "id": "wo_Xb1S0iD1D"
      },
      "source": [
        "# usage in one day \n",
        "# df_nw.plot(x='HOURS',  kind='hist')\n",
        "\n",
        "# df_nw.plot(x='HOURS', y=[\"Wind Generation (MWh)\",\"Solar Generation (MWh)\",\"Hydro Generation (MWh)\",\"Other Generation (MWh)\", \n",
        "#                         \"Petroleum Generation (MWh)\", \"Natural gas Generation (MWh)\",\"Coal Generation (MWh)\",\"Nuclear Generation (MWh)\"], kind='hist')"
      ],
      "execution_count": null,
      "outputs": []
    },
    {
      "cell_type": "markdown",
      "metadata": {
        "papermill": {
          "duration": 0.057966,
          "end_time": "2021-05-31T04:27:13.233636",
          "exception": false,
          "start_time": "2021-05-31T04:27:13.175670",
          "status": "completed"
        },
        "tags": [],
        "id": "7_crVhFdiD1D"
      },
      "source": [
        "### Peak Minute"
      ]
    },
    {
      "cell_type": "code",
      "metadata": {
        "execution": {
          "iopub.execute_input": "2021-05-31T04:27:13.371805Z",
          "iopub.status.busy": "2021-05-31T04:27:13.370958Z",
          "iopub.status.idle": "2021-05-31T04:27:13.375824Z",
          "shell.execute_reply": "2021-05-31T04:27:13.375242Z",
          "shell.execute_reply.started": "2021-05-31T02:39:49.977974Z"
        },
        "papermill": {
          "duration": 0.083152,
          "end_time": "2021-05-31T04:27:13.375935",
          "exception": false,
          "start_time": "2021-05-31T04:27:13.292783",
          "status": "completed"
        },
        "tags": [],
        "id": "0Mm0kX-4iD1D",
        "outputId": "441ad899-a1dc-4b61-9562-bb07e9732728"
      },
      "source": [
        "## Peak Minute\n",
        "peakmin = df[df[\"total_generation\"] == df[\"total_generation\"].max()]\n",
        "peakmin = peakmin.reset_index(drop=True)\n",
        "peakmin"
      ],
      "execution_count": null,
      "outputs": [
        {
          "output_type": "execute_result",
          "data": {
            "text/html": [
              "<div>\n",
              "<style scoped>\n",
              "    .dataframe tbody tr th:only-of-type {\n",
              "        vertical-align: middle;\n",
              "    }\n",
              "\n",
              "    .dataframe tbody tr th {\n",
              "        vertical-align: top;\n",
              "    }\n",
              "\n",
              "    .dataframe thead th {\n",
              "        text-align: right;\n",
              "    }\n",
              "</style>\n",
              "<table border=\"1\" class=\"dataframe\">\n",
              "  <thead>\n",
              "    <tr style=\"text-align: right;\">\n",
              "      <th></th>\n",
              "      <th>NaturalGas</th>\n",
              "      <th>Nuclear</th>\n",
              "      <th>Hydro</th>\n",
              "      <th>Coal</th>\n",
              "      <th>Oil</th>\n",
              "      <th>Wind</th>\n",
              "      <th>Solar</th>\n",
              "      <th>Other</th>\n",
              "      <th>Timestamp</th>\n",
              "      <th>DATE</th>\n",
              "      <th>TIME</th>\n",
              "      <th>HOURS</th>\n",
              "      <th>MINUTES</th>\n",
              "      <th>MINUTES_PASS</th>\n",
              "      <th>total_generation</th>\n",
              "      <th>Timestamp (Unix)</th>\n",
              "      <th>total_generation(W)</th>\n",
              "    </tr>\n",
              "  </thead>\n",
              "  <tbody>\n",
              "    <tr>\n",
              "      <th>0</th>\n",
              "      <td>14636.0</td>\n",
              "      <td>3322.0</td>\n",
              "      <td>1975.0</td>\n",
              "      <td>16.0</td>\n",
              "      <td>48.0</td>\n",
              "      <td>47.0</td>\n",
              "      <td>127.0</td>\n",
              "      <td>658</td>\n",
              "      <td>2020-07-09 14:01:00</td>\n",
              "      <td>2020-07-09</td>\n",
              "      <td>14:01:00</td>\n",
              "      <td>14</td>\n",
              "      <td>1</td>\n",
              "      <td>841</td>\n",
              "      <td>20829.0</td>\n",
              "      <td>1594303260</td>\n",
              "      <td>2.082900e+10</td>\n",
              "    </tr>\n",
              "  </tbody>\n",
              "</table>\n",
              "</div>"
            ],
            "text/plain": [
              "   NaturalGas  Nuclear   Hydro  Coal   Oil  Wind  Solar  Other  \\\n",
              "0     14636.0   3322.0  1975.0  16.0  48.0  47.0  127.0    658   \n",
              "\n",
              "            Timestamp        DATE      TIME  HOURS  MINUTES  MINUTES_PASS  \\\n",
              "0 2020-07-09 14:01:00  2020-07-09  14:01:00     14        1           841   \n",
              "\n",
              "   total_generation  Timestamp (Unix)  total_generation(W)  \n",
              "0           20829.0        1594303260         2.082900e+10  "
            ]
          },
          "metadata": {
            "tags": []
          },
          "execution_count": 31
        }
      ]
    },
    {
      "cell_type": "markdown",
      "metadata": {
        "papermill": {
          "duration": 0.058106,
          "end_time": "2021-05-31T04:27:13.493507",
          "exception": false,
          "start_time": "2021-05-31T04:27:13.435401",
          "status": "completed"
        },
        "tags": [],
        "id": "SxIpyZsaiD1E"
      },
      "source": [
        "### Peak Hour"
      ]
    },
    {
      "cell_type": "code",
      "metadata": {
        "execution": {
          "iopub.execute_input": "2021-05-31T04:27:13.650741Z",
          "iopub.status.busy": "2021-05-31T04:27:13.645297Z",
          "iopub.status.idle": "2021-05-31T04:27:13.659402Z",
          "shell.execute_reply": "2021-05-31T04:27:13.658921Z",
          "shell.execute_reply.started": "2021-05-31T02:39:50.016505Z"
        },
        "papermill": {
          "duration": 0.106226,
          "end_time": "2021-05-31T04:27:13.659521",
          "exception": false,
          "start_time": "2021-05-31T04:27:13.553295",
          "status": "completed"
        },
        "tags": [],
        "id": "dGStdo24iD1E",
        "outputId": "333b2299-3e5c-4f6c-cb5b-5050f5f649bd"
      },
      "source": [
        "## Peak Hour\n",
        "# df_nw= df_nw[df_nw[\"DATE\"].astype(str) == Date]\n",
        "peakhour = df[(df['HOURS'].values == peakmin.HOURS.values) & (df[\"DATE\"].values == peakmin.DATE.values) ]\n",
        "peakhour"
      ],
      "execution_count": null,
      "outputs": [
        {
          "output_type": "execute_result",
          "data": {
            "text/html": [
              "<div>\n",
              "<style scoped>\n",
              "    .dataframe tbody tr th:only-of-type {\n",
              "        vertical-align: middle;\n",
              "    }\n",
              "\n",
              "    .dataframe tbody tr th {\n",
              "        vertical-align: top;\n",
              "    }\n",
              "\n",
              "    .dataframe thead th {\n",
              "        text-align: right;\n",
              "    }\n",
              "</style>\n",
              "<table border=\"1\" class=\"dataframe\">\n",
              "  <thead>\n",
              "    <tr style=\"text-align: right;\">\n",
              "      <th></th>\n",
              "      <th>NaturalGas</th>\n",
              "      <th>Nuclear</th>\n",
              "      <th>Hydro</th>\n",
              "      <th>Coal</th>\n",
              "      <th>Oil</th>\n",
              "      <th>Wind</th>\n",
              "      <th>Solar</th>\n",
              "      <th>Other</th>\n",
              "      <th>Timestamp</th>\n",
              "      <th>DATE</th>\n",
              "      <th>TIME</th>\n",
              "      <th>HOURS</th>\n",
              "      <th>MINUTES</th>\n",
              "      <th>MINUTES_PASS</th>\n",
              "      <th>total_generation</th>\n",
              "      <th>Timestamp (Unix)</th>\n",
              "      <th>total_generation(W)</th>\n",
              "    </tr>\n",
              "  </thead>\n",
              "  <tbody>\n",
              "    <tr>\n",
              "      <th>891</th>\n",
              "      <td>14616.600000</td>\n",
              "      <td>3322.400000</td>\n",
              "      <td>1973.800000</td>\n",
              "      <td>16.000000</td>\n",
              "      <td>49.800000</td>\n",
              "      <td>46.600000</td>\n",
              "      <td>128.600000</td>\n",
              "      <td>615</td>\n",
              "      <td>2020-07-09 14:00:00</td>\n",
              "      <td>2020-07-09</td>\n",
              "      <td>14:00:00</td>\n",
              "      <td>14</td>\n",
              "      <td>0</td>\n",
              "      <td>840</td>\n",
              "      <td>20768.800000</td>\n",
              "      <td>1594303200</td>\n",
              "      <td>2.076880e+10</td>\n",
              "    </tr>\n",
              "    <tr>\n",
              "      <th>30</th>\n",
              "      <td>14636.000000</td>\n",
              "      <td>3322.000000</td>\n",
              "      <td>1975.000000</td>\n",
              "      <td>16.000000</td>\n",
              "      <td>48.000000</td>\n",
              "      <td>47.000000</td>\n",
              "      <td>127.000000</td>\n",
              "      <td>658</td>\n",
              "      <td>2020-07-09 14:01:00</td>\n",
              "      <td>2020-07-09</td>\n",
              "      <td>14:01:00</td>\n",
              "      <td>14</td>\n",
              "      <td>1</td>\n",
              "      <td>841</td>\n",
              "      <td>20829.000000</td>\n",
              "      <td>1594303260</td>\n",
              "      <td>2.082900e+10</td>\n",
              "    </tr>\n",
              "    <tr>\n",
              "      <th>892</th>\n",
              "      <td>14638.285714</td>\n",
              "      <td>3322.285714</td>\n",
              "      <td>1970.142857</td>\n",
              "      <td>15.142857</td>\n",
              "      <td>46.428571</td>\n",
              "      <td>46.142857</td>\n",
              "      <td>126.571429</td>\n",
              "      <td>615</td>\n",
              "      <td>2020-07-09 14:02:00</td>\n",
              "      <td>2020-07-09</td>\n",
              "      <td>14:02:00</td>\n",
              "      <td>14</td>\n",
              "      <td>2</td>\n",
              "      <td>842</td>\n",
              "      <td>20780.000000</td>\n",
              "      <td>1594303320</td>\n",
              "      <td>2.078000e+10</td>\n",
              "    </tr>\n",
              "    <tr>\n",
              "      <th>893</th>\n",
              "      <td>14640.571429</td>\n",
              "      <td>3322.571429</td>\n",
              "      <td>1965.285714</td>\n",
              "      <td>14.285714</td>\n",
              "      <td>44.857143</td>\n",
              "      <td>45.285714</td>\n",
              "      <td>126.142857</td>\n",
              "      <td>615</td>\n",
              "      <td>2020-07-09 14:03:00</td>\n",
              "      <td>2020-07-09</td>\n",
              "      <td>14:03:00</td>\n",
              "      <td>14</td>\n",
              "      <td>3</td>\n",
              "      <td>843</td>\n",
              "      <td>20774.000000</td>\n",
              "      <td>1594303380</td>\n",
              "      <td>2.077400e+10</td>\n",
              "    </tr>\n",
              "    <tr>\n",
              "      <th>894</th>\n",
              "      <td>14642.857143</td>\n",
              "      <td>3322.857143</td>\n",
              "      <td>1960.428571</td>\n",
              "      <td>13.428571</td>\n",
              "      <td>43.285714</td>\n",
              "      <td>44.428571</td>\n",
              "      <td>125.714286</td>\n",
              "      <td>615</td>\n",
              "      <td>2020-07-09 14:04:00</td>\n",
              "      <td>2020-07-09</td>\n",
              "      <td>14:04:00</td>\n",
              "      <td>14</td>\n",
              "      <td>4</td>\n",
              "      <td>844</td>\n",
              "      <td>20768.000000</td>\n",
              "      <td>1594303440</td>\n",
              "      <td>2.076800e+10</td>\n",
              "    </tr>\n",
              "    <tr>\n",
              "      <th>895</th>\n",
              "      <td>14645.142857</td>\n",
              "      <td>3323.142857</td>\n",
              "      <td>1955.571429</td>\n",
              "      <td>12.571429</td>\n",
              "      <td>41.714286</td>\n",
              "      <td>43.571429</td>\n",
              "      <td>125.285714</td>\n",
              "      <td>614</td>\n",
              "      <td>2020-07-09 14:05:00</td>\n",
              "      <td>2020-07-09</td>\n",
              "      <td>14:05:00</td>\n",
              "      <td>14</td>\n",
              "      <td>5</td>\n",
              "      <td>845</td>\n",
              "      <td>20761.000000</td>\n",
              "      <td>1594303500</td>\n",
              "      <td>2.076100e+10</td>\n",
              "    </tr>\n",
              "    <tr>\n",
              "      <th>896</th>\n",
              "      <td>14647.428571</td>\n",
              "      <td>3323.428571</td>\n",
              "      <td>1950.714286</td>\n",
              "      <td>11.714286</td>\n",
              "      <td>40.142857</td>\n",
              "      <td>42.714286</td>\n",
              "      <td>124.857143</td>\n",
              "      <td>614</td>\n",
              "      <td>2020-07-09 14:06:00</td>\n",
              "      <td>2020-07-09</td>\n",
              "      <td>14:06:00</td>\n",
              "      <td>14</td>\n",
              "      <td>6</td>\n",
              "      <td>846</td>\n",
              "      <td>20755.000000</td>\n",
              "      <td>1594303560</td>\n",
              "      <td>2.075500e+10</td>\n",
              "    </tr>\n",
              "    <tr>\n",
              "      <th>897</th>\n",
              "      <td>14649.714286</td>\n",
              "      <td>3323.714286</td>\n",
              "      <td>1945.857143</td>\n",
              "      <td>10.857143</td>\n",
              "      <td>38.571429</td>\n",
              "      <td>41.857143</td>\n",
              "      <td>124.428571</td>\n",
              "      <td>614</td>\n",
              "      <td>2020-07-09 14:07:00</td>\n",
              "      <td>2020-07-09</td>\n",
              "      <td>14:07:00</td>\n",
              "      <td>14</td>\n",
              "      <td>7</td>\n",
              "      <td>847</td>\n",
              "      <td>20749.000000</td>\n",
              "      <td>1594303620</td>\n",
              "      <td>2.074900e+10</td>\n",
              "    </tr>\n",
              "    <tr>\n",
              "      <th>47</th>\n",
              "      <td>14652.000000</td>\n",
              "      <td>3324.000000</td>\n",
              "      <td>1941.000000</td>\n",
              "      <td>10.000000</td>\n",
              "      <td>37.000000</td>\n",
              "      <td>41.000000</td>\n",
              "      <td>124.000000</td>\n",
              "      <td>657</td>\n",
              "      <td>2020-07-09 14:08:00</td>\n",
              "      <td>2020-07-09</td>\n",
              "      <td>14:08:00</td>\n",
              "      <td>14</td>\n",
              "      <td>8</td>\n",
              "      <td>848</td>\n",
              "      <td>20786.000000</td>\n",
              "      <td>1594303680</td>\n",
              "      <td>2.078600e+10</td>\n",
              "    </tr>\n",
              "    <tr>\n",
              "      <th>898</th>\n",
              "      <td>14657.857143</td>\n",
              "      <td>3324.000000</td>\n",
              "      <td>1941.142857</td>\n",
              "      <td>10.142857</td>\n",
              "      <td>34.857143</td>\n",
              "      <td>40.857143</td>\n",
              "      <td>122.285714</td>\n",
              "      <td>615</td>\n",
              "      <td>2020-07-09 14:09:00</td>\n",
              "      <td>2020-07-09</td>\n",
              "      <td>14:09:00</td>\n",
              "      <td>14</td>\n",
              "      <td>9</td>\n",
              "      <td>849</td>\n",
              "      <td>20746.142857</td>\n",
              "      <td>1594303740</td>\n",
              "      <td>2.074614e+10</td>\n",
              "    </tr>\n",
              "    <tr>\n",
              "      <th>899</th>\n",
              "      <td>14663.714286</td>\n",
              "      <td>3324.000000</td>\n",
              "      <td>1941.285714</td>\n",
              "      <td>10.285714</td>\n",
              "      <td>32.714286</td>\n",
              "      <td>40.714286</td>\n",
              "      <td>120.571429</td>\n",
              "      <td>615</td>\n",
              "      <td>2020-07-09 14:10:00</td>\n",
              "      <td>2020-07-09</td>\n",
              "      <td>14:10:00</td>\n",
              "      <td>14</td>\n",
              "      <td>10</td>\n",
              "      <td>850</td>\n",
              "      <td>20748.285714</td>\n",
              "      <td>1594303800</td>\n",
              "      <td>2.074829e+10</td>\n",
              "    </tr>\n",
              "    <tr>\n",
              "      <th>900</th>\n",
              "      <td>14669.571429</td>\n",
              "      <td>3324.000000</td>\n",
              "      <td>1941.428571</td>\n",
              "      <td>10.428571</td>\n",
              "      <td>30.571429</td>\n",
              "      <td>40.571429</td>\n",
              "      <td>118.857143</td>\n",
              "      <td>615</td>\n",
              "      <td>2020-07-09 14:11:00</td>\n",
              "      <td>2020-07-09</td>\n",
              "      <td>14:11:00</td>\n",
              "      <td>14</td>\n",
              "      <td>11</td>\n",
              "      <td>851</td>\n",
              "      <td>20750.428571</td>\n",
              "      <td>1594303860</td>\n",
              "      <td>2.075043e+10</td>\n",
              "    </tr>\n",
              "    <tr>\n",
              "      <th>901</th>\n",
              "      <td>14675.428571</td>\n",
              "      <td>3324.000000</td>\n",
              "      <td>1941.571429</td>\n",
              "      <td>10.571429</td>\n",
              "      <td>28.428571</td>\n",
              "      <td>40.428571</td>\n",
              "      <td>117.142857</td>\n",
              "      <td>615</td>\n",
              "      <td>2020-07-09 14:12:00</td>\n",
              "      <td>2020-07-09</td>\n",
              "      <td>14:12:00</td>\n",
              "      <td>14</td>\n",
              "      <td>12</td>\n",
              "      <td>852</td>\n",
              "      <td>20752.571429</td>\n",
              "      <td>1594303920</td>\n",
              "      <td>2.075257e+10</td>\n",
              "    </tr>\n",
              "    <tr>\n",
              "      <th>902</th>\n",
              "      <td>14681.285714</td>\n",
              "      <td>3324.000000</td>\n",
              "      <td>1941.714286</td>\n",
              "      <td>10.714286</td>\n",
              "      <td>26.285714</td>\n",
              "      <td>40.285714</td>\n",
              "      <td>115.428571</td>\n",
              "      <td>615</td>\n",
              "      <td>2020-07-09 14:13:00</td>\n",
              "      <td>2020-07-09</td>\n",
              "      <td>14:13:00</td>\n",
              "      <td>14</td>\n",
              "      <td>13</td>\n",
              "      <td>853</td>\n",
              "      <td>20754.714286</td>\n",
              "      <td>1594303980</td>\n",
              "      <td>2.075471e+10</td>\n",
              "    </tr>\n",
              "    <tr>\n",
              "      <th>903</th>\n",
              "      <td>14687.142857</td>\n",
              "      <td>3324.000000</td>\n",
              "      <td>1941.857143</td>\n",
              "      <td>10.857143</td>\n",
              "      <td>24.142857</td>\n",
              "      <td>40.142857</td>\n",
              "      <td>113.714286</td>\n",
              "      <td>615</td>\n",
              "      <td>2020-07-09 14:14:00</td>\n",
              "      <td>2020-07-09</td>\n",
              "      <td>14:14:00</td>\n",
              "      <td>14</td>\n",
              "      <td>14</td>\n",
              "      <td>854</td>\n",
              "      <td>20756.857143</td>\n",
              "      <td>1594304040</td>\n",
              "      <td>2.075686e+10</td>\n",
              "    </tr>\n",
              "    <tr>\n",
              "      <th>32</th>\n",
              "      <td>14693.000000</td>\n",
              "      <td>3324.000000</td>\n",
              "      <td>1942.000000</td>\n",
              "      <td>11.000000</td>\n",
              "      <td>22.000000</td>\n",
              "      <td>40.000000</td>\n",
              "      <td>112.000000</td>\n",
              "      <td>658</td>\n",
              "      <td>2020-07-09 14:15:00</td>\n",
              "      <td>2020-07-09</td>\n",
              "      <td>14:15:00</td>\n",
              "      <td>14</td>\n",
              "      <td>15</td>\n",
              "      <td>855</td>\n",
              "      <td>20802.000000</td>\n",
              "      <td>1594304100</td>\n",
              "      <td>2.080200e+10</td>\n",
              "    </tr>\n",
              "    <tr>\n",
              "      <th>904</th>\n",
              "      <td>14692.777778</td>\n",
              "      <td>3324.000000</td>\n",
              "      <td>1929.777778</td>\n",
              "      <td>10.555556</td>\n",
              "      <td>22.000000</td>\n",
              "      <td>40.000000</td>\n",
              "      <td>112.222222</td>\n",
              "      <td>615</td>\n",
              "      <td>2020-07-09 14:16:00</td>\n",
              "      <td>2020-07-09</td>\n",
              "      <td>14:16:00</td>\n",
              "      <td>14</td>\n",
              "      <td>16</td>\n",
              "      <td>856</td>\n",
              "      <td>20746.333333</td>\n",
              "      <td>1594304160</td>\n",
              "      <td>2.074633e+10</td>\n",
              "    </tr>\n",
              "    <tr>\n",
              "      <th>905</th>\n",
              "      <td>14692.555556</td>\n",
              "      <td>3324.000000</td>\n",
              "      <td>1917.555556</td>\n",
              "      <td>10.111111</td>\n",
              "      <td>22.000000</td>\n",
              "      <td>40.000000</td>\n",
              "      <td>112.444444</td>\n",
              "      <td>615</td>\n",
              "      <td>2020-07-09 14:17:00</td>\n",
              "      <td>2020-07-09</td>\n",
              "      <td>14:17:00</td>\n",
              "      <td>14</td>\n",
              "      <td>17</td>\n",
              "      <td>857</td>\n",
              "      <td>20733.666667</td>\n",
              "      <td>1594304220</td>\n",
              "      <td>2.073367e+10</td>\n",
              "    </tr>\n",
              "    <tr>\n",
              "      <th>906</th>\n",
              "      <td>14692.333333</td>\n",
              "      <td>3324.000000</td>\n",
              "      <td>1905.333333</td>\n",
              "      <td>9.666667</td>\n",
              "      <td>22.000000</td>\n",
              "      <td>40.000000</td>\n",
              "      <td>112.666667</td>\n",
              "      <td>615</td>\n",
              "      <td>2020-07-09 14:18:00</td>\n",
              "      <td>2020-07-09</td>\n",
              "      <td>14:18:00</td>\n",
              "      <td>14</td>\n",
              "      <td>18</td>\n",
              "      <td>858</td>\n",
              "      <td>20721.000000</td>\n",
              "      <td>1594304280</td>\n",
              "      <td>2.072100e+10</td>\n",
              "    </tr>\n",
              "    <tr>\n",
              "      <th>907</th>\n",
              "      <td>14692.111111</td>\n",
              "      <td>3324.000000</td>\n",
              "      <td>1893.111111</td>\n",
              "      <td>9.222222</td>\n",
              "      <td>22.000000</td>\n",
              "      <td>40.000000</td>\n",
              "      <td>112.888889</td>\n",
              "      <td>614</td>\n",
              "      <td>2020-07-09 14:19:00</td>\n",
              "      <td>2020-07-09</td>\n",
              "      <td>14:19:00</td>\n",
              "      <td>14</td>\n",
              "      <td>19</td>\n",
              "      <td>859</td>\n",
              "      <td>20707.333333</td>\n",
              "      <td>1594304340</td>\n",
              "      <td>2.070733e+10</td>\n",
              "    </tr>\n",
              "    <tr>\n",
              "      <th>908</th>\n",
              "      <td>14691.888889</td>\n",
              "      <td>3324.000000</td>\n",
              "      <td>1880.888889</td>\n",
              "      <td>8.777778</td>\n",
              "      <td>22.000000</td>\n",
              "      <td>40.000000</td>\n",
              "      <td>113.111111</td>\n",
              "      <td>615</td>\n",
              "      <td>2020-07-09 14:20:00</td>\n",
              "      <td>2020-07-09</td>\n",
              "      <td>14:20:00</td>\n",
              "      <td>14</td>\n",
              "      <td>20</td>\n",
              "      <td>860</td>\n",
              "      <td>20695.666667</td>\n",
              "      <td>1594304400</td>\n",
              "      <td>2.069567e+10</td>\n",
              "    </tr>\n",
              "    <tr>\n",
              "      <th>909</th>\n",
              "      <td>14691.666667</td>\n",
              "      <td>3324.000000</td>\n",
              "      <td>1868.666667</td>\n",
              "      <td>8.333333</td>\n",
              "      <td>22.000000</td>\n",
              "      <td>40.000000</td>\n",
              "      <td>113.333333</td>\n",
              "      <td>615</td>\n",
              "      <td>2020-07-09 14:21:00</td>\n",
              "      <td>2020-07-09</td>\n",
              "      <td>14:21:00</td>\n",
              "      <td>14</td>\n",
              "      <td>21</td>\n",
              "      <td>861</td>\n",
              "      <td>20683.000000</td>\n",
              "      <td>1594304460</td>\n",
              "      <td>2.068300e+10</td>\n",
              "    </tr>\n",
              "    <tr>\n",
              "      <th>910</th>\n",
              "      <td>14691.444444</td>\n",
              "      <td>3324.000000</td>\n",
              "      <td>1856.444444</td>\n",
              "      <td>7.888889</td>\n",
              "      <td>22.000000</td>\n",
              "      <td>40.000000</td>\n",
              "      <td>113.555556</td>\n",
              "      <td>614</td>\n",
              "      <td>2020-07-09 14:22:00</td>\n",
              "      <td>2020-07-09</td>\n",
              "      <td>14:22:00</td>\n",
              "      <td>14</td>\n",
              "      <td>22</td>\n",
              "      <td>862</td>\n",
              "      <td>20669.333333</td>\n",
              "      <td>1594304520</td>\n",
              "      <td>2.066933e+10</td>\n",
              "    </tr>\n",
              "    <tr>\n",
              "      <th>911</th>\n",
              "      <td>14691.222222</td>\n",
              "      <td>3324.000000</td>\n",
              "      <td>1844.222222</td>\n",
              "      <td>7.444444</td>\n",
              "      <td>22.000000</td>\n",
              "      <td>40.000000</td>\n",
              "      <td>113.777778</td>\n",
              "      <td>614</td>\n",
              "      <td>2020-07-09 14:23:00</td>\n",
              "      <td>2020-07-09</td>\n",
              "      <td>14:23:00</td>\n",
              "      <td>14</td>\n",
              "      <td>23</td>\n",
              "      <td>863</td>\n",
              "      <td>20656.666667</td>\n",
              "      <td>1594304580</td>\n",
              "      <td>2.065667e+10</td>\n",
              "    </tr>\n",
              "    <tr>\n",
              "      <th>62</th>\n",
              "      <td>14691.000000</td>\n",
              "      <td>3324.000000</td>\n",
              "      <td>1832.000000</td>\n",
              "      <td>7.000000</td>\n",
              "      <td>22.000000</td>\n",
              "      <td>40.000000</td>\n",
              "      <td>114.000000</td>\n",
              "      <td>663</td>\n",
              "      <td>2020-07-09 14:24:00</td>\n",
              "      <td>2020-07-09</td>\n",
              "      <td>14:24:00</td>\n",
              "      <td>14</td>\n",
              "      <td>24</td>\n",
              "      <td>864</td>\n",
              "      <td>20693.000000</td>\n",
              "      <td>1594304640</td>\n",
              "      <td>2.069300e+10</td>\n",
              "    </tr>\n",
              "    <tr>\n",
              "      <th>912</th>\n",
              "      <td>14698.500000</td>\n",
              "      <td>3324.062500</td>\n",
              "      <td>1831.625000</td>\n",
              "      <td>7.312500</td>\n",
              "      <td>22.000000</td>\n",
              "      <td>40.125000</td>\n",
              "      <td>112.937500</td>\n",
              "      <td>614</td>\n",
              "      <td>2020-07-09 14:25:00</td>\n",
              "      <td>2020-07-09</td>\n",
              "      <td>14:25:00</td>\n",
              "      <td>14</td>\n",
              "      <td>25</td>\n",
              "      <td>865</td>\n",
              "      <td>20650.562500</td>\n",
              "      <td>1594304700</td>\n",
              "      <td>2.065056e+10</td>\n",
              "    </tr>\n",
              "    <tr>\n",
              "      <th>913</th>\n",
              "      <td>14706.000000</td>\n",
              "      <td>3324.125000</td>\n",
              "      <td>1831.250000</td>\n",
              "      <td>7.625000</td>\n",
              "      <td>22.000000</td>\n",
              "      <td>40.250000</td>\n",
              "      <td>111.875000</td>\n",
              "      <td>614</td>\n",
              "      <td>2020-07-09 14:26:00</td>\n",
              "      <td>2020-07-09</td>\n",
              "      <td>14:26:00</td>\n",
              "      <td>14</td>\n",
              "      <td>26</td>\n",
              "      <td>866</td>\n",
              "      <td>20657.125000</td>\n",
              "      <td>1594304760</td>\n",
              "      <td>2.065712e+10</td>\n",
              "    </tr>\n",
              "    <tr>\n",
              "      <th>914</th>\n",
              "      <td>14713.500000</td>\n",
              "      <td>3324.187500</td>\n",
              "      <td>1830.875000</td>\n",
              "      <td>7.937500</td>\n",
              "      <td>22.000000</td>\n",
              "      <td>40.375000</td>\n",
              "      <td>110.812500</td>\n",
              "      <td>614</td>\n",
              "      <td>2020-07-09 14:27:00</td>\n",
              "      <td>2020-07-09</td>\n",
              "      <td>14:27:00</td>\n",
              "      <td>14</td>\n",
              "      <td>27</td>\n",
              "      <td>867</td>\n",
              "      <td>20663.687500</td>\n",
              "      <td>1594304820</td>\n",
              "      <td>2.066369e+10</td>\n",
              "    </tr>\n",
              "    <tr>\n",
              "      <th>915</th>\n",
              "      <td>14721.000000</td>\n",
              "      <td>3324.250000</td>\n",
              "      <td>1830.500000</td>\n",
              "      <td>8.250000</td>\n",
              "      <td>22.000000</td>\n",
              "      <td>40.500000</td>\n",
              "      <td>109.750000</td>\n",
              "      <td>615</td>\n",
              "      <td>2020-07-09 14:28:00</td>\n",
              "      <td>2020-07-09</td>\n",
              "      <td>14:28:00</td>\n",
              "      <td>14</td>\n",
              "      <td>28</td>\n",
              "      <td>868</td>\n",
              "      <td>20671.250000</td>\n",
              "      <td>1594304880</td>\n",
              "      <td>2.067125e+10</td>\n",
              "    </tr>\n",
              "    <tr>\n",
              "      <th>916</th>\n",
              "      <td>14728.500000</td>\n",
              "      <td>3324.312500</td>\n",
              "      <td>1830.125000</td>\n",
              "      <td>8.562500</td>\n",
              "      <td>22.000000</td>\n",
              "      <td>40.625000</td>\n",
              "      <td>108.687500</td>\n",
              "      <td>615</td>\n",
              "      <td>2020-07-09 14:29:00</td>\n",
              "      <td>2020-07-09</td>\n",
              "      <td>14:29:00</td>\n",
              "      <td>14</td>\n",
              "      <td>29</td>\n",
              "      <td>869</td>\n",
              "      <td>20677.812500</td>\n",
              "      <td>1594304940</td>\n",
              "      <td>2.067781e+10</td>\n",
              "    </tr>\n",
              "    <tr>\n",
              "      <th>917</th>\n",
              "      <td>14736.000000</td>\n",
              "      <td>3324.375000</td>\n",
              "      <td>1829.750000</td>\n",
              "      <td>8.875000</td>\n",
              "      <td>22.000000</td>\n",
              "      <td>40.750000</td>\n",
              "      <td>107.625000</td>\n",
              "      <td>615</td>\n",
              "      <td>2020-07-09 14:30:00</td>\n",
              "      <td>2020-07-09</td>\n",
              "      <td>14:30:00</td>\n",
              "      <td>14</td>\n",
              "      <td>30</td>\n",
              "      <td>870</td>\n",
              "      <td>20684.375000</td>\n",
              "      <td>1594305000</td>\n",
              "      <td>2.068438e+10</td>\n",
              "    </tr>\n",
              "    <tr>\n",
              "      <th>918</th>\n",
              "      <td>14743.500000</td>\n",
              "      <td>3324.437500</td>\n",
              "      <td>1829.375000</td>\n",
              "      <td>9.187500</td>\n",
              "      <td>22.000000</td>\n",
              "      <td>40.875000</td>\n",
              "      <td>106.562500</td>\n",
              "      <td>616</td>\n",
              "      <td>2020-07-09 14:31:00</td>\n",
              "      <td>2020-07-09</td>\n",
              "      <td>14:31:00</td>\n",
              "      <td>14</td>\n",
              "      <td>31</td>\n",
              "      <td>871</td>\n",
              "      <td>20691.937500</td>\n",
              "      <td>1594305060</td>\n",
              "      <td>2.069194e+10</td>\n",
              "    </tr>\n",
              "    <tr>\n",
              "      <th>919</th>\n",
              "      <td>14751.000000</td>\n",
              "      <td>3324.500000</td>\n",
              "      <td>1829.000000</td>\n",
              "      <td>9.500000</td>\n",
              "      <td>22.000000</td>\n",
              "      <td>41.000000</td>\n",
              "      <td>105.500000</td>\n",
              "      <td>616</td>\n",
              "      <td>2020-07-09 14:32:00</td>\n",
              "      <td>2020-07-09</td>\n",
              "      <td>14:32:00</td>\n",
              "      <td>14</td>\n",
              "      <td>32</td>\n",
              "      <td>872</td>\n",
              "      <td>20698.500000</td>\n",
              "      <td>1594305120</td>\n",
              "      <td>2.069850e+10</td>\n",
              "    </tr>\n",
              "    <tr>\n",
              "      <th>920</th>\n",
              "      <td>14758.500000</td>\n",
              "      <td>3324.562500</td>\n",
              "      <td>1828.625000</td>\n",
              "      <td>9.812500</td>\n",
              "      <td>22.000000</td>\n",
              "      <td>41.125000</td>\n",
              "      <td>104.437500</td>\n",
              "      <td>616</td>\n",
              "      <td>2020-07-09 14:33:00</td>\n",
              "      <td>2020-07-09</td>\n",
              "      <td>14:33:00</td>\n",
              "      <td>14</td>\n",
              "      <td>33</td>\n",
              "      <td>873</td>\n",
              "      <td>20705.062500</td>\n",
              "      <td>1594305180</td>\n",
              "      <td>2.070506e+10</td>\n",
              "    </tr>\n",
              "    <tr>\n",
              "      <th>921</th>\n",
              "      <td>14766.000000</td>\n",
              "      <td>3324.625000</td>\n",
              "      <td>1828.250000</td>\n",
              "      <td>10.125000</td>\n",
              "      <td>22.000000</td>\n",
              "      <td>41.250000</td>\n",
              "      <td>103.375000</td>\n",
              "      <td>617</td>\n",
              "      <td>2020-07-09 14:34:00</td>\n",
              "      <td>2020-07-09</td>\n",
              "      <td>14:34:00</td>\n",
              "      <td>14</td>\n",
              "      <td>34</td>\n",
              "      <td>874</td>\n",
              "      <td>20712.625000</td>\n",
              "      <td>1594305240</td>\n",
              "      <td>2.071262e+10</td>\n",
              "    </tr>\n",
              "    <tr>\n",
              "      <th>922</th>\n",
              "      <td>14773.500000</td>\n",
              "      <td>3324.687500</td>\n",
              "      <td>1827.875000</td>\n",
              "      <td>10.437500</td>\n",
              "      <td>22.000000</td>\n",
              "      <td>41.375000</td>\n",
              "      <td>102.312500</td>\n",
              "      <td>617</td>\n",
              "      <td>2020-07-09 14:35:00</td>\n",
              "      <td>2020-07-09</td>\n",
              "      <td>14:35:00</td>\n",
              "      <td>14</td>\n",
              "      <td>35</td>\n",
              "      <td>875</td>\n",
              "      <td>20719.187500</td>\n",
              "      <td>1594305300</td>\n",
              "      <td>2.071919e+10</td>\n",
              "    </tr>\n",
              "    <tr>\n",
              "      <th>923</th>\n",
              "      <td>14781.000000</td>\n",
              "      <td>3324.750000</td>\n",
              "      <td>1827.500000</td>\n",
              "      <td>10.750000</td>\n",
              "      <td>22.000000</td>\n",
              "      <td>41.500000</td>\n",
              "      <td>101.250000</td>\n",
              "      <td>617</td>\n",
              "      <td>2020-07-09 14:36:00</td>\n",
              "      <td>2020-07-09</td>\n",
              "      <td>14:36:00</td>\n",
              "      <td>14</td>\n",
              "      <td>36</td>\n",
              "      <td>876</td>\n",
              "      <td>20725.750000</td>\n",
              "      <td>1594305360</td>\n",
              "      <td>2.072575e+10</td>\n",
              "    </tr>\n",
              "    <tr>\n",
              "      <th>924</th>\n",
              "      <td>14788.500000</td>\n",
              "      <td>3324.812500</td>\n",
              "      <td>1827.125000</td>\n",
              "      <td>11.062500</td>\n",
              "      <td>22.000000</td>\n",
              "      <td>41.625000</td>\n",
              "      <td>100.187500</td>\n",
              "      <td>618</td>\n",
              "      <td>2020-07-09 14:37:00</td>\n",
              "      <td>2020-07-09</td>\n",
              "      <td>14:37:00</td>\n",
              "      <td>14</td>\n",
              "      <td>37</td>\n",
              "      <td>877</td>\n",
              "      <td>20733.312500</td>\n",
              "      <td>1594305420</td>\n",
              "      <td>2.073331e+10</td>\n",
              "    </tr>\n",
              "    <tr>\n",
              "      <th>925</th>\n",
              "      <td>14796.000000</td>\n",
              "      <td>3324.875000</td>\n",
              "      <td>1826.750000</td>\n",
              "      <td>11.375000</td>\n",
              "      <td>22.000000</td>\n",
              "      <td>41.750000</td>\n",
              "      <td>99.125000</td>\n",
              "      <td>618</td>\n",
              "      <td>2020-07-09 14:38:00</td>\n",
              "      <td>2020-07-09</td>\n",
              "      <td>14:38:00</td>\n",
              "      <td>14</td>\n",
              "      <td>38</td>\n",
              "      <td>878</td>\n",
              "      <td>20739.875000</td>\n",
              "      <td>1594305480</td>\n",
              "      <td>2.073988e+10</td>\n",
              "    </tr>\n",
              "    <tr>\n",
              "      <th>926</th>\n",
              "      <td>14803.500000</td>\n",
              "      <td>3324.937500</td>\n",
              "      <td>1826.375000</td>\n",
              "      <td>11.687500</td>\n",
              "      <td>22.000000</td>\n",
              "      <td>41.875000</td>\n",
              "      <td>98.062500</td>\n",
              "      <td>618</td>\n",
              "      <td>2020-07-09 14:39:00</td>\n",
              "      <td>2020-07-09</td>\n",
              "      <td>14:39:00</td>\n",
              "      <td>14</td>\n",
              "      <td>39</td>\n",
              "      <td>879</td>\n",
              "      <td>20746.437500</td>\n",
              "      <td>1594305540</td>\n",
              "      <td>2.074644e+10</td>\n",
              "    </tr>\n",
              "    <tr>\n",
              "      <th>61</th>\n",
              "      <td>14811.000000</td>\n",
              "      <td>3325.000000</td>\n",
              "      <td>1826.000000</td>\n",
              "      <td>12.000000</td>\n",
              "      <td>22.000000</td>\n",
              "      <td>42.000000</td>\n",
              "      <td>97.000000</td>\n",
              "      <td>669</td>\n",
              "      <td>2020-07-09 14:40:00</td>\n",
              "      <td>2020-07-09</td>\n",
              "      <td>14:40:00</td>\n",
              "      <td>14</td>\n",
              "      <td>40</td>\n",
              "      <td>880</td>\n",
              "      <td>20804.000000</td>\n",
              "      <td>1594305600</td>\n",
              "      <td>2.080400e+10</td>\n",
              "    </tr>\n",
              "    <tr>\n",
              "      <th>927</th>\n",
              "      <td>14813.642857</td>\n",
              "      <td>3324.928571</td>\n",
              "      <td>1826.214286</td>\n",
              "      <td>12.000000</td>\n",
              "      <td>22.000000</td>\n",
              "      <td>41.857143</td>\n",
              "      <td>96.357143</td>\n",
              "      <td>617</td>\n",
              "      <td>2020-07-09 14:41:00</td>\n",
              "      <td>2020-07-09</td>\n",
              "      <td>14:41:00</td>\n",
              "      <td>14</td>\n",
              "      <td>41</td>\n",
              "      <td>881</td>\n",
              "      <td>20754.000000</td>\n",
              "      <td>1594305660</td>\n",
              "      <td>2.075400e+10</td>\n",
              "    </tr>\n",
              "    <tr>\n",
              "      <th>928</th>\n",
              "      <td>14816.285714</td>\n",
              "      <td>3324.857143</td>\n",
              "      <td>1826.428571</td>\n",
              "      <td>12.000000</td>\n",
              "      <td>22.000000</td>\n",
              "      <td>41.714286</td>\n",
              "      <td>95.714286</td>\n",
              "      <td>617</td>\n",
              "      <td>2020-07-09 14:42:00</td>\n",
              "      <td>2020-07-09</td>\n",
              "      <td>14:42:00</td>\n",
              "      <td>14</td>\n",
              "      <td>42</td>\n",
              "      <td>882</td>\n",
              "      <td>20756.000000</td>\n",
              "      <td>1594305720</td>\n",
              "      <td>2.075600e+10</td>\n",
              "    </tr>\n",
              "    <tr>\n",
              "      <th>929</th>\n",
              "      <td>14818.928571</td>\n",
              "      <td>3324.785714</td>\n",
              "      <td>1826.642857</td>\n",
              "      <td>12.000000</td>\n",
              "      <td>22.000000</td>\n",
              "      <td>41.571429</td>\n",
              "      <td>95.071429</td>\n",
              "      <td>616</td>\n",
              "      <td>2020-07-09 14:43:00</td>\n",
              "      <td>2020-07-09</td>\n",
              "      <td>14:43:00</td>\n",
              "      <td>14</td>\n",
              "      <td>43</td>\n",
              "      <td>883</td>\n",
              "      <td>20757.000000</td>\n",
              "      <td>1594305780</td>\n",
              "      <td>2.075700e+10</td>\n",
              "    </tr>\n",
              "    <tr>\n",
              "      <th>930</th>\n",
              "      <td>14821.571429</td>\n",
              "      <td>3324.714286</td>\n",
              "      <td>1826.857143</td>\n",
              "      <td>12.000000</td>\n",
              "      <td>22.000000</td>\n",
              "      <td>41.428571</td>\n",
              "      <td>94.428571</td>\n",
              "      <td>616</td>\n",
              "      <td>2020-07-09 14:44:00</td>\n",
              "      <td>2020-07-09</td>\n",
              "      <td>14:44:00</td>\n",
              "      <td>14</td>\n",
              "      <td>44</td>\n",
              "      <td>884</td>\n",
              "      <td>20759.000000</td>\n",
              "      <td>1594305840</td>\n",
              "      <td>2.075900e+10</td>\n",
              "    </tr>\n",
              "    <tr>\n",
              "      <th>931</th>\n",
              "      <td>14824.214286</td>\n",
              "      <td>3324.642857</td>\n",
              "      <td>1827.071429</td>\n",
              "      <td>12.000000</td>\n",
              "      <td>22.000000</td>\n",
              "      <td>41.285714</td>\n",
              "      <td>93.785714</td>\n",
              "      <td>615</td>\n",
              "      <td>2020-07-09 14:45:00</td>\n",
              "      <td>2020-07-09</td>\n",
              "      <td>14:45:00</td>\n",
              "      <td>14</td>\n",
              "      <td>45</td>\n",
              "      <td>885</td>\n",
              "      <td>20760.000000</td>\n",
              "      <td>1594305900</td>\n",
              "      <td>2.076000e+10</td>\n",
              "    </tr>\n",
              "    <tr>\n",
              "      <th>932</th>\n",
              "      <td>14826.857143</td>\n",
              "      <td>3324.571429</td>\n",
              "      <td>1827.285714</td>\n",
              "      <td>12.000000</td>\n",
              "      <td>22.000000</td>\n",
              "      <td>41.142857</td>\n",
              "      <td>93.142857</td>\n",
              "      <td>614</td>\n",
              "      <td>2020-07-09 14:46:00</td>\n",
              "      <td>2020-07-09</td>\n",
              "      <td>14:46:00</td>\n",
              "      <td>14</td>\n",
              "      <td>46</td>\n",
              "      <td>886</td>\n",
              "      <td>20761.000000</td>\n",
              "      <td>1594305960</td>\n",
              "      <td>2.076100e+10</td>\n",
              "    </tr>\n",
              "    <tr>\n",
              "      <th>933</th>\n",
              "      <td>14829.500000</td>\n",
              "      <td>3324.500000</td>\n",
              "      <td>1827.500000</td>\n",
              "      <td>12.000000</td>\n",
              "      <td>22.000000</td>\n",
              "      <td>41.000000</td>\n",
              "      <td>92.500000</td>\n",
              "      <td>614</td>\n",
              "      <td>2020-07-09 14:47:00</td>\n",
              "      <td>2020-07-09</td>\n",
              "      <td>14:47:00</td>\n",
              "      <td>14</td>\n",
              "      <td>47</td>\n",
              "      <td>887</td>\n",
              "      <td>20763.000000</td>\n",
              "      <td>1594306020</td>\n",
              "      <td>2.076300e+10</td>\n",
              "    </tr>\n",
              "    <tr>\n",
              "      <th>934</th>\n",
              "      <td>14832.142857</td>\n",
              "      <td>3324.428571</td>\n",
              "      <td>1827.714286</td>\n",
              "      <td>12.000000</td>\n",
              "      <td>22.000000</td>\n",
              "      <td>40.857143</td>\n",
              "      <td>91.857143</td>\n",
              "      <td>614</td>\n",
              "      <td>2020-07-09 14:48:00</td>\n",
              "      <td>2020-07-09</td>\n",
              "      <td>14:48:00</td>\n",
              "      <td>14</td>\n",
              "      <td>48</td>\n",
              "      <td>888</td>\n",
              "      <td>20765.000000</td>\n",
              "      <td>1594306080</td>\n",
              "      <td>2.076500e+10</td>\n",
              "    </tr>\n",
              "    <tr>\n",
              "      <th>935</th>\n",
              "      <td>14834.785714</td>\n",
              "      <td>3324.357143</td>\n",
              "      <td>1827.928571</td>\n",
              "      <td>12.000000</td>\n",
              "      <td>22.000000</td>\n",
              "      <td>40.714286</td>\n",
              "      <td>91.214286</td>\n",
              "      <td>613</td>\n",
              "      <td>2020-07-09 14:49:00</td>\n",
              "      <td>2020-07-09</td>\n",
              "      <td>14:49:00</td>\n",
              "      <td>14</td>\n",
              "      <td>49</td>\n",
              "      <td>889</td>\n",
              "      <td>20766.000000</td>\n",
              "      <td>1594306140</td>\n",
              "      <td>2.076600e+10</td>\n",
              "    </tr>\n",
              "    <tr>\n",
              "      <th>936</th>\n",
              "      <td>14837.428571</td>\n",
              "      <td>3324.285714</td>\n",
              "      <td>1828.142857</td>\n",
              "      <td>12.000000</td>\n",
              "      <td>22.000000</td>\n",
              "      <td>40.571429</td>\n",
              "      <td>90.571429</td>\n",
              "      <td>612</td>\n",
              "      <td>2020-07-09 14:50:00</td>\n",
              "      <td>2020-07-09</td>\n",
              "      <td>14:50:00</td>\n",
              "      <td>14</td>\n",
              "      <td>50</td>\n",
              "      <td>890</td>\n",
              "      <td>20767.000000</td>\n",
              "      <td>1594306200</td>\n",
              "      <td>2.076700e+10</td>\n",
              "    </tr>\n",
              "    <tr>\n",
              "      <th>937</th>\n",
              "      <td>14840.071429</td>\n",
              "      <td>3324.214286</td>\n",
              "      <td>1828.357143</td>\n",
              "      <td>12.000000</td>\n",
              "      <td>22.000000</td>\n",
              "      <td>40.428571</td>\n",
              "      <td>89.928571</td>\n",
              "      <td>612</td>\n",
              "      <td>2020-07-09 14:51:00</td>\n",
              "      <td>2020-07-09</td>\n",
              "      <td>14:51:00</td>\n",
              "      <td>14</td>\n",
              "      <td>51</td>\n",
              "      <td>891</td>\n",
              "      <td>20769.000000</td>\n",
              "      <td>1594306260</td>\n",
              "      <td>2.076900e+10</td>\n",
              "    </tr>\n",
              "    <tr>\n",
              "      <th>938</th>\n",
              "      <td>14842.714286</td>\n",
              "      <td>3324.142857</td>\n",
              "      <td>1828.571429</td>\n",
              "      <td>12.000000</td>\n",
              "      <td>22.000000</td>\n",
              "      <td>40.285714</td>\n",
              "      <td>89.285714</td>\n",
              "      <td>611</td>\n",
              "      <td>2020-07-09 14:52:00</td>\n",
              "      <td>2020-07-09</td>\n",
              "      <td>14:52:00</td>\n",
              "      <td>14</td>\n",
              "      <td>52</td>\n",
              "      <td>892</td>\n",
              "      <td>20770.000000</td>\n",
              "      <td>1594306320</td>\n",
              "      <td>2.077000e+10</td>\n",
              "    </tr>\n",
              "    <tr>\n",
              "      <th>939</th>\n",
              "      <td>14845.357143</td>\n",
              "      <td>3324.071429</td>\n",
              "      <td>1828.785714</td>\n",
              "      <td>12.000000</td>\n",
              "      <td>22.000000</td>\n",
              "      <td>40.142857</td>\n",
              "      <td>88.642857</td>\n",
              "      <td>611</td>\n",
              "      <td>2020-07-09 14:53:00</td>\n",
              "      <td>2020-07-09</td>\n",
              "      <td>14:53:00</td>\n",
              "      <td>14</td>\n",
              "      <td>53</td>\n",
              "      <td>893</td>\n",
              "      <td>20772.000000</td>\n",
              "      <td>1594306380</td>\n",
              "      <td>2.077200e+10</td>\n",
              "    </tr>\n",
              "    <tr>\n",
              "      <th>31</th>\n",
              "      <td>14848.000000</td>\n",
              "      <td>3324.000000</td>\n",
              "      <td>1829.000000</td>\n",
              "      <td>12.000000</td>\n",
              "      <td>22.000000</td>\n",
              "      <td>40.000000</td>\n",
              "      <td>88.000000</td>\n",
              "      <td>655</td>\n",
              "      <td>2020-07-09 14:54:00</td>\n",
              "      <td>2020-07-09</td>\n",
              "      <td>14:54:00</td>\n",
              "      <td>14</td>\n",
              "      <td>54</td>\n",
              "      <td>894</td>\n",
              "      <td>20818.000000</td>\n",
              "      <td>1594306440</td>\n",
              "      <td>2.081800e+10</td>\n",
              "    </tr>\n",
              "    <tr>\n",
              "      <th>940</th>\n",
              "      <td>14856.800000</td>\n",
              "      <td>3324.000000</td>\n",
              "      <td>1822.400000</td>\n",
              "      <td>12.200000</td>\n",
              "      <td>20.000000</td>\n",
              "      <td>40.200000</td>\n",
              "      <td>87.200000</td>\n",
              "      <td>611</td>\n",
              "      <td>2020-07-09 14:55:00</td>\n",
              "      <td>2020-07-09</td>\n",
              "      <td>14:55:00</td>\n",
              "      <td>14</td>\n",
              "      <td>55</td>\n",
              "      <td>895</td>\n",
              "      <td>20773.800000</td>\n",
              "      <td>1594306500</td>\n",
              "      <td>2.077380e+10</td>\n",
              "    </tr>\n",
              "    <tr>\n",
              "      <th>941</th>\n",
              "      <td>14865.600000</td>\n",
              "      <td>3324.000000</td>\n",
              "      <td>1815.800000</td>\n",
              "      <td>12.400000</td>\n",
              "      <td>18.000000</td>\n",
              "      <td>40.400000</td>\n",
              "      <td>86.400000</td>\n",
              "      <td>612</td>\n",
              "      <td>2020-07-09 14:56:00</td>\n",
              "      <td>2020-07-09</td>\n",
              "      <td>14:56:00</td>\n",
              "      <td>14</td>\n",
              "      <td>56</td>\n",
              "      <td>896</td>\n",
              "      <td>20774.600000</td>\n",
              "      <td>1594306560</td>\n",
              "      <td>2.077460e+10</td>\n",
              "    </tr>\n",
              "    <tr>\n",
              "      <th>942</th>\n",
              "      <td>14874.400000</td>\n",
              "      <td>3324.000000</td>\n",
              "      <td>1809.200000</td>\n",
              "      <td>12.600000</td>\n",
              "      <td>16.000000</td>\n",
              "      <td>40.600000</td>\n",
              "      <td>85.600000</td>\n",
              "      <td>613</td>\n",
              "      <td>2020-07-09 14:57:00</td>\n",
              "      <td>2020-07-09</td>\n",
              "      <td>14:57:00</td>\n",
              "      <td>14</td>\n",
              "      <td>57</td>\n",
              "      <td>897</td>\n",
              "      <td>20775.400000</td>\n",
              "      <td>1594306620</td>\n",
              "      <td>2.077540e+10</td>\n",
              "    </tr>\n",
              "    <tr>\n",
              "      <th>943</th>\n",
              "      <td>14883.200000</td>\n",
              "      <td>3324.000000</td>\n",
              "      <td>1802.600000</td>\n",
              "      <td>12.800000</td>\n",
              "      <td>14.000000</td>\n",
              "      <td>40.800000</td>\n",
              "      <td>84.800000</td>\n",
              "      <td>614</td>\n",
              "      <td>2020-07-09 14:58:00</td>\n",
              "      <td>2020-07-09</td>\n",
              "      <td>14:58:00</td>\n",
              "      <td>14</td>\n",
              "      <td>58</td>\n",
              "      <td>898</td>\n",
              "      <td>20776.200000</td>\n",
              "      <td>1594306680</td>\n",
              "      <td>2.077620e+10</td>\n",
              "    </tr>\n",
              "    <tr>\n",
              "      <th>59</th>\n",
              "      <td>14892.000000</td>\n",
              "      <td>3324.000000</td>\n",
              "      <td>1796.000000</td>\n",
              "      <td>13.000000</td>\n",
              "      <td>12.000000</td>\n",
              "      <td>41.000000</td>\n",
              "      <td>84.000000</td>\n",
              "      <td>660</td>\n",
              "      <td>2020-07-09 14:59:00</td>\n",
              "      <td>2020-07-09</td>\n",
              "      <td>14:59:00</td>\n",
              "      <td>14</td>\n",
              "      <td>59</td>\n",
              "      <td>899</td>\n",
              "      <td>20822.000000</td>\n",
              "      <td>1594306740</td>\n",
              "      <td>2.082200e+10</td>\n",
              "    </tr>\n",
              "  </tbody>\n",
              "</table>\n",
              "</div>"
            ],
            "text/plain": [
              "       NaturalGas      Nuclear        Hydro       Coal        Oil       Wind  \\\n",
              "891  14616.600000  3322.400000  1973.800000  16.000000  49.800000  46.600000   \n",
              "30   14636.000000  3322.000000  1975.000000  16.000000  48.000000  47.000000   \n",
              "892  14638.285714  3322.285714  1970.142857  15.142857  46.428571  46.142857   \n",
              "893  14640.571429  3322.571429  1965.285714  14.285714  44.857143  45.285714   \n",
              "894  14642.857143  3322.857143  1960.428571  13.428571  43.285714  44.428571   \n",
              "895  14645.142857  3323.142857  1955.571429  12.571429  41.714286  43.571429   \n",
              "896  14647.428571  3323.428571  1950.714286  11.714286  40.142857  42.714286   \n",
              "897  14649.714286  3323.714286  1945.857143  10.857143  38.571429  41.857143   \n",
              "47   14652.000000  3324.000000  1941.000000  10.000000  37.000000  41.000000   \n",
              "898  14657.857143  3324.000000  1941.142857  10.142857  34.857143  40.857143   \n",
              "899  14663.714286  3324.000000  1941.285714  10.285714  32.714286  40.714286   \n",
              "900  14669.571429  3324.000000  1941.428571  10.428571  30.571429  40.571429   \n",
              "901  14675.428571  3324.000000  1941.571429  10.571429  28.428571  40.428571   \n",
              "902  14681.285714  3324.000000  1941.714286  10.714286  26.285714  40.285714   \n",
              "903  14687.142857  3324.000000  1941.857143  10.857143  24.142857  40.142857   \n",
              "32   14693.000000  3324.000000  1942.000000  11.000000  22.000000  40.000000   \n",
              "904  14692.777778  3324.000000  1929.777778  10.555556  22.000000  40.000000   \n",
              "905  14692.555556  3324.000000  1917.555556  10.111111  22.000000  40.000000   \n",
              "906  14692.333333  3324.000000  1905.333333   9.666667  22.000000  40.000000   \n",
              "907  14692.111111  3324.000000  1893.111111   9.222222  22.000000  40.000000   \n",
              "908  14691.888889  3324.000000  1880.888889   8.777778  22.000000  40.000000   \n",
              "909  14691.666667  3324.000000  1868.666667   8.333333  22.000000  40.000000   \n",
              "910  14691.444444  3324.000000  1856.444444   7.888889  22.000000  40.000000   \n",
              "911  14691.222222  3324.000000  1844.222222   7.444444  22.000000  40.000000   \n",
              "62   14691.000000  3324.000000  1832.000000   7.000000  22.000000  40.000000   \n",
              "912  14698.500000  3324.062500  1831.625000   7.312500  22.000000  40.125000   \n",
              "913  14706.000000  3324.125000  1831.250000   7.625000  22.000000  40.250000   \n",
              "914  14713.500000  3324.187500  1830.875000   7.937500  22.000000  40.375000   \n",
              "915  14721.000000  3324.250000  1830.500000   8.250000  22.000000  40.500000   \n",
              "916  14728.500000  3324.312500  1830.125000   8.562500  22.000000  40.625000   \n",
              "917  14736.000000  3324.375000  1829.750000   8.875000  22.000000  40.750000   \n",
              "918  14743.500000  3324.437500  1829.375000   9.187500  22.000000  40.875000   \n",
              "919  14751.000000  3324.500000  1829.000000   9.500000  22.000000  41.000000   \n",
              "920  14758.500000  3324.562500  1828.625000   9.812500  22.000000  41.125000   \n",
              "921  14766.000000  3324.625000  1828.250000  10.125000  22.000000  41.250000   \n",
              "922  14773.500000  3324.687500  1827.875000  10.437500  22.000000  41.375000   \n",
              "923  14781.000000  3324.750000  1827.500000  10.750000  22.000000  41.500000   \n",
              "924  14788.500000  3324.812500  1827.125000  11.062500  22.000000  41.625000   \n",
              "925  14796.000000  3324.875000  1826.750000  11.375000  22.000000  41.750000   \n",
              "926  14803.500000  3324.937500  1826.375000  11.687500  22.000000  41.875000   \n",
              "61   14811.000000  3325.000000  1826.000000  12.000000  22.000000  42.000000   \n",
              "927  14813.642857  3324.928571  1826.214286  12.000000  22.000000  41.857143   \n",
              "928  14816.285714  3324.857143  1826.428571  12.000000  22.000000  41.714286   \n",
              "929  14818.928571  3324.785714  1826.642857  12.000000  22.000000  41.571429   \n",
              "930  14821.571429  3324.714286  1826.857143  12.000000  22.000000  41.428571   \n",
              "931  14824.214286  3324.642857  1827.071429  12.000000  22.000000  41.285714   \n",
              "932  14826.857143  3324.571429  1827.285714  12.000000  22.000000  41.142857   \n",
              "933  14829.500000  3324.500000  1827.500000  12.000000  22.000000  41.000000   \n",
              "934  14832.142857  3324.428571  1827.714286  12.000000  22.000000  40.857143   \n",
              "935  14834.785714  3324.357143  1827.928571  12.000000  22.000000  40.714286   \n",
              "936  14837.428571  3324.285714  1828.142857  12.000000  22.000000  40.571429   \n",
              "937  14840.071429  3324.214286  1828.357143  12.000000  22.000000  40.428571   \n",
              "938  14842.714286  3324.142857  1828.571429  12.000000  22.000000  40.285714   \n",
              "939  14845.357143  3324.071429  1828.785714  12.000000  22.000000  40.142857   \n",
              "31   14848.000000  3324.000000  1829.000000  12.000000  22.000000  40.000000   \n",
              "940  14856.800000  3324.000000  1822.400000  12.200000  20.000000  40.200000   \n",
              "941  14865.600000  3324.000000  1815.800000  12.400000  18.000000  40.400000   \n",
              "942  14874.400000  3324.000000  1809.200000  12.600000  16.000000  40.600000   \n",
              "943  14883.200000  3324.000000  1802.600000  12.800000  14.000000  40.800000   \n",
              "59   14892.000000  3324.000000  1796.000000  13.000000  12.000000  41.000000   \n",
              "\n",
              "          Solar  Other           Timestamp        DATE      TIME  HOURS  \\\n",
              "891  128.600000    615 2020-07-09 14:00:00  2020-07-09  14:00:00     14   \n",
              "30   127.000000    658 2020-07-09 14:01:00  2020-07-09  14:01:00     14   \n",
              "892  126.571429    615 2020-07-09 14:02:00  2020-07-09  14:02:00     14   \n",
              "893  126.142857    615 2020-07-09 14:03:00  2020-07-09  14:03:00     14   \n",
              "894  125.714286    615 2020-07-09 14:04:00  2020-07-09  14:04:00     14   \n",
              "895  125.285714    614 2020-07-09 14:05:00  2020-07-09  14:05:00     14   \n",
              "896  124.857143    614 2020-07-09 14:06:00  2020-07-09  14:06:00     14   \n",
              "897  124.428571    614 2020-07-09 14:07:00  2020-07-09  14:07:00     14   \n",
              "47   124.000000    657 2020-07-09 14:08:00  2020-07-09  14:08:00     14   \n",
              "898  122.285714    615 2020-07-09 14:09:00  2020-07-09  14:09:00     14   \n",
              "899  120.571429    615 2020-07-09 14:10:00  2020-07-09  14:10:00     14   \n",
              "900  118.857143    615 2020-07-09 14:11:00  2020-07-09  14:11:00     14   \n",
              "901  117.142857    615 2020-07-09 14:12:00  2020-07-09  14:12:00     14   \n",
              "902  115.428571    615 2020-07-09 14:13:00  2020-07-09  14:13:00     14   \n",
              "903  113.714286    615 2020-07-09 14:14:00  2020-07-09  14:14:00     14   \n",
              "32   112.000000    658 2020-07-09 14:15:00  2020-07-09  14:15:00     14   \n",
              "904  112.222222    615 2020-07-09 14:16:00  2020-07-09  14:16:00     14   \n",
              "905  112.444444    615 2020-07-09 14:17:00  2020-07-09  14:17:00     14   \n",
              "906  112.666667    615 2020-07-09 14:18:00  2020-07-09  14:18:00     14   \n",
              "907  112.888889    614 2020-07-09 14:19:00  2020-07-09  14:19:00     14   \n",
              "908  113.111111    615 2020-07-09 14:20:00  2020-07-09  14:20:00     14   \n",
              "909  113.333333    615 2020-07-09 14:21:00  2020-07-09  14:21:00     14   \n",
              "910  113.555556    614 2020-07-09 14:22:00  2020-07-09  14:22:00     14   \n",
              "911  113.777778    614 2020-07-09 14:23:00  2020-07-09  14:23:00     14   \n",
              "62   114.000000    663 2020-07-09 14:24:00  2020-07-09  14:24:00     14   \n",
              "912  112.937500    614 2020-07-09 14:25:00  2020-07-09  14:25:00     14   \n",
              "913  111.875000    614 2020-07-09 14:26:00  2020-07-09  14:26:00     14   \n",
              "914  110.812500    614 2020-07-09 14:27:00  2020-07-09  14:27:00     14   \n",
              "915  109.750000    615 2020-07-09 14:28:00  2020-07-09  14:28:00     14   \n",
              "916  108.687500    615 2020-07-09 14:29:00  2020-07-09  14:29:00     14   \n",
              "917  107.625000    615 2020-07-09 14:30:00  2020-07-09  14:30:00     14   \n",
              "918  106.562500    616 2020-07-09 14:31:00  2020-07-09  14:31:00     14   \n",
              "919  105.500000    616 2020-07-09 14:32:00  2020-07-09  14:32:00     14   \n",
              "920  104.437500    616 2020-07-09 14:33:00  2020-07-09  14:33:00     14   \n",
              "921  103.375000    617 2020-07-09 14:34:00  2020-07-09  14:34:00     14   \n",
              "922  102.312500    617 2020-07-09 14:35:00  2020-07-09  14:35:00     14   \n",
              "923  101.250000    617 2020-07-09 14:36:00  2020-07-09  14:36:00     14   \n",
              "924  100.187500    618 2020-07-09 14:37:00  2020-07-09  14:37:00     14   \n",
              "925   99.125000    618 2020-07-09 14:38:00  2020-07-09  14:38:00     14   \n",
              "926   98.062500    618 2020-07-09 14:39:00  2020-07-09  14:39:00     14   \n",
              "61    97.000000    669 2020-07-09 14:40:00  2020-07-09  14:40:00     14   \n",
              "927   96.357143    617 2020-07-09 14:41:00  2020-07-09  14:41:00     14   \n",
              "928   95.714286    617 2020-07-09 14:42:00  2020-07-09  14:42:00     14   \n",
              "929   95.071429    616 2020-07-09 14:43:00  2020-07-09  14:43:00     14   \n",
              "930   94.428571    616 2020-07-09 14:44:00  2020-07-09  14:44:00     14   \n",
              "931   93.785714    615 2020-07-09 14:45:00  2020-07-09  14:45:00     14   \n",
              "932   93.142857    614 2020-07-09 14:46:00  2020-07-09  14:46:00     14   \n",
              "933   92.500000    614 2020-07-09 14:47:00  2020-07-09  14:47:00     14   \n",
              "934   91.857143    614 2020-07-09 14:48:00  2020-07-09  14:48:00     14   \n",
              "935   91.214286    613 2020-07-09 14:49:00  2020-07-09  14:49:00     14   \n",
              "936   90.571429    612 2020-07-09 14:50:00  2020-07-09  14:50:00     14   \n",
              "937   89.928571    612 2020-07-09 14:51:00  2020-07-09  14:51:00     14   \n",
              "938   89.285714    611 2020-07-09 14:52:00  2020-07-09  14:52:00     14   \n",
              "939   88.642857    611 2020-07-09 14:53:00  2020-07-09  14:53:00     14   \n",
              "31    88.000000    655 2020-07-09 14:54:00  2020-07-09  14:54:00     14   \n",
              "940   87.200000    611 2020-07-09 14:55:00  2020-07-09  14:55:00     14   \n",
              "941   86.400000    612 2020-07-09 14:56:00  2020-07-09  14:56:00     14   \n",
              "942   85.600000    613 2020-07-09 14:57:00  2020-07-09  14:57:00     14   \n",
              "943   84.800000    614 2020-07-09 14:58:00  2020-07-09  14:58:00     14   \n",
              "59    84.000000    660 2020-07-09 14:59:00  2020-07-09  14:59:00     14   \n",
              "\n",
              "     MINUTES  MINUTES_PASS  total_generation  Timestamp (Unix)  \\\n",
              "891        0           840      20768.800000        1594303200   \n",
              "30         1           841      20829.000000        1594303260   \n",
              "892        2           842      20780.000000        1594303320   \n",
              "893        3           843      20774.000000        1594303380   \n",
              "894        4           844      20768.000000        1594303440   \n",
              "895        5           845      20761.000000        1594303500   \n",
              "896        6           846      20755.000000        1594303560   \n",
              "897        7           847      20749.000000        1594303620   \n",
              "47         8           848      20786.000000        1594303680   \n",
              "898        9           849      20746.142857        1594303740   \n",
              "899       10           850      20748.285714        1594303800   \n",
              "900       11           851      20750.428571        1594303860   \n",
              "901       12           852      20752.571429        1594303920   \n",
              "902       13           853      20754.714286        1594303980   \n",
              "903       14           854      20756.857143        1594304040   \n",
              "32        15           855      20802.000000        1594304100   \n",
              "904       16           856      20746.333333        1594304160   \n",
              "905       17           857      20733.666667        1594304220   \n",
              "906       18           858      20721.000000        1594304280   \n",
              "907       19           859      20707.333333        1594304340   \n",
              "908       20           860      20695.666667        1594304400   \n",
              "909       21           861      20683.000000        1594304460   \n",
              "910       22           862      20669.333333        1594304520   \n",
              "911       23           863      20656.666667        1594304580   \n",
              "62        24           864      20693.000000        1594304640   \n",
              "912       25           865      20650.562500        1594304700   \n",
              "913       26           866      20657.125000        1594304760   \n",
              "914       27           867      20663.687500        1594304820   \n",
              "915       28           868      20671.250000        1594304880   \n",
              "916       29           869      20677.812500        1594304940   \n",
              "917       30           870      20684.375000        1594305000   \n",
              "918       31           871      20691.937500        1594305060   \n",
              "919       32           872      20698.500000        1594305120   \n",
              "920       33           873      20705.062500        1594305180   \n",
              "921       34           874      20712.625000        1594305240   \n",
              "922       35           875      20719.187500        1594305300   \n",
              "923       36           876      20725.750000        1594305360   \n",
              "924       37           877      20733.312500        1594305420   \n",
              "925       38           878      20739.875000        1594305480   \n",
              "926       39           879      20746.437500        1594305540   \n",
              "61        40           880      20804.000000        1594305600   \n",
              "927       41           881      20754.000000        1594305660   \n",
              "928       42           882      20756.000000        1594305720   \n",
              "929       43           883      20757.000000        1594305780   \n",
              "930       44           884      20759.000000        1594305840   \n",
              "931       45           885      20760.000000        1594305900   \n",
              "932       46           886      20761.000000        1594305960   \n",
              "933       47           887      20763.000000        1594306020   \n",
              "934       48           888      20765.000000        1594306080   \n",
              "935       49           889      20766.000000        1594306140   \n",
              "936       50           890      20767.000000        1594306200   \n",
              "937       51           891      20769.000000        1594306260   \n",
              "938       52           892      20770.000000        1594306320   \n",
              "939       53           893      20772.000000        1594306380   \n",
              "31        54           894      20818.000000        1594306440   \n",
              "940       55           895      20773.800000        1594306500   \n",
              "941       56           896      20774.600000        1594306560   \n",
              "942       57           897      20775.400000        1594306620   \n",
              "943       58           898      20776.200000        1594306680   \n",
              "59        59           899      20822.000000        1594306740   \n",
              "\n",
              "     total_generation(W)  \n",
              "891         2.076880e+10  \n",
              "30          2.082900e+10  \n",
              "892         2.078000e+10  \n",
              "893         2.077400e+10  \n",
              "894         2.076800e+10  \n",
              "895         2.076100e+10  \n",
              "896         2.075500e+10  \n",
              "897         2.074900e+10  \n",
              "47          2.078600e+10  \n",
              "898         2.074614e+10  \n",
              "899         2.074829e+10  \n",
              "900         2.075043e+10  \n",
              "901         2.075257e+10  \n",
              "902         2.075471e+10  \n",
              "903         2.075686e+10  \n",
              "32          2.080200e+10  \n",
              "904         2.074633e+10  \n",
              "905         2.073367e+10  \n",
              "906         2.072100e+10  \n",
              "907         2.070733e+10  \n",
              "908         2.069567e+10  \n",
              "909         2.068300e+10  \n",
              "910         2.066933e+10  \n",
              "911         2.065667e+10  \n",
              "62          2.069300e+10  \n",
              "912         2.065056e+10  \n",
              "913         2.065712e+10  \n",
              "914         2.066369e+10  \n",
              "915         2.067125e+10  \n",
              "916         2.067781e+10  \n",
              "917         2.068438e+10  \n",
              "918         2.069194e+10  \n",
              "919         2.069850e+10  \n",
              "920         2.070506e+10  \n",
              "921         2.071262e+10  \n",
              "922         2.071919e+10  \n",
              "923         2.072575e+10  \n",
              "924         2.073331e+10  \n",
              "925         2.073988e+10  \n",
              "926         2.074644e+10  \n",
              "61          2.080400e+10  \n",
              "927         2.075400e+10  \n",
              "928         2.075600e+10  \n",
              "929         2.075700e+10  \n",
              "930         2.075900e+10  \n",
              "931         2.076000e+10  \n",
              "932         2.076100e+10  \n",
              "933         2.076300e+10  \n",
              "934         2.076500e+10  \n",
              "935         2.076600e+10  \n",
              "936         2.076700e+10  \n",
              "937         2.076900e+10  \n",
              "938         2.077000e+10  \n",
              "939         2.077200e+10  \n",
              "31          2.081800e+10  \n",
              "940         2.077380e+10  \n",
              "941         2.077460e+10  \n",
              "942         2.077540e+10  \n",
              "943         2.077620e+10  \n",
              "59          2.082200e+10  "
            ]
          },
          "metadata": {
            "tags": []
          },
          "execution_count": 32
        }
      ]
    },
    {
      "cell_type": "code",
      "metadata": {
        "execution": {
          "iopub.execute_input": "2021-05-31T04:27:13.817828Z",
          "iopub.status.busy": "2021-05-31T04:27:13.816806Z",
          "iopub.status.idle": "2021-05-31T04:27:13.820806Z",
          "shell.execute_reply": "2021-05-31T04:27:13.820213Z",
          "shell.execute_reply.started": "2021-05-31T02:39:50.064185Z"
        },
        "papermill": {
          "duration": 0.092662,
          "end_time": "2021-05-31T04:27:13.820915",
          "exception": false,
          "start_time": "2021-05-31T04:27:13.728253",
          "status": "completed"
        },
        "tags": [],
        "id": "f13IkEGQiD1E",
        "outputId": "c3b1e4e0-ac1b-48a6-84d9-c39273ac3b0f"
      },
      "source": [
        "## Average generation \n",
        "average = peakhour[\"total_generation\"].mean()\n",
        "average"
      ],
      "execution_count": null,
      "outputs": [
        {
          "output_type": "execute_result",
          "data": {
            "text/plain": [
              "20742.138333333332"
            ]
          },
          "metadata": {
            "tags": []
          },
          "execution_count": 33
        }
      ]
    },
    {
      "cell_type": "code",
      "metadata": {
        "execution": {
          "iopub.execute_input": "2021-05-31T04:27:13.955010Z",
          "iopub.status.busy": "2021-05-31T04:27:13.950854Z",
          "iopub.status.idle": "2021-05-31T04:27:14.124178Z",
          "shell.execute_reply": "2021-05-31T04:27:14.123651Z",
          "shell.execute_reply.started": "2021-05-31T02:39:50.071549Z"
        },
        "papermill": {
          "duration": 0.243666,
          "end_time": "2021-05-31T04:27:14.124288",
          "exception": false,
          "start_time": "2021-05-31T04:27:13.880622",
          "status": "completed"
        },
        "tags": [],
        "id": "i-6Oa1KciD1G",
        "outputId": "63293593-6010-4858-cc87-1f462a11185a"
      },
      "source": [
        "peakhour.plot(y = ['Wind', 'Solar', 'Hydro', 'Other', 'Oil', 'NaturalGas', 'Coal'])\n",
        "ax.hlines(23, -.5,.5, linestyles='dashed')\n",
        "ax.annotate('average',(-0.4, average))"
      ],
      "execution_count": null,
      "outputs": [
        {
          "output_type": "execute_result",
          "data": {
            "text/plain": [
              "Text(-0.4, 20742.138333333332, 'average')"
            ]
          },
          "metadata": {
            "tags": []
          },
          "execution_count": 34
        },
        {
          "output_type": "display_data",
          "data": {
            "image/png": "[encoded data removed]",
            "text/plain": [
              "<Figure size 432x288 with 1 Axes>"
            ]
          },
          "metadata": {
            "tags": [],
            "needs_background": "light"
          }
        }
      ]
    },
    {
      "cell_type": "markdown",
      "metadata": {
        "papermill": {
          "duration": 0.06068,
          "end_time": "2021-05-31T04:27:14.246298",
          "exception": false,
          "start_time": "2021-05-31T04:27:14.185618",
          "status": "completed"
        },
        "tags": [],
        "id": "Z9YU6GaoiD1I"
      },
      "source": [
        "pick value in order off release fromm peakhour"
      ]
    },
    {
      "cell_type": "markdown",
      "metadata": {
        "papermill": {
          "duration": 0.060462,
          "end_time": "2021-05-31T04:27:14.368133",
          "exception": false,
          "start_time": "2021-05-31T04:27:14.307671",
          "status": "completed"
        },
        "tags": [],
        "id": "wtDGesI_iD1J"
      },
      "source": [
        "## Transpose for working with one generation "
      ]
    },
    {
      "cell_type": "code",
      "metadata": {
        "execution": {
          "iopub.execute_input": "2021-05-31T04:27:14.501908Z",
          "iopub.status.busy": "2021-05-31T04:27:14.501097Z",
          "iopub.status.idle": "2021-05-31T04:27:14.505301Z",
          "shell.execute_reply": "2021-05-31T04:27:14.504760Z",
          "shell.execute_reply.started": "2021-05-31T02:39:50.262726Z"
        },
        "papermill": {
          "duration": 0.076725,
          "end_time": "2021-05-31T04:27:14.505405",
          "exception": false,
          "start_time": "2021-05-31T04:27:14.428680",
          "status": "completed"
        },
        "tags": [],
        "id": "DvRr11IDiD1K",
        "outputId": "2da7765d-5f94-4e6a-beb4-75ccc17a211b"
      },
      "source": [
        "# peakhour =  peakhour.iloc[: , column_list].copy()  \n",
        "peakt =  peakmin[['Wind', 'Solar', 'Hydro', 'Other', 'Oil', 'NaturalGas', 'Coal', 'Nuclear']].transpose()\n",
        "\n",
        "# # peakhourt=peakhour2.reindex([\"Nuclear Generation (MW)\", \"Wind Generation (MW)\", \"Solar Generation (MW)\",\"Hydro Generation (MW)\" ,  \n",
        "# #                          \"Coal Generation (MW)\", \"Natural gas Generation (MW)\",\"Petroleum Generation (MW)\",\"Other Generation (MW)\"])\n",
        "\n",
        "for col in peakt.columns:\n",
        "    peakt = peakt.rename(columns={col:'generation'})\n",
        "    \n",
        "peakt"
      ],
      "execution_count": null,
      "outputs": [
        {
          "output_type": "execute_result",
          "data": {
            "text/html": [
              "<div>\n",
              "<style scoped>\n",
              "    .dataframe tbody tr th:only-of-type {\n",
              "        vertical-align: middle;\n",
              "    }\n",
              "\n",
              "    .dataframe tbody tr th {\n",
              "        vertical-align: top;\n",
              "    }\n",
              "\n",
              "    .dataframe thead th {\n",
              "        text-align: right;\n",
              "    }\n",
              "</style>\n",
              "<table border=\"1\" class=\"dataframe\">\n",
              "  <thead>\n",
              "    <tr style=\"text-align: right;\">\n",
              "      <th></th>\n",
              "      <th>generation</th>\n",
              "    </tr>\n",
              "  </thead>\n",
              "  <tbody>\n",
              "    <tr>\n",
              "      <th>Wind</th>\n",
              "      <td>47.0</td>\n",
              "    </tr>\n",
              "    <tr>\n",
              "      <th>Solar</th>\n",
              "      <td>127.0</td>\n",
              "    </tr>\n",
              "    <tr>\n",
              "      <th>Hydro</th>\n",
              "      <td>1975.0</td>\n",
              "    </tr>\n",
              "    <tr>\n",
              "      <th>Other</th>\n",
              "      <td>658.0</td>\n",
              "    </tr>\n",
              "    <tr>\n",
              "      <th>Oil</th>\n",
              "      <td>48.0</td>\n",
              "    </tr>\n",
              "    <tr>\n",
              "      <th>NaturalGas</th>\n",
              "      <td>14636.0</td>\n",
              "    </tr>\n",
              "    <tr>\n",
              "      <th>Coal</th>\n",
              "      <td>16.0</td>\n",
              "    </tr>\n",
              "    <tr>\n",
              "      <th>Nuclear</th>\n",
              "      <td>3322.0</td>\n",
              "    </tr>\n",
              "  </tbody>\n",
              "</table>\n",
              "</div>"
            ],
            "text/plain": [
              "            generation\n",
              "Wind              47.0\n",
              "Solar            127.0\n",
              "Hydro           1975.0\n",
              "Other            658.0\n",
              "Oil               48.0\n",
              "NaturalGas     14636.0\n",
              "Coal              16.0\n",
              "Nuclear         3322.0"
            ]
          },
          "metadata": {
            "tags": []
          },
          "execution_count": 35
        }
      ]
    },
    {
      "cell_type": "code",
      "metadata": {
        "execution": {
          "iopub.execute_input": "2021-05-31T04:27:14.640064Z",
          "iopub.status.busy": "2021-05-31T04:27:14.639388Z",
          "iopub.status.idle": "2021-05-31T04:27:14.643402Z",
          "shell.execute_reply": "2021-05-31T04:27:14.642852Z",
          "shell.execute_reply.started": "2021-05-31T02:39:50.277373Z"
        },
        "papermill": {
          "duration": 0.076271,
          "end_time": "2021-05-31T04:27:14.643513",
          "exception": false,
          "start_time": "2021-05-31T04:27:14.567242",
          "status": "completed"
        },
        "tags": [],
        "id": "If8a2I66iD1L",
        "outputId": "9dd59067-e292-4272-f9e3-f85a3585d596"
      },
      "source": [
        "# pie chart Percentage for Contribution by fuel during peak hour\n",
        "peakt[\"percent\"] = (peakt['generation'] / peakt['generation'].sum()) * 100\n",
        "peakt[\"percent\"] = peakt[\"percent\"].round(1)\n",
        "\n",
        "# peakt = peakt.mask(peakhour2< 0, 0)\n",
        "peakt"
      ],
      "execution_count": null,
      "outputs": [
        {
          "output_type": "execute_result",
          "data": {
            "text/html": [
              "<div>\n",
              "<style scoped>\n",
              "    .dataframe tbody tr th:only-of-type {\n",
              "        vertical-align: middle;\n",
              "    }\n",
              "\n",
              "    .dataframe tbody tr th {\n",
              "        vertical-align: top;\n",
              "    }\n",
              "\n",
              "    .dataframe thead th {\n",
              "        text-align: right;\n",
              "    }\n",
              "</style>\n",
              "<table border=\"1\" class=\"dataframe\">\n",
              "  <thead>\n",
              "    <tr style=\"text-align: right;\">\n",
              "      <th></th>\n",
              "      <th>generation</th>\n",
              "      <th>percent</th>\n",
              "    </tr>\n",
              "  </thead>\n",
              "  <tbody>\n",
              "    <tr>\n",
              "      <th>Wind</th>\n",
              "      <td>47.0</td>\n",
              "      <td>0.2</td>\n",
              "    </tr>\n",
              "    <tr>\n",
              "      <th>Solar</th>\n",
              "      <td>127.0</td>\n",
              "      <td>0.6</td>\n",
              "    </tr>\n",
              "    <tr>\n",
              "      <th>Hydro</th>\n",
              "      <td>1975.0</td>\n",
              "      <td>9.5</td>\n",
              "    </tr>\n",
              "    <tr>\n",
              "      <th>Other</th>\n",
              "      <td>658.0</td>\n",
              "      <td>3.2</td>\n",
              "    </tr>\n",
              "    <tr>\n",
              "      <th>Oil</th>\n",
              "      <td>48.0</td>\n",
              "      <td>0.2</td>\n",
              "    </tr>\n",
              "    <tr>\n",
              "      <th>NaturalGas</th>\n",
              "      <td>14636.0</td>\n",
              "      <td>70.3</td>\n",
              "    </tr>\n",
              "    <tr>\n",
              "      <th>Coal</th>\n",
              "      <td>16.0</td>\n",
              "      <td>0.1</td>\n",
              "    </tr>\n",
              "    <tr>\n",
              "      <th>Nuclear</th>\n",
              "      <td>3322.0</td>\n",
              "      <td>15.9</td>\n",
              "    </tr>\n",
              "  </tbody>\n",
              "</table>\n",
              "</div>"
            ],
            "text/plain": [
              "            generation  percent\n",
              "Wind              47.0      0.2\n",
              "Solar            127.0      0.6\n",
              "Hydro           1975.0      9.5\n",
              "Other            658.0      3.2\n",
              "Oil               48.0      0.2\n",
              "NaturalGas     14636.0     70.3\n",
              "Coal              16.0      0.1\n",
              "Nuclear         3322.0     15.9"
            ]
          },
          "metadata": {
            "tags": []
          },
          "execution_count": 36
        }
      ]
    },
    {
      "cell_type": "code",
      "metadata": {
        "execution": {
          "iopub.execute_input": "2021-05-31T04:27:14.774638Z",
          "iopub.status.busy": "2021-05-31T04:27:14.774012Z",
          "iopub.status.idle": "2021-05-31T04:27:14.903121Z",
          "shell.execute_reply": "2021-05-31T04:27:14.902611Z",
          "shell.execute_reply.started": "2021-05-31T02:39:50.303507Z"
        },
        "papermill": {
          "duration": 0.196478,
          "end_time": "2021-05-31T04:27:14.903241",
          "exception": false,
          "start_time": "2021-05-31T04:27:14.706763",
          "status": "completed"
        },
        "tags": [],
        "id": "rHpPSrvgiD1M",
        "outputId": "ebeabaa0-fe1d-4488-96c7-0804e502c13b"
      },
      "source": [
        "peakt[\"generation\"].plot.bar(stacked=True)"
      ],
      "execution_count": null,
      "outputs": [
        {
          "output_type": "execute_result",
          "data": {
            "text/plain": [
              "<matplotlib.axes._subplots.AxesSubplot at 0x7fae657317d0>"
            ]
          },
          "metadata": {
            "tags": []
          },
          "execution_count": 37
        },
        {
          "output_type": "display_data",
          "data": {
            "image/png": "[encoded data removed]",
            "text/plain": [
              "<Figure size 432x288 with 1 Axes>"
            ]
          },
          "metadata": {
            "tags": [],
            "needs_background": "light"
          }
        }
      ]
    },
    {
      "cell_type": "markdown",
      "metadata": {
        "papermill": {
          "duration": 0.062114,
          "end_time": "2021-05-31T04:27:15.029084",
          "exception": false,
          "start_time": "2021-05-31T04:27:14.966970",
          "status": "completed"
        },
        "tags": [],
        "id": "gAtuuaNfiD1M"
      },
      "source": [
        "### PeaK Pie char Fuel Mix"
      ]
    },
    {
      "cell_type": "code",
      "metadata": {
        "execution": {
          "iopub.execute_input": "2021-05-31T04:27:15.174540Z",
          "iopub.status.busy": "2021-05-31T04:27:15.173961Z",
          "iopub.status.idle": "2021-05-31T04:27:15.268251Z",
          "shell.execute_reply": "2021-05-31T04:27:15.268698Z",
          "shell.execute_reply.started": "2021-05-31T02:39:50.442302Z"
        },
        "papermill": {
          "duration": 0.176418,
          "end_time": "2021-05-31T04:27:15.268843",
          "exception": false,
          "start_time": "2021-05-31T04:27:15.092425",
          "status": "completed"
        },
        "tags": [],
        "id": "jSQDQNS6iD1M",
        "outputId": "f7a6a6bf-02cd-4fe0-d68c-49ad7c31dcf6"
      },
      "source": [
        "pie_peak= peakt.plot.pie(y='percent',title=\"Fuel Mix in \"+ Region + \" on \"+ str(peakmin.Timestamp.values[0]) , figsize=(5, 5))\n",
        "pie_peak.legend(bbox_to_anchor=(1,1), loc=\"centre right\")"
      ],
      "execution_count": null,
      "outputs": [
        {
          "output_type": "execute_result",
          "data": {
            "text/plain": [
              "<matplotlib.legend.Legend at 0x7fae65744d50>"
            ]
          },
          "metadata": {
            "tags": []
          },
          "execution_count": 38
        },
        {
          "output_type": "display_data",
          "data": {
            "image/png": "[encoded data removed]",
            "text/plain": [
              "<Figure size 360x360 with 1 Axes>"
            ]
          },
          "metadata": {
            "tags": []
          }
        }
      ]
    },
    {
      "cell_type": "code",
      "metadata": {
        "execution": {
          "iopub.execute_input": "2021-05-31T04:27:15.398668Z",
          "iopub.status.busy": "2021-05-31T04:27:15.398059Z",
          "iopub.status.idle": "2021-05-31T04:27:15.403769Z",
          "shell.execute_reply": "2021-05-31T04:27:15.403245Z",
          "shell.execute_reply.started": "2021-05-31T02:39:50.563740Z"
        },
        "papermill": {
          "duration": 0.071766,
          "end_time": "2021-05-31T04:27:15.403883",
          "exception": false,
          "start_time": "2021-05-31T04:27:15.332117",
          "status": "completed"
        },
        "tags": [],
        "id": "6fUwHO6TiD1M"
      },
      "source": [
        "peakt = peakt.drop(columns='percent')"
      ],
      "execution_count": null,
      "outputs": []
    },
    {
      "cell_type": "code",
      "metadata": {
        "execution": {
          "iopub.execute_input": "2021-05-31T04:27:15.535332Z",
          "iopub.status.busy": "2021-05-31T04:27:15.534766Z",
          "iopub.status.idle": "2021-05-31T04:27:15.537830Z",
          "shell.execute_reply": "2021-05-31T04:27:15.538311Z",
          "shell.execute_reply.started": "2021-05-31T02:39:50.572303Z"
        },
        "papermill": {
          "duration": 0.07093,
          "end_time": "2021-05-31T04:27:15.538471",
          "exception": false,
          "start_time": "2021-05-31T04:27:15.467541",
          "status": "completed"
        },
        "tags": [],
        "id": "Di3M2ddDiD1N"
      },
      "source": [
        "# Cummulative_generation\n",
        "# peakt['Cummulative_generation']  = peakt[\"generation\"].cumsum()\n",
        "# peakt"
      ],
      "execution_count": null,
      "outputs": []
    },
    {
      "cell_type": "code",
      "metadata": {
        "execution": {
          "iopub.execute_input": "2021-05-31T04:27:15.674057Z",
          "iopub.status.busy": "2021-05-31T04:27:15.673170Z",
          "iopub.status.idle": "2021-05-31T04:27:15.676501Z",
          "shell.execute_reply": "2021-05-31T04:27:15.675933Z",
          "shell.execute_reply.started": "2021-05-31T02:39:50.585529Z"
        },
        "papermill": {
          "duration": 0.07159,
          "end_time": "2021-05-31T04:27:15.676628",
          "exception": false,
          "start_time": "2021-05-31T04:27:15.605038",
          "status": "completed"
        },
        "tags": [],
        "id": "BmvWvyusiD1N"
      },
      "source": [
        "# peakt.plot(x=\"Cummulative_generation\")"
      ],
      "execution_count": null,
      "outputs": []
    },
    {
      "cell_type": "code",
      "metadata": {
        "execution": {
          "iopub.execute_input": "2021-05-31T04:27:15.807498Z",
          "iopub.status.busy": "2021-05-31T04:27:15.806860Z",
          "iopub.status.idle": "2021-05-31T04:27:15.810193Z",
          "shell.execute_reply": "2021-05-31T04:27:15.810715Z",
          "shell.execute_reply.started": "2021-05-31T02:39:50.601726Z"
        },
        "papermill": {
          "duration": 0.07096,
          "end_time": "2021-05-31T04:27:15.810858",
          "exception": false,
          "start_time": "2021-05-31T04:27:15.739898",
          "status": "completed"
        },
        "tags": [],
        "id": "McWE3Fn-iD1N"
      },
      "source": [
        "# draw graph for cummultaive consumption \n",
        "# peakhour2.plot(\"Cummulative_consumption\")\n",
        "\n",
        "# peakhour2.plot.bar(peakhour2[\"Cummulative_consumption\"], drawstyle='steps')\n",
        "# peakhour2.reset_index().plot.line(peakhour2[\"Cummulative_consumption\"], peakhour2.index, drawstyle='steps')"
      ],
      "execution_count": null,
      "outputs": []
    },
    {
      "cell_type": "markdown",
      "metadata": {
        "papermill": {
          "duration": 0.064373,
          "end_time": "2021-05-31T04:27:15.939426",
          "exception": false,
          "start_time": "2021-05-31T04:27:15.875053",
          "status": "completed"
        },
        "tags": [],
        "id": "XVmjggqxiD1N"
      },
      "source": [
        "<a id=\"section-five\"></a>\n",
        "# 5. Carbon Emission vs Fuel\n",
        "\n",
        "Now merge dataset and look at data distributions and correlations for Co2 and fuel sources "
      ]
    },
    {
      "cell_type": "code",
      "metadata": {
        "execution": {
          "iopub.execute_input": "2021-05-31T04:27:16.072594Z",
          "iopub.status.busy": "2021-05-31T04:27:16.070656Z",
          "iopub.status.idle": "2021-05-31T04:27:16.092037Z",
          "shell.execute_reply": "2021-05-31T04:27:16.092521Z",
          "shell.execute_reply.started": "2021-05-31T02:39:50.615493Z"
        },
        "papermill": {
          "duration": 0.088264,
          "end_time": "2021-05-31T04:27:16.092697",
          "exception": false,
          "start_time": "2021-05-31T04:27:16.004433",
          "status": "completed"
        },
        "tags": [],
        "id": "3oHPAYZFiD1N",
        "outputId": "c1228b0e-bb0e-48d7-e165-b3991163518e"
      },
      "source": [
        "df_carbon = pd.read_csv(\"../input/lcoe-co2/US Utility grids - LCOE Co2 Emissions - Carbon2.csv\")\n",
        "df_carbon"
      ],
      "execution_count": null,
      "outputs": [
        {
          "output_type": "execute_result",
          "data": {
            "text/html": [
              "<div>\n",
              "<style scoped>\n",
              "    .dataframe tbody tr th:only-of-type {\n",
              "        vertical-align: middle;\n",
              "    }\n",
              "\n",
              "    .dataframe tbody tr th {\n",
              "        vertical-align: top;\n",
              "    }\n",
              "\n",
              "    .dataframe thead th {\n",
              "        text-align: right;\n",
              "    }\n",
              "</style>\n",
              "<table border=\"1\" class=\"dataframe\">\n",
              "  <thead>\n",
              "    <tr style=\"text-align: right;\">\n",
              "      <th></th>\n",
              "      <th>Fuel Type</th>\n",
              "      <th>Life cycle CO2 equivalent  ( kgCO2eq/MWh)</th>\n",
              "    </tr>\n",
              "  </thead>\n",
              "  <tbody>\n",
              "    <tr>\n",
              "      <th>0</th>\n",
              "      <td>Nuclear</td>\n",
              "      <td>12</td>\n",
              "    </tr>\n",
              "    <tr>\n",
              "      <th>1</th>\n",
              "      <td>Solar</td>\n",
              "      <td>48</td>\n",
              "    </tr>\n",
              "    <tr>\n",
              "      <th>2</th>\n",
              "      <td>Other</td>\n",
              "      <td>24</td>\n",
              "    </tr>\n",
              "    <tr>\n",
              "      <th>3</th>\n",
              "      <td>Petroleum</td>\n",
              "      <td>490</td>\n",
              "    </tr>\n",
              "    <tr>\n",
              "      <th>4</th>\n",
              "      <td>Oil</td>\n",
              "      <td>490</td>\n",
              "    </tr>\n",
              "    <tr>\n",
              "      <th>5</th>\n",
              "      <td>Natural gas</td>\n",
              "      <td>490</td>\n",
              "    </tr>\n",
              "    <tr>\n",
              "      <th>6</th>\n",
              "      <td>NaturalGas</td>\n",
              "      <td>490</td>\n",
              "    </tr>\n",
              "    <tr>\n",
              "      <th>7</th>\n",
              "      <td>Coal</td>\n",
              "      <td>820</td>\n",
              "    </tr>\n",
              "    <tr>\n",
              "      <th>8</th>\n",
              "      <td>Hydro</td>\n",
              "      <td>0</td>\n",
              "    </tr>\n",
              "  </tbody>\n",
              "</table>\n",
              "</div>"
            ],
            "text/plain": [
              "     Fuel Type  Life cycle CO2 equivalent  ( kgCO2eq/MWh)\n",
              "0      Nuclear                                         12\n",
              "1        Solar                                         48\n",
              "2        Other                                         24\n",
              "3    Petroleum                                        490\n",
              "4          Oil                                        490\n",
              "5  Natural gas                                        490\n",
              "6   NaturalGas                                        490\n",
              "7         Coal                                        820\n",
              "8        Hydro                                          0"
            ]
          },
          "metadata": {
            "tags": []
          },
          "execution_count": 43
        }
      ]
    },
    {
      "cell_type": "code",
      "metadata": {
        "execution": {
          "iopub.execute_input": "2021-05-31T04:27:16.224689Z",
          "iopub.status.busy": "2021-05-31T04:27:16.223760Z",
          "iopub.status.idle": "2021-05-31T04:27:16.241276Z",
          "shell.execute_reply": "2021-05-31T04:27:16.241725Z",
          "shell.execute_reply.started": "2021-05-31T02:39:50.639494Z"
        },
        "papermill": {
          "duration": 0.084712,
          "end_time": "2021-05-31T04:27:16.241875",
          "exception": false,
          "start_time": "2021-05-31T04:27:16.157163",
          "status": "completed"
        },
        "tags": [],
        "id": "DlkJ6JNviD1O",
        "outputId": "073341b3-5cc2-4c5e-f555-84c6d86a7be5"
      },
      "source": [
        "df_carbon.info()\n",
        "df_carbon['Life cycle CO2 equivalent  ( kgCO2eq/MWh)']"
      ],
      "execution_count": null,
      "outputs": [
        {
          "output_type": "stream",
          "text": [
            "<class 'pandas.core.frame.DataFrame'>\n",
            "RangeIndex: 9 entries, 0 to 8\n",
            "Data columns (total 2 columns):\n",
            " #   Column                                     Non-Null Count  Dtype \n",
            "---  ------                                     --------------  ----- \n",
            " 0   Fuel Type                                  9 non-null      object\n",
            " 1   Life cycle CO2 equivalent  ( kgCO2eq/MWh)  9 non-null      int64 \n",
            "dtypes: int64(1), object(1)\n",
            "memory usage: 272.0+ bytes\n"
          ],
          "name": "stdout"
        },
        {
          "output_type": "execute_result",
          "data": {
            "text/plain": [
              "0     12\n",
              "1     48\n",
              "2     24\n",
              "3    490\n",
              "4    490\n",
              "5    490\n",
              "6    490\n",
              "7    820\n",
              "8      0\n",
              "Name: Life cycle CO2 equivalent  ( kgCO2eq/MWh), dtype: int64"
            ]
          },
          "metadata": {
            "tags": []
          },
          "execution_count": 44
        }
      ]
    },
    {
      "cell_type": "code",
      "metadata": {
        "execution": {
          "iopub.execute_input": "2021-05-31T04:27:16.377083Z",
          "iopub.status.busy": "2021-05-31T04:27:16.376138Z",
          "iopub.status.idle": "2021-05-31T04:27:16.533492Z",
          "shell.execute_reply": "2021-05-31T04:27:16.534039Z",
          "shell.execute_reply.started": "2021-05-31T02:39:50.662096Z"
        },
        "papermill": {
          "duration": 0.227037,
          "end_time": "2021-05-31T04:27:16.534180",
          "exception": false,
          "start_time": "2021-05-31T04:27:16.307143",
          "status": "completed"
        },
        "tags": [],
        "id": "nDvmhWABiD1O",
        "outputId": "0ad16f9a-3838-4de2-bcd7-2ccd747b5f79"
      },
      "source": [
        "df_carbon.sort_values('Life cycle CO2 equivalent  ( kgCO2eq/MWh)',ascending=True).plot( x='Fuel Type',kind='bar')"
      ],
      "execution_count": null,
      "outputs": [
        {
          "output_type": "execute_result",
          "data": {
            "text/plain": [
              "<matplotlib.axes._subplots.AxesSubplot at 0x7fae656a4c50>"
            ]
          },
          "metadata": {
            "tags": []
          },
          "execution_count": 45
        },
        {
          "output_type": "display_data",
          "data": {
            "image/png": "[encoded data removed]",
            "text/plain": [
              "<Figure size 432x288 with 1 Axes>"
            ]
          },
          "metadata": {
            "tags": [],
            "needs_background": "light"
          }
        }
      ]
    },
    {
      "cell_type": "markdown",
      "metadata": {
        "papermill": {
          "duration": 0.067794,
          "end_time": "2021-05-31T04:27:16.669693",
          "exception": false,
          "start_time": "2021-05-31T04:27:16.601899",
          "status": "completed"
        },
        "tags": [],
        "id": "3sX-d3RJiD1O"
      },
      "source": [
        "### Time vs consumption"
      ]
    },
    {
      "cell_type": "code",
      "metadata": {
        "execution": {
          "iopub.execute_input": "2021-05-31T04:27:16.821362Z",
          "iopub.status.busy": "2021-05-31T04:27:16.819315Z",
          "iopub.status.idle": "2021-05-31T04:27:16.833274Z",
          "shell.execute_reply": "2021-05-31T04:27:16.832817Z",
          "shell.execute_reply.started": "2021-05-31T02:39:50.829442Z"
        },
        "papermill": {
          "duration": 0.093159,
          "end_time": "2021-05-31T04:27:16.833382",
          "exception": false,
          "start_time": "2021-05-31T04:27:16.740223",
          "status": "completed"
        },
        "tags": [],
        "id": "1dkSSO1BiD1O",
        "outputId": "ec650daf-c3f2-4dd2-dfc2-211ec1d104b4"
      },
      "source": [
        "# for i, row in peakhour2.iterrows():\n",
        "#     print(i)\n",
        "            \n",
        "# for j,lcoe in df_lcoe.iterrows():\n",
        "#         print(lcoe.values[0])\n",
        "\n",
        "peakt['carbon']=0\n",
        "for i, row in peakt.iterrows():\n",
        "    for j,carbon in df_carbon.iterrows():\n",
        "        if i in carbon[0]:\n",
        "            print(\"Match between two tables for \"+i+ \" and \"+ carbon[0])\n",
        "            generation=row[0]\n",
        "            print(str(generation) + ' * '+ str(carbon[1]))\n",
        "            peakt.at[i,'carbon'] = generation * carbon[1]\n",
        "            \n",
        "peakt"
      ],
      "execution_count": null,
      "outputs": [
        {
          "output_type": "stream",
          "text": [
            "Match between two tables for Solar and Solar\n",
            "127.0 * 48\n",
            "Match between two tables for Hydro and Hydro\n",
            "1975.0 * 0\n",
            "Match between two tables for Other and Other\n",
            "658.0 * 24\n",
            "Match between two tables for Oil and Oil\n",
            "48.0 * 490\n",
            "Match between two tables for NaturalGas and NaturalGas\n",
            "14636.0 * 490\n",
            "Match between two tables for Coal and Coal\n",
            "16.0 * 820\n",
            "Match between two tables for Nuclear and Nuclear\n",
            "3322.0 * 12\n"
          ],
          "name": "stdout"
        },
        {
          "output_type": "execute_result",
          "data": {
            "text/html": [
              "<div>\n",
              "<style scoped>\n",
              "    .dataframe tbody tr th:only-of-type {\n",
              "        vertical-align: middle;\n",
              "    }\n",
              "\n",
              "    .dataframe tbody tr th {\n",
              "        vertical-align: top;\n",
              "    }\n",
              "\n",
              "    .dataframe thead th {\n",
              "        text-align: right;\n",
              "    }\n",
              "</style>\n",
              "<table border=\"1\" class=\"dataframe\">\n",
              "  <thead>\n",
              "    <tr style=\"text-align: right;\">\n",
              "      <th></th>\n",
              "      <th>generation</th>\n",
              "      <th>carbon</th>\n",
              "    </tr>\n",
              "  </thead>\n",
              "  <tbody>\n",
              "    <tr>\n",
              "      <th>Wind</th>\n",
              "      <td>47.0</td>\n",
              "      <td>0</td>\n",
              "    </tr>\n",
              "    <tr>\n",
              "      <th>Solar</th>\n",
              "      <td>127.0</td>\n",
              "      <td>6096</td>\n",
              "    </tr>\n",
              "    <tr>\n",
              "      <th>Hydro</th>\n",
              "      <td>1975.0</td>\n",
              "      <td>0</td>\n",
              "    </tr>\n",
              "    <tr>\n",
              "      <th>Other</th>\n",
              "      <td>658.0</td>\n",
              "      <td>15792</td>\n",
              "    </tr>\n",
              "    <tr>\n",
              "      <th>Oil</th>\n",
              "      <td>48.0</td>\n",
              "      <td>23520</td>\n",
              "    </tr>\n",
              "    <tr>\n",
              "      <th>NaturalGas</th>\n",
              "      <td>14636.0</td>\n",
              "      <td>7171640</td>\n",
              "    </tr>\n",
              "    <tr>\n",
              "      <th>Coal</th>\n",
              "      <td>16.0</td>\n",
              "      <td>13120</td>\n",
              "    </tr>\n",
              "    <tr>\n",
              "      <th>Nuclear</th>\n",
              "      <td>3322.0</td>\n",
              "      <td>39864</td>\n",
              "    </tr>\n",
              "  </tbody>\n",
              "</table>\n",
              "</div>"
            ],
            "text/plain": [
              "            generation   carbon\n",
              "Wind              47.0        0\n",
              "Solar            127.0     6096\n",
              "Hydro           1975.0        0\n",
              "Other            658.0    15792\n",
              "Oil               48.0    23520\n",
              "NaturalGas     14636.0  7171640\n",
              "Coal              16.0    13120\n",
              "Nuclear         3322.0    39864"
            ]
          },
          "metadata": {
            "tags": []
          },
          "execution_count": 46
        }
      ]
    },
    {
      "cell_type": "code",
      "metadata": {
        "execution": {
          "iopub.execute_input": "2021-05-31T04:27:16.979146Z",
          "iopub.status.busy": "2021-05-31T04:27:16.978186Z",
          "iopub.status.idle": "2021-05-31T04:27:16.982302Z",
          "shell.execute_reply": "2021-05-31T04:27:16.981893Z",
          "shell.execute_reply.started": "2021-05-31T02:39:50.857495Z"
        },
        "papermill": {
          "duration": 0.081573,
          "end_time": "2021-05-31T04:27:16.982405",
          "exception": false,
          "start_time": "2021-05-31T04:27:16.900832",
          "status": "completed"
        },
        "tags": [],
        "id": "fP_EIqQYiD1P",
        "outputId": "97afe1af-c94a-417b-ed58-1c88d246073a"
      },
      "source": [
        "# sort by ascending order of carbon emission\n",
        "peakt = peakt.sort_values(by=['carbon'])\n",
        "peakt"
      ],
      "execution_count": null,
      "outputs": [
        {
          "output_type": "execute_result",
          "data": {
            "text/html": [
              "<div>\n",
              "<style scoped>\n",
              "    .dataframe tbody tr th:only-of-type {\n",
              "        vertical-align: middle;\n",
              "    }\n",
              "\n",
              "    .dataframe tbody tr th {\n",
              "        vertical-align: top;\n",
              "    }\n",
              "\n",
              "    .dataframe thead th {\n",
              "        text-align: right;\n",
              "    }\n",
              "</style>\n",
              "<table border=\"1\" class=\"dataframe\">\n",
              "  <thead>\n",
              "    <tr style=\"text-align: right;\">\n",
              "      <th></th>\n",
              "      <th>generation</th>\n",
              "      <th>carbon</th>\n",
              "    </tr>\n",
              "  </thead>\n",
              "  <tbody>\n",
              "    <tr>\n",
              "      <th>Wind</th>\n",
              "      <td>47.0</td>\n",
              "      <td>0</td>\n",
              "    </tr>\n",
              "    <tr>\n",
              "      <th>Hydro</th>\n",
              "      <td>1975.0</td>\n",
              "      <td>0</td>\n",
              "    </tr>\n",
              "    <tr>\n",
              "      <th>Solar</th>\n",
              "      <td>127.0</td>\n",
              "      <td>6096</td>\n",
              "    </tr>\n",
              "    <tr>\n",
              "      <th>Coal</th>\n",
              "      <td>16.0</td>\n",
              "      <td>13120</td>\n",
              "    </tr>\n",
              "    <tr>\n",
              "      <th>Other</th>\n",
              "      <td>658.0</td>\n",
              "      <td>15792</td>\n",
              "    </tr>\n",
              "    <tr>\n",
              "      <th>Oil</th>\n",
              "      <td>48.0</td>\n",
              "      <td>23520</td>\n",
              "    </tr>\n",
              "    <tr>\n",
              "      <th>Nuclear</th>\n",
              "      <td>3322.0</td>\n",
              "      <td>39864</td>\n",
              "    </tr>\n",
              "    <tr>\n",
              "      <th>NaturalGas</th>\n",
              "      <td>14636.0</td>\n",
              "      <td>7171640</td>\n",
              "    </tr>\n",
              "  </tbody>\n",
              "</table>\n",
              "</div>"
            ],
            "text/plain": [
              "            generation   carbon\n",
              "Wind              47.0        0\n",
              "Hydro           1975.0        0\n",
              "Solar            127.0     6096\n",
              "Coal              16.0    13120\n",
              "Other            658.0    15792\n",
              "Oil               48.0    23520\n",
              "Nuclear         3322.0    39864\n",
              "NaturalGas     14636.0  7171640"
            ]
          },
          "metadata": {
            "tags": []
          },
          "execution_count": 47
        }
      ]
    },
    {
      "cell_type": "code",
      "metadata": {
        "execution": {
          "iopub.execute_input": "2021-05-31T04:27:17.123538Z",
          "iopub.status.busy": "2021-05-31T04:27:17.122839Z",
          "iopub.status.idle": "2021-05-31T04:27:17.125260Z",
          "shell.execute_reply": "2021-05-31T04:27:17.125737Z",
          "shell.execute_reply.started": "2021-05-31T02:39:50.872715Z"
        },
        "papermill": {
          "duration": 0.075485,
          "end_time": "2021-05-31T04:27:17.125875",
          "exception": false,
          "start_time": "2021-05-31T04:27:17.050390",
          "status": "completed"
        },
        "tags": [],
        "id": "8MEcGEsXiD1P"
      },
      "source": [
        "# peakt[\"total_carbon(metric tons)\"] = (peakt[\"generation\"] * peakt[\"carbon\"]) / 1000\n",
        "# peakt"
      ],
      "execution_count": null,
      "outputs": []
    },
    {
      "cell_type": "code",
      "metadata": {
        "execution": {
          "iopub.execute_input": "2021-05-31T04:27:17.270925Z",
          "iopub.status.busy": "2021-05-31T04:27:17.269937Z",
          "iopub.status.idle": "2021-05-31T04:27:17.274347Z",
          "shell.execute_reply": "2021-05-31T04:27:17.273762Z",
          "shell.execute_reply.started": "2021-05-31T02:39:50.885030Z"
        },
        "papermill": {
          "duration": 0.081934,
          "end_time": "2021-05-31T04:27:17.274458",
          "exception": false,
          "start_time": "2021-05-31T04:27:17.192524",
          "status": "completed"
        },
        "tags": [],
        "id": "anvWkseKiD1P",
        "outputId": "26ad1ec0-348d-4a06-bf62-e85e23c00223"
      },
      "source": [
        "# Cummulative_generation with respect to nw ordering of carbon \n",
        "peakt['Cummulative_generation']  = peakt[\"generation\"].cumsum()\n",
        "peakt"
      ],
      "execution_count": null,
      "outputs": [
        {
          "output_type": "execute_result",
          "data": {
            "text/html": [
              "<div>\n",
              "<style scoped>\n",
              "    .dataframe tbody tr th:only-of-type {\n",
              "        vertical-align: middle;\n",
              "    }\n",
              "\n",
              "    .dataframe tbody tr th {\n",
              "        vertical-align: top;\n",
              "    }\n",
              "\n",
              "    .dataframe thead th {\n",
              "        text-align: right;\n",
              "    }\n",
              "</style>\n",
              "<table border=\"1\" class=\"dataframe\">\n",
              "  <thead>\n",
              "    <tr style=\"text-align: right;\">\n",
              "      <th></th>\n",
              "      <th>generation</th>\n",
              "      <th>carbon</th>\n",
              "      <th>Cummulative_generation</th>\n",
              "    </tr>\n",
              "  </thead>\n",
              "  <tbody>\n",
              "    <tr>\n",
              "      <th>Wind</th>\n",
              "      <td>47.0</td>\n",
              "      <td>0</td>\n",
              "      <td>47.0</td>\n",
              "    </tr>\n",
              "    <tr>\n",
              "      <th>Hydro</th>\n",
              "      <td>1975.0</td>\n",
              "      <td>0</td>\n",
              "      <td>2022.0</td>\n",
              "    </tr>\n",
              "    <tr>\n",
              "      <th>Solar</th>\n",
              "      <td>127.0</td>\n",
              "      <td>6096</td>\n",
              "      <td>2149.0</td>\n",
              "    </tr>\n",
              "    <tr>\n",
              "      <th>Coal</th>\n",
              "      <td>16.0</td>\n",
              "      <td>13120</td>\n",
              "      <td>2165.0</td>\n",
              "    </tr>\n",
              "    <tr>\n",
              "      <th>Other</th>\n",
              "      <td>658.0</td>\n",
              "      <td>15792</td>\n",
              "      <td>2823.0</td>\n",
              "    </tr>\n",
              "    <tr>\n",
              "      <th>Oil</th>\n",
              "      <td>48.0</td>\n",
              "      <td>23520</td>\n",
              "      <td>2871.0</td>\n",
              "    </tr>\n",
              "    <tr>\n",
              "      <th>Nuclear</th>\n",
              "      <td>3322.0</td>\n",
              "      <td>39864</td>\n",
              "      <td>6193.0</td>\n",
              "    </tr>\n",
              "    <tr>\n",
              "      <th>NaturalGas</th>\n",
              "      <td>14636.0</td>\n",
              "      <td>7171640</td>\n",
              "      <td>20829.0</td>\n",
              "    </tr>\n",
              "  </tbody>\n",
              "</table>\n",
              "</div>"
            ],
            "text/plain": [
              "            generation   carbon  Cummulative_generation\n",
              "Wind              47.0        0                    47.0\n",
              "Hydro           1975.0        0                  2022.0\n",
              "Solar            127.0     6096                  2149.0\n",
              "Coal              16.0    13120                  2165.0\n",
              "Other            658.0    15792                  2823.0\n",
              "Oil               48.0    23520                  2871.0\n",
              "Nuclear         3322.0    39864                  6193.0\n",
              "NaturalGas     14636.0  7171640                 20829.0"
            ]
          },
          "metadata": {
            "tags": []
          },
          "execution_count": 49
        }
      ]
    },
    {
      "cell_type": "code",
      "metadata": {
        "execution": {
          "iopub.execute_input": "2021-05-31T04:27:17.421994Z",
          "iopub.status.busy": "2021-05-31T04:27:17.421161Z",
          "iopub.status.idle": "2021-05-31T04:27:17.425473Z",
          "shell.execute_reply": "2021-05-31T04:27:17.424942Z",
          "shell.execute_reply.started": "2021-05-31T02:39:50.907371Z"
        },
        "papermill": {
          "duration": 0.083379,
          "end_time": "2021-05-31T04:27:17.425598",
          "exception": false,
          "start_time": "2021-05-31T04:27:17.342219",
          "status": "completed"
        },
        "tags": [],
        "id": "cjA52FBniD1P",
        "outputId": "6a9791ab-dd52-4d9a-e05e-e822df1c54c0"
      },
      "source": [
        "# Cummulative_carbon emission \n",
        "peakt['Cummulative_carbon(kg)']  = peakt[\"carbon\"].cumsum()\n",
        "peakt"
      ],
      "execution_count": null,
      "outputs": [
        {
          "output_type": "execute_result",
          "data": {
            "text/html": [
              "<div>\n",
              "<style scoped>\n",
              "    .dataframe tbody tr th:only-of-type {\n",
              "        vertical-align: middle;\n",
              "    }\n",
              "\n",
              "    .dataframe tbody tr th {\n",
              "        vertical-align: top;\n",
              "    }\n",
              "\n",
              "    .dataframe thead th {\n",
              "        text-align: right;\n",
              "    }\n",
              "</style>\n",
              "<table border=\"1\" class=\"dataframe\">\n",
              "  <thead>\n",
              "    <tr style=\"text-align: right;\">\n",
              "      <th></th>\n",
              "      <th>generation</th>\n",
              "      <th>carbon</th>\n",
              "      <th>Cummulative_generation</th>\n",
              "      <th>Cummulative_carbon(kg)</th>\n",
              "    </tr>\n",
              "  </thead>\n",
              "  <tbody>\n",
              "    <tr>\n",
              "      <th>Wind</th>\n",
              "      <td>47.0</td>\n",
              "      <td>0</td>\n",
              "      <td>47.0</td>\n",
              "      <td>0</td>\n",
              "    </tr>\n",
              "    <tr>\n",
              "      <th>Hydro</th>\n",
              "      <td>1975.0</td>\n",
              "      <td>0</td>\n",
              "      <td>2022.0</td>\n",
              "      <td>0</td>\n",
              "    </tr>\n",
              "    <tr>\n",
              "      <th>Solar</th>\n",
              "      <td>127.0</td>\n",
              "      <td>6096</td>\n",
              "      <td>2149.0</td>\n",
              "      <td>6096</td>\n",
              "    </tr>\n",
              "    <tr>\n",
              "      <th>Coal</th>\n",
              "      <td>16.0</td>\n",
              "      <td>13120</td>\n",
              "      <td>2165.0</td>\n",
              "      <td>19216</td>\n",
              "    </tr>\n",
              "    <tr>\n",
              "      <th>Other</th>\n",
              "      <td>658.0</td>\n",
              "      <td>15792</td>\n",
              "      <td>2823.0</td>\n",
              "      <td>35008</td>\n",
              "    </tr>\n",
              "    <tr>\n",
              "      <th>Oil</th>\n",
              "      <td>48.0</td>\n",
              "      <td>23520</td>\n",
              "      <td>2871.0</td>\n",
              "      <td>58528</td>\n",
              "    </tr>\n",
              "    <tr>\n",
              "      <th>Nuclear</th>\n",
              "      <td>3322.0</td>\n",
              "      <td>39864</td>\n",
              "      <td>6193.0</td>\n",
              "      <td>98392</td>\n",
              "    </tr>\n",
              "    <tr>\n",
              "      <th>NaturalGas</th>\n",
              "      <td>14636.0</td>\n",
              "      <td>7171640</td>\n",
              "      <td>20829.0</td>\n",
              "      <td>7270032</td>\n",
              "    </tr>\n",
              "  </tbody>\n",
              "</table>\n",
              "</div>"
            ],
            "text/plain": [
              "            generation   carbon  Cummulative_generation  \\\n",
              "Wind              47.0        0                    47.0   \n",
              "Hydro           1975.0        0                  2022.0   \n",
              "Solar            127.0     6096                  2149.0   \n",
              "Coal              16.0    13120                  2165.0   \n",
              "Other            658.0    15792                  2823.0   \n",
              "Oil               48.0    23520                  2871.0   \n",
              "Nuclear         3322.0    39864                  6193.0   \n",
              "NaturalGas     14636.0  7171640                 20829.0   \n",
              "\n",
              "            Cummulative_carbon(kg)  \n",
              "Wind                             0  \n",
              "Hydro                            0  \n",
              "Solar                         6096  \n",
              "Coal                         19216  \n",
              "Other                        35008  \n",
              "Oil                          58528  \n",
              "Nuclear                      98392  \n",
              "NaturalGas                 7270032  "
            ]
          },
          "metadata": {
            "tags": []
          },
          "execution_count": 50
        }
      ]
    },
    {
      "cell_type": "code",
      "metadata": {
        "execution": {
          "iopub.execute_input": "2021-05-31T04:27:17.568762Z",
          "iopub.status.busy": "2021-05-31T04:27:17.567900Z",
          "iopub.status.idle": "2021-05-31T04:27:17.570633Z",
          "shell.execute_reply": "2021-05-31T04:27:17.570138Z",
          "shell.execute_reply.started": "2021-05-31T02:39:50.927592Z"
        },
        "papermill": {
          "duration": 0.077247,
          "end_time": "2021-05-31T04:27:17.570749",
          "exception": false,
          "start_time": "2021-05-31T04:27:17.493502",
          "status": "completed"
        },
        "tags": [],
        "id": "vdMtOF93iD1Q"
      },
      "source": [
        "def def_plot_limity(ymax,ypos):\n",
        "    if (ypos < ymax ):\n",
        "        return ypos\n",
        "    elif (ypos < 0 ):\n",
        "        return 0\n",
        "    return (ymax - (0.2*ymax))\n",
        "\n",
        "def def_plot_limitx(xmax,xpos):\n",
        "    if (xpos < xmax ):\n",
        "        return xpos\n",
        "    return xmax"
      ],
      "execution_count": null,
      "outputs": []
    },
    {
      "cell_type": "code",
      "metadata": {
        "execution": {
          "iopub.execute_input": "2021-05-31T04:27:17.709919Z",
          "iopub.status.busy": "2021-05-31T04:27:17.709250Z",
          "iopub.status.idle": "2021-05-31T04:27:17.712269Z",
          "shell.execute_reply": "2021-05-31T04:27:17.711832Z",
          "shell.execute_reply.started": "2021-05-31T02:39:50.944830Z"
        },
        "papermill": {
          "duration": 0.07431,
          "end_time": "2021-05-31T04:27:17.712369",
          "exception": false,
          "start_time": "2021-05-31T04:27:17.638059",
          "status": "completed"
        },
        "tags": [],
        "id": "ZUcWH8i2iD1Q"
      },
      "source": [
        "## standard plot consumption vs total carbon \n",
        "# carbonplot = peakt.plot(x=\"generation\",y=\"carbon\",grid=True, style='.-', \n",
        "#                             title='carbon vs consumption in '+ Region + \" on \" + str(peakmin.DATE.values) ,legend=True)\n",
        "# carbonplot.set_xlabel(\"generation(MW)\")\n",
        "# carbonplot.set_ylabel(\"carbon(kg)\")\n",
        "\n",
        "# index=0\n",
        "# colcount=len(peakt.columns)\n",
        "# for i, row in peakt.iterrows():\n",
        "#     index=index+1\n",
        "#     generation = row.values[0]\n",
        "#     carbon = row.values[1]\n",
        "#     print(generation, carbon)\n",
        "#     carbonplot.annotate(i, xy=(generation, carbon), \n",
        "#                         xytext=(generation+(colcount-index)*1000, carbon+(colcount-index)*220000),\n",
        "#                         arrowprops=dict(arrowstyle='-|>') ,ha='left', rotation=45)"
      ],
      "execution_count": null,
      "outputs": []
    },
    {
      "cell_type": "code",
      "metadata": {
        "execution": {
          "iopub.execute_input": "2021-05-31T04:27:17.969178Z",
          "iopub.status.busy": "2021-05-31T04:27:17.968400Z",
          "iopub.status.idle": "2021-05-31T04:27:18.318107Z",
          "shell.execute_reply": "2021-05-31T04:27:18.317363Z",
          "shell.execute_reply.started": "2021-05-31T02:39:50.954190Z"
        },
        "papermill": {
          "duration": 0.538735,
          "end_time": "2021-05-31T04:27:18.318229",
          "exception": false,
          "start_time": "2021-05-31T04:27:17.779494",
          "status": "completed"
        },
        "tags": [],
        "id": "UdiC8nY7iD1Q",
        "outputId": "43e97073-541b-4228-b532-3762dd2572a1"
      },
      "source": [
        "## Cumulative plot \n",
        "carbonplot = peakt.plot(x=\"Cummulative_generation\",y=\"Cummulative_carbon(kg)\", \n",
        "                        title=\"Cummulative_carbon vs Cummulative_generation \\n\"+\n",
        "                        \"in \"+ Region + \" on \" + str(peakmin.Timestamp.values[0]) ,\n",
        "                        grid=True, style='.-', legend=True)\n",
        "carbonplot.set_xlabel(\"Cumulative_generation(MW)\")\n",
        "carbonplot.set_ylabel(\"Cummulative_carbon(kg)\")\n",
        "\n",
        "xmax = peakt['Cummulative_generation'].max()\n",
        "ymax = peakt['Cummulative_carbon(kg)'].max()\n",
        "index=0\n",
        "colcount=len(peakt.columns)\n",
        "\n",
        "for i, row in peakt.iterrows():\n",
        "    index = index+1\n",
        "    x = row.values[2]\n",
        "    y = row.values[3]\n",
        "    xpos = def_plot_limitx(xmax, x+(index)*1000)\n",
        "    ypos = def_plot_limity(ymax, y+(index)*350000)\n",
        "    carbonplot.annotate(i, xy=(x, y), \n",
        "                         xytext=(xpos, ypos), ha='center', va='center',\n",
        "                         arrowprops=dict(arrowstyle='-|>'), rotation=0)"
      ],
      "execution_count": null,
      "outputs": [
        {
          "output_type": "display_data",
          "data": {
            "image/png": "[encoded data removed]",
            "text/plain": [
              "<Figure size 432x288 with 1 Axes>"
            ]
          },
          "metadata": {
            "tags": [],
            "needs_background": "light"
          }
        }
      ]
    },
    {
      "cell_type": "code",
      "metadata": {
        "execution": {
          "iopub.execute_input": "2021-05-31T04:27:18.525252Z",
          "iopub.status.busy": "2021-05-31T04:27:18.524656Z",
          "iopub.status.idle": "2021-05-31T04:27:18.528148Z",
          "shell.execute_reply": "2021-05-31T04:27:18.527519Z",
          "shell.execute_reply.started": "2021-05-31T02:39:51.453040Z"
        },
        "papermill": {
          "duration": 0.141376,
          "end_time": "2021-05-31T04:27:18.528259",
          "exception": false,
          "start_time": "2021-05-31T04:27:18.386883",
          "status": "completed"
        },
        "tags": [],
        "id": "ybKrX3I1iD1Q"
      },
      "source": [
        "\n",
        "# cplot = peakhour3.plot(y=\"commulative_CO2 emissions\",x=\"commulative_demand\",grid=True, style='.-', \n",
        "#                             title='commulative_CO2 emissions vs commulative_demand',legend=True)\n",
        "# cplot.set_xlabel(\"commulative_demand (kW) \")\n",
        "# cplot.set_ylabel(\"commulative_CO2 emissions (kg/kWh)\")\n",
        "\n",
        "# index=0\n",
        "# colcount=len(df.columns)\n",
        "# for i, row in peakhour3.iterrows():\n",
        "#     index=index+1\n",
        "#     print(row.values[3])\n",
        "#     tag= row.values[0], row.values[3], row.values[5]\n",
        "#     cplot.annotate(tag, \n",
        "#                     xy=(row.values[3], row.values[5]), \n",
        "#                     xytext=(row.values[3]+(colcount-index), row.values[5]+(colcount-index)),\n",
        "#                     arrowprops=dict(arrowstyle='-|>') ,ha='left', rotation=0)"
      ],
      "execution_count": null,
      "outputs": []
    },
    {
      "cell_type": "markdown",
      "metadata": {
        "papermill": {
          "duration": 0.067694,
          "end_time": "2021-05-31T04:27:18.665811",
          "exception": false,
          "start_time": "2021-05-31T04:27:18.598117",
          "status": "completed"
        },
        "tags": [],
        "id": "4JRg9LeKiD1R"
      },
      "source": [
        "<a id=\"section-six\"></a>\n",
        "# 6. Price vs Fuel Type\n",
        "LCOE (Levelized Cost Of generating Electricity) - price per MWh\n",
        "Now that we have a merged dataset we can take a closer look at data distributions and correlations."
      ]
    },
    {
      "cell_type": "code",
      "metadata": {
        "execution": {
          "iopub.execute_input": "2021-05-31T04:27:18.809811Z",
          "iopub.status.busy": "2021-05-31T04:27:18.809192Z",
          "iopub.status.idle": "2021-05-31T04:27:18.825221Z",
          "shell.execute_reply": "2021-05-31T04:27:18.824483Z",
          "shell.execute_reply.started": "2021-05-31T02:39:51.459240Z"
        },
        "papermill": {
          "duration": 0.091818,
          "end_time": "2021-05-31T04:27:18.825343",
          "exception": false,
          "start_time": "2021-05-31T04:27:18.733525",
          "status": "completed"
        },
        "tags": [],
        "id": "rQvIU8JbiD1R",
        "outputId": "1b826270-9081-4cb6-b19c-680daeaea247"
      },
      "source": [
        "df_cost = pd.read_csv(\"../input/lcoe-co2/US Utility grids - LCOE Co2 Emissions - Price2.csv\")\n",
        "df_cost\n",
        "## Data source : IPCC ANEX III Technology-specific Cost and Performance Parameters -2014\n",
        "# Schlömer S., T. Bruckner, L. Fulton, E. Hertwich, A. McKinnon, D. Perczyk, J. Roy, R. Schaeffer, R. Sims, P. Smith, and R. Wiser,\n",
        "# 2014: Annex III: Technology-specific cost and performance parameters. In: Climate Change 2014: Mitigation of Climate\n",
        "# Change. Contribution of Working Group III to the Fifth Assessment Report of the Intergovernmental Panel on Climate\n",
        "# Change [Edenhofer, O., R. Pichs-Madruga, Y. Sokona, E. Farahani, S. Kadner, K. Seyboth, A. Adler, I. Baum, S. Brunner, P.\n",
        "# Eickemeier, B. Kriemann, J. Savolainen, S. Schlömer, C. von Stechow, T. Zwickel and J.C. Minx (eds.)]. Cambridge University\n",
        "# Press, Cambridge, United Kingdom and New York, NY, USA."
      ],
      "execution_count": null,
      "outputs": [
        {
          "output_type": "execute_result",
          "data": {
            "text/html": [
              "<div>\n",
              "<style scoped>\n",
              "    .dataframe tbody tr th:only-of-type {\n",
              "        vertical-align: middle;\n",
              "    }\n",
              "\n",
              "    .dataframe tbody tr th {\n",
              "        vertical-align: top;\n",
              "    }\n",
              "\n",
              "    .dataframe thead th {\n",
              "        text-align: right;\n",
              "    }\n",
              "</style>\n",
              "<table border=\"1\" class=\"dataframe\">\n",
              "  <thead>\n",
              "    <tr style=\"text-align: right;\">\n",
              "      <th></th>\n",
              "      <th>Fuel Type</th>\n",
              "      <th>LCOE / Marginal Cost ( with subsidy)  ( $/Mwh)</th>\n",
              "      <th>LCOE from IEA 2020 ($/MWh)</th>\n",
              "    </tr>\n",
              "  </thead>\n",
              "  <tbody>\n",
              "    <tr>\n",
              "      <th>0</th>\n",
              "      <td>Nuclear</td>\n",
              "      <td>25.0</td>\n",
              "      <td>46.850</td>\n",
              "    </tr>\n",
              "    <tr>\n",
              "      <th>1</th>\n",
              "      <td>Wind</td>\n",
              "      <td>NaN</td>\n",
              "      <td>69.920</td>\n",
              "    </tr>\n",
              "    <tr>\n",
              "      <th>2</th>\n",
              "      <td>Solar</td>\n",
              "      <td>24.0</td>\n",
              "      <td>98.270</td>\n",
              "    </tr>\n",
              "    <tr>\n",
              "      <th>3</th>\n",
              "      <td>Other</td>\n",
              "      <td>9.0</td>\n",
              "      <td>83.935</td>\n",
              "    </tr>\n",
              "    <tr>\n",
              "      <th>4</th>\n",
              "      <td>Petroleum</td>\n",
              "      <td>34.0</td>\n",
              "      <td>57.660</td>\n",
              "    </tr>\n",
              "    <tr>\n",
              "      <th>5</th>\n",
              "      <td>Oil</td>\n",
              "      <td>34.0</td>\n",
              "      <td>57.660</td>\n",
              "    </tr>\n",
              "    <tr>\n",
              "      <th>6</th>\n",
              "      <td>Natural gas</td>\n",
              "      <td>23.0</td>\n",
              "      <td>57.660</td>\n",
              "    </tr>\n",
              "    <tr>\n",
              "      <th>7</th>\n",
              "      <td>NaturalGas</td>\n",
              "      <td>23.0</td>\n",
              "      <td>57.660</td>\n",
              "    </tr>\n",
              "    <tr>\n",
              "      <th>8</th>\n",
              "      <td>Coal</td>\n",
              "      <td>34.0</td>\n",
              "      <td>114.260</td>\n",
              "    </tr>\n",
              "    <tr>\n",
              "      <th>9</th>\n",
              "      <td>Hydro</td>\n",
              "      <td>NaN</td>\n",
              "      <td>97.950</td>\n",
              "    </tr>\n",
              "  </tbody>\n",
              "</table>\n",
              "</div>"
            ],
            "text/plain": [
              "     Fuel Type  LCOE / Marginal Cost ( with subsidy)  ( $/Mwh)  \\\n",
              "0      Nuclear                                            25.0   \n",
              "1         Wind                                             NaN   \n",
              "2       Solar                                             24.0   \n",
              "3        Other                                             9.0   \n",
              "4    Petroleum                                            34.0   \n",
              "5          Oil                                            34.0   \n",
              "6  Natural gas                                            23.0   \n",
              "7   NaturalGas                                            23.0   \n",
              "8         Coal                                            34.0   \n",
              "9        Hydro                                             NaN   \n",
              "\n",
              "   LCOE from IEA 2020 ($/MWh)   \n",
              "0                       46.850  \n",
              "1                       69.920  \n",
              "2                       98.270  \n",
              "3                       83.935  \n",
              "4                       57.660  \n",
              "5                       57.660  \n",
              "6                       57.660  \n",
              "7                       57.660  \n",
              "8                      114.260  \n",
              "9                       97.950  "
            ]
          },
          "metadata": {
            "tags": []
          },
          "execution_count": 55
        }
      ]
    },
    {
      "cell_type": "code",
      "metadata": {
        "execution": {
          "iopub.execute_input": "2021-05-31T04:27:18.973086Z",
          "iopub.status.busy": "2021-05-31T04:27:18.972087Z",
          "iopub.status.idle": "2021-05-31T04:27:18.976440Z",
          "shell.execute_reply": "2021-05-31T04:27:18.975910Z",
          "shell.execute_reply.started": "2021-05-31T02:39:51.485439Z"
        },
        "papermill": {
          "duration": 0.082514,
          "end_time": "2021-05-31T04:27:18.976563",
          "exception": false,
          "start_time": "2021-05-31T04:27:18.894049",
          "status": "completed"
        },
        "tags": [],
        "id": "4IbEyclqiD1R",
        "outputId": "893416d7-6129-4786-ba93-5c2d2fde7848"
      },
      "source": [
        "# df_cost['LCOE / Marginal Cost ( with subsidy)  ( $/Mwh)']\n",
        "df_cost[['Fuel Type','LCOE from IEA 2020 ($/MWh) ']]\n",
        "\n",
        "# df_cost.info()\n",
        "## Data source : https://www.iea.org/articles/levelised-cost-of-electricity-calculator LCOE estimates from Projected Costs of Generating Electricity 2020"
      ],
      "execution_count": null,
      "outputs": [
        {
          "output_type": "execute_result",
          "data": {
            "text/html": [
              "<div>\n",
              "<style scoped>\n",
              "    .dataframe tbody tr th:only-of-type {\n",
              "        vertical-align: middle;\n",
              "    }\n",
              "\n",
              "    .dataframe tbody tr th {\n",
              "        vertical-align: top;\n",
              "    }\n",
              "\n",
              "    .dataframe thead th {\n",
              "        text-align: right;\n",
              "    }\n",
              "</style>\n",
              "<table border=\"1\" class=\"dataframe\">\n",
              "  <thead>\n",
              "    <tr style=\"text-align: right;\">\n",
              "      <th></th>\n",
              "      <th>Fuel Type</th>\n",
              "      <th>LCOE from IEA 2020 ($/MWh)</th>\n",
              "    </tr>\n",
              "  </thead>\n",
              "  <tbody>\n",
              "    <tr>\n",
              "      <th>0</th>\n",
              "      <td>Nuclear</td>\n",
              "      <td>46.850</td>\n",
              "    </tr>\n",
              "    <tr>\n",
              "      <th>1</th>\n",
              "      <td>Wind</td>\n",
              "      <td>69.920</td>\n",
              "    </tr>\n",
              "    <tr>\n",
              "      <th>2</th>\n",
              "      <td>Solar</td>\n",
              "      <td>98.270</td>\n",
              "    </tr>\n",
              "    <tr>\n",
              "      <th>3</th>\n",
              "      <td>Other</td>\n",
              "      <td>83.935</td>\n",
              "    </tr>\n",
              "    <tr>\n",
              "      <th>4</th>\n",
              "      <td>Petroleum</td>\n",
              "      <td>57.660</td>\n",
              "    </tr>\n",
              "    <tr>\n",
              "      <th>5</th>\n",
              "      <td>Oil</td>\n",
              "      <td>57.660</td>\n",
              "    </tr>\n",
              "    <tr>\n",
              "      <th>6</th>\n",
              "      <td>Natural gas</td>\n",
              "      <td>57.660</td>\n",
              "    </tr>\n",
              "    <tr>\n",
              "      <th>7</th>\n",
              "      <td>NaturalGas</td>\n",
              "      <td>57.660</td>\n",
              "    </tr>\n",
              "    <tr>\n",
              "      <th>8</th>\n",
              "      <td>Coal</td>\n",
              "      <td>114.260</td>\n",
              "    </tr>\n",
              "    <tr>\n",
              "      <th>9</th>\n",
              "      <td>Hydro</td>\n",
              "      <td>97.950</td>\n",
              "    </tr>\n",
              "  </tbody>\n",
              "</table>\n",
              "</div>"
            ],
            "text/plain": [
              "     Fuel Type  LCOE from IEA 2020 ($/MWh) \n",
              "0      Nuclear                       46.850\n",
              "1         Wind                       69.920\n",
              "2       Solar                        98.270\n",
              "3        Other                       83.935\n",
              "4    Petroleum                       57.660\n",
              "5          Oil                       57.660\n",
              "6  Natural gas                       57.660\n",
              "7   NaturalGas                       57.660\n",
              "8         Coal                      114.260\n",
              "9        Hydro                       97.950"
            ]
          },
          "metadata": {
            "tags": []
          },
          "execution_count": 56
        }
      ]
    },
    {
      "cell_type": "code",
      "metadata": {
        "execution": {
          "iopub.execute_input": "2021-05-31T04:27:19.123205Z",
          "iopub.status.busy": "2021-05-31T04:27:19.122184Z",
          "iopub.status.idle": "2021-05-31T04:27:19.270250Z",
          "shell.execute_reply": "2021-05-31T04:27:19.270683Z",
          "shell.execute_reply.started": "2021-05-31T02:39:51.502667Z"
        },
        "papermill": {
          "duration": 0.223801,
          "end_time": "2021-05-31T04:27:19.270833",
          "exception": false,
          "start_time": "2021-05-31T04:27:19.047032",
          "status": "completed"
        },
        "tags": [],
        "id": "YIOH2waviD1R",
        "outputId": "625a570e-f08e-4b4a-c93e-89ecba783cd3"
      },
      "source": [
        "df_cost.sort_values('LCOE from IEA 2020 ($/MWh) ',ascending=True).plot(x=\"Fuel Type\",y='LCOE from IEA 2020 ($/MWh) ', kind='bar')\n",
        "# df_cost.xticks(rotation=90)"
      ],
      "execution_count": null,
      "outputs": [
        {
          "output_type": "execute_result",
          "data": {
            "text/plain": [
              "<matplotlib.axes._subplots.AxesSubplot at 0x7fae6575a690>"
            ]
          },
          "metadata": {
            "tags": []
          },
          "execution_count": 57
        },
        {
          "output_type": "display_data",
          "data": {
            "image/png": "[encoded data removed]",
            "text/plain": [
              "<Figure size 432x288 with 1 Axes>"
            ]
          },
          "metadata": {
            "tags": [],
            "needs_background": "light"
          }
        }
      ]
    },
    {
      "cell_type": "markdown",
      "metadata": {
        "papermill": {
          "duration": 0.069036,
          "end_time": "2021-05-31T04:27:19.410246",
          "exception": false,
          "start_time": "2021-05-31T04:27:19.341210",
          "status": "completed"
        },
        "tags": [],
        "id": "PCyoV4IhiD1S"
      },
      "source": [
        "IEA LCOE estimates from Projected Costs of Generating Electricity 2020"
      ]
    },
    {
      "cell_type": "code",
      "metadata": {
        "execution": {
          "iopub.execute_input": "2021-05-31T04:27:19.554189Z",
          "iopub.status.busy": "2021-05-31T04:27:19.553620Z",
          "iopub.status.idle": "2021-05-31T04:27:19.556516Z",
          "shell.execute_reply": "2021-05-31T04:27:19.556976Z",
          "shell.execute_reply.started": "2021-05-31T02:39:51.657246Z"
        },
        "papermill": {
          "duration": 0.076899,
          "end_time": "2021-05-31T04:27:19.557131",
          "exception": false,
          "start_time": "2021-05-31T04:27:19.480232",
          "status": "completed"
        },
        "tags": [],
        "id": "LTdH61zFiD1S"
      },
      "source": [
        "# Assumptions \n",
        "# Discount rate 7% Central case\n",
        "# Carbon price 30.00 USD/ton Default assumption\n",
        "# Heat price 37.06 USD/MWh Default assumption\n",
        "# Coal price 100% Default assumption\n",
        "# Gas price 100% Default assumption"
      ],
      "execution_count": null,
      "outputs": []
    },
    {
      "cell_type": "code",
      "metadata": {
        "execution": {
          "iopub.execute_input": "2021-05-31T04:27:19.699930Z",
          "iopub.status.busy": "2021-05-31T04:27:19.699332Z",
          "iopub.status.idle": "2021-05-31T04:27:19.703873Z",
          "shell.execute_reply": "2021-05-31T04:27:19.704618Z",
          "shell.execute_reply.started": "2021-05-31T02:39:51.663208Z"
        },
        "papermill": {
          "duration": 0.076703,
          "end_time": "2021-05-31T04:27:19.704775",
          "exception": false,
          "start_time": "2021-05-31T04:27:19.628072",
          "status": "completed"
        },
        "tags": [],
        "id": "Sw5Q9xVBiD1S"
      },
      "source": [
        "peakt = peakt.drop(columns=['Cummulative_generation','carbon','Cummulative_carbon(kg)'])"
      ],
      "execution_count": null,
      "outputs": []
    },
    {
      "cell_type": "code",
      "metadata": {
        "execution": {
          "iopub.execute_input": "2021-05-31T04:27:19.851490Z",
          "iopub.status.busy": "2021-05-31T04:27:19.850784Z",
          "iopub.status.idle": "2021-05-31T04:27:19.876635Z",
          "shell.execute_reply": "2021-05-31T04:27:19.876116Z",
          "shell.execute_reply.started": "2021-05-31T02:39:51.675666Z"
        },
        "papermill": {
          "duration": 0.099585,
          "end_time": "2021-05-31T04:27:19.876749",
          "exception": false,
          "start_time": "2021-05-31T04:27:19.777164",
          "status": "completed"
        },
        "tags": [],
        "id": "npmjcvIOiD1S",
        "outputId": "3df84228-04b0-4b55-da45-11e8e0137c02"
      },
      "source": [
        "peakt['price']=0\n",
        "for i, row in peakt.iterrows():\n",
        "#     print(i)\n",
        "    for j,cost in df_cost.iterrows():\n",
        "#         print(lcoe.values[0])\n",
        "        if i in cost[0]:\n",
        "            print(\"Match between two tables for \"+i+ \" and \"+ cost[0])\n",
        "            print(cost.values[2])\n",
        "            print(row.values[0])\n",
        "            peakt.at[i,'price']= cost[2] * row[0]\n",
        "\n",
        "peakt"
      ],
      "execution_count": null,
      "outputs": [
        {
          "output_type": "stream",
          "text": [
            "Match between two tables for Wind and Wind\n",
            "69.92\n",
            "47.0\n",
            "Match between two tables for Hydro and Hydro\n",
            "97.95\n",
            "1975.0\n",
            "Match between two tables for Solar and Solar \n",
            "98.27\n",
            "127.0\n",
            "Match between two tables for Coal and Coal\n",
            "114.26\n",
            "16.0\n",
            "Match between two tables for Other and Other\n",
            "83.935\n",
            "658.0\n",
            "Match between two tables for Oil and Oil\n",
            "57.66\n",
            "48.0\n",
            "Match between two tables for Nuclear and Nuclear\n",
            "46.85\n",
            "3322.0\n",
            "Match between two tables for NaturalGas and NaturalGas\n",
            "57.66\n",
            "14636.0\n"
          ],
          "name": "stdout"
        },
        {
          "output_type": "execute_result",
          "data": {
            "text/html": [
              "<div>\n",
              "<style scoped>\n",
              "    .dataframe tbody tr th:only-of-type {\n",
              "        vertical-align: middle;\n",
              "    }\n",
              "\n",
              "    .dataframe tbody tr th {\n",
              "        vertical-align: top;\n",
              "    }\n",
              "\n",
              "    .dataframe thead th {\n",
              "        text-align: right;\n",
              "    }\n",
              "</style>\n",
              "<table border=\"1\" class=\"dataframe\">\n",
              "  <thead>\n",
              "    <tr style=\"text-align: right;\">\n",
              "      <th></th>\n",
              "      <th>generation</th>\n",
              "      <th>price</th>\n",
              "    </tr>\n",
              "  </thead>\n",
              "  <tbody>\n",
              "    <tr>\n",
              "      <th>Wind</th>\n",
              "      <td>47.0</td>\n",
              "      <td>3286</td>\n",
              "    </tr>\n",
              "    <tr>\n",
              "      <th>Hydro</th>\n",
              "      <td>1975.0</td>\n",
              "      <td>193451</td>\n",
              "    </tr>\n",
              "    <tr>\n",
              "      <th>Solar</th>\n",
              "      <td>127.0</td>\n",
              "      <td>12480</td>\n",
              "    </tr>\n",
              "    <tr>\n",
              "      <th>Coal</th>\n",
              "      <td>16.0</td>\n",
              "      <td>1828</td>\n",
              "    </tr>\n",
              "    <tr>\n",
              "      <th>Other</th>\n",
              "      <td>658.0</td>\n",
              "      <td>55229</td>\n",
              "    </tr>\n",
              "    <tr>\n",
              "      <th>Oil</th>\n",
              "      <td>48.0</td>\n",
              "      <td>2767</td>\n",
              "    </tr>\n",
              "    <tr>\n",
              "      <th>Nuclear</th>\n",
              "      <td>3322.0</td>\n",
              "      <td>155635</td>\n",
              "    </tr>\n",
              "    <tr>\n",
              "      <th>NaturalGas</th>\n",
              "      <td>14636.0</td>\n",
              "      <td>843911</td>\n",
              "    </tr>\n",
              "  </tbody>\n",
              "</table>\n",
              "</div>"
            ],
            "text/plain": [
              "            generation   price\n",
              "Wind              47.0    3286\n",
              "Hydro           1975.0  193451\n",
              "Solar            127.0   12480\n",
              "Coal              16.0    1828\n",
              "Other            658.0   55229\n",
              "Oil               48.0    2767\n",
              "Nuclear         3322.0  155635\n",
              "NaturalGas     14636.0  843911"
            ]
          },
          "metadata": {
            "tags": []
          },
          "execution_count": 60
        }
      ]
    },
    {
      "cell_type": "code",
      "metadata": {
        "execution": {
          "iopub.execute_input": "2021-05-31T04:27:20.030824Z",
          "iopub.status.busy": "2021-05-31T04:27:20.029829Z",
          "iopub.status.idle": "2021-05-31T04:27:20.034800Z",
          "shell.execute_reply": "2021-05-31T04:27:20.034345Z",
          "shell.execute_reply.started": "2021-05-31T02:39:51.707073Z"
        },
        "papermill": {
          "duration": 0.085943,
          "end_time": "2021-05-31T04:27:20.034912",
          "exception": false,
          "start_time": "2021-05-31T04:27:19.948969",
          "status": "completed"
        },
        "tags": [],
        "id": "YFbYbHNAiD1T",
        "outputId": "15b3cad3-3a8a-4f31-910d-9ec16faee5bc"
      },
      "source": [
        "# sort by ascending order of price\n",
        "peakt = peakt.sort_values(by=['price'])\n",
        "peakt"
      ],
      "execution_count": null,
      "outputs": [
        {
          "output_type": "execute_result",
          "data": {
            "text/html": [
              "<div>\n",
              "<style scoped>\n",
              "    .dataframe tbody tr th:only-of-type {\n",
              "        vertical-align: middle;\n",
              "    }\n",
              "\n",
              "    .dataframe tbody tr th {\n",
              "        vertical-align: top;\n",
              "    }\n",
              "\n",
              "    .dataframe thead th {\n",
              "        text-align: right;\n",
              "    }\n",
              "</style>\n",
              "<table border=\"1\" class=\"dataframe\">\n",
              "  <thead>\n",
              "    <tr style=\"text-align: right;\">\n",
              "      <th></th>\n",
              "      <th>generation</th>\n",
              "      <th>price</th>\n",
              "    </tr>\n",
              "  </thead>\n",
              "  <tbody>\n",
              "    <tr>\n",
              "      <th>Coal</th>\n",
              "      <td>16.0</td>\n",
              "      <td>1828</td>\n",
              "    </tr>\n",
              "    <tr>\n",
              "      <th>Oil</th>\n",
              "      <td>48.0</td>\n",
              "      <td>2767</td>\n",
              "    </tr>\n",
              "    <tr>\n",
              "      <th>Wind</th>\n",
              "      <td>47.0</td>\n",
              "      <td>3286</td>\n",
              "    </tr>\n",
              "    <tr>\n",
              "      <th>Solar</th>\n",
              "      <td>127.0</td>\n",
              "      <td>12480</td>\n",
              "    </tr>\n",
              "    <tr>\n",
              "      <th>Other</th>\n",
              "      <td>658.0</td>\n",
              "      <td>55229</td>\n",
              "    </tr>\n",
              "    <tr>\n",
              "      <th>Nuclear</th>\n",
              "      <td>3322.0</td>\n",
              "      <td>155635</td>\n",
              "    </tr>\n",
              "    <tr>\n",
              "      <th>Hydro</th>\n",
              "      <td>1975.0</td>\n",
              "      <td>193451</td>\n",
              "    </tr>\n",
              "    <tr>\n",
              "      <th>NaturalGas</th>\n",
              "      <td>14636.0</td>\n",
              "      <td>843911</td>\n",
              "    </tr>\n",
              "  </tbody>\n",
              "</table>\n",
              "</div>"
            ],
            "text/plain": [
              "            generation   price\n",
              "Coal              16.0    1828\n",
              "Oil               48.0    2767\n",
              "Wind              47.0    3286\n",
              "Solar            127.0   12480\n",
              "Other            658.0   55229\n",
              "Nuclear         3322.0  155635\n",
              "Hydro           1975.0  193451\n",
              "NaturalGas     14636.0  843911"
            ]
          },
          "metadata": {
            "tags": []
          },
          "execution_count": 61
        }
      ]
    },
    {
      "cell_type": "code",
      "metadata": {
        "execution": {
          "iopub.execute_input": "2021-05-31T04:27:20.187047Z",
          "iopub.status.busy": "2021-05-31T04:27:20.186451Z",
          "iopub.status.idle": "2021-05-31T04:27:20.189570Z",
          "shell.execute_reply": "2021-05-31T04:27:20.190049Z",
          "shell.execute_reply.started": "2021-05-31T02:39:51.716798Z"
        },
        "papermill": {
          "duration": 0.084423,
          "end_time": "2021-05-31T04:27:20.190193",
          "exception": false,
          "start_time": "2021-05-31T04:27:20.105770",
          "status": "completed"
        },
        "tags": [],
        "id": "TjS6MwMkiD1T",
        "outputId": "ba187854-cf8c-44b9-95c8-79bdd5c1ac7a"
      },
      "source": [
        "# Cummulative_generation with respect to nw ordering of cost \n",
        "peakt['Cummulative_generation']  = peakt[\"generation\"].cumsum()\n",
        "peakt"
      ],
      "execution_count": null,
      "outputs": [
        {
          "output_type": "execute_result",
          "data": {
            "text/html": [
              "<div>\n",
              "<style scoped>\n",
              "    .dataframe tbody tr th:only-of-type {\n",
              "        vertical-align: middle;\n",
              "    }\n",
              "\n",
              "    .dataframe tbody tr th {\n",
              "        vertical-align: top;\n",
              "    }\n",
              "\n",
              "    .dataframe thead th {\n",
              "        text-align: right;\n",
              "    }\n",
              "</style>\n",
              "<table border=\"1\" class=\"dataframe\">\n",
              "  <thead>\n",
              "    <tr style=\"text-align: right;\">\n",
              "      <th></th>\n",
              "      <th>generation</th>\n",
              "      <th>price</th>\n",
              "      <th>Cummulative_generation</th>\n",
              "    </tr>\n",
              "  </thead>\n",
              "  <tbody>\n",
              "    <tr>\n",
              "      <th>Coal</th>\n",
              "      <td>16.0</td>\n",
              "      <td>1828</td>\n",
              "      <td>16.0</td>\n",
              "    </tr>\n",
              "    <tr>\n",
              "      <th>Oil</th>\n",
              "      <td>48.0</td>\n",
              "      <td>2767</td>\n",
              "      <td>64.0</td>\n",
              "    </tr>\n",
              "    <tr>\n",
              "      <th>Wind</th>\n",
              "      <td>47.0</td>\n",
              "      <td>3286</td>\n",
              "      <td>111.0</td>\n",
              "    </tr>\n",
              "    <tr>\n",
              "      <th>Solar</th>\n",
              "      <td>127.0</td>\n",
              "      <td>12480</td>\n",
              "      <td>238.0</td>\n",
              "    </tr>\n",
              "    <tr>\n",
              "      <th>Other</th>\n",
              "      <td>658.0</td>\n",
              "      <td>55229</td>\n",
              "      <td>896.0</td>\n",
              "    </tr>\n",
              "    <tr>\n",
              "      <th>Nuclear</th>\n",
              "      <td>3322.0</td>\n",
              "      <td>155635</td>\n",
              "      <td>4218.0</td>\n",
              "    </tr>\n",
              "    <tr>\n",
              "      <th>Hydro</th>\n",
              "      <td>1975.0</td>\n",
              "      <td>193451</td>\n",
              "      <td>6193.0</td>\n",
              "    </tr>\n",
              "    <tr>\n",
              "      <th>NaturalGas</th>\n",
              "      <td>14636.0</td>\n",
              "      <td>843911</td>\n",
              "      <td>20829.0</td>\n",
              "    </tr>\n",
              "  </tbody>\n",
              "</table>\n",
              "</div>"
            ],
            "text/plain": [
              "            generation   price  Cummulative_generation\n",
              "Coal              16.0    1828                    16.0\n",
              "Oil               48.0    2767                    64.0\n",
              "Wind              47.0    3286                   111.0\n",
              "Solar            127.0   12480                   238.0\n",
              "Other            658.0   55229                   896.0\n",
              "Nuclear         3322.0  155635                  4218.0\n",
              "Hydro           1975.0  193451                  6193.0\n",
              "NaturalGas     14636.0  843911                 20829.0"
            ]
          },
          "metadata": {
            "tags": []
          },
          "execution_count": 62
        }
      ]
    },
    {
      "cell_type": "code",
      "metadata": {
        "execution": {
          "iopub.execute_input": "2021-05-31T04:27:20.335546Z",
          "iopub.status.busy": "2021-05-31T04:27:20.335006Z",
          "iopub.status.idle": "2021-05-31T04:27:20.338254Z",
          "shell.execute_reply": "2021-05-31T04:27:20.338723Z",
          "shell.execute_reply.started": "2021-05-31T02:39:51.736775Z"
        },
        "papermill": {
          "duration": 0.076864,
          "end_time": "2021-05-31T04:27:20.338859",
          "exception": false,
          "start_time": "2021-05-31T04:27:20.261995",
          "status": "completed"
        },
        "tags": [],
        "id": "VTH-YR6hiD1T"
      },
      "source": [
        "# peakt[\"total_price($thousand)\"] = (peakt[\"generation\"] * peakt[\"price\"]) / 1000\n",
        "# peakt"
      ],
      "execution_count": null,
      "outputs": []
    },
    {
      "cell_type": "code",
      "metadata": {
        "execution": {
          "iopub.execute_input": "2021-05-31T04:27:20.485243Z",
          "iopub.status.busy": "2021-05-31T04:27:20.484713Z",
          "iopub.status.idle": "2021-05-31T04:27:20.496220Z",
          "shell.execute_reply": "2021-05-31T04:27:20.495641Z",
          "shell.execute_reply.started": "2021-05-31T02:39:51.748443Z"
        },
        "papermill": {
          "duration": 0.085422,
          "end_time": "2021-05-31T04:27:20.496323",
          "exception": false,
          "start_time": "2021-05-31T04:27:20.410901",
          "status": "completed"
        },
        "tags": [],
        "id": "Y5k33w3ViD1T",
        "outputId": "1dfd7780-820b-4779-954a-4b7fdf43ee91"
      },
      "source": [
        "# Cummulative price\n",
        "peakt['Cummulative_price($)']  = peakt[\"price\"].cumsum()\n",
        "peakt"
      ],
      "execution_count": null,
      "outputs": [
        {
          "output_type": "execute_result",
          "data": {
            "text/html": [
              "<div>\n",
              "<style scoped>\n",
              "    .dataframe tbody tr th:only-of-type {\n",
              "        vertical-align: middle;\n",
              "    }\n",
              "\n",
              "    .dataframe tbody tr th {\n",
              "        vertical-align: top;\n",
              "    }\n",
              "\n",
              "    .dataframe thead th {\n",
              "        text-align: right;\n",
              "    }\n",
              "</style>\n",
              "<table border=\"1\" class=\"dataframe\">\n",
              "  <thead>\n",
              "    <tr style=\"text-align: right;\">\n",
              "      <th></th>\n",
              "      <th>generation</th>\n",
              "      <th>price</th>\n",
              "      <th>Cummulative_generation</th>\n",
              "      <th>Cummulative_price($)</th>\n",
              "    </tr>\n",
              "  </thead>\n",
              "  <tbody>\n",
              "    <tr>\n",
              "      <th>Coal</th>\n",
              "      <td>16.0</td>\n",
              "      <td>1828</td>\n",
              "      <td>16.0</td>\n",
              "      <td>1828</td>\n",
              "    </tr>\n",
              "    <tr>\n",
              "      <th>Oil</th>\n",
              "      <td>48.0</td>\n",
              "      <td>2767</td>\n",
              "      <td>64.0</td>\n",
              "      <td>4595</td>\n",
              "    </tr>\n",
              "    <tr>\n",
              "      <th>Wind</th>\n",
              "      <td>47.0</td>\n",
              "      <td>3286</td>\n",
              "      <td>111.0</td>\n",
              "      <td>7881</td>\n",
              "    </tr>\n",
              "    <tr>\n",
              "      <th>Solar</th>\n",
              "      <td>127.0</td>\n",
              "      <td>12480</td>\n",
              "      <td>238.0</td>\n",
              "      <td>20361</td>\n",
              "    </tr>\n",
              "    <tr>\n",
              "      <th>Other</th>\n",
              "      <td>658.0</td>\n",
              "      <td>55229</td>\n",
              "      <td>896.0</td>\n",
              "      <td>75590</td>\n",
              "    </tr>\n",
              "    <tr>\n",
              "      <th>Nuclear</th>\n",
              "      <td>3322.0</td>\n",
              "      <td>155635</td>\n",
              "      <td>4218.0</td>\n",
              "      <td>231225</td>\n",
              "    </tr>\n",
              "    <tr>\n",
              "      <th>Hydro</th>\n",
              "      <td>1975.0</td>\n",
              "      <td>193451</td>\n",
              "      <td>6193.0</td>\n",
              "      <td>424676</td>\n",
              "    </tr>\n",
              "    <tr>\n",
              "      <th>NaturalGas</th>\n",
              "      <td>14636.0</td>\n",
              "      <td>843911</td>\n",
              "      <td>20829.0</td>\n",
              "      <td>1268587</td>\n",
              "    </tr>\n",
              "  </tbody>\n",
              "</table>\n",
              "</div>"
            ],
            "text/plain": [
              "            generation   price  Cummulative_generation  Cummulative_price($)\n",
              "Coal              16.0    1828                    16.0                  1828\n",
              "Oil               48.0    2767                    64.0                  4595\n",
              "Wind              47.0    3286                   111.0                  7881\n",
              "Solar            127.0   12480                   238.0                 20361\n",
              "Other            658.0   55229                   896.0                 75590\n",
              "Nuclear         3322.0  155635                  4218.0                231225\n",
              "Hydro           1975.0  193451                  6193.0                424676\n",
              "NaturalGas     14636.0  843911                 20829.0               1268587"
            ]
          },
          "metadata": {
            "tags": []
          },
          "execution_count": 64
        }
      ]
    },
    {
      "cell_type": "code",
      "metadata": {
        "execution": {
          "iopub.execute_input": "2021-05-31T04:27:20.646457Z",
          "iopub.status.busy": "2021-05-31T04:27:20.645779Z",
          "iopub.status.idle": "2021-05-31T04:27:20.649034Z",
          "shell.execute_reply": "2021-05-31T04:27:20.648544Z",
          "shell.execute_reply.started": "2021-05-31T02:39:51.772330Z"
        },
        "papermill": {
          "duration": 0.08138,
          "end_time": "2021-05-31T04:27:20.649147",
          "exception": false,
          "start_time": "2021-05-31T04:27:20.567767",
          "status": "completed"
        },
        "tags": [],
        "id": "-v3DVvweiD1U"
      },
      "source": [
        "# Plot price vs generation\n",
        "\n",
        "# costplot = peakt.plot(y=\"price\",x=\"generation\",grid=True, style='.-', \n",
        "#                             title='price vs generation in ' + Region ,legend=True)\n",
        "# costplot.set_xlabel(\"generation (MW) \")\n",
        "# costplot.set_ylabel(\"Price LCOE ($/MWh)\")\n",
        "\n",
        "# index =0\n",
        "# colcount=len(peakt.columns)\n",
        "# for i, row in peakt.iterrows():\n",
        "#     index=index+1\n",
        "# #     print(row.values[6])\n",
        "# #     costplot.text(row.values[2]+index*10, row.values[6]+index*30, str(i))\n",
        "#     costplot.annotate(i, xy=(row.values[0], row.values[1]), \n",
        "#                         xytext=(row.values[0]+(colcount-index)*1000, row.values[1]+(colcount-index)*3000),\n",
        "#                         arrowprops=dict(arrowstyle='-|>') ,ha='left', rotation=0)"
      ],
      "execution_count": null,
      "outputs": []
    },
    {
      "cell_type": "code",
      "metadata": {
        "execution": {
          "iopub.execute_input": "2021-05-31T04:27:20.802653Z",
          "iopub.status.busy": "2021-05-31T04:27:20.801992Z",
          "iopub.status.idle": "2021-05-31T04:27:21.143449Z",
          "shell.execute_reply": "2021-05-31T04:27:21.142950Z",
          "shell.execute_reply.started": "2021-05-31T02:39:51.784862Z"
        },
        "papermill": {
          "duration": 0.422006,
          "end_time": "2021-05-31T04:27:21.143580",
          "exception": false,
          "start_time": "2021-05-31T04:27:20.721574",
          "status": "completed"
        },
        "tags": [],
        "id": "3wXsQCshiD1U",
        "outputId": "82207a7e-7a0c-4ec7-f323-04c4e442f5d5"
      },
      "source": [
        "# Plot Cummulative_price vs Cummulative_generation\n",
        "\n",
        "costplot = peakt.plot(x=\"Cummulative_generation\",y='Cummulative_price($)',\n",
        "                            title=\"Cummulative_price vs Cummulative_generation in \\n\"+\n",
        "                            \"in \"+ Region + \" on \" + str(peakmin.Timestamp.values[0]),\n",
        "                            grid=True, style='.-', legend=True)\n",
        "costplot.set_xlabel(\"Cumulative generation(MW)\")\n",
        "costplot.set_ylabel(\"Cummulative_price($)\")\n",
        "\n",
        "xmax = peakt['Cummulative_generation'].max()\n",
        "ymax = peakt['Cummulative_price($)'].max()\n",
        "index = 0\n",
        "colcount=len(peakt.columns)\n",
        "for i, row in peakt.iterrows():\n",
        "    index=index+1\n",
        "    x = row.values[2]\n",
        "    y = row.values[3]\n",
        "    xpos = def_plot_limitx(xmax, x+(colcount-index)*2000)\n",
        "    ypos = def_plot_limity(ymax, y+(index)*30000)\n",
        "    costplot.annotate(i, xy=(x, y), \n",
        "                        xytext=(xpos, ypos), ha='center', va='center',\n",
        "                        arrowprops=dict(arrowstyle='-|>') , rotation=0)"
      ],
      "execution_count": null,
      "outputs": [
        {
          "output_type": "display_data",
          "data": {
            "image/png": "[encoded data removed]",
            "text/plain": [
              "<Figure size 432x288 with 1 Axes>"
            ]
          },
          "metadata": {
            "tags": [],
            "needs_background": "light"
          }
        }
      ]
    },
    {
      "cell_type": "markdown",
      "metadata": {
        "papermill": {
          "duration": 0.073994,
          "end_time": "2021-05-31T04:27:21.290789",
          "exception": false,
          "start_time": "2021-05-31T04:27:21.216795",
          "status": "completed"
        },
        "tags": [],
        "id": "_j63V2rbiD1U"
      },
      "source": [
        "<a id=\"section-seven\"></a>\n",
        "# 7. LMP Locational Marginal Pricing"
      ]
    },
    {
      "cell_type": "code",
      "metadata": {
        "execution": {
          "iopub.execute_input": "2021-05-31T04:27:21.439194Z",
          "iopub.status.busy": "2021-05-31T04:27:21.438278Z",
          "iopub.status.idle": "2021-05-31T04:27:21.476363Z",
          "shell.execute_reply": "2021-05-31T04:27:21.475829Z",
          "shell.execute_reply.started": "2021-05-31T02:39:52.140778Z"
        },
        "papermill": {
          "duration": 0.113294,
          "end_time": "2021-05-31T04:27:21.476474",
          "exception": false,
          "start_time": "2021-05-31T04:27:21.363180",
          "status": "completed"
        },
        "tags": [],
        "id": "wL_fk-7JiD1U"
      },
      "source": [
        "# Import all available data \n",
        "# df = pd.read_csv(\"../input/us-electricity-by-energy-source-in-spring/930-data-export.csv\")\n",
        "\n",
        "dfl = pd.read_csv(\"../input/lcoe-co2/lmp_Newengland_6_7_jul_2020.csv\")\n",
        "dfl2 = pd.read_csv(\"../input/lcoe-co2/lmp_Newengland_8_9_jul_2020.csv\")\n",
        "dfl3 = pd.read_csv(\"../input/lcoe-co2/lmp_Newengland_10_11_jul_2020.csv\")"
      ],
      "execution_count": null,
      "outputs": []
    },
    {
      "cell_type": "code",
      "metadata": {
        "execution": {
          "iopub.execute_input": "2021-05-31T04:27:21.629743Z",
          "iopub.status.busy": "2021-05-31T04:27:21.629082Z",
          "iopub.status.idle": "2021-05-31T04:27:21.633861Z",
          "shell.execute_reply": "2021-05-31T04:27:21.634331Z",
          "shell.execute_reply.started": "2021-05-31T02:39:52.159337Z"
        },
        "papermill": {
          "duration": 0.083823,
          "end_time": "2021-05-31T04:27:21.634462",
          "exception": false,
          "start_time": "2021-05-31T04:27:21.550639",
          "status": "completed"
        },
        "tags": [],
        "id": "M7cPbjkFiD1U",
        "outputId": "833e7774-b642-426e-edce-b2458a56a153"
      },
      "source": [
        "dfl = dfl.append(dfl2)\n",
        "dfl = dfl.append(dfl3)\n",
        "len(dfl) "
      ],
      "execution_count": null,
      "outputs": [
        {
          "output_type": "execute_result",
          "data": {
            "text/plain": [
              "1728"
            ]
          },
          "metadata": {
            "tags": []
          },
          "execution_count": 68
        }
      ]
    },
    {
      "cell_type": "code",
      "metadata": {
        "execution": {
          "iopub.execute_input": "2021-05-31T04:27:21.786044Z",
          "iopub.status.busy": "2021-05-31T04:27:21.785410Z",
          "iopub.status.idle": "2021-05-31T04:27:21.796951Z",
          "shell.execute_reply": "2021-05-31T04:27:21.797495Z",
          "shell.execute_reply.started": "2021-05-31T02:39:52.170528Z"
        },
        "papermill": {
          "duration": 0.088226,
          "end_time": "2021-05-31T04:27:21.797652",
          "exception": false,
          "start_time": "2021-05-31T04:27:21.709426",
          "status": "completed"
        },
        "tags": [],
        "id": "X8838D0diD1V",
        "outputId": "b6e3ad8f-45ac-4f80-826d-1a860213bcfe"
      },
      "source": [
        "dfl.head()"
      ],
      "execution_count": null,
      "outputs": [
        {
          "output_type": "execute_result",
          "data": {
            "text/html": [
              "<div>\n",
              "<style scoped>\n",
              "    .dataframe tbody tr th:only-of-type {\n",
              "        vertical-align: middle;\n",
              "    }\n",
              "\n",
              "    .dataframe tbody tr th {\n",
              "        vertical-align: top;\n",
              "    }\n",
              "\n",
              "    .dataframe thead th {\n",
              "        text-align: right;\n",
              "    }\n",
              "</style>\n",
              "<table border=\"1\" class=\"dataframe\">\n",
              "  <thead>\n",
              "    <tr style=\"text-align: right;\">\n",
              "      <th></th>\n",
              "      <th>BeginDate</th>\n",
              "      <th>ID</th>\n",
              "      <th>Energy</th>\n",
              "      <th>LMP</th>\n",
              "      <th>Loss</th>\n",
              "      <th>Congestion</th>\n",
              "    </tr>\n",
              "  </thead>\n",
              "  <tbody>\n",
              "    <tr>\n",
              "      <th>0</th>\n",
              "      <td>07/05/2020 21:00</td>\n",
              "      <td>4000</td>\n",
              "      <td>16.47</td>\n",
              "      <td>16.49</td>\n",
              "      <td>0.02</td>\n",
              "      <td>0.0</td>\n",
              "    </tr>\n",
              "    <tr>\n",
              "      <th>1</th>\n",
              "      <td>07/05/2020 21:05</td>\n",
              "      <td>4000</td>\n",
              "      <td>16.47</td>\n",
              "      <td>16.49</td>\n",
              "      <td>0.02</td>\n",
              "      <td>0.0</td>\n",
              "    </tr>\n",
              "    <tr>\n",
              "      <th>2</th>\n",
              "      <td>07/05/2020 21:10</td>\n",
              "      <td>4000</td>\n",
              "      <td>15.81</td>\n",
              "      <td>15.83</td>\n",
              "      <td>0.02</td>\n",
              "      <td>0.0</td>\n",
              "    </tr>\n",
              "    <tr>\n",
              "      <th>3</th>\n",
              "      <td>07/05/2020 21:15</td>\n",
              "      <td>4000</td>\n",
              "      <td>15.81</td>\n",
              "      <td>15.83</td>\n",
              "      <td>0.02</td>\n",
              "      <td>0.0</td>\n",
              "    </tr>\n",
              "    <tr>\n",
              "      <th>4</th>\n",
              "      <td>07/05/2020 21:20</td>\n",
              "      <td>4000</td>\n",
              "      <td>17.30</td>\n",
              "      <td>17.33</td>\n",
              "      <td>0.03</td>\n",
              "      <td>0.0</td>\n",
              "    </tr>\n",
              "  </tbody>\n",
              "</table>\n",
              "</div>"
            ],
            "text/plain": [
              "          BeginDate    ID  Energy    LMP  Loss  Congestion\n",
              "0  07/05/2020 21:00  4000   16.47  16.49  0.02         0.0\n",
              "1  07/05/2020 21:05  4000   16.47  16.49  0.02         0.0\n",
              "2  07/05/2020 21:10  4000   15.81  15.83  0.02         0.0\n",
              "3  07/05/2020 21:15  4000   15.81  15.83  0.02         0.0\n",
              "4  07/05/2020 21:20  4000   17.30  17.33  0.03         0.0"
            ]
          },
          "metadata": {
            "tags": []
          },
          "execution_count": 69
        }
      ]
    },
    {
      "cell_type": "code",
      "metadata": {
        "execution": {
          "iopub.execute_input": "2021-05-31T04:27:21.948155Z",
          "iopub.status.busy": "2021-05-31T04:27:21.947435Z",
          "iopub.status.idle": "2021-05-31T04:27:22.110460Z",
          "shell.execute_reply": "2021-05-31T04:27:22.110943Z",
          "shell.execute_reply.started": "2021-05-31T02:39:52.191975Z"
        },
        "papermill": {
          "duration": 0.240156,
          "end_time": "2021-05-31T04:27:22.111083",
          "exception": false,
          "start_time": "2021-05-31T04:27:21.870927",
          "status": "completed"
        },
        "tags": [],
        "id": "K38XBl3piD1V",
        "outputId": "1be19d21-7a57-4312-e0dc-addd7c5fc6d5"
      },
      "source": [
        "dfl.plot(y=['Energy','LMP','Loss','Congestion'])"
      ],
      "execution_count": null,
      "outputs": [
        {
          "output_type": "execute_result",
          "data": {
            "text/plain": [
              "<matplotlib.axes._subplots.AxesSubplot at 0x7fae67457450>"
            ]
          },
          "metadata": {
            "tags": []
          },
          "execution_count": 70
        },
        {
          "output_type": "display_data",
          "data": {
            "image/png": "[encoded data removed]",
            "text/plain": [
              "<Figure size 432x288 with 1 Axes>"
            ]
          },
          "metadata": {
            "tags": [],
            "needs_background": "light"
          }
        }
      ]
    },
    {
      "cell_type": "code",
      "metadata": {
        "execution": {
          "iopub.execute_input": "2021-05-31T04:27:22.267006Z",
          "iopub.status.busy": "2021-05-31T04:27:22.266340Z",
          "iopub.status.idle": "2021-05-31T04:27:22.572502Z",
          "shell.execute_reply": "2021-05-31T04:27:22.573052Z",
          "shell.execute_reply.started": "2021-05-31T02:39:52.374077Z"
        },
        "papermill": {
          "duration": 0.386879,
          "end_time": "2021-05-31T04:27:22.573189",
          "exception": false,
          "start_time": "2021-05-31T04:27:22.186310",
          "status": "completed"
        },
        "tags": [],
        "id": "31WsIjNViD1V"
      },
      "source": [
        "dfl['Timestamp'] = pd.to_datetime(dfl['BeginDate'],format = '%d-%m-%Y %H:%M', errors='ignore')\n",
        "\n",
        "# adding separate time and date columns\n",
        "dfl[\"DATE\"] = pd.to_datetime(dfl[\"Timestamp\"]).dt.date # add new column with date\n",
        "dfl[\"TIME\"] = pd.to_datetime(dfl[\"Timestamp\"]).dt.time # add new column with time\n",
        "\n",
        "# add hours and minutes for ml models\n",
        "dfl['HOURS'] = pd.to_datetime(dfl['TIME'],format='%H:%M:%S').dt.hour\n",
        "dfl['MINUTES'] = pd.to_datetime(dfl['TIME'],format='%H:%M:%S').dt.minute\n",
        "dfl['MINUTES_PASS'] = dfl['MINUTES'] + dfl['HOURS']*60\n",
        "\n",
        "\n",
        "dates= dfl['DATE'].unique()\n",
        "\n",
        "# remove first day which doesnt have all hours \n",
        "dates= dates[1:]"
      ],
      "execution_count": null,
      "outputs": []
    },
    {
      "cell_type": "code",
      "metadata": {
        "execution": {
          "iopub.execute_input": "2021-05-31T04:27:22.726506Z",
          "iopub.status.busy": "2021-05-31T04:27:22.725867Z",
          "iopub.status.idle": "2021-05-31T04:27:23.533276Z",
          "shell.execute_reply": "2021-05-31T04:27:23.533803Z",
          "shell.execute_reply.started": "2021-05-31T02:39:52.694309Z"
        },
        "papermill": {
          "duration": 0.885155,
          "end_time": "2021-05-31T04:27:23.533964",
          "exception": false,
          "start_time": "2021-05-31T04:27:22.648809",
          "status": "completed"
        },
        "tags": [],
        "id": "cGoEsswaiD1W",
        "outputId": "c139c0b5-f5ba-4088-f96b-3296606ad125"
      },
      "source": [
        "fig, axs = plt.subplots(nrows=3, ncols=2)\n",
        "fig.set_size_inches(20, 10)\n",
        "fig.subplots_adjust(wspace=0.2)\n",
        "fig.subplots_adjust(hspace=0.5)\n",
        "\n",
        "fig.legend('LMP')\n",
        "\n",
        "    \n",
        "for pp,ax in zip(dates,axs.flatten()):\n",
        "#     print(df_nw[pp])\n",
        "    print(pp)\n",
        "    sub_df = dfl[dfl['DATE']==pp]\n",
        "    sub_df.plot(x='MINUTES_PASS', y = 'LMP', ax = ax, \n",
        "                title = \"LMP for generation in \"+ Region + \" on \"+ pp.strftime('%B %d, %Y'),\n",
        "                legend=False)\n",
        "    \n",
        "    ax.set_ylabel(\"LMP($/Mw)\")\n",
        "    \n",
        "    mean_lmp = round(sub_df[\"LMP\"].mean())\n",
        "#     max_gen = sub_df[\"LMP\"].max()\n",
        "#     maxh = sub_df.loc[sub_df[\"LMP\"]== max_gen]\n",
        "#     maxh = maxh[\"HOURS\"]\n",
        "\n",
        "    ax.axhline(y=mean_lmp, xmin=-1, xmax=1, color='r', linestyle='--', lw=2)\n",
        "    ax.text(5,mean_lmp, \"Mean \" + str(mean_lmp) + \"(MW)\" )\n",
        "\n",
        "# #     ax.get_legend().remove()\n",
        "    \n",
        "#     ax.annotate('Peak '+ str(max_gen)+ \"(MWh)\", xy=(maxh,max_gen), xytext=(maxh+1, max_gen+1000),\n",
        "#              arrowprops=dict(arrowstyle='-|>') ,ha='left', rotation=0)\n",
        "    \n",
        "    ax.set_ylim(bottom = 0,top=100)\n",
        "    \n",
        "ax.legend(loc='center left', bbox_to_anchor=(1.0, 0.5))"
      ],
      "execution_count": null,
      "outputs": [
        {
          "output_type": "stream",
          "text": [
            "2020-07-06\n",
            "2020-07-07\n",
            "2020-07-08\n",
            "2020-07-09\n",
            "2020-07-10\n",
            "2020-07-11\n"
          ],
          "name": "stdout"
        },
        {
          "output_type": "execute_result",
          "data": {
            "text/plain": [
              "<matplotlib.legend.Legend at 0x7fae654f0610>"
            ]
          },
          "metadata": {
            "tags": []
          },
          "execution_count": 72
        },
        {
          "output_type": "display_data",
          "data": {
            "image/png": "[encoded data removed]",
            "text/plain": [
              "<Figure size 1440x720 with 6 Axes>"
            ]
          },
          "metadata": {
            "tags": [],
            "needs_background": "light"
          }
        }
      ]
    }
  ]
}