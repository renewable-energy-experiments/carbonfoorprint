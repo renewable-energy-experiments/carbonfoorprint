{
  "nbformat": 4,
  "nbformat_minor": 0,
  "metadata": {
    "kernelspec": {
      "language": "python",
      "display_name": "Python 3",
      "name": "python3"
    },
    "language_info": {
      "name": "python",
      "version": "3.7.6",
      "mimetype": "text/x-python",
      "codemirror_mode": {
        "name": "ipython",
        "version": 3
      },
      "pygments_lexer": "ipython3",
      "nbconvert_exporter": "python",
      "file_extension": ".py"
    },
    "colab": {
      "name": "power-generation caiso extrapolated.ipynb",
      "provenance": [],
      "collapsed_sections": [
        "wzEkYyxUsUnJ",
        "WsdcjEm2sUnN"
      ],
      "toc_visible": true,
      "include_colab_link": true
    }
  },
  "cells": [
    {
      "cell_type": "markdown",
      "metadata": {
        "id": "view-in-github",
        "colab_type": "text"
      },
      "source": [
        "<a href=\"https://colab.research.google.com/github/renewable-energy-experiments/carbonfoorprint/blob/master/power_generation_caiso_extrapolated.ipynb\" target=\"_parent\"><img src=\"https://colab.research.google.com/assets/colab-badge.svg\" alt=\"Open In Colab\"/></a>"
      ]
    },
    {
      "cell_type": "markdown",
      "metadata": {
        "_uuid": "8f2839f25d086af736a60e9eeb907d3b93b6e0e5",
        "_cell_guid": "b1076dfc-b9ad-4769-8c92-a6c4dae69d19",
        "trusted": true,
        "id": "5RwrVK9jsUmt"
      },
      "source": [
        "<h1><center> US electricity generation by energy source ( price , co2 emission by grids)<center><h1> \n",
        "  High granularity Power generation CA ISO ( California) "
      ]
    },
    {
      "cell_type": "markdown",
      "metadata": {
        "id": "fzZFftybsUmz"
      },
      "source": [
        "# Table of Contents\n",
        "* [1. DataSet Description](#section-one)\n",
        "* [2. Import and Preprocessing](#section-two)\n",
        "* [3. Filler and Filter](#section-three)\n",
        "* [4. Daily Grpahs](#section-four)\n",
        "* [5. Carbon Emission vs Fuel](#section-five)\n",
        "* [6. Price vs Fuel](#section-six)"
      ]
    },
    {
      "cell_type": "markdown",
      "metadata": {
        "id": "jF0CjhUksUm3"
      },
      "source": [
        "<a id=\"section-one\"></a>\n",
        "# 1. DataSet Description\n",
        "\n",
        "Dataset is weekly reports from EDA  for CA ISO"
      ]
    },
    {
      "cell_type": "markdown",
      "metadata": {
        "id": "qZpzhTQgsUm3"
      },
      "source": [
        "<a id=\"section-two\"></a>\n",
        "# 2. Import & Preprocessing\n",
        "\n",
        "Let's have a first look at the data. For the sake of simplicity we are only looking at data of plant 1 (power generation and weather). Data of power plant 2 can then be explored in a similar manner."
      ]
    },
    {
      "cell_type": "code",
      "metadata": {
        "_kg_hide-input": true,
        "execution": {
          "iopub.status.busy": "2021-05-31T04:17:50.633663Z",
          "iopub.execute_input": "2021-05-31T04:17:50.634087Z",
          "iopub.status.idle": "2021-05-31T04:17:50.646834Z",
          "shell.execute_reply.started": "2021-05-31T04:17:50.634054Z",
          "shell.execute_reply": "2021-05-31T04:17:50.645389Z"
        },
        "trusted": true,
        "id": "ag8O7HD7sUm4"
      },
      "source": [
        "import os\n",
        "import pandas as pd\n",
        "import numpy as np\n",
        "import datetime\n",
        "import seaborn as sns\n",
        "import matplotlib.pyplot as plt\n",
        "%matplotlib inline\n",
        "import plotly.express as px\n",
        "import plotly.graph_objects as go\n",
        "import matplotlib.dates as mdates \n",
        "xformatter = mdates.DateFormatter('%H:%M') # for time axis plots\n",
        "\n",
        "# import plotly.offline as py\n",
        "# py.init_notebook_mode(connected=True)\n",
        "\n",
        "import sklearn\n",
        "from scipy.optimize import curve_fit\n",
        "\n",
        "import warnings\n",
        "warnings.filterwarnings('ignore')"
      ],
      "execution_count": null,
      "outputs": []
    },
    {
      "cell_type": "code",
      "metadata": {
        "_kg_hide-input": true,
        "execution": {
          "iopub.status.busy": "2021-05-31T04:17:50.652623Z",
          "iopub.execute_input": "2021-05-31T04:17:50.653108Z",
          "iopub.status.idle": "2021-05-31T04:17:50.794150Z",
          "shell.execute_reply.started": "2021-05-31T04:17:50.653076Z",
          "shell.execute_reply": "2021-05-31T04:17:50.793176Z"
        },
        "trusted": true,
        "id": "HM0TnYM5sUm5"
      },
      "source": [
        "# Import all available data \n",
        "# df = pd.read_csv(\"../input/us-electricity-by-energy-source-in-spring/930-data-export.csv\")\n",
        "\n",
        "df = pd.read_csv(\"/content/CAISO-supply-20200706.csv\")\n",
        "df2 = pd.read_csv(\"/content/CAISO-supply-20200707.csv\")\n",
        "df3 = pd.read_csv(\"/content/CAISO-supply-20200708.csv\")\n",
        "df4 = pd.read_csv(\"/content/CAISO-supply-20200709.csv\")\n",
        "df5 = pd.read_csv(\"/content/CAISO-supply-20200710.csv\")\n",
        "df6 = pd.read_csv(\"/content/CAISO-supply-20200711.csv\")\n",
        "\n",
        "df =  df.transpose()\n",
        "df2 =  df2.transpose()\n",
        "df3 =  df3.transpose()\n",
        "df4 =  df4.transpose()\n",
        "df5 =  df5.transpose()\n",
        "df6 =  df6.transpose()"
      ],
      "execution_count": null,
      "outputs": []
    },
    {
      "cell_type": "code",
      "metadata": {
        "execution": {
          "iopub.status.busy": "2021-05-31T04:17:50.796177Z",
          "iopub.execute_input": "2021-05-31T04:17:50.796452Z",
          "iopub.status.idle": "2021-05-31T04:17:50.818391Z",
          "shell.execute_reply.started": "2021-05-31T04:17:50.796424Z",
          "shell.execute_reply": "2021-05-31T04:17:50.817207Z"
        },
        "trusted": true,
        "colab": {
          "base_uri": "https://localhost:8080/",
          "height": 204
        },
        "id": "WF_MMQTasUm5",
        "outputId": "d6764b82-a04d-414d-f2d8-d4ca2bd3846c"
      },
      "source": [
        "df.rename(columns=df.iloc[0], inplace = True)\n",
        "df2.rename(columns=df2.iloc[0], inplace = True)\n",
        "df3.rename(columns=df3.iloc[0], inplace = True)\n",
        "df4.rename(columns=df4.iloc[0], inplace = True)\n",
        "df5.rename(columns=df5.iloc[0], inplace = True)\n",
        "df6.rename(columns=df6.iloc[0], inplace = True)\n",
        "df2.head()"
      ],
      "execution_count": null,
      "outputs": [
        {
          "output_type": "execute_result",
          "data": {
            "text/html": [
              "<div>\n",
              "<style scoped>\n",
              "    .dataframe tbody tr th:only-of-type {\n",
              "        vertical-align: middle;\n",
              "    }\n",
              "\n",
              "    .dataframe tbody tr th {\n",
              "        vertical-align: top;\n",
              "    }\n",
              "\n",
              "    .dataframe thead th {\n",
              "        text-align: right;\n",
              "    }\n",
              "</style>\n",
              "<table border=\"1\" class=\"dataframe\">\n",
              "  <thead>\n",
              "    <tr style=\"text-align: right;\">\n",
              "      <th></th>\n",
              "      <th>Renewables</th>\n",
              "      <th>Natural gas</th>\n",
              "      <th>Large hydro</th>\n",
              "      <th>Imports</th>\n",
              "      <th>Batteries</th>\n",
              "      <th>Nuclear</th>\n",
              "      <th>Coal</th>\n",
              "      <th>Other</th>\n",
              "    </tr>\n",
              "  </thead>\n",
              "  <tbody>\n",
              "    <tr>\n",
              "      <th>Supply 07/07/2020</th>\n",
              "      <td>Renewables</td>\n",
              "      <td>Natural gas</td>\n",
              "      <td>Large hydro</td>\n",
              "      <td>Imports</td>\n",
              "      <td>Batteries</td>\n",
              "      <td>Nuclear</td>\n",
              "      <td>Coal</td>\n",
              "      <td>Other</td>\n",
              "    </tr>\n",
              "    <tr>\n",
              "      <th>0:00</th>\n",
              "      <td>5977</td>\n",
              "      <td>7918</td>\n",
              "      <td>1946</td>\n",
              "      <td>8518</td>\n",
              "      <td>-4</td>\n",
              "      <td>2273</td>\n",
              "      <td>12</td>\n",
              "      <td>0</td>\n",
              "    </tr>\n",
              "    <tr>\n",
              "      <th>0:05</th>\n",
              "      <td>5912</td>\n",
              "      <td>7628</td>\n",
              "      <td>1995</td>\n",
              "      <td>8673</td>\n",
              "      <td>-6</td>\n",
              "      <td>2274</td>\n",
              "      <td>13</td>\n",
              "      <td>0</td>\n",
              "    </tr>\n",
              "    <tr>\n",
              "      <th>0:10</th>\n",
              "      <td>5885</td>\n",
              "      <td>7525</td>\n",
              "      <td>1987</td>\n",
              "      <td>8651</td>\n",
              "      <td>-8</td>\n",
              "      <td>2273</td>\n",
              "      <td>12</td>\n",
              "      <td>0</td>\n",
              "    </tr>\n",
              "    <tr>\n",
              "      <th>0:15</th>\n",
              "      <td>5854</td>\n",
              "      <td>7453</td>\n",
              "      <td>1958</td>\n",
              "      <td>8726</td>\n",
              "      <td>-77</td>\n",
              "      <td>2273</td>\n",
              "      <td>10</td>\n",
              "      <td>0</td>\n",
              "    </tr>\n",
              "  </tbody>\n",
              "</table>\n",
              "</div>"
            ],
            "text/plain": [
              "                   Renewables  Natural gas  Large hydro  ...  Nuclear  Coal  Other\n",
              "Supply 07/07/2020  Renewables  Natural gas  Large hydro  ...  Nuclear  Coal  Other\n",
              "0:00                     5977         7918         1946  ...     2273    12      0\n",
              "0:05                     5912         7628         1995  ...     2274    13      0\n",
              "0:10                     5885         7525         1987  ...     2273    12      0\n",
              "0:15                     5854         7453         1958  ...     2273    10      0\n",
              "\n",
              "[5 rows x 8 columns]"
            ]
          },
          "metadata": {
            "tags": []
          },
          "execution_count": 42
        }
      ]
    },
    {
      "cell_type": "code",
      "metadata": {
        "execution": {
          "iopub.status.busy": "2021-05-31T04:17:50.819780Z",
          "iopub.execute_input": "2021-05-31T04:17:50.820074Z",
          "iopub.status.idle": "2021-05-31T04:17:50.835642Z",
          "shell.execute_reply.started": "2021-05-31T04:17:50.820045Z",
          "shell.execute_reply": "2021-05-31T04:17:50.834377Z"
        },
        "trusted": true,
        "id": "gXSGqci0sUm6"
      },
      "source": [
        "def df_manipulation(dfs):\n",
        "    dfs['Timestamp'] = dfs.index\n",
        "    date =  dfs.iloc[0].Timestamp.replace('Supply ','')\n",
        "    dfs['DATE'] = date\n",
        "    dfs = dfs[1:len(dfs)-1]\n",
        "    dfs['DATE'] =  pd.to_datetime(dfs['DATE'],format = '%d/%m/%Y').dt.date\n",
        "    dfs['TIME'] = pd.to_datetime(dfs['Timestamp'],format = '%H:%M').dt.time\n",
        "    dfs['HOURS'] = pd.to_datetime(dfs['TIME'],format='%H:%M:%S').dt.hour\n",
        "    dfs['MINUTES'] = pd.to_datetime(dfs['TIME'],format='%H:%M:%S').dt.minute\n",
        "    dfs['MINUTES_PASS'] = dfs['MINUTES'] + dfs['HOURS']*60\n",
        "    dfs['Timestamp'] = pd.to_datetime(dfs['DATE'].apply(str) +' '+ dfs['TIME'].apply(str), format = '%Y-%m-%d %H:%M')\n",
        "    return dfs"
      ],
      "execution_count": null,
      "outputs": []
    },
    {
      "cell_type": "code",
      "metadata": {
        "execution": {
          "iopub.status.busy": "2021-05-31T04:17:50.837394Z",
          "iopub.execute_input": "2021-05-31T04:17:50.837713Z",
          "iopub.status.idle": "2021-05-31T04:17:50.953042Z",
          "shell.execute_reply.started": "2021-05-31T04:17:50.837683Z",
          "shell.execute_reply": "2021-05-31T04:17:50.951719Z"
        },
        "trusted": true,
        "colab": {
          "base_uri": "https://localhost:8080/",
          "height": 326
        },
        "id": "sXiwONL3sUm7",
        "outputId": "2f621a1e-8e1d-4ccf-f29b-d36af9e1e75c"
      },
      "source": [
        "dff = df_manipulation(df)\n",
        "dff2 = df_manipulation(df2)\n",
        "dff3 = df_manipulation(df3)\n",
        "dff4 = df_manipulation(df4)\n",
        "dff5 = df_manipulation(df5)\n",
        "dff6 = df_manipulation(df6)\n",
        "\n",
        "dff.head()"
      ],
      "execution_count": null,
      "outputs": [
        {
          "output_type": "execute_result",
          "data": {
            "text/html": [
              "<div>\n",
              "<style scoped>\n",
              "    .dataframe tbody tr th:only-of-type {\n",
              "        vertical-align: middle;\n",
              "    }\n",
              "\n",
              "    .dataframe tbody tr th {\n",
              "        vertical-align: top;\n",
              "    }\n",
              "\n",
              "    .dataframe thead th {\n",
              "        text-align: right;\n",
              "    }\n",
              "</style>\n",
              "<table border=\"1\" class=\"dataframe\">\n",
              "  <thead>\n",
              "    <tr style=\"text-align: right;\">\n",
              "      <th></th>\n",
              "      <th>Renewables</th>\n",
              "      <th>Natural gas</th>\n",
              "      <th>Large hydro</th>\n",
              "      <th>Imports</th>\n",
              "      <th>Batteries</th>\n",
              "      <th>Nuclear</th>\n",
              "      <th>Coal</th>\n",
              "      <th>Other</th>\n",
              "      <th>Timestamp</th>\n",
              "      <th>DATE</th>\n",
              "      <th>TIME</th>\n",
              "      <th>HOURS</th>\n",
              "      <th>MINUTES</th>\n",
              "      <th>MINUTES_PASS</th>\n",
              "    </tr>\n",
              "  </thead>\n",
              "  <tbody>\n",
              "    <tr>\n",
              "      <th>0:00</th>\n",
              "      <td>6487</td>\n",
              "      <td>6999</td>\n",
              "      <td>1859</td>\n",
              "      <td>7899</td>\n",
              "      <td>-1</td>\n",
              "      <td>2266</td>\n",
              "      <td>9</td>\n",
              "      <td>0</td>\n",
              "      <td>2020-06-07 00:00:00</td>\n",
              "      <td>2020-06-07</td>\n",
              "      <td>00:00:00</td>\n",
              "      <td>0</td>\n",
              "      <td>0</td>\n",
              "      <td>0</td>\n",
              "    </tr>\n",
              "    <tr>\n",
              "      <th>0:05</th>\n",
              "      <td>6482</td>\n",
              "      <td>6674</td>\n",
              "      <td>1883</td>\n",
              "      <td>8142</td>\n",
              "      <td>12</td>\n",
              "      <td>2266</td>\n",
              "      <td>11</td>\n",
              "      <td>0</td>\n",
              "      <td>2020-06-07 00:05:00</td>\n",
              "      <td>2020-06-07</td>\n",
              "      <td>00:05:00</td>\n",
              "      <td>0</td>\n",
              "      <td>5</td>\n",
              "      <td>5</td>\n",
              "    </tr>\n",
              "    <tr>\n",
              "      <th>0:10</th>\n",
              "      <td>6487</td>\n",
              "      <td>6501</td>\n",
              "      <td>1844</td>\n",
              "      <td>8197</td>\n",
              "      <td>-6</td>\n",
              "      <td>2266</td>\n",
              "      <td>10</td>\n",
              "      <td>0</td>\n",
              "      <td>2020-06-07 00:10:00</td>\n",
              "      <td>2020-06-07</td>\n",
              "      <td>00:10:00</td>\n",
              "      <td>0</td>\n",
              "      <td>10</td>\n",
              "      <td>10</td>\n",
              "    </tr>\n",
              "    <tr>\n",
              "      <th>0:15</th>\n",
              "      <td>6466</td>\n",
              "      <td>6588</td>\n",
              "      <td>1852</td>\n",
              "      <td>8037</td>\n",
              "      <td>-31</td>\n",
              "      <td>2266</td>\n",
              "      <td>10</td>\n",
              "      <td>0</td>\n",
              "      <td>2020-06-07 00:15:00</td>\n",
              "      <td>2020-06-07</td>\n",
              "      <td>00:15:00</td>\n",
              "      <td>0</td>\n",
              "      <td>15</td>\n",
              "      <td>15</td>\n",
              "    </tr>\n",
              "    <tr>\n",
              "      <th>0:20</th>\n",
              "      <td>6422</td>\n",
              "      <td>6509</td>\n",
              "      <td>1860</td>\n",
              "      <td>8012</td>\n",
              "      <td>-31</td>\n",
              "      <td>2266</td>\n",
              "      <td>10</td>\n",
              "      <td>0</td>\n",
              "      <td>2020-06-07 00:20:00</td>\n",
              "      <td>2020-06-07</td>\n",
              "      <td>00:20:00</td>\n",
              "      <td>0</td>\n",
              "      <td>20</td>\n",
              "      <td>20</td>\n",
              "    </tr>\n",
              "  </tbody>\n",
              "</table>\n",
              "</div>"
            ],
            "text/plain": [
              "     Renewables Natural gas Large hydro  ... HOURS MINUTES MINUTES_PASS\n",
              "0:00       6487        6999        1859  ...     0       0            0\n",
              "0:05       6482        6674        1883  ...     0       5            5\n",
              "0:10       6487        6501        1844  ...     0      10           10\n",
              "0:15       6466        6588        1852  ...     0      15           15\n",
              "0:20       6422        6509        1860  ...     0      20           20\n",
              "\n",
              "[5 rows x 14 columns]"
            ]
          },
          "metadata": {
            "tags": []
          },
          "execution_count": 44
        }
      ]
    },
    {
      "cell_type": "code",
      "metadata": {
        "execution": {
          "iopub.status.busy": "2021-05-31T04:17:50.955207Z",
          "iopub.execute_input": "2021-05-31T04:17:50.955727Z",
          "iopub.status.idle": "2021-05-31T04:17:50.974256Z",
          "shell.execute_reply.started": "2021-05-31T04:17:50.955651Z",
          "shell.execute_reply": "2021-05-31T04:17:50.973181Z"
        },
        "trusted": true,
        "colab": {
          "base_uri": "https://localhost:8080/",
          "height": 326
        },
        "id": "QCbHsv-bsUm7",
        "outputId": "39376e8d-9766-44af-9e7c-4dc53fbfab7b"
      },
      "source": [
        "dff2.head()"
      ],
      "execution_count": null,
      "outputs": [
        {
          "output_type": "execute_result",
          "data": {
            "text/html": [
              "<div>\n",
              "<style scoped>\n",
              "    .dataframe tbody tr th:only-of-type {\n",
              "        vertical-align: middle;\n",
              "    }\n",
              "\n",
              "    .dataframe tbody tr th {\n",
              "        vertical-align: top;\n",
              "    }\n",
              "\n",
              "    .dataframe thead th {\n",
              "        text-align: right;\n",
              "    }\n",
              "</style>\n",
              "<table border=\"1\" class=\"dataframe\">\n",
              "  <thead>\n",
              "    <tr style=\"text-align: right;\">\n",
              "      <th></th>\n",
              "      <th>Renewables</th>\n",
              "      <th>Natural gas</th>\n",
              "      <th>Large hydro</th>\n",
              "      <th>Imports</th>\n",
              "      <th>Batteries</th>\n",
              "      <th>Nuclear</th>\n",
              "      <th>Coal</th>\n",
              "      <th>Other</th>\n",
              "      <th>Timestamp</th>\n",
              "      <th>DATE</th>\n",
              "      <th>TIME</th>\n",
              "      <th>HOURS</th>\n",
              "      <th>MINUTES</th>\n",
              "      <th>MINUTES_PASS</th>\n",
              "    </tr>\n",
              "  </thead>\n",
              "  <tbody>\n",
              "    <tr>\n",
              "      <th>0:00</th>\n",
              "      <td>5977</td>\n",
              "      <td>7918</td>\n",
              "      <td>1946</td>\n",
              "      <td>8518</td>\n",
              "      <td>-4</td>\n",
              "      <td>2273</td>\n",
              "      <td>12</td>\n",
              "      <td>0</td>\n",
              "      <td>2020-07-07 00:00:00</td>\n",
              "      <td>2020-07-07</td>\n",
              "      <td>00:00:00</td>\n",
              "      <td>0</td>\n",
              "      <td>0</td>\n",
              "      <td>0</td>\n",
              "    </tr>\n",
              "    <tr>\n",
              "      <th>0:05</th>\n",
              "      <td>5912</td>\n",
              "      <td>7628</td>\n",
              "      <td>1995</td>\n",
              "      <td>8673</td>\n",
              "      <td>-6</td>\n",
              "      <td>2274</td>\n",
              "      <td>13</td>\n",
              "      <td>0</td>\n",
              "      <td>2020-07-07 00:05:00</td>\n",
              "      <td>2020-07-07</td>\n",
              "      <td>00:05:00</td>\n",
              "      <td>0</td>\n",
              "      <td>5</td>\n",
              "      <td>5</td>\n",
              "    </tr>\n",
              "    <tr>\n",
              "      <th>0:10</th>\n",
              "      <td>5885</td>\n",
              "      <td>7525</td>\n",
              "      <td>1987</td>\n",
              "      <td>8651</td>\n",
              "      <td>-8</td>\n",
              "      <td>2273</td>\n",
              "      <td>12</td>\n",
              "      <td>0</td>\n",
              "      <td>2020-07-07 00:10:00</td>\n",
              "      <td>2020-07-07</td>\n",
              "      <td>00:10:00</td>\n",
              "      <td>0</td>\n",
              "      <td>10</td>\n",
              "      <td>10</td>\n",
              "    </tr>\n",
              "    <tr>\n",
              "      <th>0:15</th>\n",
              "      <td>5854</td>\n",
              "      <td>7453</td>\n",
              "      <td>1958</td>\n",
              "      <td>8726</td>\n",
              "      <td>-77</td>\n",
              "      <td>2273</td>\n",
              "      <td>10</td>\n",
              "      <td>0</td>\n",
              "      <td>2020-07-07 00:15:00</td>\n",
              "      <td>2020-07-07</td>\n",
              "      <td>00:15:00</td>\n",
              "      <td>0</td>\n",
              "      <td>15</td>\n",
              "      <td>15</td>\n",
              "    </tr>\n",
              "    <tr>\n",
              "      <th>0:20</th>\n",
              "      <td>5838</td>\n",
              "      <td>6999</td>\n",
              "      <td>1900</td>\n",
              "      <td>9103</td>\n",
              "      <td>-48</td>\n",
              "      <td>2272</td>\n",
              "      <td>11</td>\n",
              "      <td>0</td>\n",
              "      <td>2020-07-07 00:20:00</td>\n",
              "      <td>2020-07-07</td>\n",
              "      <td>00:20:00</td>\n",
              "      <td>0</td>\n",
              "      <td>20</td>\n",
              "      <td>20</td>\n",
              "    </tr>\n",
              "  </tbody>\n",
              "</table>\n",
              "</div>"
            ],
            "text/plain": [
              "     Renewables Natural gas Large hydro  ... HOURS MINUTES MINUTES_PASS\n",
              "0:00       5977        7918        1946  ...     0       0            0\n",
              "0:05       5912        7628        1995  ...     0       5            5\n",
              "0:10       5885        7525        1987  ...     0      10           10\n",
              "0:15       5854        7453        1958  ...     0      15           15\n",
              "0:20       5838        6999        1900  ...     0      20           20\n",
              "\n",
              "[5 rows x 14 columns]"
            ]
          },
          "metadata": {
            "tags": []
          },
          "execution_count": 45
        }
      ]
    },
    {
      "cell_type": "code",
      "metadata": {
        "execution": {
          "iopub.status.busy": "2021-05-31T04:17:50.975961Z",
          "iopub.execute_input": "2021-05-31T04:17:50.976338Z",
          "iopub.status.idle": "2021-05-31T04:17:51.005963Z",
          "shell.execute_reply.started": "2021-05-31T04:17:50.976307Z",
          "shell.execute_reply": "2021-05-31T04:17:51.003798Z"
        },
        "trusted": true,
        "colab": {
          "base_uri": "https://localhost:8080/",
          "height": 326
        },
        "id": "g2mNeuyrsUm8",
        "outputId": "e65304d0-0493-4057-e8d4-ab5397ad6417"
      },
      "source": [
        "dff3.head()"
      ],
      "execution_count": null,
      "outputs": [
        {
          "output_type": "execute_result",
          "data": {
            "text/html": [
              "<div>\n",
              "<style scoped>\n",
              "    .dataframe tbody tr th:only-of-type {\n",
              "        vertical-align: middle;\n",
              "    }\n",
              "\n",
              "    .dataframe tbody tr th {\n",
              "        vertical-align: top;\n",
              "    }\n",
              "\n",
              "    .dataframe thead th {\n",
              "        text-align: right;\n",
              "    }\n",
              "</style>\n",
              "<table border=\"1\" class=\"dataframe\">\n",
              "  <thead>\n",
              "    <tr style=\"text-align: right;\">\n",
              "      <th></th>\n",
              "      <th>Renewables</th>\n",
              "      <th>Natural gas</th>\n",
              "      <th>Large hydro</th>\n",
              "      <th>Imports</th>\n",
              "      <th>Batteries</th>\n",
              "      <th>Nuclear</th>\n",
              "      <th>Coal</th>\n",
              "      <th>Other</th>\n",
              "      <th>Timestamp</th>\n",
              "      <th>DATE</th>\n",
              "      <th>TIME</th>\n",
              "      <th>HOURS</th>\n",
              "      <th>MINUTES</th>\n",
              "      <th>MINUTES_PASS</th>\n",
              "    </tr>\n",
              "  </thead>\n",
              "  <tbody>\n",
              "    <tr>\n",
              "      <th>0:00</th>\n",
              "      <td>5452</td>\n",
              "      <td>8185</td>\n",
              "      <td>2027</td>\n",
              "      <td>9029</td>\n",
              "      <td>-6</td>\n",
              "      <td>2275</td>\n",
              "      <td>12</td>\n",
              "      <td>0</td>\n",
              "      <td>2020-08-07 00:00:00</td>\n",
              "      <td>2020-08-07</td>\n",
              "      <td>00:00:00</td>\n",
              "      <td>0</td>\n",
              "      <td>0</td>\n",
              "      <td>0</td>\n",
              "    </tr>\n",
              "    <tr>\n",
              "      <th>0:05</th>\n",
              "      <td>5370</td>\n",
              "      <td>8076</td>\n",
              "      <td>2089</td>\n",
              "      <td>9036</td>\n",
              "      <td>9</td>\n",
              "      <td>2275</td>\n",
              "      <td>12</td>\n",
              "      <td>0</td>\n",
              "      <td>2020-08-07 00:05:00</td>\n",
              "      <td>2020-08-07</td>\n",
              "      <td>00:05:00</td>\n",
              "      <td>0</td>\n",
              "      <td>5</td>\n",
              "      <td>5</td>\n",
              "    </tr>\n",
              "    <tr>\n",
              "      <th>0:10</th>\n",
              "      <td>5315</td>\n",
              "      <td>7884</td>\n",
              "      <td>2112</td>\n",
              "      <td>9032</td>\n",
              "      <td>9</td>\n",
              "      <td>2276</td>\n",
              "      <td>12</td>\n",
              "      <td>0</td>\n",
              "      <td>2020-08-07 00:10:00</td>\n",
              "      <td>2020-08-07</td>\n",
              "      <td>00:10:00</td>\n",
              "      <td>0</td>\n",
              "      <td>10</td>\n",
              "      <td>10</td>\n",
              "    </tr>\n",
              "    <tr>\n",
              "      <th>0:15</th>\n",
              "      <td>5312</td>\n",
              "      <td>7630</td>\n",
              "      <td>2072</td>\n",
              "      <td>9178</td>\n",
              "      <td>-8</td>\n",
              "      <td>2274</td>\n",
              "      <td>11</td>\n",
              "      <td>0</td>\n",
              "      <td>2020-08-07 00:15:00</td>\n",
              "      <td>2020-08-07</td>\n",
              "      <td>00:15:00</td>\n",
              "      <td>0</td>\n",
              "      <td>15</td>\n",
              "      <td>15</td>\n",
              "    </tr>\n",
              "    <tr>\n",
              "      <th>0:20</th>\n",
              "      <td>5320</td>\n",
              "      <td>7412</td>\n",
              "      <td>2101</td>\n",
              "      <td>9268</td>\n",
              "      <td>-21</td>\n",
              "      <td>2274</td>\n",
              "      <td>10</td>\n",
              "      <td>0</td>\n",
              "      <td>2020-08-07 00:20:00</td>\n",
              "      <td>2020-08-07</td>\n",
              "      <td>00:20:00</td>\n",
              "      <td>0</td>\n",
              "      <td>20</td>\n",
              "      <td>20</td>\n",
              "    </tr>\n",
              "  </tbody>\n",
              "</table>\n",
              "</div>"
            ],
            "text/plain": [
              "     Renewables Natural gas Large hydro  ... HOURS MINUTES MINUTES_PASS\n",
              "0:00       5452        8185        2027  ...     0       0            0\n",
              "0:05       5370        8076        2089  ...     0       5            5\n",
              "0:10       5315        7884        2112  ...     0      10           10\n",
              "0:15       5312        7630        2072  ...     0      15           15\n",
              "0:20       5320        7412        2101  ...     0      20           20\n",
              "\n",
              "[5 rows x 14 columns]"
            ]
          },
          "metadata": {
            "tags": []
          },
          "execution_count": 46
        }
      ]
    },
    {
      "cell_type": "code",
      "metadata": {
        "execution": {
          "iopub.status.busy": "2021-05-31T04:17:51.007651Z",
          "iopub.execute_input": "2021-05-31T04:17:51.008080Z",
          "iopub.status.idle": "2021-05-31T04:17:51.029576Z",
          "shell.execute_reply.started": "2021-05-31T04:17:51.008048Z",
          "shell.execute_reply": "2021-05-31T04:17:51.028353Z"
        },
        "trusted": true,
        "colab": {
          "base_uri": "https://localhost:8080/",
          "height": 326
        },
        "id": "6kmwS3nPsUm8",
        "outputId": "493d55c8-f66c-4d16-94ec-90a7468a5ccb"
      },
      "source": [
        "dff4.head()"
      ],
      "execution_count": null,
      "outputs": [
        {
          "output_type": "execute_result",
          "data": {
            "text/html": [
              "<div>\n",
              "<style scoped>\n",
              "    .dataframe tbody tr th:only-of-type {\n",
              "        vertical-align: middle;\n",
              "    }\n",
              "\n",
              "    .dataframe tbody tr th {\n",
              "        vertical-align: top;\n",
              "    }\n",
              "\n",
              "    .dataframe thead th {\n",
              "        text-align: right;\n",
              "    }\n",
              "</style>\n",
              "<table border=\"1\" class=\"dataframe\">\n",
              "  <thead>\n",
              "    <tr style=\"text-align: right;\">\n",
              "      <th></th>\n",
              "      <th>Renewables</th>\n",
              "      <th>Natural gas</th>\n",
              "      <th>Large hydro</th>\n",
              "      <th>Imports</th>\n",
              "      <th>Batteries</th>\n",
              "      <th>Nuclear</th>\n",
              "      <th>Coal</th>\n",
              "      <th>Other</th>\n",
              "      <th>Timestamp</th>\n",
              "      <th>DATE</th>\n",
              "      <th>TIME</th>\n",
              "      <th>HOURS</th>\n",
              "      <th>MINUTES</th>\n",
              "      <th>MINUTES_PASS</th>\n",
              "    </tr>\n",
              "  </thead>\n",
              "  <tbody>\n",
              "    <tr>\n",
              "      <th>0:00</th>\n",
              "      <td>6086</td>\n",
              "      <td>8045</td>\n",
              "      <td>1804</td>\n",
              "      <td>8583</td>\n",
              "      <td>-67</td>\n",
              "      <td>2272</td>\n",
              "      <td>13</td>\n",
              "      <td>0</td>\n",
              "      <td>2020-09-07 00:00:00</td>\n",
              "      <td>2020-09-07</td>\n",
              "      <td>00:00:00</td>\n",
              "      <td>0</td>\n",
              "      <td>0</td>\n",
              "      <td>0</td>\n",
              "    </tr>\n",
              "    <tr>\n",
              "      <th>0:05</th>\n",
              "      <td>6078</td>\n",
              "      <td>7622</td>\n",
              "      <td>1775</td>\n",
              "      <td>8889</td>\n",
              "      <td>11</td>\n",
              "      <td>2272</td>\n",
              "      <td>12</td>\n",
              "      <td>0</td>\n",
              "      <td>2020-09-07 00:05:00</td>\n",
              "      <td>2020-09-07</td>\n",
              "      <td>00:05:00</td>\n",
              "      <td>0</td>\n",
              "      <td>5</td>\n",
              "      <td>5</td>\n",
              "    </tr>\n",
              "    <tr>\n",
              "      <th>0:10</th>\n",
              "      <td>6115</td>\n",
              "      <td>7684</td>\n",
              "      <td>2019</td>\n",
              "      <td>8503</td>\n",
              "      <td>-34</td>\n",
              "      <td>2272</td>\n",
              "      <td>11</td>\n",
              "      <td>0</td>\n",
              "      <td>2020-09-07 00:10:00</td>\n",
              "      <td>2020-09-07</td>\n",
              "      <td>00:10:00</td>\n",
              "      <td>0</td>\n",
              "      <td>10</td>\n",
              "      <td>10</td>\n",
              "    </tr>\n",
              "    <tr>\n",
              "      <th>0:15</th>\n",
              "      <td>6151</td>\n",
              "      <td>7472</td>\n",
              "      <td>1908</td>\n",
              "      <td>8527</td>\n",
              "      <td>-83</td>\n",
              "      <td>2273</td>\n",
              "      <td>11</td>\n",
              "      <td>0</td>\n",
              "      <td>2020-09-07 00:15:00</td>\n",
              "      <td>2020-09-07</td>\n",
              "      <td>00:15:00</td>\n",
              "      <td>0</td>\n",
              "      <td>15</td>\n",
              "      <td>15</td>\n",
              "    </tr>\n",
              "    <tr>\n",
              "      <th>0:20</th>\n",
              "      <td>6152</td>\n",
              "      <td>7190</td>\n",
              "      <td>1837</td>\n",
              "      <td>8833</td>\n",
              "      <td>-70</td>\n",
              "      <td>2272</td>\n",
              "      <td>12</td>\n",
              "      <td>0</td>\n",
              "      <td>2020-09-07 00:20:00</td>\n",
              "      <td>2020-09-07</td>\n",
              "      <td>00:20:00</td>\n",
              "      <td>0</td>\n",
              "      <td>20</td>\n",
              "      <td>20</td>\n",
              "    </tr>\n",
              "  </tbody>\n",
              "</table>\n",
              "</div>"
            ],
            "text/plain": [
              "     Renewables Natural gas Large hydro  ... HOURS MINUTES MINUTES_PASS\n",
              "0:00       6086        8045        1804  ...     0       0            0\n",
              "0:05       6078        7622        1775  ...     0       5            5\n",
              "0:10       6115        7684        2019  ...     0      10           10\n",
              "0:15       6151        7472        1908  ...     0      15           15\n",
              "0:20       6152        7190        1837  ...     0      20           20\n",
              "\n",
              "[5 rows x 14 columns]"
            ]
          },
          "metadata": {
            "tags": []
          },
          "execution_count": 47
        }
      ]
    },
    {
      "cell_type": "code",
      "metadata": {
        "execution": {
          "iopub.status.busy": "2021-05-31T04:17:51.031509Z",
          "iopub.execute_input": "2021-05-31T04:17:51.031843Z",
          "iopub.status.idle": "2021-05-31T04:17:51.041485Z",
          "shell.execute_reply.started": "2021-05-31T04:17:51.031812Z",
          "shell.execute_reply": "2021-05-31T04:17:51.040587Z"
        },
        "trusted": true,
        "id": "0wgMpr-zsUm8"
      },
      "source": [
        "# df['Timestamp'] = df.index\n",
        "# df['DATE'] = df.iloc[0].Timestamp.replace('Supply ','')"
      ],
      "execution_count": null,
      "outputs": []
    },
    {
      "cell_type": "code",
      "metadata": {
        "execution": {
          "iopub.status.busy": "2021-05-31T04:17:51.046399Z",
          "iopub.execute_input": "2021-05-31T04:17:51.046774Z",
          "iopub.status.idle": "2021-05-31T04:17:51.056675Z",
          "shell.execute_reply.started": "2021-05-31T04:17:51.046743Z",
          "shell.execute_reply": "2021-05-31T04:17:51.055444Z"
        },
        "trusted": true,
        "id": "SldyxlznsUm9"
      },
      "source": [
        "# Remove row 0 \n",
        "# df.drop([1], inplace = True)\n",
        "# df.columns = df.iloc[0]\n",
        "\n",
        "# df = df[1:len(df)-1]"
      ],
      "execution_count": null,
      "outputs": []
    },
    {
      "cell_type": "code",
      "metadata": {
        "execution": {
          "iopub.status.busy": "2021-05-31T04:17:51.065341Z",
          "iopub.execute_input": "2021-05-31T04:17:51.065699Z",
          "iopub.status.idle": "2021-05-31T04:17:51.071465Z",
          "shell.execute_reply.started": "2021-05-31T04:17:51.065668Z",
          "shell.execute_reply": "2021-05-31T04:17:51.070434Z"
        },
        "trusted": true,
        "id": "7wJEUPJ3sUm9"
      },
      "source": [
        "# df['DATE'] =  pd.to_datetime(df['DATE'],format = '%m/%d/%Y', errors='coerce').dt.date\n",
        "# df['TIME'] = pd.to_datetime(df['Timestamp'],format = '%H:%M', errors='coerce').dt.time"
      ],
      "execution_count": null,
      "outputs": []
    },
    {
      "cell_type": "code",
      "metadata": {
        "execution": {
          "iopub.status.busy": "2021-05-31T04:17:51.079270Z",
          "iopub.execute_input": "2021-05-31T04:17:51.079929Z",
          "iopub.status.idle": "2021-05-31T04:17:51.085886Z",
          "shell.execute_reply.started": "2021-05-31T04:17:51.079880Z",
          "shell.execute_reply": "2021-05-31T04:17:51.084870Z"
        },
        "trusted": true,
        "id": "Mf3JcnFqsUm9"
      },
      "source": [
        "# df.describe()\n",
        "# df.info()\n",
        "# print(df.dtypes)"
      ],
      "execution_count": null,
      "outputs": []
    },
    {
      "cell_type": "code",
      "metadata": {
        "execution": {
          "iopub.status.busy": "2021-05-31T04:17:51.093088Z",
          "iopub.execute_input": "2021-05-31T04:17:51.093600Z",
          "iopub.status.idle": "2021-05-31T04:17:51.101045Z",
          "shell.execute_reply.started": "2021-05-31T04:17:51.093556Z",
          "shell.execute_reply": "2021-05-31T04:17:51.099889Z"
        },
        "trusted": true,
        "id": "d9QjuSIJsUm9"
      },
      "source": [
        "# # add hours and minutes for ml models\n",
        "# df['HOURS'] = pd.to_datetime(df['TIME'],format='%H:%M:%S').dt.hour\n",
        "# df['MINUTES'] = pd.to_datetime(df['TIME'],format='%H:%M:%S').dt.minute\n",
        "# df['MINUTES_PASS'] = df['MINUTES'] + df['HOURS']*60"
      ],
      "execution_count": null,
      "outputs": []
    },
    {
      "cell_type": "code",
      "metadata": {
        "execution": {
          "iopub.status.busy": "2021-05-31T04:17:51.125416Z",
          "iopub.execute_input": "2021-05-31T04:17:51.125905Z",
          "iopub.status.idle": "2021-05-31T04:17:51.152067Z",
          "shell.execute_reply.started": "2021-05-31T04:17:51.125873Z",
          "shell.execute_reply": "2021-05-31T04:17:51.150975Z"
        },
        "trusted": true,
        "colab": {
          "base_uri": "https://localhost:8080/"
        },
        "id": "i6sHbQVFsUm-",
        "outputId": "9167e6fe-11a8-43e1-efdf-6f856a9b45a1"
      },
      "source": [
        "# append all \n",
        "\n",
        "df = dff.append(dff)\n",
        "df = df.append(dff2)\n",
        "df = df.append(dff3)\n",
        "df = df.append(dff4)\n",
        "df = df.append(dff5)\n",
        "df = df.append(dff6)\n",
        "len(df) "
      ],
      "execution_count": null,
      "outputs": [
        {
          "output_type": "execute_result",
          "data": {
            "text/plain": [
              "2016"
            ]
          },
          "metadata": {
            "tags": []
          },
          "execution_count": 53
        }
      ]
    },
    {
      "cell_type": "code",
      "metadata": {
        "execution": {
          "iopub.status.busy": "2021-05-31T04:17:51.175426Z",
          "iopub.execute_input": "2021-05-31T04:17:51.175770Z",
          "iopub.status.idle": "2021-05-31T04:17:51.180041Z",
          "shell.execute_reply.started": "2021-05-31T04:17:51.175742Z",
          "shell.execute_reply": "2021-05-31T04:17:51.179081Z"
        },
        "trusted": true,
        "id": "vUmQBNXtsUm-"
      },
      "source": [
        "# Region = df['Region Code'].head(1).item()\n",
        "# Region\n",
        "\n",
        "Region=\"CA ISO\""
      ],
      "execution_count": null,
      "outputs": []
    },
    {
      "cell_type": "markdown",
      "metadata": {
        "id": "RQgFMARasUm-"
      },
      "source": [
        "<a id=\"section-three\"></a>\n",
        "## 3. Filter and filler "
      ]
    },
    {
      "cell_type": "code",
      "metadata": {
        "execution": {
          "iopub.status.busy": "2021-05-31T04:17:51.226955Z",
          "iopub.execute_input": "2021-05-31T04:17:51.227401Z",
          "iopub.status.idle": "2021-05-31T04:17:51.233047Z",
          "shell.execute_reply.started": "2021-05-31T04:17:51.227372Z",
          "shell.execute_reply": "2021-05-31T04:17:51.232388Z"
        },
        "trusted": true,
        "colab": {
          "base_uri": "https://localhost:8080/"
        },
        "id": "NbwBlEZTsUm_",
        "outputId": "99e15bcf-f8c4-47d3-b892-7526b1df197c"
      },
      "source": [
        "print(df.dtypes)"
      ],
      "execution_count": null,
      "outputs": [
        {
          "output_type": "stream",
          "text": [
            "Renewables              object\n",
            "Natural gas             object\n",
            "Large hydro             object\n",
            "Imports                 object\n",
            "Batteries               object\n",
            "Nuclear                 object\n",
            "Coal                    object\n",
            "Other                   object\n",
            "Timestamp       datetime64[ns]\n",
            "DATE                    object\n",
            "TIME                    object\n",
            "HOURS                    int64\n",
            "MINUTES                  int64\n",
            "MINUTES_PASS             int64\n",
            "dtype: object\n"
          ],
          "name": "stdout"
        }
      ]
    },
    {
      "cell_type": "code",
      "metadata": {
        "execution": {
          "iopub.status.busy": "2021-05-31T04:17:51.268118Z",
          "iopub.execute_input": "2021-05-31T04:17:51.268668Z",
          "iopub.status.idle": "2021-05-31T04:17:51.288676Z",
          "shell.execute_reply.started": "2021-05-31T04:17:51.268633Z",
          "shell.execute_reply": "2021-05-31T04:17:51.287821Z"
        },
        "trusted": true,
        "colab": {
          "base_uri": "https://localhost:8080/",
          "height": 309
        },
        "id": "8ceeT5c1sUm_",
        "outputId": "778188c3-7cf8-4745-dba9-bb8d147176f9"
      },
      "source": [
        "# df['Hydro'] = df['Hydro'] + df ['Large hydro']\n",
        "# df['NaturalGas'] = df['NaturalGas'] + df ['Natural gas']\n",
        "df = df.rename(columns={\"Natural gas\": \"NaturalGas\",\n",
        "                        \"Renewables\" : \"Solar\",\n",
        "                        \"Large hydro\": \"Hydro\"\n",
        "                       })\n",
        "df.head()"
      ],
      "execution_count": null,
      "outputs": [
        {
          "output_type": "execute_result",
          "data": {
            "text/html": [
              "<div>\n",
              "<style scoped>\n",
              "    .dataframe tbody tr th:only-of-type {\n",
              "        vertical-align: middle;\n",
              "    }\n",
              "\n",
              "    .dataframe tbody tr th {\n",
              "        vertical-align: top;\n",
              "    }\n",
              "\n",
              "    .dataframe thead th {\n",
              "        text-align: right;\n",
              "    }\n",
              "</style>\n",
              "<table border=\"1\" class=\"dataframe\">\n",
              "  <thead>\n",
              "    <tr style=\"text-align: right;\">\n",
              "      <th></th>\n",
              "      <th>Solar</th>\n",
              "      <th>NaturalGas</th>\n",
              "      <th>Hydro</th>\n",
              "      <th>Imports</th>\n",
              "      <th>Batteries</th>\n",
              "      <th>Nuclear</th>\n",
              "      <th>Coal</th>\n",
              "      <th>Other</th>\n",
              "      <th>Timestamp</th>\n",
              "      <th>DATE</th>\n",
              "      <th>TIME</th>\n",
              "      <th>HOURS</th>\n",
              "      <th>MINUTES</th>\n",
              "      <th>MINUTES_PASS</th>\n",
              "    </tr>\n",
              "  </thead>\n",
              "  <tbody>\n",
              "    <tr>\n",
              "      <th>0:00</th>\n",
              "      <td>6487</td>\n",
              "      <td>6999</td>\n",
              "      <td>1859</td>\n",
              "      <td>7899</td>\n",
              "      <td>-1</td>\n",
              "      <td>2266</td>\n",
              "      <td>9</td>\n",
              "      <td>0</td>\n",
              "      <td>2020-06-07 00:00:00</td>\n",
              "      <td>2020-06-07</td>\n",
              "      <td>00:00:00</td>\n",
              "      <td>0</td>\n",
              "      <td>0</td>\n",
              "      <td>0</td>\n",
              "    </tr>\n",
              "    <tr>\n",
              "      <th>0:05</th>\n",
              "      <td>6482</td>\n",
              "      <td>6674</td>\n",
              "      <td>1883</td>\n",
              "      <td>8142</td>\n",
              "      <td>12</td>\n",
              "      <td>2266</td>\n",
              "      <td>11</td>\n",
              "      <td>0</td>\n",
              "      <td>2020-06-07 00:05:00</td>\n",
              "      <td>2020-06-07</td>\n",
              "      <td>00:05:00</td>\n",
              "      <td>0</td>\n",
              "      <td>5</td>\n",
              "      <td>5</td>\n",
              "    </tr>\n",
              "    <tr>\n",
              "      <th>0:10</th>\n",
              "      <td>6487</td>\n",
              "      <td>6501</td>\n",
              "      <td>1844</td>\n",
              "      <td>8197</td>\n",
              "      <td>-6</td>\n",
              "      <td>2266</td>\n",
              "      <td>10</td>\n",
              "      <td>0</td>\n",
              "      <td>2020-06-07 00:10:00</td>\n",
              "      <td>2020-06-07</td>\n",
              "      <td>00:10:00</td>\n",
              "      <td>0</td>\n",
              "      <td>10</td>\n",
              "      <td>10</td>\n",
              "    </tr>\n",
              "    <tr>\n",
              "      <th>0:15</th>\n",
              "      <td>6466</td>\n",
              "      <td>6588</td>\n",
              "      <td>1852</td>\n",
              "      <td>8037</td>\n",
              "      <td>-31</td>\n",
              "      <td>2266</td>\n",
              "      <td>10</td>\n",
              "      <td>0</td>\n",
              "      <td>2020-06-07 00:15:00</td>\n",
              "      <td>2020-06-07</td>\n",
              "      <td>00:15:00</td>\n",
              "      <td>0</td>\n",
              "      <td>15</td>\n",
              "      <td>15</td>\n",
              "    </tr>\n",
              "    <tr>\n",
              "      <th>0:20</th>\n",
              "      <td>6422</td>\n",
              "      <td>6509</td>\n",
              "      <td>1860</td>\n",
              "      <td>8012</td>\n",
              "      <td>-31</td>\n",
              "      <td>2266</td>\n",
              "      <td>10</td>\n",
              "      <td>0</td>\n",
              "      <td>2020-06-07 00:20:00</td>\n",
              "      <td>2020-06-07</td>\n",
              "      <td>00:20:00</td>\n",
              "      <td>0</td>\n",
              "      <td>20</td>\n",
              "      <td>20</td>\n",
              "    </tr>\n",
              "  </tbody>\n",
              "</table>\n",
              "</div>"
            ],
            "text/plain": [
              "     Solar NaturalGas Hydro Imports  ...      TIME HOURS MINUTES MINUTES_PASS\n",
              "0:00  6487       6999  1859    7899  ...  00:00:00     0       0            0\n",
              "0:05  6482       6674  1883    8142  ...  00:05:00     0       5            5\n",
              "0:10  6487       6501  1844    8197  ...  00:10:00     0      10           10\n",
              "0:15  6466       6588  1852    8037  ...  00:15:00     0      15           15\n",
              "0:20  6422       6509  1860    8012  ...  00:20:00     0      20           20\n",
              "\n",
              "[5 rows x 14 columns]"
            ]
          },
          "metadata": {
            "tags": []
          },
          "execution_count": 56
        }
      ]
    },
    {
      "cell_type": "markdown",
      "metadata": {
        "id": "kDrpEmm8sUm_"
      },
      "source": [
        "## Fill up missing columns as 0 "
      ]
    },
    {
      "cell_type": "code",
      "metadata": {
        "execution": {
          "iopub.status.busy": "2021-05-31T04:17:51.302224Z",
          "iopub.execute_input": "2021-05-31T04:17:51.302548Z",
          "iopub.status.idle": "2021-05-31T04:17:51.325988Z",
          "shell.execute_reply.started": "2021-05-31T04:17:51.302501Z",
          "shell.execute_reply": "2021-05-31T04:17:51.325243Z"
        },
        "trusted": true,
        "colab": {
          "base_uri": "https://localhost:8080/",
          "height": 309
        },
        "id": "NJMEXSwcsUnA",
        "outputId": "bfd876d9-6d28-408b-c24a-2048f8a717a5"
      },
      "source": [
        "column_list = (\"Wind\",\"Solar\",\"Hydro\",\"Other\", \n",
        "               \"Oil\", \"NaturalGas\",\"Coal\",\"Nuclear\")\n",
        "\n",
        "for col in column_list:\n",
        "    if col not in df.columns:\n",
        "        df[col] = 0\n",
        "\n",
        "df.head()"
      ],
      "execution_count": null,
      "outputs": [
        {
          "output_type": "execute_result",
          "data": {
            "text/html": [
              "<div>\n",
              "<style scoped>\n",
              "    .dataframe tbody tr th:only-of-type {\n",
              "        vertical-align: middle;\n",
              "    }\n",
              "\n",
              "    .dataframe tbody tr th {\n",
              "        vertical-align: top;\n",
              "    }\n",
              "\n",
              "    .dataframe thead th {\n",
              "        text-align: right;\n",
              "    }\n",
              "</style>\n",
              "<table border=\"1\" class=\"dataframe\">\n",
              "  <thead>\n",
              "    <tr style=\"text-align: right;\">\n",
              "      <th></th>\n",
              "      <th>Solar</th>\n",
              "      <th>NaturalGas</th>\n",
              "      <th>Hydro</th>\n",
              "      <th>Imports</th>\n",
              "      <th>Batteries</th>\n",
              "      <th>Nuclear</th>\n",
              "      <th>Coal</th>\n",
              "      <th>Other</th>\n",
              "      <th>Timestamp</th>\n",
              "      <th>DATE</th>\n",
              "      <th>TIME</th>\n",
              "      <th>HOURS</th>\n",
              "      <th>MINUTES</th>\n",
              "      <th>MINUTES_PASS</th>\n",
              "      <th>Wind</th>\n",
              "      <th>Oil</th>\n",
              "    </tr>\n",
              "  </thead>\n",
              "  <tbody>\n",
              "    <tr>\n",
              "      <th>0:00</th>\n",
              "      <td>6487</td>\n",
              "      <td>6999</td>\n",
              "      <td>1859</td>\n",
              "      <td>7899</td>\n",
              "      <td>-1</td>\n",
              "      <td>2266</td>\n",
              "      <td>9</td>\n",
              "      <td>0</td>\n",
              "      <td>2020-06-07 00:00:00</td>\n",
              "      <td>2020-06-07</td>\n",
              "      <td>00:00:00</td>\n",
              "      <td>0</td>\n",
              "      <td>0</td>\n",
              "      <td>0</td>\n",
              "      <td>0</td>\n",
              "      <td>0</td>\n",
              "    </tr>\n",
              "    <tr>\n",
              "      <th>0:05</th>\n",
              "      <td>6482</td>\n",
              "      <td>6674</td>\n",
              "      <td>1883</td>\n",
              "      <td>8142</td>\n",
              "      <td>12</td>\n",
              "      <td>2266</td>\n",
              "      <td>11</td>\n",
              "      <td>0</td>\n",
              "      <td>2020-06-07 00:05:00</td>\n",
              "      <td>2020-06-07</td>\n",
              "      <td>00:05:00</td>\n",
              "      <td>0</td>\n",
              "      <td>5</td>\n",
              "      <td>5</td>\n",
              "      <td>0</td>\n",
              "      <td>0</td>\n",
              "    </tr>\n",
              "    <tr>\n",
              "      <th>0:10</th>\n",
              "      <td>6487</td>\n",
              "      <td>6501</td>\n",
              "      <td>1844</td>\n",
              "      <td>8197</td>\n",
              "      <td>-6</td>\n",
              "      <td>2266</td>\n",
              "      <td>10</td>\n",
              "      <td>0</td>\n",
              "      <td>2020-06-07 00:10:00</td>\n",
              "      <td>2020-06-07</td>\n",
              "      <td>00:10:00</td>\n",
              "      <td>0</td>\n",
              "      <td>10</td>\n",
              "      <td>10</td>\n",
              "      <td>0</td>\n",
              "      <td>0</td>\n",
              "    </tr>\n",
              "    <tr>\n",
              "      <th>0:15</th>\n",
              "      <td>6466</td>\n",
              "      <td>6588</td>\n",
              "      <td>1852</td>\n",
              "      <td>8037</td>\n",
              "      <td>-31</td>\n",
              "      <td>2266</td>\n",
              "      <td>10</td>\n",
              "      <td>0</td>\n",
              "      <td>2020-06-07 00:15:00</td>\n",
              "      <td>2020-06-07</td>\n",
              "      <td>00:15:00</td>\n",
              "      <td>0</td>\n",
              "      <td>15</td>\n",
              "      <td>15</td>\n",
              "      <td>0</td>\n",
              "      <td>0</td>\n",
              "    </tr>\n",
              "    <tr>\n",
              "      <th>0:20</th>\n",
              "      <td>6422</td>\n",
              "      <td>6509</td>\n",
              "      <td>1860</td>\n",
              "      <td>8012</td>\n",
              "      <td>-31</td>\n",
              "      <td>2266</td>\n",
              "      <td>10</td>\n",
              "      <td>0</td>\n",
              "      <td>2020-06-07 00:20:00</td>\n",
              "      <td>2020-06-07</td>\n",
              "      <td>00:20:00</td>\n",
              "      <td>0</td>\n",
              "      <td>20</td>\n",
              "      <td>20</td>\n",
              "      <td>0</td>\n",
              "      <td>0</td>\n",
              "    </tr>\n",
              "  </tbody>\n",
              "</table>\n",
              "</div>"
            ],
            "text/plain": [
              "     Solar NaturalGas Hydro Imports  ... MINUTES MINUTES_PASS Wind Oil\n",
              "0:00  6487       6999  1859    7899  ...       0            0    0   0\n",
              "0:05  6482       6674  1883    8142  ...       5            5    0   0\n",
              "0:10  6487       6501  1844    8197  ...      10           10    0   0\n",
              "0:15  6466       6588  1852    8037  ...      15           15    0   0\n",
              "0:20  6422       6509  1860    8012  ...      20           20    0   0\n",
              "\n",
              "[5 rows x 16 columns]"
            ]
          },
          "metadata": {
            "tags": []
          },
          "execution_count": 57
        }
      ]
    },
    {
      "cell_type": "code",
      "metadata": {
        "execution": {
          "iopub.status.busy": "2021-05-31T04:17:51.327415Z",
          "iopub.execute_input": "2021-05-31T04:17:51.327875Z",
          "iopub.status.idle": "2021-05-31T04:17:51.345577Z",
          "shell.execute_reply.started": "2021-05-31T04:17:51.327846Z",
          "shell.execute_reply": "2021-05-31T04:17:51.344652Z"
        },
        "trusted": true,
        "colab": {
          "base_uri": "https://localhost:8080/"
        },
        "id": "HF44HtmHsUnA",
        "outputId": "447bdc6c-3ea0-41d1-c6c5-6fec3d34ce52"
      },
      "source": [
        "df['Nuclear'] = pd.to_numeric(df['Nuclear'], errors='coerce').fillna(0)\n",
        "df['Hydro'] = pd.to_numeric(df['Hydro'], errors='coerce').fillna(0)\n",
        "df['NaturalGas'] = pd.to_numeric(df['NaturalGas'], errors='coerce').fillna(0)\n",
        "df['Coal'] = pd.to_numeric(df['Coal'], errors='coerce').fillna(0)\n",
        "df['Solar'] = pd.to_numeric(df['Solar'], errors='coerce').fillna(0)\n",
        "df['Coal'] = pd.to_numeric(df['Coal'], errors='coerce').fillna(0)\n",
        "df['Oil'] = pd.to_numeric(df['Oil'], errors='coerce').fillna(0)\n",
        "df['Other'] = pd.to_numeric(df['Other'], errors='coerce').fillna(0)\n",
        "print(df.dtypes)"
      ],
      "execution_count": null,
      "outputs": [
        {
          "output_type": "stream",
          "text": [
            "Solar                    int64\n",
            "NaturalGas               int64\n",
            "Hydro                    int64\n",
            "Imports                 object\n",
            "Batteries               object\n",
            "Nuclear                  int64\n",
            "Coal                     int64\n",
            "Other                    int64\n",
            "Timestamp       datetime64[ns]\n",
            "DATE                    object\n",
            "TIME                    object\n",
            "HOURS                    int64\n",
            "MINUTES                  int64\n",
            "MINUTES_PASS             int64\n",
            "Wind                     int64\n",
            "Oil                      int64\n",
            "dtype: object\n"
          ],
          "name": "stdout"
        }
      ]
    },
    {
      "cell_type": "markdown",
      "metadata": {
        "id": "SiikMEBusUnB"
      },
      "source": [
        "## Timestamp  different utility Graphs  "
      ]
    },
    {
      "cell_type": "code",
      "metadata": {
        "execution": {
          "iopub.status.busy": "2021-05-31T04:17:51.346863Z",
          "iopub.execute_input": "2021-05-31T04:17:51.347315Z",
          "iopub.status.idle": "2021-05-31T04:17:51.361926Z",
          "shell.execute_reply.started": "2021-05-31T04:17:51.347277Z",
          "shell.execute_reply": "2021-05-31T04:17:51.360808Z"
        },
        "trusted": true,
        "colab": {
          "base_uri": "https://localhost:8080/"
        },
        "id": "WvOr2GxOsUnB",
        "outputId": "6779a589-a54e-48b8-9b79-0e9b36dcbbdd"
      },
      "source": [
        "dates = df['DATE'].unique()\n",
        "dates"
      ],
      "execution_count": null,
      "outputs": [
        {
          "output_type": "execute_result",
          "data": {
            "text/plain": [
              "array([datetime.date(2020, 6, 7), datetime.date(2020, 7, 7),\n",
              "       datetime.date(2020, 8, 7), datetime.date(2020, 9, 7),\n",
              "       datetime.date(2020, 10, 7), datetime.date(2020, 11, 7)],\n",
              "      dtype=object)"
            ]
          },
          "metadata": {
            "tags": []
          },
          "execution_count": 59
        }
      ]
    },
    {
      "cell_type": "code",
      "metadata": {
        "execution": {
          "iopub.status.busy": "2021-05-31T04:17:51.386143Z",
          "iopub.execute_input": "2021-05-31T04:17:51.386458Z",
          "iopub.status.idle": "2021-05-31T04:17:51.390473Z",
          "shell.execute_reply.started": "2021-05-31T04:17:51.386431Z",
          "shell.execute_reply": "2021-05-31T04:17:51.389695Z"
        },
        "trusted": true,
        "id": "Yph04796sUnC"
      },
      "source": [
        "# remove first day which doesnt have all hours \n",
        "# dates= dates[1:]"
      ],
      "execution_count": null,
      "outputs": []
    },
    {
      "cell_type": "code",
      "metadata": {
        "execution": {
          "iopub.status.busy": "2021-05-31T04:17:51.443465Z",
          "iopub.execute_input": "2021-05-31T04:17:51.443825Z",
          "iopub.status.idle": "2021-05-31T04:17:51.452835Z",
          "shell.execute_reply.started": "2021-05-31T04:17:51.443794Z",
          "shell.execute_reply": "2021-05-31T04:17:51.451924Z"
        },
        "trusted": true,
        "colab": {
          "base_uri": "https://localhost:8080/"
        },
        "id": "9CMWozhbsUnC",
        "outputId": "1a3c9b43-21d1-432d-e8bf-2995b54eaa80"
      },
      "source": [
        "# all the hours in day\n",
        "day1 = df[df['DATE']==dates[0]]\n",
        "day1['HOURS'].unique()"
      ],
      "execution_count": null,
      "outputs": [
        {
          "output_type": "execute_result",
          "data": {
            "text/plain": [
              "array([ 0,  1,  2,  3,  4,  5,  6,  7,  8,  9, 10, 11, 12, 13, 14, 15, 16,\n",
              "       17, 18, 19, 20, 21, 22, 23])"
            ]
          },
          "metadata": {
            "tags": []
          },
          "execution_count": 61
        }
      ]
    },
    {
      "cell_type": "code",
      "metadata": {
        "execution": {
          "iopub.status.busy": "2021-05-31T04:17:51.460904Z",
          "iopub.execute_input": "2021-05-31T04:17:51.461413Z",
          "iopub.status.idle": "2021-05-31T04:17:51.464950Z",
          "shell.execute_reply.started": "2021-05-31T04:17:51.461376Z",
          "shell.execute_reply": "2021-05-31T04:17:51.463771Z"
        },
        "trusted": true,
        "id": "LneHnBJ2sUnC"
      },
      "source": [
        "# df['Other'] = df['Other'].astype(int) + df['Wood'].astype(int) + df['Refuse'].astype(int) + df['LandfillGas'].astype(int)\n",
        "# df = df.drop(columns=['Wood','Refuse','Renewables','LandfillGas'])\n",
        "# df.head()"
      ],
      "execution_count": null,
      "outputs": []
    },
    {
      "cell_type": "code",
      "metadata": {
        "execution": {
          "iopub.status.busy": "2021-05-31T04:17:51.474524Z",
          "iopub.execute_input": "2021-05-31T04:17:51.475215Z",
          "iopub.status.idle": "2021-05-31T04:17:51.478958Z",
          "shell.execute_reply.started": "2021-05-31T04:17:51.475175Z",
          "shell.execute_reply": "2021-05-31T04:17:51.477947Z"
        },
        "trusted": true,
        "id": "XTw-mdJ8sUnC"
      },
      "source": [
        "# Pie chart ( Fuel Mix)\n",
        "# df_nw.plot.pie(\n",
        "#     index=[\"Wind Generation (MWh)\",\"Solar Generation (MWh)\",\"Hydro Generation (MWh)\",\"Other Generation (MWh)\", \n",
        "#             \"Petroleum Generation (MWh)\", \"Natural gas Generation (MWh)\",\"Coal Generation (MWh)\",\"Nuclear Generation (MWh)\"],\n",
        "#     subplots=True, name='Fuel Distribution in Generation / Fuel Mix')"
      ],
      "execution_count": null,
      "outputs": []
    },
    {
      "cell_type": "markdown",
      "metadata": {
        "id": "HzGEkAaqsUnD"
      },
      "source": [
        "### Inperpolate values for missing dates"
      ]
    },
    {
      "cell_type": "code",
      "metadata": {
        "execution": {
          "iopub.status.busy": "2021-05-31T04:17:51.487933Z",
          "iopub.execute_input": "2021-05-31T04:17:51.488677Z",
          "iopub.status.idle": "2021-05-31T04:17:51.493400Z",
          "shell.execute_reply.started": "2021-05-31T04:17:51.488627Z",
          "shell.execute_reply": "2021-05-31T04:17:51.492461Z"
        },
        "trusted": true,
        "id": "578NDmqesUnD"
      },
      "source": [
        "# index = pd.date_range(datetime.date(2020, 7, 6), periods=1440, freq='T')\n",
        "# series = pd.Series(range(1440), index=index, name='Timestamp')\n",
        "# series = pd.to_datetime(series.index,format = '%Y-%d-%m %H:%M:%S')\n",
        "# # print(series)\n",
        "\n",
        "# dhours = df[df['DATE']==datetime.date(2020, 7, 6)]\n",
        "# dunique_minpass = dhours['Timestamp'].unique()\n",
        "# # dunique_minpass = pd.to_datetime(dunique_minpass ,format = '%Y-%d-%m %H:%M:%S')\n",
        "# # print(dunique_minpass)\n",
        "\n",
        "# for m in series: \n",
        "#     if m not in dunique_minpass:\n",
        "#         print(\"missing tiemstamp \", m)\n",
        "#         dhours = dhours.append({ \n",
        "#             'Timestamp': m,\n",
        "#             'Renewables': 0\n",
        "#         }, ignore_index = True) \n",
        "#     else :\n",
        "#         print(\"Exists tmestamp \", m) "
      ],
      "execution_count": null,
      "outputs": []
    },
    {
      "cell_type": "code",
      "metadata": {
        "execution": {
          "iopub.status.busy": "2021-05-31T04:17:51.525313Z",
          "iopub.execute_input": "2021-05-31T04:17:51.525897Z",
          "iopub.status.idle": "2021-05-31T04:17:51.541217Z",
          "shell.execute_reply.started": "2021-05-31T04:17:51.525861Z",
          "shell.execute_reply": "2021-05-31T04:17:51.540259Z"
        },
        "trusted": true,
        "colab": {
          "base_uri": "https://localhost:8080/",
          "height": 309
        },
        "id": "oYtb-nKxsUnD",
        "outputId": "53cef003-7478-4238-9f51-023edc812adf"
      },
      "source": [
        "df.head()\n",
        "# len(df)"
      ],
      "execution_count": null,
      "outputs": [
        {
          "output_type": "execute_result",
          "data": {
            "text/html": [
              "<div>\n",
              "<style scoped>\n",
              "    .dataframe tbody tr th:only-of-type {\n",
              "        vertical-align: middle;\n",
              "    }\n",
              "\n",
              "    .dataframe tbody tr th {\n",
              "        vertical-align: top;\n",
              "    }\n",
              "\n",
              "    .dataframe thead th {\n",
              "        text-align: right;\n",
              "    }\n",
              "</style>\n",
              "<table border=\"1\" class=\"dataframe\">\n",
              "  <thead>\n",
              "    <tr style=\"text-align: right;\">\n",
              "      <th></th>\n",
              "      <th>Solar</th>\n",
              "      <th>NaturalGas</th>\n",
              "      <th>Hydro</th>\n",
              "      <th>Imports</th>\n",
              "      <th>Batteries</th>\n",
              "      <th>Nuclear</th>\n",
              "      <th>Coal</th>\n",
              "      <th>Other</th>\n",
              "      <th>Timestamp</th>\n",
              "      <th>DATE</th>\n",
              "      <th>TIME</th>\n",
              "      <th>HOURS</th>\n",
              "      <th>MINUTES</th>\n",
              "      <th>MINUTES_PASS</th>\n",
              "      <th>Wind</th>\n",
              "      <th>Oil</th>\n",
              "    </tr>\n",
              "  </thead>\n",
              "  <tbody>\n",
              "    <tr>\n",
              "      <th>0:00</th>\n",
              "      <td>6487</td>\n",
              "      <td>6999</td>\n",
              "      <td>1859</td>\n",
              "      <td>7899</td>\n",
              "      <td>-1</td>\n",
              "      <td>2266</td>\n",
              "      <td>9</td>\n",
              "      <td>0</td>\n",
              "      <td>2020-06-07 00:00:00</td>\n",
              "      <td>2020-06-07</td>\n",
              "      <td>00:00:00</td>\n",
              "      <td>0</td>\n",
              "      <td>0</td>\n",
              "      <td>0</td>\n",
              "      <td>0</td>\n",
              "      <td>0</td>\n",
              "    </tr>\n",
              "    <tr>\n",
              "      <th>0:05</th>\n",
              "      <td>6482</td>\n",
              "      <td>6674</td>\n",
              "      <td>1883</td>\n",
              "      <td>8142</td>\n",
              "      <td>12</td>\n",
              "      <td>2266</td>\n",
              "      <td>11</td>\n",
              "      <td>0</td>\n",
              "      <td>2020-06-07 00:05:00</td>\n",
              "      <td>2020-06-07</td>\n",
              "      <td>00:05:00</td>\n",
              "      <td>0</td>\n",
              "      <td>5</td>\n",
              "      <td>5</td>\n",
              "      <td>0</td>\n",
              "      <td>0</td>\n",
              "    </tr>\n",
              "    <tr>\n",
              "      <th>0:10</th>\n",
              "      <td>6487</td>\n",
              "      <td>6501</td>\n",
              "      <td>1844</td>\n",
              "      <td>8197</td>\n",
              "      <td>-6</td>\n",
              "      <td>2266</td>\n",
              "      <td>10</td>\n",
              "      <td>0</td>\n",
              "      <td>2020-06-07 00:10:00</td>\n",
              "      <td>2020-06-07</td>\n",
              "      <td>00:10:00</td>\n",
              "      <td>0</td>\n",
              "      <td>10</td>\n",
              "      <td>10</td>\n",
              "      <td>0</td>\n",
              "      <td>0</td>\n",
              "    </tr>\n",
              "    <tr>\n",
              "      <th>0:15</th>\n",
              "      <td>6466</td>\n",
              "      <td>6588</td>\n",
              "      <td>1852</td>\n",
              "      <td>8037</td>\n",
              "      <td>-31</td>\n",
              "      <td>2266</td>\n",
              "      <td>10</td>\n",
              "      <td>0</td>\n",
              "      <td>2020-06-07 00:15:00</td>\n",
              "      <td>2020-06-07</td>\n",
              "      <td>00:15:00</td>\n",
              "      <td>0</td>\n",
              "      <td>15</td>\n",
              "      <td>15</td>\n",
              "      <td>0</td>\n",
              "      <td>0</td>\n",
              "    </tr>\n",
              "    <tr>\n",
              "      <th>0:20</th>\n",
              "      <td>6422</td>\n",
              "      <td>6509</td>\n",
              "      <td>1860</td>\n",
              "      <td>8012</td>\n",
              "      <td>-31</td>\n",
              "      <td>2266</td>\n",
              "      <td>10</td>\n",
              "      <td>0</td>\n",
              "      <td>2020-06-07 00:20:00</td>\n",
              "      <td>2020-06-07</td>\n",
              "      <td>00:20:00</td>\n",
              "      <td>0</td>\n",
              "      <td>20</td>\n",
              "      <td>20</td>\n",
              "      <td>0</td>\n",
              "      <td>0</td>\n",
              "    </tr>\n",
              "  </tbody>\n",
              "</table>\n",
              "</div>"
            ],
            "text/plain": [
              "      Solar  NaturalGas  Hydro Imports  ... MINUTES  MINUTES_PASS  Wind  Oil\n",
              "0:00   6487        6999   1859    7899  ...       0             0     0    0\n",
              "0:05   6482        6674   1883    8142  ...       5             5     0    0\n",
              "0:10   6487        6501   1844    8197  ...      10            10     0    0\n",
              "0:15   6466        6588   1852    8037  ...      15            15     0    0\n",
              "0:20   6422        6509   1860    8012  ...      20            20     0    0\n",
              "\n",
              "[5 rows x 16 columns]"
            ]
          },
          "metadata": {
            "tags": []
          },
          "execution_count": 65
        }
      ]
    },
    {
      "cell_type": "code",
      "metadata": {
        "execution": {
          "iopub.status.busy": "2021-05-31T04:17:51.576198Z",
          "iopub.execute_input": "2021-05-31T04:17:51.576505Z",
          "iopub.status.idle": "2021-05-31T04:18:37.467024Z",
          "shell.execute_reply.started": "2021-05-31T04:17:51.576478Z",
          "shell.execute_reply": "2021-05-31T04:18:37.466078Z"
        },
        "trusted": true,
        "colab": {
          "base_uri": "https://localhost:8080/"
        },
        "id": "z8EaceUhsUnD",
        "outputId": "b0b7eb6c-821c-4fec-8b26-730c37f042fc"
      },
      "source": [
        "df2 = pd.DataFrame()\n",
        "\n",
        "for d in dates:\n",
        "#     print(d)\n",
        "    dhours = df[df['DATE']==d]\n",
        "    dunique_minpass = dhours['Timestamp'].unique()\n",
        "    dunique_minpass = pd.to_datetime(dunique_minpass ,format = '%Y-%m-%d %H:%M')\n",
        "#     print(dunique_minpass)\n",
        "#     '2020-07-06 00:00:00' \n",
        "    index = pd.date_range(d, periods=1440, freq='T')\n",
        "    series = pd.Series(range(1440), index=index, name='Timestamp')\n",
        "    series = pd.to_datetime(series.index,format = '%Y-%m-%d %H:%M')\n",
        "#     print(series)\n",
        "#    '2020-06-07 00:00:00'\n",
        "    for m in series: \n",
        "        if m not in dunique_minpass:\n",
        "#           print(\"missing tiemstamp \" , m)\n",
        "            dhours = dhours.append({ \n",
        "                'Timestamp': m,\n",
        "                'Batteries': 0\n",
        "            }, ignore_index = True) \n",
        "#         else :\n",
        "#             print(\"Exists tmestamp \" , m) \n",
        "    dhours = dhours.sort_values(by='Timestamp')\n",
        "    dhours = dhours.interpolate(method ='linear', limit_direction ='forward')\n",
        "\n",
        "    # adding separate time and date columns\n",
        "    dhours[\"DATE\"] = pd.to_datetime(dhours[\"Timestamp\"]).dt.date # add new column with date\n",
        "    dhours[\"TIME\"] = pd.to_datetime(dhours[\"Timestamp\"]).dt.time # add new column with time\n",
        "\n",
        "    # add hours and minutes for ml models\n",
        "    dhours['HOURS'] = pd.to_datetime(dhours['TIME'],format='%H:%M:%S').dt.hour\n",
        "    dhours['MINUTES'] = pd.to_datetime(dhours['TIME'],format='%H:%M:%S').dt.minute\n",
        "    dhours['MINUTES_PASS'] = dhours['MINUTES'] + dhours['HOURS']*60\n",
        "    df2 = df2.append(dhours)\n",
        "\n",
        "# df = df2\n",
        "len(df)"
      ],
      "execution_count": null,
      "outputs": [
        {
          "output_type": "execute_result",
          "data": {
            "text/plain": [
              "2016"
            ]
          },
          "metadata": {
            "tags": []
          },
          "execution_count": 66
        }
      ]
    },
    {
      "cell_type": "code",
      "metadata": {
        "execution": {
          "iopub.status.busy": "2021-05-31T04:18:37.469250Z",
          "iopub.execute_input": "2021-05-31T04:18:37.469661Z",
          "iopub.status.idle": "2021-05-31T04:18:37.510449Z",
          "shell.execute_reply.started": "2021-05-31T04:18:37.469617Z",
          "shell.execute_reply": "2021-05-31T04:18:37.509538Z"
        },
        "trusted": true,
        "id": "bhZpFAKisUnE"
      },
      "source": [
        "df = df.replace('undefined', 0)\n",
        "df = df.fillna(0)\n",
        "df = df.replace(np.nan, 0)\n",
        "# drop Imports and Batteries \n",
        "df.drop(['Imports','Batteries'], axis=1, inplace=True)  \n",
        "df.head(15)\n",
        "\n",
        "\n",
        "df2 = df2.replace('undefined', 0)\n",
        "df2 = df2.fillna(0)\n",
        "df2 = df2.replace(np.nan, 0)\n",
        "# drop Imports and Batteries \n",
        "df2.drop(['Imports','Batteries'], axis=1, inplace=True)  "
      ],
      "execution_count": null,
      "outputs": []
    },
    {
      "cell_type": "code",
      "metadata": {
        "execution": {
          "iopub.status.busy": "2021-05-31T04:18:37.511959Z",
          "iopub.execute_input": "2021-05-31T04:18:37.512235Z",
          "iopub.status.idle": "2021-05-31T04:18:37.531195Z",
          "shell.execute_reply.started": "2021-05-31T04:18:37.512207Z",
          "shell.execute_reply": "2021-05-31T04:18:37.530261Z"
        },
        "trusted": true,
        "colab": {
          "base_uri": "https://localhost:8080/",
          "height": 419
        },
        "id": "droZaRB9sUnE",
        "outputId": "0b4e3f25-cec0-4fa2-b251-78cf6506d6c2"
      },
      "source": [
        "df[\"total_generation\"] = df[\"Wind\"] + df[\"Solar\"] + df[\"Hydro\"] + df[\"Other\"] + df[\"Oil\"] + df[\"NaturalGas\"] + df[\"Coal\"] + df[\"Nuclear\"]\n",
        "df[[\"TIME\",\"total_generation\"]]\n",
        "\n",
        "df2[\"total_generation\"] = df2[\"Wind\"] + df2[\"Solar\"] + df2[\"Hydro\"] + df2[\"Other\"] + df2[\"Oil\"] + df2[\"NaturalGas\"] + df2[\"Coal\"] + df2[\"Nuclear\"]\n",
        "df2[[\"TIME\",\"total_generation\"]]"
      ],
      "execution_count": null,
      "outputs": [
        {
          "output_type": "execute_result",
          "data": {
            "text/html": [
              "<div>\n",
              "<style scoped>\n",
              "    .dataframe tbody tr th:only-of-type {\n",
              "        vertical-align: middle;\n",
              "    }\n",
              "\n",
              "    .dataframe tbody tr th {\n",
              "        vertical-align: top;\n",
              "    }\n",
              "\n",
              "    .dataframe thead th {\n",
              "        text-align: right;\n",
              "    }\n",
              "</style>\n",
              "<table border=\"1\" class=\"dataframe\">\n",
              "  <thead>\n",
              "    <tr style=\"text-align: right;\">\n",
              "      <th></th>\n",
              "      <th>TIME</th>\n",
              "      <th>total_generation</th>\n",
              "    </tr>\n",
              "  </thead>\n",
              "  <tbody>\n",
              "    <tr>\n",
              "      <th>0</th>\n",
              "      <td>00:00:00</td>\n",
              "      <td>17620.0</td>\n",
              "    </tr>\n",
              "    <tr>\n",
              "      <th>288</th>\n",
              "      <td>00:00:00</td>\n",
              "      <td>17620.0</td>\n",
              "    </tr>\n",
              "    <tr>\n",
              "      <th>576</th>\n",
              "      <td>00:01:00</td>\n",
              "      <td>17559.2</td>\n",
              "    </tr>\n",
              "    <tr>\n",
              "      <th>577</th>\n",
              "      <td>00:02:00</td>\n",
              "      <td>17498.4</td>\n",
              "    </tr>\n",
              "    <tr>\n",
              "      <th>578</th>\n",
              "      <td>00:03:00</td>\n",
              "      <td>17437.6</td>\n",
              "    </tr>\n",
              "    <tr>\n",
              "      <th>...</th>\n",
              "      <td>...</td>\n",
              "      <td>...</td>\n",
              "    </tr>\n",
              "    <tr>\n",
              "      <th>287</th>\n",
              "      <td>23:55:00</td>\n",
              "      <td>21176.0</td>\n",
              "    </tr>\n",
              "    <tr>\n",
              "      <th>1436</th>\n",
              "      <td>23:56:00</td>\n",
              "      <td>21176.0</td>\n",
              "    </tr>\n",
              "    <tr>\n",
              "      <th>1437</th>\n",
              "      <td>23:57:00</td>\n",
              "      <td>21176.0</td>\n",
              "    </tr>\n",
              "    <tr>\n",
              "      <th>1438</th>\n",
              "      <td>23:58:00</td>\n",
              "      <td>21176.0</td>\n",
              "    </tr>\n",
              "    <tr>\n",
              "      <th>1439</th>\n",
              "      <td>23:59:00</td>\n",
              "      <td>21176.0</td>\n",
              "    </tr>\n",
              "  </tbody>\n",
              "</table>\n",
              "<p>8928 rows × 2 columns</p>\n",
              "</div>"
            ],
            "text/plain": [
              "          TIME  total_generation\n",
              "0     00:00:00           17620.0\n",
              "288   00:00:00           17620.0\n",
              "576   00:01:00           17559.2\n",
              "577   00:02:00           17498.4\n",
              "578   00:03:00           17437.6\n",
              "...        ...               ...\n",
              "287   23:55:00           21176.0\n",
              "1436  23:56:00           21176.0\n",
              "1437  23:57:00           21176.0\n",
              "1438  23:58:00           21176.0\n",
              "1439  23:59:00           21176.0\n",
              "\n",
              "[8928 rows x 2 columns]"
            ]
          },
          "metadata": {
            "tags": []
          },
          "execution_count": 68
        }
      ]
    },
    {
      "cell_type": "markdown",
      "metadata": {
        "id": "4ytPty2HsUnF"
      },
      "source": [
        "Add unix timestamp"
      ]
    },
    {
      "cell_type": "code",
      "metadata": {
        "execution": {
          "iopub.status.busy": "2021-05-31T04:18:37.532490Z",
          "iopub.execute_input": "2021-05-31T04:18:37.532799Z",
          "iopub.status.idle": "2021-05-31T04:18:37.551418Z",
          "shell.execute_reply.started": "2021-05-31T04:18:37.532770Z",
          "shell.execute_reply": "2021-05-31T04:18:37.550398Z"
        },
        "trusted": true,
        "colab": {
          "base_uri": "https://localhost:8080/"
        },
        "id": "NNugNBIZsUnF",
        "outputId": "d9bbfaf8-62f7-4a15-bfec-141809fbff32"
      },
      "source": [
        "df_unix = pd.to_datetime(df[\"Timestamp\"],origin='unix')\n",
        "df[\"Timestamp (Unix)\"] = (df_unix - pd.Timestamp(\"1970-01-01\")) // pd.Timedelta('1s')\n",
        "df[\"Timestamp (Unix)\"].head()"
      ],
      "execution_count": null,
      "outputs": [
        {
          "output_type": "execute_result",
          "data": {
            "text/plain": [
              "0:00    1591488000\n",
              "0:05    1591488300\n",
              "0:10    1591488600\n",
              "0:15    1591488900\n",
              "0:20    1591489200\n",
              "Name: Timestamp (Unix), dtype: int64"
            ]
          },
          "metadata": {
            "tags": []
          },
          "execution_count": 69
        }
      ]
    },
    {
      "cell_type": "markdown",
      "metadata": {
        "id": "IN0gaMmUsUnF"
      },
      "source": [
        "### output csv \n",
        "\n",
        "CSV outPut total_generation(MW) and total_generation(W) and \n",
        "one Timestamp (Unix) and total_generation(W)"
      ]
    },
    {
      "cell_type": "code",
      "metadata": {
        "execution": {
          "iopub.status.busy": "2021-05-31T04:18:37.554764Z",
          "iopub.execute_input": "2021-05-31T04:18:37.555078Z",
          "iopub.status.idle": "2021-05-31T04:18:37.713294Z",
          "shell.execute_reply.started": "2021-05-31T04:18:37.555049Z",
          "shell.execute_reply": "2021-05-31T04:18:37.712297Z"
        },
        "trusted": true,
        "id": "7LpglizJsUnG"
      },
      "source": [
        "# ot = df\n",
        "# ot['total_generation(W)'] = ot['total_generation']*1000000\n",
        "# ot.to_csv(Region+'.csv',index=False, header=True)\n",
        "# ot.to_csv(Region+'_genunix.csv', columns=['Timestamp (Unix)','total_generation(W)'], index=False, header=True)"
      ],
      "execution_count": null,
      "outputs": []
    },
    {
      "cell_type": "markdown",
      "metadata": {
        "id": "nqn-VgYAsUnG"
      },
      "source": [
        "Output date wise"
      ]
    },
    {
      "cell_type": "code",
      "metadata": {
        "execution": {
          "iopub.status.busy": "2021-05-31T04:18:37.715636Z",
          "iopub.execute_input": "2021-05-31T04:18:37.715935Z",
          "iopub.status.idle": "2021-05-31T04:18:37.899051Z",
          "shell.execute_reply.started": "2021-05-31T04:18:37.715907Z",
          "shell.execute_reply": "2021-05-31T04:18:37.898108Z"
        },
        "trusted": true,
        "id": "zFPMQZsbsUnG"
      },
      "source": [
        "# for d in dates:\n",
        "#     print(d)\n",
        "#     # all the hours in day\n",
        "#     ot2 = df[df['DATE']==d]\n",
        "#     ot2.to_csv(Region+\"_\"+str(d)+'.csv',index=False, header=True)\n",
        "#     ot2.to_csv(Region+'_genunix_'+str(d)+'.csv', columns=['Timestamp (Unix)','total_generation(W)'],index=False, header=True)"
      ],
      "execution_count": null,
      "outputs": []
    },
    {
      "cell_type": "markdown",
      "metadata": {
        "id": "InAZxDi-sUnH"
      },
      "source": [
        "<a id=\"section-four\"></a>\n",
        "# 4.  Daily graphs"
      ]
    },
    {
      "cell_type": "code",
      "metadata": {
        "colab": {
          "base_uri": "https://localhost:8080/",
          "height": 507
        },
        "id": "R84g1-JWVmxd",
        "outputId": "88cedd74-fbca-4950-ba4c-bc74dbebc584"
      },
      "source": [
        "fig, axs = plt.subplots(nrows=3, ncols=2)\n",
        "fig.set_size_inches(20, 10)\n",
        "fig.subplots_adjust(wspace=0.2)\n",
        "fig.subplots_adjust(hspace=0.5)\n",
        "\n",
        "fig = plt.figure()\n",
        "\n",
        "for pp,ax in zip(dates,axs.flatten()):\n",
        "\n",
        "  for frame in [ df,df2]:\n",
        "    \n",
        "      sub_df = frame[frame['DATE']==pp]\n",
        "      sub_df.plot.bar(x='MINUTES_PASS', y=[\"total_generation\"],ax = ax, title = \"Total generation in \"+ Region + \" on \"+ pp.strftime('%B %d, %Y'))\n",
        "    \n",
        "      ax.set_ylabel(\"generation(Mw)\")\n",
        "  \n",
        "      mean_gen = round(sub_df[\"total_generation\"].mean())\n",
        "      max_gen = sub_df[\"total_generation\"].max()\n",
        "      maxh = sub_df.loc[sub_df[\"total_generation\"]== max_gen]\n",
        "      maxh = maxh[\"MINUTES_PASS\"]\n",
        "      ax.axhline(y=mean_gen, xmin=-1, xmax=1, color='r', linestyle='--', lw=2)\n",
        "      ax.text(5,mean_gen+1000, \"Mean \" + str(mean_gen) + \"(MWh)\" )\n",
        "      ax.get_legend().remove()\n",
        "      ax.set_ylim(bottom = 0,top=39000)\n",
        "\n",
        "  # plt.xlim(0,18000)\n",
        "  # plt.ylim(0,30)\n",
        "  # plt.show()"
      ],
      "execution_count": null,
      "outputs": [
        {
          "output_type": "display_data",
          "data": {
            "image/png": "[encoded data removed]",
            "text/plain": [
              "<Figure size 1440x720 with 6 Axes>"
            ]
          },
          "metadata": {
            "tags": [],
            "needs_background": "light"
          }
        },
        {
          "output_type": "display_data",
          "data": {
            "text/plain": [
              "<Figure size 432x288 with 0 Axes>"
            ]
          },
          "metadata": {
            "tags": []
          }
        }
      ]
    },
    {
      "cell_type": "code",
      "metadata": {
        "execution": {
          "iopub.status.busy": "2021-05-31T04:18:37.900610Z",
          "iopub.execute_input": "2021-05-31T04:18:37.900893Z",
          "iopub.status.idle": "2021-05-31T04:18:37.905463Z",
          "shell.execute_reply.started": "2021-05-31T04:18:37.900868Z",
          "shell.execute_reply": "2021-05-31T04:18:37.904307Z"
        },
        "trusted": true,
        "id": "PTcTNbzWsUnH"
      },
      "source": [
        "# chats of all days in series \n",
        "\n",
        "# for pp in df_nw['DATE'].unique():\n",
        "# #     print(df_nw[pp])\n",
        "#     print(pp)\n",
        "#     sub_df=df_nw[df_nw['DATE']==pp]\n",
        "#     ax = sub_df.plot(x='HOURS', y=[\"total_generation\"], title = \"Total generation in \"+ Region + \" on \"+ pp.strftime('%B %d, %Y'))\n",
        "#     ax.axhline(y=sub_df[\"total_generation\"].mean(), xmin=-1, xmax=1, color='r', linestyle='--', lw=2)"
      ],
      "execution_count": null,
      "outputs": []
    },
    {
      "cell_type": "code",
      "metadata": {
        "execution": {
          "iopub.status.busy": "2021-05-31T04:18:37.907073Z",
          "iopub.execute_input": "2021-05-31T04:18:37.907391Z",
          "iopub.status.idle": "2021-05-31T04:18:38.662392Z",
          "shell.execute_reply.started": "2021-05-31T04:18:37.907364Z",
          "shell.execute_reply": "2021-05-31T04:18:38.661402Z"
        },
        "trusted": true,
        "colab": {
          "base_uri": "https://localhost:8080/",
          "height": 586
        },
        "id": "2MM73ztnsUnH",
        "outputId": "901de110-eae9-4f76-9b8b-646dc1b80e16"
      },
      "source": [
        "fig, axs = plt.subplots(nrows=3, ncols=2)\n",
        "fig.set_size_inches(20, 10)\n",
        "fig.subplots_adjust(wspace=0.2)\n",
        "fig.subplots_adjust(hspace=0.5)\n",
        "\n",
        "for pp,ax in zip(dates,axs.flatten()):\n",
        "#     print(df_nw[pp])\n",
        "    print(pp)\n",
        "    sub_df=df[df['DATE']==pp]\n",
        "    sub_df.plot(x='HOURS', y=[\"total_generation\"],ax = ax, title = \"Total generation in \"+ Region + \" on \"+ pp.strftime('%B %d, %Y'))\n",
        "    \n",
        "    ax.set_ylabel(\"generation(Mw)\")\n",
        "    \n",
        "    mean_gen = round(sub_df[\"total_generation\"].mean())\n",
        "    max_gen = sub_df[\"total_generation\"].max()\n",
        "    maxh = sub_df.loc[sub_df[\"total_generation\"]== max_gen]\n",
        "    maxh = maxh[\"HOURS\"]\n",
        "    ax.axhline(y=mean_gen, xmin=-1, xmax=1, color='r', linestyle='--', lw=2)\n",
        "    \n",
        "    ax.text(5,mean_gen+1000, \"Mean \" + str(mean_gen) + \"(MWh)\" )\n",
        "    \n",
        "    ax.get_legend().remove()\n",
        "    \n",
        "#     ax.annotate('Peak '+ str(max_gen)+ \"(MWh)\", xy=(maxh,max_gen), xytext=(maxh+1, max_gen+1000),\n",
        "#              arrowprops=dict(arrowstyle='-|>') ,ha='left', rotation=0)\n",
        "    \n",
        "    ax.set_ylim(bottom = 0,top=37000)\n",
        "\n",
        "# ax.axhline(y=df_nw[\"total_generation\"].median(), xmin=-1, xmax=1, color='g', linestyle='--', lw=2)"
      ],
      "execution_count": null,
      "outputs": [
        {
          "output_type": "stream",
          "text": [
            "2020-06-07\n",
            "2020-07-07\n",
            "2020-08-07\n",
            "2020-09-07\n",
            "2020-10-07\n",
            "2020-11-07\n"
          ],
          "name": "stdout"
        },
        {
          "output_type": "display_data",
          "data": {
            "image/png": "[encoded data removed]",
            "text/plain": [
              "<Figure size 1440x720 with 6 Axes>"
            ]
          },
          "metadata": {
            "tags": [],
            "needs_background": "light"
          }
        }
      ]
    },
    {
      "cell_type": "code",
      "metadata": {
        "id": "bCqH9Q56M7Ij"
      },
      "source": [
        ""
      ],
      "execution_count": null,
      "outputs": []
    },
    {
      "cell_type": "markdown",
      "metadata": {
        "id": "FJsZs6DRsUnI"
      },
      "source": [
        "## Daily chart for the week "
      ]
    },
    {
      "cell_type": "code",
      "metadata": {
        "execution": {
          "iopub.status.busy": "2021-05-31T04:25:06.815134Z",
          "iopub.execute_input": "2021-05-31T04:25:06.815683Z",
          "iopub.status.idle": "2021-05-31T04:25:08.454636Z",
          "shell.execute_reply.started": "2021-05-31T04:25:06.815638Z",
          "shell.execute_reply": "2021-05-31T04:25:08.453486Z"
        },
        "trusted": true,
        "colab": {
          "base_uri": "https://localhost:8080/",
          "height": 602
        },
        "id": "9DY_f-W2sUnI",
        "outputId": "01a54a63-9b91-4a07-a259-b5c01eda4971"
      },
      "source": [
        "fig, axs = plt.subplots(nrows=3, ncols=2)\n",
        "fig.set_size_inches(20, 10)\n",
        "fig.subplots_adjust(wspace=0.2)\n",
        "fig.subplots_adjust(hspace=0.5)\n",
        "\n",
        "fig.legend(column_list)\n",
        "\n",
        "    \n",
        "for pp,ax in zip(dates,axs.flatten()):\n",
        "#     print(df_nw[pp])\n",
        "    print(pp)\n",
        "    sub_df = df[df['DATE']==pp]\n",
        "    sub_df.plot.line(x='MINUTES_PASS', y = column_list[0], ax = ax, title = \"Fuel Mix for generation in \"+ Region + \" on \"+ pp.strftime('%B %d, %Y'),legend=False)\n",
        "    sub_df.plot.line(x='MINUTES_PASS', y = column_list[1], ax = ax,legend=False)\n",
        "    sub_df.plot.line(x='MINUTES_PASS', y = column_list[2], ax = ax,legend=False)    \n",
        "    sub_df.plot.line(x='MINUTES_PASS', y = column_list[3], ax = ax,legend=False)\n",
        "    sub_df.plot.line(x='MINUTES_PASS', y = column_list[4], ax = ax,legend=False)\n",
        "    sub_df.plot.line(x='MINUTES_PASS', y = column_list[5], ax = ax,legend=False)\n",
        "    sub_df.plot.line(x='MINUTES_PASS', y = column_list[6], ax = ax,legend=False)\n",
        "    sub_df.plot.line(x='MINUTES_PASS', y = column_list[7], ax = ax,legend=False)\n",
        "    sub_df.plot.line(x='MINUTES_PASS', y =['total_generation'], ax = ax,legend=False)\n",
        "    \n",
        "    ax.set_ylabel(\"generation(Mw)\")\n",
        "    \n",
        "    mean_gen = round(sub_df[\"total_generation\"].mean())\n",
        "    max_gen = sub_df[\"total_generation\"].max()\n",
        "    maxh = sub_df.loc[sub_df[\"total_generation\"]== max_gen]\n",
        "    maxh = maxh[\"MINUTES_PASS\"]\n",
        "    ax.axhline(y=mean_gen, xmin=-1, xmax=1, color='r', linestyle='--', lw=2)\n",
        "    \n",
        "    ax.text(5,mean_gen+1000, \"Mean \" + str(mean_gen) + \"(MW)\" )\n",
        "\n",
        "#     ax.get_legend().remove()\n",
        "    \n",
        "#     ax.annotate('Peak '+ str(max_gen)+ \"(MWh)\", xy=(maxh,max_gen), xytext=(maxh+1, max_gen+1000),\n",
        "#              arrowprops=dict(arrowstyle='-|>') ,ha='left', rotation=0)\n",
        "    \n",
        "    ax.set_ylim(bottom = 0,top=39000)\n",
        "    \n",
        "ax.legend(loc='center left', bbox_to_anchor=(1.0, 0.5))"
      ],
      "execution_count": null,
      "outputs": [
        {
          "output_type": "stream",
          "text": [
            "2020-06-07\n",
            "2020-07-07\n",
            "2020-08-07\n",
            "2020-09-07\n",
            "2020-10-07\n",
            "2020-11-07\n"
          ],
          "name": "stdout"
        },
        {
          "output_type": "execute_result",
          "data": {
            "text/plain": [
              "<matplotlib.legend.Legend at 0x7f6947a37410>"
            ]
          },
          "metadata": {
            "tags": []
          },
          "execution_count": 75
        },
        {
          "output_type": "display_data",
          "data": {
            "image/png": "[encoded data removed]",
            "text/plain": [
              "<Figure size 1440x720 with 6 Axes>"
            ]
          },
          "metadata": {
            "tags": [],
            "needs_background": "light"
          }
        }
      ]
    },
    {
      "cell_type": "code",
      "metadata": {
        "execution": {
          "iopub.status.busy": "2021-05-31T04:18:40.028403Z",
          "iopub.execute_input": "2021-05-31T04:18:40.028846Z",
          "iopub.status.idle": "2021-05-31T04:18:40.034085Z",
          "shell.execute_reply.started": "2021-05-31T04:18:40.028799Z",
          "shell.execute_reply": "2021-05-31T04:18:40.032868Z"
        },
        "trusted": true,
        "id": "rt32s4uesUnJ"
      },
      "source": [
        "# # Line Chart ( Trend during the day)\n",
        "# plt = df.plot.line(x='HOURS',\n",
        "#                     y = column_list,\n",
        "#                     title = \"Generation in \"+ Region + \" on \"+ Date)\n",
        "# plt.legend(loc='center left', bbox_to_anchor=(1.0, 0.5))"
      ],
      "execution_count": null,
      "outputs": []
    },
    {
      "cell_type": "code",
      "metadata": {
        "execution": {
          "iopub.status.busy": "2021-05-31T04:18:40.035259Z",
          "iopub.execute_input": "2021-05-31T04:18:40.035554Z",
          "iopub.status.idle": "2021-05-31T04:18:40.053470Z",
          "shell.execute_reply.started": "2021-05-31T04:18:40.035500Z",
          "shell.execute_reply": "2021-05-31T04:18:40.052452Z"
        },
        "trusted": true,
        "id": "ZSFHpE2ysUnJ"
      },
      "source": [
        "# usage in one day \n",
        "# df_nw.plot(x='HOURS',  kind='hist')\n",
        "\n",
        "# df_nw.plot(x='HOURS', y=[\"Wind Generation (MWh)\",\"Solar Generation (MWh)\",\"Hydro Generation (MWh)\",\"Other Generation (MWh)\", \n",
        "#                         \"Petroleum Generation (MWh)\", \"Natural gas Generation (MWh)\",\"Coal Generation (MWh)\",\"Nuclear Generation (MWh)\"], kind='hist')"
      ],
      "execution_count": null,
      "outputs": []
    },
    {
      "cell_type": "markdown",
      "metadata": {
        "id": "wzEkYyxUsUnJ"
      },
      "source": [
        "## Peak Hour"
      ]
    },
    {
      "cell_type": "code",
      "metadata": {
        "execution": {
          "iopub.status.busy": "2021-05-31T04:18:40.054412Z",
          "iopub.execute_input": "2021-05-31T04:18:40.054706Z",
          "iopub.status.idle": "2021-05-31T04:18:40.080166Z",
          "shell.execute_reply.started": "2021-05-31T04:18:40.054677Z",
          "shell.execute_reply": "2021-05-31T04:18:40.079247Z"
        },
        "trusted": true,
        "colab": {
          "base_uri": "https://localhost:8080/"
        },
        "id": "xjfBq1sJsUnJ",
        "outputId": "b3daee4c-03bc-4879-e4ed-d8fc31b6a70c"
      },
      "source": [
        "## Peak Min\n",
        "peakmin = df[df[\"total_generation\"] == df[\"total_generation\"].max()]\n",
        "peakmin = peakmin.reset_index(drop=True)\n",
        "peakmin"
      ],
      "execution_count": null,
      "outputs": [
        {
          "output_type": "execute_result",
          "data": {
            "text/html": [
              "<div>\n",
              "<style scoped>\n",
              "    .dataframe tbody tr th:only-of-type {\n",
              "        vertical-align: middle;\n",
              "    }\n",
              "\n",
              "    .dataframe tbody tr th {\n",
              "        vertical-align: top;\n",
              "    }\n",
              "\n",
              "    .dataframe thead th {\n",
              "        text-align: right;\n",
              "    }\n",
              "</style>\n",
              "<table border=\"1\" class=\"dataframe\">\n",
              "  <thead>\n",
              "    <tr style=\"text-align: right;\">\n",
              "      <th></th>\n",
              "      <th>Solar</th>\n",
              "      <th>NaturalGas</th>\n",
              "      <th>Hydro</th>\n",
              "      <th>Nuclear</th>\n",
              "      <th>Coal</th>\n",
              "      <th>Other</th>\n",
              "      <th>Timestamp</th>\n",
              "      <th>DATE</th>\n",
              "      <th>TIME</th>\n",
              "      <th>HOURS</th>\n",
              "      <th>MINUTES</th>\n",
              "      <th>MINUTES_PASS</th>\n",
              "      <th>Wind</th>\n",
              "      <th>Oil</th>\n",
              "      <th>total_generation</th>\n",
              "      <th>Timestamp (Unix)</th>\n",
              "    </tr>\n",
              "  </thead>\n",
              "  <tbody>\n",
              "    <tr>\n",
              "      <th>0</th>\n",
              "      <td>11872</td>\n",
              "      <td>20282</td>\n",
              "      <td>3521</td>\n",
              "      <td>2271</td>\n",
              "      <td>10</td>\n",
              "      <td>0</td>\n",
              "      <td>2020-11-07 17:45:00</td>\n",
              "      <td>2020-11-07</td>\n",
              "      <td>17:45:00</td>\n",
              "      <td>17</td>\n",
              "      <td>45</td>\n",
              "      <td>1065</td>\n",
              "      <td>0</td>\n",
              "      <td>0</td>\n",
              "      <td>37956</td>\n",
              "      <td>1604771100</td>\n",
              "    </tr>\n",
              "  </tbody>\n",
              "</table>\n",
              "</div>"
            ],
            "text/plain": [
              "   Solar  NaturalGas  Hydro  ...  Oil  total_generation  Timestamp (Unix)\n",
              "0  11872       20282   3521  ...    0             37956        1604771100\n",
              "\n",
              "[1 rows x 16 columns]"
            ]
          },
          "metadata": {
            "tags": []
          },
          "execution_count": 78
        }
      ]
    },
    {
      "cell_type": "code",
      "metadata": {
        "execution": {
          "iopub.status.busy": "2021-05-31T04:18:40.081402Z",
          "iopub.execute_input": "2021-05-31T04:18:40.081696Z",
          "iopub.status.idle": "2021-05-31T04:18:40.137595Z",
          "shell.execute_reply.started": "2021-05-31T04:18:40.081669Z",
          "shell.execute_reply": "2021-05-31T04:18:40.136242Z"
        },
        "trusted": true,
        "colab": {
          "base_uri": "https://localhost:8080/"
        },
        "id": "kC3mM2E8sUnJ",
        "outputId": "a464dd55-a86c-40b0-dbd9-6e075f25301a"
      },
      "source": [
        "## Peak Hour\n",
        "# df_nw= df_nw[df_nw[\"DATE\"].astype(str) == Date]\n",
        "peakhour = df[(df['HOURS'].values==peakmin.HOURS.values) & (df[\"DATE\"].values==peakmin.DATE.values) ]\n",
        "peakhour"
      ],
      "execution_count": null,
      "outputs": [
        {
          "output_type": "execute_result",
          "data": {
            "text/html": [
              "<div>\n",
              "<style scoped>\n",
              "    .dataframe tbody tr th:only-of-type {\n",
              "        vertical-align: middle;\n",
              "    }\n",
              "\n",
              "    .dataframe tbody tr th {\n",
              "        vertical-align: top;\n",
              "    }\n",
              "\n",
              "    .dataframe thead th {\n",
              "        text-align: right;\n",
              "    }\n",
              "</style>\n",
              "<table border=\"1\" class=\"dataframe\">\n",
              "  <thead>\n",
              "    <tr style=\"text-align: right;\">\n",
              "      <th></th>\n",
              "      <th>Solar</th>\n",
              "      <th>NaturalGas</th>\n",
              "      <th>Hydro</th>\n",
              "      <th>Nuclear</th>\n",
              "      <th>Coal</th>\n",
              "      <th>Other</th>\n",
              "      <th>Timestamp</th>\n",
              "      <th>DATE</th>\n",
              "      <th>TIME</th>\n",
              "      <th>HOURS</th>\n",
              "      <th>MINUTES</th>\n",
              "      <th>MINUTES_PASS</th>\n",
              "      <th>Wind</th>\n",
              "      <th>Oil</th>\n",
              "      <th>total_generation</th>\n",
              "      <th>Timestamp (Unix)</th>\n",
              "    </tr>\n",
              "  </thead>\n",
              "  <tbody>\n",
              "    <tr>\n",
              "      <th>17:00</th>\n",
              "      <td>12935</td>\n",
              "      <td>19138</td>\n",
              "      <td>3191</td>\n",
              "      <td>2271</td>\n",
              "      <td>11</td>\n",
              "      <td>0</td>\n",
              "      <td>2020-11-07 17:00:00</td>\n",
              "      <td>2020-11-07</td>\n",
              "      <td>17:00:00</td>\n",
              "      <td>17</td>\n",
              "      <td>0</td>\n",
              "      <td>1020</td>\n",
              "      <td>0</td>\n",
              "      <td>0</td>\n",
              "      <td>37546</td>\n",
              "      <td>1604768400</td>\n",
              "    </tr>\n",
              "    <tr>\n",
              "      <th>17:05</th>\n",
              "      <td>12864</td>\n",
              "      <td>19385</td>\n",
              "      <td>3047</td>\n",
              "      <td>2270</td>\n",
              "      <td>11</td>\n",
              "      <td>0</td>\n",
              "      <td>2020-11-07 17:05:00</td>\n",
              "      <td>2020-11-07</td>\n",
              "      <td>17:05:00</td>\n",
              "      <td>17</td>\n",
              "      <td>5</td>\n",
              "      <td>1025</td>\n",
              "      <td>0</td>\n",
              "      <td>0</td>\n",
              "      <td>37577</td>\n",
              "      <td>1604768700</td>\n",
              "    </tr>\n",
              "    <tr>\n",
              "      <th>17:10</th>\n",
              "      <td>12744</td>\n",
              "      <td>19638</td>\n",
              "      <td>2976</td>\n",
              "      <td>2270</td>\n",
              "      <td>10</td>\n",
              "      <td>0</td>\n",
              "      <td>2020-11-07 17:10:00</td>\n",
              "      <td>2020-11-07</td>\n",
              "      <td>17:10:00</td>\n",
              "      <td>17</td>\n",
              "      <td>10</td>\n",
              "      <td>1030</td>\n",
              "      <td>0</td>\n",
              "      <td>0</td>\n",
              "      <td>37638</td>\n",
              "      <td>1604769000</td>\n",
              "    </tr>\n",
              "    <tr>\n",
              "      <th>17:15</th>\n",
              "      <td>12625</td>\n",
              "      <td>19706</td>\n",
              "      <td>3003</td>\n",
              "      <td>2270</td>\n",
              "      <td>11</td>\n",
              "      <td>0</td>\n",
              "      <td>2020-11-07 17:15:00</td>\n",
              "      <td>2020-11-07</td>\n",
              "      <td>17:15:00</td>\n",
              "      <td>17</td>\n",
              "      <td>15</td>\n",
              "      <td>1035</td>\n",
              "      <td>0</td>\n",
              "      <td>0</td>\n",
              "      <td>37615</td>\n",
              "      <td>1604769300</td>\n",
              "    </tr>\n",
              "    <tr>\n",
              "      <th>17:20</th>\n",
              "      <td>12503</td>\n",
              "      <td>19761</td>\n",
              "      <td>3055</td>\n",
              "      <td>2270</td>\n",
              "      <td>11</td>\n",
              "      <td>0</td>\n",
              "      <td>2020-11-07 17:20:00</td>\n",
              "      <td>2020-11-07</td>\n",
              "      <td>17:20:00</td>\n",
              "      <td>17</td>\n",
              "      <td>20</td>\n",
              "      <td>1040</td>\n",
              "      <td>0</td>\n",
              "      <td>0</td>\n",
              "      <td>37600</td>\n",
              "      <td>1604769600</td>\n",
              "    </tr>\n",
              "    <tr>\n",
              "      <th>17:25</th>\n",
              "      <td>12404</td>\n",
              "      <td>19826</td>\n",
              "      <td>3168</td>\n",
              "      <td>2270</td>\n",
              "      <td>11</td>\n",
              "      <td>0</td>\n",
              "      <td>2020-11-07 17:25:00</td>\n",
              "      <td>2020-11-07</td>\n",
              "      <td>17:25:00</td>\n",
              "      <td>17</td>\n",
              "      <td>25</td>\n",
              "      <td>1045</td>\n",
              "      <td>0</td>\n",
              "      <td>0</td>\n",
              "      <td>37679</td>\n",
              "      <td>1604769900</td>\n",
              "    </tr>\n",
              "    <tr>\n",
              "      <th>17:30</th>\n",
              "      <td>12285</td>\n",
              "      <td>19855</td>\n",
              "      <td>3259</td>\n",
              "      <td>2269</td>\n",
              "      <td>11</td>\n",
              "      <td>0</td>\n",
              "      <td>2020-11-07 17:30:00</td>\n",
              "      <td>2020-11-07</td>\n",
              "      <td>17:30:00</td>\n",
              "      <td>17</td>\n",
              "      <td>30</td>\n",
              "      <td>1050</td>\n",
              "      <td>0</td>\n",
              "      <td>0</td>\n",
              "      <td>37679</td>\n",
              "      <td>1604770200</td>\n",
              "    </tr>\n",
              "    <tr>\n",
              "      <th>17:35</th>\n",
              "      <td>12153</td>\n",
              "      <td>19966</td>\n",
              "      <td>3295</td>\n",
              "      <td>2270</td>\n",
              "      <td>11</td>\n",
              "      <td>0</td>\n",
              "      <td>2020-11-07 17:35:00</td>\n",
              "      <td>2020-11-07</td>\n",
              "      <td>17:35:00</td>\n",
              "      <td>17</td>\n",
              "      <td>35</td>\n",
              "      <td>1055</td>\n",
              "      <td>0</td>\n",
              "      <td>0</td>\n",
              "      <td>37695</td>\n",
              "      <td>1604770500</td>\n",
              "    </tr>\n",
              "    <tr>\n",
              "      <th>17:40</th>\n",
              "      <td>12016</td>\n",
              "      <td>20169</td>\n",
              "      <td>3414</td>\n",
              "      <td>2270</td>\n",
              "      <td>10</td>\n",
              "      <td>0</td>\n",
              "      <td>2020-11-07 17:40:00</td>\n",
              "      <td>2020-11-07</td>\n",
              "      <td>17:40:00</td>\n",
              "      <td>17</td>\n",
              "      <td>40</td>\n",
              "      <td>1060</td>\n",
              "      <td>0</td>\n",
              "      <td>0</td>\n",
              "      <td>37879</td>\n",
              "      <td>1604770800</td>\n",
              "    </tr>\n",
              "    <tr>\n",
              "      <th>17:45</th>\n",
              "      <td>11872</td>\n",
              "      <td>20282</td>\n",
              "      <td>3521</td>\n",
              "      <td>2271</td>\n",
              "      <td>10</td>\n",
              "      <td>0</td>\n",
              "      <td>2020-11-07 17:45:00</td>\n",
              "      <td>2020-11-07</td>\n",
              "      <td>17:45:00</td>\n",
              "      <td>17</td>\n",
              "      <td>45</td>\n",
              "      <td>1065</td>\n",
              "      <td>0</td>\n",
              "      <td>0</td>\n",
              "      <td>37956</td>\n",
              "      <td>1604771100</td>\n",
              "    </tr>\n",
              "    <tr>\n",
              "      <th>17:50</th>\n",
              "      <td>11710</td>\n",
              "      <td>20317</td>\n",
              "      <td>3519</td>\n",
              "      <td>2270</td>\n",
              "      <td>11</td>\n",
              "      <td>0</td>\n",
              "      <td>2020-11-07 17:50:00</td>\n",
              "      <td>2020-11-07</td>\n",
              "      <td>17:50:00</td>\n",
              "      <td>17</td>\n",
              "      <td>50</td>\n",
              "      <td>1070</td>\n",
              "      <td>0</td>\n",
              "      <td>0</td>\n",
              "      <td>37827</td>\n",
              "      <td>1604771400</td>\n",
              "    </tr>\n",
              "    <tr>\n",
              "      <th>17:55</th>\n",
              "      <td>11519</td>\n",
              "      <td>20360</td>\n",
              "      <td>3562</td>\n",
              "      <td>2269</td>\n",
              "      <td>11</td>\n",
              "      <td>0</td>\n",
              "      <td>2020-11-07 17:55:00</td>\n",
              "      <td>2020-11-07</td>\n",
              "      <td>17:55:00</td>\n",
              "      <td>17</td>\n",
              "      <td>55</td>\n",
              "      <td>1075</td>\n",
              "      <td>0</td>\n",
              "      <td>0</td>\n",
              "      <td>37721</td>\n",
              "      <td>1604771700</td>\n",
              "    </tr>\n",
              "  </tbody>\n",
              "</table>\n",
              "</div>"
            ],
            "text/plain": [
              "       Solar  NaturalGas  Hydro  ...  Oil  total_generation  Timestamp (Unix)\n",
              "17:00  12935       19138   3191  ...    0             37546        1604768400\n",
              "17:05  12864       19385   3047  ...    0             37577        1604768700\n",
              "17:10  12744       19638   2976  ...    0             37638        1604769000\n",
              "17:15  12625       19706   3003  ...    0             37615        1604769300\n",
              "17:20  12503       19761   3055  ...    0             37600        1604769600\n",
              "17:25  12404       19826   3168  ...    0             37679        1604769900\n",
              "17:30  12285       19855   3259  ...    0             37679        1604770200\n",
              "17:35  12153       19966   3295  ...    0             37695        1604770500\n",
              "17:40  12016       20169   3414  ...    0             37879        1604770800\n",
              "17:45  11872       20282   3521  ...    0             37956        1604771100\n",
              "17:50  11710       20317   3519  ...    0             37827        1604771400\n",
              "17:55  11519       20360   3562  ...    0             37721        1604771700\n",
              "\n",
              "[12 rows x 16 columns]"
            ]
          },
          "metadata": {
            "tags": []
          },
          "execution_count": 79
        }
      ]
    },
    {
      "cell_type": "code",
      "metadata": {
        "execution": {
          "iopub.status.busy": "2021-05-31T04:18:40.139144Z",
          "iopub.execute_input": "2021-05-31T04:18:40.139439Z",
          "iopub.status.idle": "2021-05-31T04:18:40.149293Z",
          "shell.execute_reply.started": "2021-05-31T04:18:40.139411Z",
          "shell.execute_reply": "2021-05-31T04:18:40.148329Z"
        },
        "trusted": true,
        "colab": {
          "base_uri": "https://localhost:8080/"
        },
        "id": "3buCSjYBsUnK",
        "outputId": "bdc9192f-9d90-4b1e-a8d1-794d4e598e7f"
      },
      "source": [
        "## Average generation \n",
        "average = peakhour[\"total_generation\"].mean()\n",
        "average"
      ],
      "execution_count": null,
      "outputs": [
        {
          "output_type": "execute_result",
          "data": {
            "text/plain": [
              "37701.0"
            ]
          },
          "metadata": {
            "tags": []
          },
          "execution_count": 80
        }
      ]
    },
    {
      "cell_type": "code",
      "metadata": {
        "execution": {
          "iopub.status.busy": "2021-05-31T04:18:40.150429Z",
          "iopub.execute_input": "2021-05-31T04:18:40.150828Z",
          "iopub.status.idle": "2021-05-31T04:18:40.340747Z",
          "shell.execute_reply.started": "2021-05-31T04:18:40.150787Z",
          "shell.execute_reply": "2021-05-31T04:18:40.339604Z"
        },
        "trusted": true,
        "colab": {
          "base_uri": "https://localhost:8080/"
        },
        "id": "PRBsQkRzsUnK",
        "outputId": "06aa22ae-a772-4d63-ce02-0361c5820476"
      },
      "source": [
        "peakhour.plot(y = ['Wind', 'Solar', 'Hydro', 'Other', 'Oil', 'NaturalGas', 'Coal'])\n",
        "ax.hlines(23, -.5,.5, linestyles='dashed')\n",
        "ax.annotate('average',(-0.4, average))"
      ],
      "execution_count": null,
      "outputs": [
        {
          "output_type": "execute_result",
          "data": {
            "text/plain": [
              "Text(-0.4, 37701.0, 'average')"
            ]
          },
          "metadata": {
            "tags": []
          },
          "execution_count": 81
        },
        {
          "output_type": "display_data",
          "data": {
            "image/png": "[encoded data removed]",
            "text/plain": [
              "<Figure size 432x288 with 1 Axes>"
            ]
          },
          "metadata": {
            "tags": [],
            "needs_background": "light"
          }
        }
      ]
    },
    {
      "cell_type": "markdown",
      "metadata": {
        "id": "d8uj2qYpsUnK"
      },
      "source": [
        "pick value in order off release fromm peakhour"
      ]
    },
    {
      "cell_type": "code",
      "metadata": {
        "execution": {
          "iopub.status.busy": "2021-05-31T04:18:40.342028Z",
          "iopub.execute_input": "2021-05-31T04:18:40.342303Z",
          "iopub.status.idle": "2021-05-31T04:18:40.355972Z",
          "shell.execute_reply.started": "2021-05-31T04:18:40.342277Z",
          "shell.execute_reply": "2021-05-31T04:18:40.354860Z"
        },
        "trusted": true,
        "colab": {
          "base_uri": "https://localhost:8080/"
        },
        "id": "dVeJgvxOsUnK",
        "outputId": "24a87684-8266-4fa3-b8a4-b45464372459"
      },
      "source": [
        "# peakhour =  peakhour.iloc[: , column_list].copy()  \n",
        "peakt= peakmin[['Wind', 'Solar', 'Hydro', 'Other', 'Oil', 'NaturalGas', 'Coal', 'Nuclear']].transpose()\n",
        "\n",
        "# # peakhourt=peakhour2.reindex([\"Nuclear Generation (MW)\", \"Wind Generation (MW)\", \"Solar Generation (MW)\",\"Hydro Generation (MW)\" ,  \n",
        "# #                          \"Coal Generation (MW)\", \"Natural gas Generation (MW)\",\"Petroleum Generation (MW)\",\"Other Generation (MW)\"])\n",
        "\n",
        "for col in peakt.columns:\n",
        "    peakt = peakt.rename(columns={col:'generation'})\n",
        "    \n",
        "peakt"
      ],
      "execution_count": null,
      "outputs": [
        {
          "output_type": "execute_result",
          "data": {
            "text/html": [
              "<div>\n",
              "<style scoped>\n",
              "    .dataframe tbody tr th:only-of-type {\n",
              "        vertical-align: middle;\n",
              "    }\n",
              "\n",
              "    .dataframe tbody tr th {\n",
              "        vertical-align: top;\n",
              "    }\n",
              "\n",
              "    .dataframe thead th {\n",
              "        text-align: right;\n",
              "    }\n",
              "</style>\n",
              "<table border=\"1\" class=\"dataframe\">\n",
              "  <thead>\n",
              "    <tr style=\"text-align: right;\">\n",
              "      <th></th>\n",
              "      <th>generation</th>\n",
              "    </tr>\n",
              "  </thead>\n",
              "  <tbody>\n",
              "    <tr>\n",
              "      <th>Wind</th>\n",
              "      <td>0</td>\n",
              "    </tr>\n",
              "    <tr>\n",
              "      <th>Solar</th>\n",
              "      <td>11872</td>\n",
              "    </tr>\n",
              "    <tr>\n",
              "      <th>Hydro</th>\n",
              "      <td>3521</td>\n",
              "    </tr>\n",
              "    <tr>\n",
              "      <th>Other</th>\n",
              "      <td>0</td>\n",
              "    </tr>\n",
              "    <tr>\n",
              "      <th>Oil</th>\n",
              "      <td>0</td>\n",
              "    </tr>\n",
              "    <tr>\n",
              "      <th>NaturalGas</th>\n",
              "      <td>20282</td>\n",
              "    </tr>\n",
              "    <tr>\n",
              "      <th>Coal</th>\n",
              "      <td>10</td>\n",
              "    </tr>\n",
              "    <tr>\n",
              "      <th>Nuclear</th>\n",
              "      <td>2271</td>\n",
              "    </tr>\n",
              "  </tbody>\n",
              "</table>\n",
              "</div>"
            ],
            "text/plain": [
              "            generation\n",
              "Wind                 0\n",
              "Solar            11872\n",
              "Hydro             3521\n",
              "Other                0\n",
              "Oil                  0\n",
              "NaturalGas       20282\n",
              "Coal                10\n",
              "Nuclear           2271"
            ]
          },
          "metadata": {
            "tags": []
          },
          "execution_count": 82
        }
      ]
    },
    {
      "cell_type": "code",
      "metadata": {
        "execution": {
          "iopub.status.busy": "2021-05-31T04:18:40.357470Z",
          "iopub.execute_input": "2021-05-31T04:18:40.357797Z",
          "iopub.status.idle": "2021-05-31T04:18:40.374637Z",
          "shell.execute_reply.started": "2021-05-31T04:18:40.357768Z",
          "shell.execute_reply": "2021-05-31T04:18:40.373657Z"
        },
        "trusted": true,
        "colab": {
          "base_uri": "https://localhost:8080/"
        },
        "id": "_rz-42JysUnL",
        "outputId": "33280922-7c1c-450a-fa0f-a20929dd6982"
      },
      "source": [
        "# pie chart Percentage for Contribution by fuel during peak hour\n",
        "peakt[\"percent\"] = (peakt['generation'] / peakt['generation'].sum()) * 100\n",
        "peakt[\"percent\"] = peakt[\"percent\"].round(1)\n",
        "\n",
        "# peakt = peakt.mask(peakhour2< 0, 0)\n",
        "peakt"
      ],
      "execution_count": null,
      "outputs": [
        {
          "output_type": "execute_result",
          "data": {
            "text/html": [
              "<div>\n",
              "<style scoped>\n",
              "    .dataframe tbody tr th:only-of-type {\n",
              "        vertical-align: middle;\n",
              "    }\n",
              "\n",
              "    .dataframe tbody tr th {\n",
              "        vertical-align: top;\n",
              "    }\n",
              "\n",
              "    .dataframe thead th {\n",
              "        text-align: right;\n",
              "    }\n",
              "</style>\n",
              "<table border=\"1\" class=\"dataframe\">\n",
              "  <thead>\n",
              "    <tr style=\"text-align: right;\">\n",
              "      <th></th>\n",
              "      <th>generation</th>\n",
              "      <th>percent</th>\n",
              "    </tr>\n",
              "  </thead>\n",
              "  <tbody>\n",
              "    <tr>\n",
              "      <th>Wind</th>\n",
              "      <td>0</td>\n",
              "      <td>0.0</td>\n",
              "    </tr>\n",
              "    <tr>\n",
              "      <th>Solar</th>\n",
              "      <td>11872</td>\n",
              "      <td>31.3</td>\n",
              "    </tr>\n",
              "    <tr>\n",
              "      <th>Hydro</th>\n",
              "      <td>3521</td>\n",
              "      <td>9.3</td>\n",
              "    </tr>\n",
              "    <tr>\n",
              "      <th>Other</th>\n",
              "      <td>0</td>\n",
              "      <td>0.0</td>\n",
              "    </tr>\n",
              "    <tr>\n",
              "      <th>Oil</th>\n",
              "      <td>0</td>\n",
              "      <td>0.0</td>\n",
              "    </tr>\n",
              "    <tr>\n",
              "      <th>NaturalGas</th>\n",
              "      <td>20282</td>\n",
              "      <td>53.4</td>\n",
              "    </tr>\n",
              "    <tr>\n",
              "      <th>Coal</th>\n",
              "      <td>10</td>\n",
              "      <td>0.0</td>\n",
              "    </tr>\n",
              "    <tr>\n",
              "      <th>Nuclear</th>\n",
              "      <td>2271</td>\n",
              "      <td>6.0</td>\n",
              "    </tr>\n",
              "  </tbody>\n",
              "</table>\n",
              "</div>"
            ],
            "text/plain": [
              "            generation  percent\n",
              "Wind                 0      0.0\n",
              "Solar            11872     31.3\n",
              "Hydro             3521      9.3\n",
              "Other                0      0.0\n",
              "Oil                  0      0.0\n",
              "NaturalGas       20282     53.4\n",
              "Coal                10      0.0\n",
              "Nuclear           2271      6.0"
            ]
          },
          "metadata": {
            "tags": []
          },
          "execution_count": 83
        }
      ]
    },
    {
      "cell_type": "code",
      "metadata": {
        "execution": {
          "iopub.status.busy": "2021-05-31T04:18:40.376041Z",
          "iopub.execute_input": "2021-05-31T04:18:40.376312Z",
          "iopub.status.idle": "2021-05-31T04:18:40.523840Z",
          "shell.execute_reply.started": "2021-05-31T04:18:40.376285Z",
          "shell.execute_reply": "2021-05-31T04:18:40.522865Z"
        },
        "trusted": true,
        "colab": {
          "base_uri": "https://localhost:8080/"
        },
        "id": "fqOM70ApsUnL",
        "outputId": "d90175b6-947d-4f41-a0be-7151b4d9fc83"
      },
      "source": [
        "peakt[\"generation\"].plot.bar(stacked=True)"
      ],
      "execution_count": null,
      "outputs": [
        {
          "output_type": "execute_result",
          "data": {
            "text/plain": [
              "<matplotlib.axes._subplots.AxesSubplot at 0x7f694786e790>"
            ]
          },
          "metadata": {
            "tags": []
          },
          "execution_count": 84
        },
        {
          "output_type": "display_data",
          "data": {
            "image/png": "[encoded data removed]",
            "text/plain": [
              "<Figure size 432x288 with 1 Axes>"
            ]
          },
          "metadata": {
            "tags": [],
            "needs_background": "light"
          }
        }
      ]
    },
    {
      "cell_type": "code",
      "metadata": {
        "execution": {
          "iopub.status.busy": "2021-05-31T04:18:40.524945Z",
          "iopub.execute_input": "2021-05-31T04:18:40.525182Z",
          "iopub.status.idle": "2021-05-31T04:18:40.629403Z",
          "shell.execute_reply.started": "2021-05-31T04:18:40.525159Z",
          "shell.execute_reply": "2021-05-31T04:18:40.628267Z"
        },
        "trusted": true,
        "colab": {
          "base_uri": "https://localhost:8080/"
        },
        "id": "Vgb0eRVSsUnL",
        "outputId": "a22f1ded-eb18-4392-f264-5bb7cfaec0d9"
      },
      "source": [
        "pie_peakhour= peakt.plot.pie(y='percent',title=\"Fuel Mix in \"+ Region + \" on \"+ str(peakmin.DATE.values[0])+\" \"+str(peakmin.Timestamp.values[0]) , figsize=(5, 5))\n",
        "pie_peakhour.legend(bbox_to_anchor=(1,1), loc=\"centre right\")"
      ],
      "execution_count": null,
      "outputs": [
        {
          "output_type": "execute_result",
          "data": {
            "text/plain": [
              "<matplotlib.legend.Legend at 0x7f69478324d0>"
            ]
          },
          "metadata": {
            "tags": []
          },
          "execution_count": 85
        },
        {
          "output_type": "display_data",
          "data": {
            "image/png": "[encoded data removed]",
            "text/plain": [
              "<Figure size 360x360 with 1 Axes>"
            ]
          },
          "metadata": {
            "tags": []
          }
        }
      ]
    },
    {
      "cell_type": "code",
      "metadata": {
        "execution": {
          "iopub.status.busy": "2021-05-31T04:18:40.630986Z",
          "iopub.execute_input": "2021-05-31T04:18:40.631360Z",
          "iopub.status.idle": "2021-05-31T04:18:40.637039Z",
          "shell.execute_reply.started": "2021-05-31T04:18:40.631318Z",
          "shell.execute_reply": "2021-05-31T04:18:40.636056Z"
        },
        "trusted": true,
        "id": "P2PGjcZtsUnL"
      },
      "source": [
        "peakt = peakt.drop(columns='percent')"
      ],
      "execution_count": null,
      "outputs": []
    },
    {
      "cell_type": "code",
      "metadata": {
        "execution": {
          "iopub.status.busy": "2021-05-31T04:18:40.638458Z",
          "iopub.execute_input": "2021-05-31T04:18:40.639001Z",
          "iopub.status.idle": "2021-05-31T04:18:40.648972Z",
          "shell.execute_reply.started": "2021-05-31T04:18:40.638958Z",
          "shell.execute_reply": "2021-05-31T04:18:40.647804Z"
        },
        "trusted": true,
        "id": "kudPn8JDsUnM"
      },
      "source": [
        "# Cummulative_generation\n",
        "# peakt['Cummulative_generation']  = peakt[\"generation\"].cumsum()\n",
        "# peakt"
      ],
      "execution_count": null,
      "outputs": []
    },
    {
      "cell_type": "code",
      "metadata": {
        "execution": {
          "iopub.status.busy": "2021-05-31T04:18:40.650421Z",
          "iopub.execute_input": "2021-05-31T04:18:40.650811Z",
          "iopub.status.idle": "2021-05-31T04:18:40.662347Z",
          "shell.execute_reply.started": "2021-05-31T04:18:40.650783Z",
          "shell.execute_reply": "2021-05-31T04:18:40.661360Z"
        },
        "trusted": true,
        "id": "r49XSiybsUnM"
      },
      "source": [
        "# peakt.plot(x=\"Cummulative_generation\")"
      ],
      "execution_count": null,
      "outputs": []
    },
    {
      "cell_type": "code",
      "metadata": {
        "execution": {
          "iopub.status.busy": "2021-05-31T04:18:40.663378Z",
          "iopub.execute_input": "2021-05-31T04:18:40.663755Z",
          "iopub.status.idle": "2021-05-31T04:18:40.673509Z",
          "shell.execute_reply.started": "2021-05-31T04:18:40.663728Z",
          "shell.execute_reply": "2021-05-31T04:18:40.672732Z"
        },
        "trusted": true,
        "id": "FsC1W_YGsUnM"
      },
      "source": [
        "# draw graph for cummultaive consumption \n",
        "# peakhour2.plot(\"Cummulative_consumption\")\n",
        "\n",
        "# peakhour2.plot.bar(peakhour2[\"Cummulative_consumption\"], drawstyle='steps')\n",
        "# peakhour2.reset_index().plot.line(peakhour2[\"Cummulative_consumption\"], peakhour2.index, drawstyle='steps')"
      ],
      "execution_count": null,
      "outputs": []
    },
    {
      "cell_type": "markdown",
      "metadata": {
        "id": "qznqWGQRsUnM"
      },
      "source": [
        "<a id=\"section-five\"></a>\n",
        "# 5. Carbon Emission vs Fuel\n",
        "\n",
        "Now merge dataset and look at data distributions and correlations for Co2 and fuel sources "
      ]
    },
    {
      "cell_type": "code",
      "metadata": {
        "execution": {
          "iopub.status.busy": "2021-05-31T04:18:40.675088Z",
          "iopub.execute_input": "2021-05-31T04:18:40.675680Z",
          "iopub.status.idle": "2021-05-31T04:18:40.700110Z",
          "shell.execute_reply.started": "2021-05-31T04:18:40.675634Z",
          "shell.execute_reply": "2021-05-31T04:18:40.698976Z"
        },
        "trusted": true,
        "colab": {
          "base_uri": "https://localhost:8080/",
          "height": 430
        },
        "id": "anNkkGWgsUnM",
        "outputId": "c743a9e1-ff78-424d-9123-0d30b5729bc6"
      },
      "source": [
        "df_carbon = pd.read_csv(\"/content/lcoe-co2/US Utility grids - LCOE Co2 Emissions - Carbon2.csv\")\n",
        "df_carbon"
      ],
      "execution_count": null,
      "outputs": [
        {
          "output_type": "error",
          "ename": "FileNotFoundError",
          "evalue": "ignored",
          "traceback": [
            "\u001b[0;31m---------------------------------------------------------------------------\u001b[0m",
            "\u001b[0;31mFileNotFoundError\u001b[0m                         Traceback (most recent call last)",
            "\u001b[0;32m<ipython-input-90-e4f531ee4443>\u001b[0m in \u001b[0;36m<module>\u001b[0;34m()\u001b[0m\n\u001b[0;32m----> 1\u001b[0;31m \u001b[0mdf_carbon\u001b[0m \u001b[0;34m=\u001b[0m \u001b[0mpd\u001b[0m\u001b[0;34m.\u001b[0m\u001b[0mread_csv\u001b[0m\u001b[0;34m(\u001b[0m\u001b[0;34m\"/content/lcoe-co2/US Utility grids - LCOE Co2 Emissions - Carbon2.csv\"\u001b[0m\u001b[0;34m)\u001b[0m\u001b[0;34m\u001b[0m\u001b[0;34m\u001b[0m\u001b[0m\n\u001b[0m\u001b[1;32m      2\u001b[0m \u001b[0mdf_carbon\u001b[0m\u001b[0;34m\u001b[0m\u001b[0;34m\u001b[0m\u001b[0m\n",
            "\u001b[0;32m/usr/local/lib/python3.7/dist-packages/pandas/io/parsers.py\u001b[0m in \u001b[0;36mread_csv\u001b[0;34m(filepath_or_buffer, sep, delimiter, header, names, index_col, usecols, squeeze, prefix, mangle_dupe_cols, dtype, engine, converters, true_values, false_values, skipinitialspace, skiprows, skipfooter, nrows, na_values, keep_default_na, na_filter, verbose, skip_blank_lines, parse_dates, infer_datetime_format, keep_date_col, date_parser, dayfirst, cache_dates, iterator, chunksize, compression, thousands, decimal, lineterminator, quotechar, quoting, doublequote, escapechar, comment, encoding, dialect, error_bad_lines, warn_bad_lines, delim_whitespace, low_memory, memory_map, float_precision)\u001b[0m\n\u001b[1;32m    686\u001b[0m     )\n\u001b[1;32m    687\u001b[0m \u001b[0;34m\u001b[0m\u001b[0m\n\u001b[0;32m--> 688\u001b[0;31m     \u001b[0;32mreturn\u001b[0m \u001b[0m_read\u001b[0m\u001b[0;34m(\u001b[0m\u001b[0mfilepath_or_buffer\u001b[0m\u001b[0;34m,\u001b[0m \u001b[0mkwds\u001b[0m\u001b[0;34m)\u001b[0m\u001b[0;34m\u001b[0m\u001b[0;34m\u001b[0m\u001b[0m\n\u001b[0m\u001b[1;32m    689\u001b[0m \u001b[0;34m\u001b[0m\u001b[0m\n\u001b[1;32m    690\u001b[0m \u001b[0;34m\u001b[0m\u001b[0m\n",
            "\u001b[0;32m/usr/local/lib/python3.7/dist-packages/pandas/io/parsers.py\u001b[0m in \u001b[0;36m_read\u001b[0;34m(filepath_or_buffer, kwds)\u001b[0m\n\u001b[1;32m    452\u001b[0m \u001b[0;34m\u001b[0m\u001b[0m\n\u001b[1;32m    453\u001b[0m     \u001b[0;31m# Create the parser.\u001b[0m\u001b[0;34m\u001b[0m\u001b[0;34m\u001b[0m\u001b[0;34m\u001b[0m\u001b[0m\n\u001b[0;32m--> 454\u001b[0;31m     \u001b[0mparser\u001b[0m \u001b[0;34m=\u001b[0m \u001b[0mTextFileReader\u001b[0m\u001b[0;34m(\u001b[0m\u001b[0mfp_or_buf\u001b[0m\u001b[0;34m,\u001b[0m \u001b[0;34m**\u001b[0m\u001b[0mkwds\u001b[0m\u001b[0;34m)\u001b[0m\u001b[0;34m\u001b[0m\u001b[0;34m\u001b[0m\u001b[0m\n\u001b[0m\u001b[1;32m    455\u001b[0m \u001b[0;34m\u001b[0m\u001b[0m\n\u001b[1;32m    456\u001b[0m     \u001b[0;32mif\u001b[0m \u001b[0mchunksize\u001b[0m \u001b[0;32mor\u001b[0m \u001b[0miterator\u001b[0m\u001b[0;34m:\u001b[0m\u001b[0;34m\u001b[0m\u001b[0;34m\u001b[0m\u001b[0m\n",
            "\u001b[0;32m/usr/local/lib/python3.7/dist-packages/pandas/io/parsers.py\u001b[0m in \u001b[0;36m__init__\u001b[0;34m(self, f, engine, **kwds)\u001b[0m\n\u001b[1;32m    946\u001b[0m             \u001b[0mself\u001b[0m\u001b[0;34m.\u001b[0m\u001b[0moptions\u001b[0m\u001b[0;34m[\u001b[0m\u001b[0;34m\"has_index_names\"\u001b[0m\u001b[0;34m]\u001b[0m \u001b[0;34m=\u001b[0m \u001b[0mkwds\u001b[0m\u001b[0;34m[\u001b[0m\u001b[0;34m\"has_index_names\"\u001b[0m\u001b[0;34m]\u001b[0m\u001b[0;34m\u001b[0m\u001b[0;34m\u001b[0m\u001b[0m\n\u001b[1;32m    947\u001b[0m \u001b[0;34m\u001b[0m\u001b[0m\n\u001b[0;32m--> 948\u001b[0;31m         \u001b[0mself\u001b[0m\u001b[0;34m.\u001b[0m\u001b[0m_make_engine\u001b[0m\u001b[0;34m(\u001b[0m\u001b[0mself\u001b[0m\u001b[0;34m.\u001b[0m\u001b[0mengine\u001b[0m\u001b[0;34m)\u001b[0m\u001b[0;34m\u001b[0m\u001b[0;34m\u001b[0m\u001b[0m\n\u001b[0m\u001b[1;32m    949\u001b[0m \u001b[0;34m\u001b[0m\u001b[0m\n\u001b[1;32m    950\u001b[0m     \u001b[0;32mdef\u001b[0m \u001b[0mclose\u001b[0m\u001b[0;34m(\u001b[0m\u001b[0mself\u001b[0m\u001b[0;34m)\u001b[0m\u001b[0;34m:\u001b[0m\u001b[0;34m\u001b[0m\u001b[0;34m\u001b[0m\u001b[0m\n",
            "\u001b[0;32m/usr/local/lib/python3.7/dist-packages/pandas/io/parsers.py\u001b[0m in \u001b[0;36m_make_engine\u001b[0;34m(self, engine)\u001b[0m\n\u001b[1;32m   1178\u001b[0m     \u001b[0;32mdef\u001b[0m \u001b[0m_make_engine\u001b[0m\u001b[0;34m(\u001b[0m\u001b[0mself\u001b[0m\u001b[0;34m,\u001b[0m \u001b[0mengine\u001b[0m\u001b[0;34m=\u001b[0m\u001b[0;34m\"c\"\u001b[0m\u001b[0;34m)\u001b[0m\u001b[0;34m:\u001b[0m\u001b[0;34m\u001b[0m\u001b[0;34m\u001b[0m\u001b[0m\n\u001b[1;32m   1179\u001b[0m         \u001b[0;32mif\u001b[0m \u001b[0mengine\u001b[0m \u001b[0;34m==\u001b[0m \u001b[0;34m\"c\"\u001b[0m\u001b[0;34m:\u001b[0m\u001b[0;34m\u001b[0m\u001b[0;34m\u001b[0m\u001b[0m\n\u001b[0;32m-> 1180\u001b[0;31m             \u001b[0mself\u001b[0m\u001b[0;34m.\u001b[0m\u001b[0m_engine\u001b[0m \u001b[0;34m=\u001b[0m \u001b[0mCParserWrapper\u001b[0m\u001b[0;34m(\u001b[0m\u001b[0mself\u001b[0m\u001b[0;34m.\u001b[0m\u001b[0mf\u001b[0m\u001b[0;34m,\u001b[0m \u001b[0;34m**\u001b[0m\u001b[0mself\u001b[0m\u001b[0;34m.\u001b[0m\u001b[0moptions\u001b[0m\u001b[0;34m)\u001b[0m\u001b[0;34m\u001b[0m\u001b[0;34m\u001b[0m\u001b[0m\n\u001b[0m\u001b[1;32m   1181\u001b[0m         \u001b[0;32melse\u001b[0m\u001b[0;34m:\u001b[0m\u001b[0;34m\u001b[0m\u001b[0;34m\u001b[0m\u001b[0m\n\u001b[1;32m   1182\u001b[0m             \u001b[0;32mif\u001b[0m \u001b[0mengine\u001b[0m \u001b[0;34m==\u001b[0m \u001b[0;34m\"python\"\u001b[0m\u001b[0;34m:\u001b[0m\u001b[0;34m\u001b[0m\u001b[0;34m\u001b[0m\u001b[0m\n",
            "\u001b[0;32m/usr/local/lib/python3.7/dist-packages/pandas/io/parsers.py\u001b[0m in \u001b[0;36m__init__\u001b[0;34m(self, src, **kwds)\u001b[0m\n\u001b[1;32m   2008\u001b[0m         \u001b[0mkwds\u001b[0m\u001b[0;34m[\u001b[0m\u001b[0;34m\"usecols\"\u001b[0m\u001b[0;34m]\u001b[0m \u001b[0;34m=\u001b[0m \u001b[0mself\u001b[0m\u001b[0;34m.\u001b[0m\u001b[0musecols\u001b[0m\u001b[0;34m\u001b[0m\u001b[0;34m\u001b[0m\u001b[0m\n\u001b[1;32m   2009\u001b[0m \u001b[0;34m\u001b[0m\u001b[0m\n\u001b[0;32m-> 2010\u001b[0;31m         \u001b[0mself\u001b[0m\u001b[0;34m.\u001b[0m\u001b[0m_reader\u001b[0m \u001b[0;34m=\u001b[0m \u001b[0mparsers\u001b[0m\u001b[0;34m.\u001b[0m\u001b[0mTextReader\u001b[0m\u001b[0;34m(\u001b[0m\u001b[0msrc\u001b[0m\u001b[0;34m,\u001b[0m \u001b[0;34m**\u001b[0m\u001b[0mkwds\u001b[0m\u001b[0;34m)\u001b[0m\u001b[0;34m\u001b[0m\u001b[0;34m\u001b[0m\u001b[0m\n\u001b[0m\u001b[1;32m   2011\u001b[0m         \u001b[0mself\u001b[0m\u001b[0;34m.\u001b[0m\u001b[0munnamed_cols\u001b[0m \u001b[0;34m=\u001b[0m \u001b[0mself\u001b[0m\u001b[0;34m.\u001b[0m\u001b[0m_reader\u001b[0m\u001b[0;34m.\u001b[0m\u001b[0munnamed_cols\u001b[0m\u001b[0;34m\u001b[0m\u001b[0;34m\u001b[0m\u001b[0m\n\u001b[1;32m   2012\u001b[0m \u001b[0;34m\u001b[0m\u001b[0m\n",
            "\u001b[0;32mpandas/_libs/parsers.pyx\u001b[0m in \u001b[0;36mpandas._libs.parsers.TextReader.__cinit__\u001b[0;34m()\u001b[0m\n",
            "\u001b[0;32mpandas/_libs/parsers.pyx\u001b[0m in \u001b[0;36mpandas._libs.parsers.TextReader._setup_parser_source\u001b[0;34m()\u001b[0m\n",
            "\u001b[0;31mFileNotFoundError\u001b[0m: [Errno 2] No such file or directory: '/content/lcoe-co2/US Utility grids - LCOE Co2 Emissions - Carbon2.csv'"
          ]
        }
      ]
    },
    {
      "cell_type": "code",
      "metadata": {
        "execution": {
          "iopub.status.busy": "2021-05-31T04:18:40.703598Z",
          "iopub.execute_input": "2021-05-31T04:18:40.703939Z",
          "iopub.status.idle": "2021-05-31T04:18:40.722302Z",
          "shell.execute_reply.started": "2021-05-31T04:18:40.703907Z",
          "shell.execute_reply": "2021-05-31T04:18:40.721168Z"
        },
        "trusted": true,
        "id": "3gTofI8QsUnN"
      },
      "source": [
        "df_carbon.info()\n",
        "df_carbon['Life cycle CO2 equivalent  ( kgCO2eq/MWh)']"
      ],
      "execution_count": null,
      "outputs": []
    },
    {
      "cell_type": "code",
      "metadata": {
        "execution": {
          "iopub.status.busy": "2021-05-31T04:18:40.724090Z",
          "iopub.execute_input": "2021-05-31T04:18:40.724449Z",
          "iopub.status.idle": "2021-05-31T04:18:40.887628Z",
          "shell.execute_reply.started": "2021-05-31T04:18:40.724419Z",
          "shell.execute_reply": "2021-05-31T04:18:40.886812Z"
        },
        "trusted": true,
        "id": "tCoShyHksUnN"
      },
      "source": [
        "df_carbon.sort_values('Life cycle CO2 equivalent  ( kgCO2eq/MWh)',ascending=True).plot( x='Fuel Type',kind='bar')"
      ],
      "execution_count": null,
      "outputs": []
    },
    {
      "cell_type": "markdown",
      "metadata": {
        "id": "WsdcjEm2sUnN"
      },
      "source": [
        "### Time vs consumption"
      ]
    },
    {
      "cell_type": "code",
      "metadata": {
        "execution": {
          "iopub.status.busy": "2021-05-31T04:18:40.888595Z",
          "iopub.execute_input": "2021-05-31T04:18:40.888956Z",
          "iopub.status.idle": "2021-05-31T04:18:40.912032Z",
          "shell.execute_reply.started": "2021-05-31T04:18:40.888930Z",
          "shell.execute_reply": "2021-05-31T04:18:40.910815Z"
        },
        "trusted": true,
        "id": "Nz-saUCosUnN"
      },
      "source": [
        "# for i, row in peakhour2.iterrows():\n",
        "#     print(i)\n",
        "            \n",
        "# for j,lcoe in df_lcoe.iterrows():\n",
        "#         print(lcoe.values[0])\n",
        "\n",
        "peakt['carbon']=0\n",
        "for i, row in peakt.iterrows():\n",
        "    for j,carbon in df_carbon.iterrows():\n",
        "        if i in carbon[0]:\n",
        "            print(\"Match between two tables for \"+i+ \" and \"+ carbon[0])\n",
        "            generation=row[0]\n",
        "            print(str(generation) + ' * '+ str(carbon[1]))\n",
        "            peakt.at[i,'carbon'] = generation * carbon[1]\n",
        "            \n",
        "peakt"
      ],
      "execution_count": null,
      "outputs": []
    },
    {
      "cell_type": "code",
      "metadata": {
        "execution": {
          "iopub.status.busy": "2021-05-31T04:18:40.915347Z",
          "iopub.execute_input": "2021-05-31T04:18:40.915675Z",
          "iopub.status.idle": "2021-05-31T04:18:40.926334Z",
          "shell.execute_reply.started": "2021-05-31T04:18:40.915647Z",
          "shell.execute_reply": "2021-05-31T04:18:40.925291Z"
        },
        "trusted": true,
        "id": "cF1eqURtsUnO"
      },
      "source": [
        "# sort by ascending order of carbon emission\n",
        "peakt = peakt.sort_values(by=['carbon'])\n",
        "peakt"
      ],
      "execution_count": null,
      "outputs": []
    },
    {
      "cell_type": "code",
      "metadata": {
        "execution": {
          "iopub.status.busy": "2021-05-31T04:18:40.928363Z",
          "iopub.execute_input": "2021-05-31T04:18:40.928849Z",
          "iopub.status.idle": "2021-05-31T04:18:40.936473Z",
          "shell.execute_reply.started": "2021-05-31T04:18:40.928803Z",
          "shell.execute_reply": "2021-05-31T04:18:40.935409Z"
        },
        "trusted": true,
        "id": "A4YsvAI0sUnO"
      },
      "source": [
        "# peakt[\"total_carbon(metric tons)\"] = (peakt[\"generation\"] * peakt[\"carbon\"]) / 1000\n",
        "# peakt"
      ],
      "execution_count": null,
      "outputs": []
    },
    {
      "cell_type": "code",
      "metadata": {
        "execution": {
          "iopub.status.busy": "2021-05-31T04:18:40.937818Z",
          "iopub.execute_input": "2021-05-31T04:18:40.938097Z",
          "iopub.status.idle": "2021-05-31T04:18:40.956696Z",
          "shell.execute_reply.started": "2021-05-31T04:18:40.938057Z",
          "shell.execute_reply": "2021-05-31T04:18:40.955786Z"
        },
        "trusted": true,
        "id": "EVMbeUe7sUnO"
      },
      "source": [
        "# Cummulative_generation with respect to nw ordering of carbon \n",
        "peakt['Cummulative_generation']  = peakt[\"generation\"].cumsum()\n",
        "peakt"
      ],
      "execution_count": null,
      "outputs": []
    },
    {
      "cell_type": "code",
      "metadata": {
        "execution": {
          "iopub.status.busy": "2021-05-31T04:18:40.957897Z",
          "iopub.execute_input": "2021-05-31T04:18:40.958139Z",
          "iopub.status.idle": "2021-05-31T04:18:40.976506Z",
          "shell.execute_reply.started": "2021-05-31T04:18:40.958114Z",
          "shell.execute_reply": "2021-05-31T04:18:40.975307Z"
        },
        "trusted": true,
        "id": "CNMa17VbsUnO"
      },
      "source": [
        "# Cummulative_carbon emission \n",
        "peakt['Cummulative_carbon(kg)']  = peakt[\"carbon\"].cumsum()\n",
        "peakt"
      ],
      "execution_count": null,
      "outputs": []
    },
    {
      "cell_type": "code",
      "metadata": {
        "execution": {
          "iopub.status.busy": "2021-05-31T04:18:40.981247Z",
          "iopub.execute_input": "2021-05-31T04:18:40.981591Z",
          "iopub.status.idle": "2021-05-31T04:18:40.987816Z",
          "shell.execute_reply.started": "2021-05-31T04:18:40.981551Z",
          "shell.execute_reply": "2021-05-31T04:18:40.986422Z"
        },
        "trusted": true,
        "id": "OHfWw9jGsUnP"
      },
      "source": [
        "def def_plot_limity(ymax,ypos):\n",
        "    if (ypos < ymax ):\n",
        "        return ypos\n",
        "    return (ymax - (0.2*ymax))\n",
        "\n",
        "def def_plot_limitx(xmax,xpos):\n",
        "    if (xpos < xmax ):\n",
        "        return xpos\n",
        "    return xmax"
      ],
      "execution_count": null,
      "outputs": []
    },
    {
      "cell_type": "code",
      "metadata": {
        "execution": {
          "iopub.status.busy": "2021-05-31T04:18:40.989279Z",
          "iopub.execute_input": "2021-05-31T04:18:40.989582Z",
          "iopub.status.idle": "2021-05-31T04:18:41.005203Z",
          "shell.execute_reply.started": "2021-05-31T04:18:40.989524Z",
          "shell.execute_reply": "2021-05-31T04:18:41.004334Z"
        },
        "trusted": true,
        "id": "uphN9E1tsUnP"
      },
      "source": [
        "## standard plot consumption vs total carbon \n",
        "# carbonplot = peakt.plot(x=\"generation\",y=\"carbon\",grid=True, style='.-', \n",
        "#                             title='carbon vs consumption in '+ Region + \" on \" + str(peakmin.DATE.values) ,legend=True)\n",
        "# carbonplot.set_xlabel(\"generation(MW)\")\n",
        "# carbonplot.set_ylabel(\"carbon(kg)\")\n",
        "\n",
        "# index=0\n",
        "# colcount=len(peakt.columns)\n",
        "# for i, row in peakt.iterrows():\n",
        "#     index=index+1\n",
        "#     generation = row.values[0]\n",
        "#     carbon = row.values[1]\n",
        "#     print(generation, carbon)\n",
        "#     carbonplot.annotate(i, xy=(generation, carbon), \n",
        "#                         xytext=(generation+(colcount-index)*1000, carbon+(colcount-index)*220000),\n",
        "#                         arrowprops=dict(arrowstyle='-|>') ,ha='left', rotation=45)"
      ],
      "execution_count": null,
      "outputs": []
    },
    {
      "cell_type": "code",
      "metadata": {
        "execution": {
          "iopub.status.busy": "2021-05-31T04:18:41.006395Z",
          "iopub.execute_input": "2021-05-31T04:18:41.006884Z",
          "iopub.status.idle": "2021-05-31T04:18:41.365754Z",
          "shell.execute_reply.started": "2021-05-31T04:18:41.006855Z",
          "shell.execute_reply": "2021-05-31T04:18:41.364994Z"
        },
        "trusted": true,
        "id": "ReZQVHJxsUnP"
      },
      "source": [
        "## Cumulative plot \n",
        "carbonplot = peakt.plot(x=\"Cummulative_generation\",y=\"Cummulative_carbon(kg)\", \n",
        "                            title='Cummulative_carbon vs Cummulative_generation in \\n'\n",
        "                        + Region + \" on \" + str(peakmin.DATE.values[0])+ \" \" +str(peakmin.Timestamp.values[0]) ,\n",
        "                        grid=True, style='.-',legend=True)\n",
        "carbonplot.set_xlabel(\"Cumulative generation (MW) \")\n",
        "carbonplot.set_ylabel(\"Cummulative_carbon(kg)\")\n",
        "\n",
        "xmax = peakt['Cummulative_generation'].max()\n",
        "ymax = peakt['Cummulative_carbon(kg)'].max()\n",
        "index=0\n",
        "colcount=len(peakt.columns)\n",
        "\n",
        "for i, row in peakt.iterrows():\n",
        "    index = index+1\n",
        "    x = row.values[2]\n",
        "    y = row.values[3]\n",
        "    xpos = def_plot_limitx(xmax, x+index*1000)\n",
        "    ypos = def_plot_limity(ymax, y+index*460000)\n",
        "    carbonplot.annotate(i, xy=(x, y), \n",
        "                         xytext=(xpos, ypos), ha='center', va='center',\n",
        "                         arrowprops=dict(arrowstyle='-|>') , rotation=0)\n",
        "    \n",
        "#     carbonplot.annotate(i, xy=(row.values[3], row.values[5]), ha='left', rotation=60)\n",
        "# xytext=(row.values[3]+(index+1000)*randint(1,5), row.values[3]+(index+1000)*randint(1,5))"
      ],
      "execution_count": null,
      "outputs": []
    },
    {
      "cell_type": "code",
      "metadata": {
        "execution": {
          "iopub.status.busy": "2021-05-31T04:18:41.366895Z",
          "iopub.execute_input": "2021-05-31T04:18:41.367353Z",
          "iopub.status.idle": "2021-05-31T04:18:41.370910Z",
          "shell.execute_reply.started": "2021-05-31T04:18:41.367322Z",
          "shell.execute_reply": "2021-05-31T04:18:41.370093Z"
        },
        "trusted": true,
        "id": "rlc5rBmEsUnP"
      },
      "source": [
        "\n",
        "# cplot = peakhour3.plot(y=\"commulative_CO2 emissions\",x=\"commulative_demand\",grid=True, style='.-', \n",
        "#                             title='commulative_CO2 emissions vs commulative_demand',legend=True)\n",
        "# cplot.set_xlabel(\"commulative_demand (kW) \")\n",
        "# cplot.set_ylabel(\"commulative_CO2 emissions (kg/kWh)\")\n",
        "\n",
        "# index=0\n",
        "# colcount=len(df.columns)\n",
        "# for i, row in peakhour3.iterrows():\n",
        "#     index=index+1\n",
        "#     print(row.values[3])\n",
        "#     tag= row.values[0], row.values[3], row.values[5]\n",
        "#     cplot.annotate(tag, \n",
        "#                     xy=(row.values[3], row.values[5]), \n",
        "#                     xytext=(row.values[3]+(colcount-index), row.values[5]+(colcount-index)),\n",
        "#                     arrowprops=dict(arrowstyle='-|>') ,ha='left', rotation=0)"
      ],
      "execution_count": null,
      "outputs": []
    },
    {
      "cell_type": "markdown",
      "metadata": {
        "id": "CqO66ImasUnQ"
      },
      "source": [
        "<a id=\"section-four\"></a>\n",
        "# 4.Cost vs Fuel Type\n",
        "LCOE (Levelized Cost Of generating Electricity) - price per MWh\n",
        "Now that we have a merged dataset we can take a closer look at data distributions and correlations."
      ]
    },
    {
      "cell_type": "code",
      "metadata": {
        "execution": {
          "iopub.status.busy": "2021-05-31T04:18:41.372494Z",
          "iopub.execute_input": "2021-05-31T04:18:41.372984Z",
          "iopub.status.idle": "2021-05-31T04:18:41.396737Z",
          "shell.execute_reply.started": "2021-05-31T04:18:41.372943Z",
          "shell.execute_reply": "2021-05-31T04:18:41.395988Z"
        },
        "trusted": true,
        "id": "3dgYAoS2sUnQ"
      },
      "source": [
        "df_cost = pd.read_csv(\"/content/lcoe-co2/US Utility grids - LCOE Co2 Emissions - Price2.csv\")\n",
        "df_cost\n",
        "## Data source : IPCC ANEX III Technology-specific Cost and Performance Parameters -2014\n",
        "# Schlömer S., T. Bruckner, L. Fulton, E. Hertwich, A. McKinnon, D. Perczyk, J. Roy, R. Schaeffer, R. Sims, P. Smith, and R. Wiser,\n",
        "# 2014: Annex III: Technology-specific cost and performance parameters. In: Climate Change 2014: Mitigation of Climate\n",
        "# Change. Contribution of Working Group III to the Fifth Assessment Report of the Intergovernmental Panel on Climate\n",
        "# Change [Edenhofer, O., R. Pichs-Madruga, Y. Sokona, E. Farahani, S. Kadner, K. Seyboth, A. Adler, I. Baum, S. Brunner, P.\n",
        "# Eickemeier, B. Kriemann, J. Savolainen, S. Schlömer, C. von Stechow, T. Zwickel and J.C. Minx (eds.)]. Cambridge University\n",
        "# Press, Cambridge, United Kingdom and New York, NY, USA."
      ],
      "execution_count": null,
      "outputs": []
    },
    {
      "cell_type": "code",
      "metadata": {
        "execution": {
          "iopub.status.busy": "2021-05-31T04:18:41.397801Z",
          "iopub.execute_input": "2021-05-31T04:18:41.398160Z",
          "iopub.status.idle": "2021-05-31T04:18:41.407525Z",
          "shell.execute_reply.started": "2021-05-31T04:18:41.398119Z",
          "shell.execute_reply": "2021-05-31T04:18:41.406836Z"
        },
        "trusted": true,
        "id": "md9YKVgssUnQ"
      },
      "source": [
        "# df_cost['LCOE / Marginal Cost ( with subsidy)  ( $/Mwh)']\n",
        "df_cost[['Fuel Type','LCOE from IEA 2020 ($/MWh) ']]\n",
        "\n",
        "# df_cost.info()\n",
        "## Data source : https://www.iea.org/articles/levelised-cost-of-electricity-calculator LCOE estimates from Projected Costs of Generating Electricity 2020"
      ],
      "execution_count": null,
      "outputs": []
    },
    {
      "cell_type": "code",
      "metadata": {
        "execution": {
          "iopub.status.busy": "2021-05-31T04:18:41.408390Z",
          "iopub.execute_input": "2021-05-31T04:18:41.408756Z",
          "iopub.status.idle": "2021-05-31T04:18:41.566796Z",
          "shell.execute_reply.started": "2021-05-31T04:18:41.408729Z",
          "shell.execute_reply": "2021-05-31T04:18:41.566089Z"
        },
        "trusted": true,
        "id": "VGZJBVr9sUnR"
      },
      "source": [
        "df_cost.sort_values('LCOE from IEA 2020 ($/MWh) ',ascending=True).plot(x=\"Fuel Type\",y='LCOE from IEA 2020 ($/MWh) ', kind='bar')\n",
        "# df_cost.xticks(rotation=90)"
      ],
      "execution_count": null,
      "outputs": []
    },
    {
      "cell_type": "markdown",
      "metadata": {
        "id": "48syvETBsUnR"
      },
      "source": [
        "IEA LCOE estimates from Projected Costs of Generating Electricity 2020"
      ]
    },
    {
      "cell_type": "code",
      "metadata": {
        "execution": {
          "iopub.status.busy": "2021-05-31T04:18:41.567707Z",
          "iopub.execute_input": "2021-05-31T04:18:41.568064Z",
          "iopub.status.idle": "2021-05-31T04:18:41.570897Z",
          "shell.execute_reply.started": "2021-05-31T04:18:41.568036Z",
          "shell.execute_reply": "2021-05-31T04:18:41.570269Z"
        },
        "trusted": true,
        "id": "trigoteYsUnR"
      },
      "source": [
        "# Assumptions \n",
        "# Discount rate 7% Central case\n",
        "# Carbon price 30.00 USD/ton Default assumption\n",
        "# Heat price 37.06 USD/MWh Default assumption\n",
        "# Coal price 100% Default assumption\n",
        "# Gas price 100% Default assumption"
      ],
      "execution_count": null,
      "outputs": []
    },
    {
      "cell_type": "code",
      "metadata": {
        "execution": {
          "iopub.status.busy": "2021-05-31T04:18:41.571733Z",
          "iopub.execute_input": "2021-05-31T04:18:41.572129Z",
          "iopub.status.idle": "2021-05-31T04:18:41.585350Z",
          "shell.execute_reply.started": "2021-05-31T04:18:41.572101Z",
          "shell.execute_reply": "2021-05-31T04:18:41.584587Z"
        },
        "trusted": true,
        "id": "GikKF_aZsUnR"
      },
      "source": [
        "peakt = peakt.drop(columns=['Cummulative_generation','carbon','Cummulative_carbon(kg)'])"
      ],
      "execution_count": null,
      "outputs": []
    },
    {
      "cell_type": "code",
      "metadata": {
        "execution": {
          "iopub.status.busy": "2021-05-31T04:18:41.586391Z",
          "iopub.execute_input": "2021-05-31T04:18:41.586809Z",
          "iopub.status.idle": "2021-05-31T04:18:41.618004Z",
          "shell.execute_reply.started": "2021-05-31T04:18:41.586781Z",
          "shell.execute_reply": "2021-05-31T04:18:41.616897Z"
        },
        "trusted": true,
        "id": "L2dnI5YXsUnS"
      },
      "source": [
        "peakt['price']=0\n",
        "for i, row in peakt.iterrows():\n",
        "#     print(i)\n",
        "    for j,cost in df_cost.iterrows():\n",
        "#         print(lcoe.values[0])\n",
        "        if i in cost[0]:\n",
        "            print(\"Match between two tables for \"+i+ \" and \"+ cost[0])\n",
        "            print(cost.values[2])\n",
        "            print(row.values[0])\n",
        "            peakt.at[i,'price']= cost[2] * row[0]\n",
        "\n",
        "peakt"
      ],
      "execution_count": null,
      "outputs": []
    },
    {
      "cell_type": "code",
      "metadata": {
        "execution": {
          "iopub.status.busy": "2021-05-31T04:18:41.619325Z",
          "iopub.execute_input": "2021-05-31T04:18:41.619627Z",
          "iopub.status.idle": "2021-05-31T04:18:41.631088Z",
          "shell.execute_reply.started": "2021-05-31T04:18:41.619590Z",
          "shell.execute_reply": "2021-05-31T04:18:41.630273Z"
        },
        "trusted": true,
        "id": "AZYbzf-tsUnS"
      },
      "source": [
        "# sort by ascending order of price\n",
        "peakt = peakt.sort_values(by=['price'])\n",
        "peakt"
      ],
      "execution_count": null,
      "outputs": []
    },
    {
      "cell_type": "code",
      "metadata": {
        "execution": {
          "iopub.status.busy": "2021-05-31T04:18:41.632082Z",
          "iopub.execute_input": "2021-05-31T04:18:41.632440Z",
          "iopub.status.idle": "2021-05-31T04:18:41.654009Z",
          "shell.execute_reply.started": "2021-05-31T04:18:41.632412Z",
          "shell.execute_reply": "2021-05-31T04:18:41.653040Z"
        },
        "trusted": true,
        "id": "V-xOz3HvsUnT"
      },
      "source": [
        "# Cummulative_generation with respect to nw ordering of cost \n",
        "peakt['Cummulative_generation']  = peakt[\"generation\"].cumsum()\n",
        "peakt"
      ],
      "execution_count": null,
      "outputs": []
    },
    {
      "cell_type": "code",
      "metadata": {
        "execution": {
          "iopub.status.busy": "2021-05-31T04:18:41.655264Z",
          "iopub.execute_input": "2021-05-31T04:18:41.655618Z",
          "iopub.status.idle": "2021-05-31T04:18:41.661040Z",
          "shell.execute_reply.started": "2021-05-31T04:18:41.655504Z",
          "shell.execute_reply": "2021-05-31T04:18:41.659967Z"
        },
        "trusted": true,
        "id": "wM7mOu3wsUnT"
      },
      "source": [
        "# peakt[\"total_price($thousand)\"] = (peakt[\"generation\"] * peakt[\"price\"]) / 1000\n",
        "# peakt"
      ],
      "execution_count": null,
      "outputs": []
    },
    {
      "cell_type": "code",
      "metadata": {
        "execution": {
          "iopub.status.busy": "2021-05-31T04:18:41.662195Z",
          "iopub.execute_input": "2021-05-31T04:18:41.662573Z",
          "iopub.status.idle": "2021-05-31T04:18:41.680612Z",
          "shell.execute_reply.started": "2021-05-31T04:18:41.662543Z",
          "shell.execute_reply": "2021-05-31T04:18:41.679668Z"
        },
        "trusted": true,
        "id": "Ox1jSK_osUnT"
      },
      "source": [
        "# Cummulative price\n",
        "peakt['Cummulative_price($)']  = peakt[\"price\"].cumsum()\n",
        "peakt"
      ],
      "execution_count": null,
      "outputs": []
    },
    {
      "cell_type": "code",
      "metadata": {
        "execution": {
          "iopub.status.busy": "2021-05-31T04:18:41.682198Z",
          "iopub.execute_input": "2021-05-31T04:18:41.682501Z",
          "iopub.status.idle": "2021-05-31T04:18:41.695280Z",
          "shell.execute_reply.started": "2021-05-31T04:18:41.682472Z",
          "shell.execute_reply": "2021-05-31T04:18:41.694184Z"
        },
        "trusted": true,
        "id": "ACB7gZFksUnU"
      },
      "source": [
        "# Plot price vs generation\n",
        "\n",
        "# costplot = peakt.plot(y=\"price\",x=\"generation\",grid=True, style='.-', \n",
        "#                             title='price vs generation in ' + Region ,legend=True)\n",
        "# costplot.set_xlabel(\"generation (MW) \")\n",
        "# costplot.set_ylabel(\"Price LCOE ($/MWh)\")\n",
        "\n",
        "# index =0\n",
        "# colcount=len(peakt.columns)\n",
        "# for i, row in peakt.iterrows():\n",
        "#     index=index+1\n",
        "# #     print(row.values[6])\n",
        "# #     costplot.text(row.values[2]+index*10, row.values[6]+index*30, str(i))\n",
        "#     costplot.annotate(i, xy=(row.values[0], row.values[1]), \n",
        "#                         xytext=(row.values[0]+(colcount-index)*1000, row.values[1]+(colcount-index)*3000),\n",
        "#                         arrowprops=dict(arrowstyle='-|>') ,ha='left', rotation=0)"
      ],
      "execution_count": null,
      "outputs": []
    },
    {
      "cell_type": "code",
      "metadata": {
        "execution": {
          "iopub.status.busy": "2021-05-31T04:18:41.697289Z",
          "iopub.execute_input": "2021-05-31T04:18:41.697814Z",
          "iopub.status.idle": "2021-05-31T04:18:42.066929Z",
          "shell.execute_reply.started": "2021-05-31T04:18:41.697766Z",
          "shell.execute_reply": "2021-05-31T04:18:42.065914Z"
        },
        "trusted": true,
        "id": "22kBLjAosUnU"
      },
      "source": [
        "# Plot Cummulative_price vs Cummulative_generation\n",
        "\n",
        "costplot = peakt.plot(x=\"Cummulative_generation\",y='Cummulative_price($)', \n",
        "                            title='Cummulative_price vs Cummulative_generation in \\n'\n",
        "                       + Region + \" on \" + str(peakmin.DATE.values[0])+ \" \" +str(peakmin.Timestamp.values[0]) ,\n",
        "                      grid=True, style='.-',legend=True)\n",
        "costplot.set_xlabel(\"Cumulative generation(MW)\")\n",
        "costplot.set_ylabel(\"Cummulative_price($)\")\n",
        "\n",
        "xmax = peakt['Cummulative_generation'].max()\n",
        "ymax = peakt['Cummulative_price($)'].max()\n",
        "index =0\n",
        "colcount=len(peakt.columns)\n",
        "for i, row in peakt.iterrows():\n",
        "    index=index+1\n",
        "    x = row.values[2]\n",
        "    y = row.values[3]\n",
        "    xpos = def_plot_limitx(xmax, x+index*1000)\n",
        "    ypos = def_plot_limity(ymax, y+index*5500)\n",
        "    costplot.annotate(i, xy=(x,y), \n",
        "                        xytext=(xpos, ypos),\n",
        "                        arrowprops=dict(arrowstyle='-|>') ,ha='left', rotation=0)"
      ],
      "execution_count": null,
      "outputs": []
    }
  ]
}