{
  "nbformat": 4,
  "nbformat_minor": 0,
  "metadata": {
    "kernelspec": {
      "language": "python",
      "display_name": "Python 3",
      "name": "python3"
    },
    "language_info": {
      "name": "python",
      "version": "3.7.6",
      "mimetype": "text/x-python",
      "codemirror_mode": {
        "name": "ipython",
        "version": 3
      },
      "pygments_lexer": "ipython3",
      "nbconvert_exporter": "python",
      "file_extension": ".py"
    },
    "colab": {
      "name": "power-generation caiso extrapolated.ipynb",
      "provenance": [],
      "collapsed_sections": [
        "wzEkYyxUsUnJ",
        "WsdcjEm2sUnN"
      ],
      "include_colab_link": true
    }
  },
  "cells": [
    {
      "cell_type": "markdown",
      "metadata": {
        "id": "view-in-github",
        "colab_type": "text"
      },
      "source": [
        "<a href=\"https://colab.research.google.com/github/renewable-energy-experiments/carbonfoorprint/blob/master/power_generation_caiso_extrapolated.ipynb\" target=\"_parent\"><img src=\"https://colab.research.google.com/assets/colab-badge.svg\" alt=\"Open In Colab\"/></a>"
      ]
    },
    {
      "cell_type": "markdown",
      "metadata": {
        "_uuid": "8f2839f25d086af736a60e9eeb907d3b93b6e0e5",
        "_cell_guid": "b1076dfc-b9ad-4769-8c92-a6c4dae69d19",
        "trusted": true,
        "id": "5RwrVK9jsUmt"
      },
      "source": [
        "<h1><center> US electricity generation by energy source ( price , co2 emission by grids)<center><h1> \n",
        "  High granularity Power generation CA ISO ( California) "
      ]
    },
    {
      "cell_type": "markdown",
      "metadata": {
        "id": "fzZFftybsUmz"
      },
      "source": [
        "# Table of Contents\n",
        "* [1. DataSet Description](#section-one)\n",
        "* [2. Import and Preprocessing](#section-two)\n",
        "* [3. Filler and Filter](#section-three)\n",
        "* [4. Daily Grpahs](#section-four)\n",
        "* [5. Carbon Emission vs Fuel](#section-five)\n",
        "* [6. Price vs Fuel](#section-six)"
      ]
    },
    {
      "cell_type": "markdown",
      "metadata": {
        "id": "jF0CjhUksUm3"
      },
      "source": [
        "<a id=\"section-one\"></a>\n",
        "# 1. DataSet Description\n",
        "\n",
        "Dataset is weekly reports from EDA  for CA ISO"
      ]
    },
    {
      "cell_type": "markdown",
      "metadata": {
        "id": "qZpzhTQgsUm3"
      },
      "source": [
        "<a id=\"section-two\"></a>\n",
        "# 2. Import & Preprocessing\n",
        "\n",
        "Let's have a first look at the data. For the sake of simplicity we are only looking at data of plant 1 (power generation and weather). Data of power plant 2 can then be explored in a similar manner."
      ]
    },
    {
      "cell_type": "code",
      "metadata": {
        "_kg_hide-input": true,
        "execution": {
          "iopub.status.busy": "2021-05-31T04:17:50.633663Z",
          "iopub.execute_input": "2021-05-31T04:17:50.634087Z",
          "iopub.status.idle": "2021-05-31T04:17:50.646834Z",
          "shell.execute_reply.started": "2021-05-31T04:17:50.634054Z",
          "shell.execute_reply": "2021-05-31T04:17:50.645389Z"
        },
        "trusted": true,
        "id": "ag8O7HD7sUm4"
      },
      "source": [
        "import os\n",
        "import pandas as pd\n",
        "import numpy as np\n",
        "import datetime\n",
        "import seaborn as sns\n",
        "import matplotlib.pyplot as plt\n",
        "%matplotlib inline\n",
        "import plotly.express as px\n",
        "import plotly.graph_objects as go\n",
        "import matplotlib.dates as mdates \n",
        "xformatter = mdates.DateFormatter('%H:%M') # for time axis plots\n",
        "\n",
        "# import plotly.offline as py\n",
        "# py.init_notebook_mode(connected=True)\n",
        "\n",
        "import sklearn\n",
        "from scipy.optimize import curve_fit\n",
        "\n",
        "import warnings\n",
        "warnings.filterwarnings('ignore')"
      ],
      "execution_count": 3,
      "outputs": []
    },
    {
      "cell_type": "code",
      "metadata": {
        "_kg_hide-input": true,
        "execution": {
          "iopub.status.busy": "2021-05-31T04:17:50.652623Z",
          "iopub.execute_input": "2021-05-31T04:17:50.653108Z",
          "iopub.status.idle": "2021-05-31T04:17:50.794150Z",
          "shell.execute_reply.started": "2021-05-31T04:17:50.653076Z",
          "shell.execute_reply": "2021-05-31T04:17:50.793176Z"
        },
        "trusted": true,
        "id": "HM0TnYM5sUm5"
      },
      "source": [
        "# Import all available data \n",
        "# df = pd.read_csv(\"../input/us-electricity-by-energy-source-in-spring/930-data-export.csv\")\n",
        "\n",
        "df = pd.read_csv(\"/content/CAISO-supply-20200706.csv\")\n",
        "df2 = pd.read_csv(\"/content/CAISO-supply-20200707.csv\")\n",
        "df3 = pd.read_csv(\"/content/CAISO-supply-20200708.csv\")\n",
        "df4 = pd.read_csv(\"/content/CAISO-supply-20200709.csv\")\n",
        "df5 = pd.read_csv(\"/content/CAISO-supply-20200710.csv\")\n",
        "df6 = pd.read_csv(\"/content/CAISO-supply-20200711.csv\")\n",
        "\n",
        "df =  df.transpose()\n",
        "df2 =  df2.transpose()\n",
        "df3 =  df3.transpose()\n",
        "df4 =  df4.transpose()\n",
        "df5 =  df5.transpose()\n",
        "df6 =  df6.transpose()"
      ],
      "execution_count": 4,
      "outputs": []
    },
    {
      "cell_type": "code",
      "metadata": {
        "execution": {
          "iopub.status.busy": "2021-05-31T04:17:50.796177Z",
          "iopub.execute_input": "2021-05-31T04:17:50.796452Z",
          "iopub.status.idle": "2021-05-31T04:17:50.818391Z",
          "shell.execute_reply.started": "2021-05-31T04:17:50.796424Z",
          "shell.execute_reply": "2021-05-31T04:17:50.817207Z"
        },
        "trusted": true,
        "id": "WF_MMQTasUm5"
      },
      "source": [
        "df.rename(columns=df.iloc[0], inplace = True)\n",
        "df2.rename(columns=df2.iloc[0], inplace = True)\n",
        "df3.rename(columns=df3.iloc[0], inplace = True)\n",
        "df4.rename(columns=df4.iloc[0], inplace = True)\n",
        "df5.rename(columns=df5.iloc[0], inplace = True)\n",
        "df6.rename(columns=df6.iloc[0], inplace = True)"
      ],
      "execution_count": 5,
      "outputs": []
    },
    {
      "cell_type": "code",
      "metadata": {
        "execution": {
          "iopub.status.busy": "2021-05-31T04:17:50.819780Z",
          "iopub.execute_input": "2021-05-31T04:17:50.820074Z",
          "iopub.status.idle": "2021-05-31T04:17:50.835642Z",
          "shell.execute_reply.started": "2021-05-31T04:17:50.820045Z",
          "shell.execute_reply": "2021-05-31T04:17:50.834377Z"
        },
        "trusted": true,
        "id": "gXSGqci0sUm6"
      },
      "source": [
        "def df_manipulation(dfs):\n",
        "    dfs['Timestamp'] = dfs.index\n",
        "    date =  dfs.iloc[0].Timestamp.replace('Supply ','')\n",
        "    dfs['DATE'] = date\n",
        "    dfs = dfs[1:len(dfs)-1]\n",
        "    dfs['DATE'] =  pd.to_datetime(dfs['DATE'],format = '%m/%d/%Y').dt.date\n",
        "    dfs['TIME'] = pd.to_datetime(dfs['Timestamp'],format = '%H:%M').dt.time\n",
        "    dfs['HOURS'] = pd.to_datetime(dfs['TIME'],format='%H:%M:%S').dt.hour\n",
        "    dfs['MINUTES'] = pd.to_datetime(dfs['TIME'],format='%H:%M:%S').dt.minute\n",
        "    dfs['MINUTES_PASS'] = dfs['MINUTES'] + dfs['HOURS']*60\n",
        "    dfs['Timestamp'] = pd.to_datetime(dfs['DATE'].apply(str) +' '+ dfs['TIME'].apply(str), format = '%Y-%m-%d %H:%M:%S')\n",
        "    return dfs"
      ],
      "execution_count": 6,
      "outputs": []
    },
    {
      "cell_type": "code",
      "metadata": {
        "execution": {
          "iopub.status.busy": "2021-05-31T04:17:50.837394Z",
          "iopub.execute_input": "2021-05-31T04:17:50.837713Z",
          "iopub.status.idle": "2021-05-31T04:17:50.953042Z",
          "shell.execute_reply.started": "2021-05-31T04:17:50.837683Z",
          "shell.execute_reply": "2021-05-31T04:17:50.951719Z"
        },
        "trusted": true,
        "id": "sXiwONL3sUm7"
      },
      "source": [
        "dff = df_manipulation(df)\n",
        "dff2 = df_manipulation(df2)\n",
        "dff3 = df_manipulation(df3)\n",
        "dff4 = df_manipulation(df4)\n",
        "dff5 = df_manipulation(df5)\n",
        "dff6 = df_manipulation(df6)"
      ],
      "execution_count": 7,
      "outputs": []
    },
    {
      "cell_type": "code",
      "metadata": {
        "execution": {
          "iopub.status.busy": "2021-05-31T04:17:50.955207Z",
          "iopub.execute_input": "2021-05-31T04:17:50.955727Z",
          "iopub.status.idle": "2021-05-31T04:17:50.974256Z",
          "shell.execute_reply.started": "2021-05-31T04:17:50.955651Z",
          "shell.execute_reply": "2021-05-31T04:17:50.973181Z"
        },
        "trusted": true,
        "colab": {
          "base_uri": "https://localhost:8080/",
          "height": 204
        },
        "id": "QCbHsv-bsUm7",
        "outputId": "32a66823-7ea8-40f7-9d10-88466e66dd95"
      },
      "source": [
        "dff6.tail()"
      ],
      "execution_count": 8,
      "outputs": [
        {
          "output_type": "execute_result",
          "data": {
            "text/html": [
              "<div>\n",
              "<style scoped>\n",
              "    .dataframe tbody tr th:only-of-type {\n",
              "        vertical-align: middle;\n",
              "    }\n",
              "\n",
              "    .dataframe tbody tr th {\n",
              "        vertical-align: top;\n",
              "    }\n",
              "\n",
              "    .dataframe thead th {\n",
              "        text-align: right;\n",
              "    }\n",
              "</style>\n",
              "<table border=\"1\" class=\"dataframe\">\n",
              "  <thead>\n",
              "    <tr style=\"text-align: right;\">\n",
              "      <th></th>\n",
              "      <th>Renewables</th>\n",
              "      <th>Natural gas</th>\n",
              "      <th>Large hydro</th>\n",
              "      <th>Imports</th>\n",
              "      <th>Batteries</th>\n",
              "      <th>Nuclear</th>\n",
              "      <th>Coal</th>\n",
              "      <th>Other</th>\n",
              "      <th>Timestamp</th>\n",
              "      <th>DATE</th>\n",
              "      <th>TIME</th>\n",
              "      <th>HOURS</th>\n",
              "      <th>MINUTES</th>\n",
              "      <th>MINUTES_PASS</th>\n",
              "    </tr>\n",
              "  </thead>\n",
              "  <tbody>\n",
              "    <tr>\n",
              "      <th>23:35</th>\n",
              "      <td>4927</td>\n",
              "      <td>12518</td>\n",
              "      <td>2188</td>\n",
              "      <td>8925</td>\n",
              "      <td>6</td>\n",
              "      <td>2268</td>\n",
              "      <td>11</td>\n",
              "      <td>0</td>\n",
              "      <td>2020-07-11 23:35:00</td>\n",
              "      <td>2020-07-11</td>\n",
              "      <td>23:35:00</td>\n",
              "      <td>23</td>\n",
              "      <td>35</td>\n",
              "      <td>1415</td>\n",
              "    </tr>\n",
              "    <tr>\n",
              "      <th>23:40</th>\n",
              "      <td>4917</td>\n",
              "      <td>12200</td>\n",
              "      <td>2179</td>\n",
              "      <td>9016</td>\n",
              "      <td>1</td>\n",
              "      <td>2267</td>\n",
              "      <td>10</td>\n",
              "      <td>0</td>\n",
              "      <td>2020-07-11 23:40:00</td>\n",
              "      <td>2020-07-11</td>\n",
              "      <td>23:40:00</td>\n",
              "      <td>23</td>\n",
              "      <td>40</td>\n",
              "      <td>1420</td>\n",
              "    </tr>\n",
              "    <tr>\n",
              "      <th>23:45</th>\n",
              "      <td>4920</td>\n",
              "      <td>12214</td>\n",
              "      <td>2156</td>\n",
              "      <td>8824</td>\n",
              "      <td>-7</td>\n",
              "      <td>2267</td>\n",
              "      <td>10</td>\n",
              "      <td>0</td>\n",
              "      <td>2020-07-11 23:45:00</td>\n",
              "      <td>2020-07-11</td>\n",
              "      <td>23:45:00</td>\n",
              "      <td>23</td>\n",
              "      <td>45</td>\n",
              "      <td>1425</td>\n",
              "    </tr>\n",
              "    <tr>\n",
              "      <th>23:50</th>\n",
              "      <td>4929</td>\n",
              "      <td>12081</td>\n",
              "      <td>2155</td>\n",
              "      <td>8725</td>\n",
              "      <td>-8</td>\n",
              "      <td>2267</td>\n",
              "      <td>9</td>\n",
              "      <td>0</td>\n",
              "      <td>2020-07-11 23:50:00</td>\n",
              "      <td>2020-07-11</td>\n",
              "      <td>23:50:00</td>\n",
              "      <td>23</td>\n",
              "      <td>50</td>\n",
              "      <td>1430</td>\n",
              "    </tr>\n",
              "    <tr>\n",
              "      <th>23:55</th>\n",
              "      <td>4952</td>\n",
              "      <td>11803</td>\n",
              "      <td>2145</td>\n",
              "      <td>8635</td>\n",
              "      <td>-10</td>\n",
              "      <td>2267</td>\n",
              "      <td>9</td>\n",
              "      <td>0</td>\n",
              "      <td>2020-07-11 23:55:00</td>\n",
              "      <td>2020-07-11</td>\n",
              "      <td>23:55:00</td>\n",
              "      <td>23</td>\n",
              "      <td>55</td>\n",
              "      <td>1435</td>\n",
              "    </tr>\n",
              "  </tbody>\n",
              "</table>\n",
              "</div>"
            ],
            "text/plain": [
              "      Renewables Natural gas Large hydro  ... HOURS MINUTES MINUTES_PASS\n",
              "23:35       4927       12518        2188  ...    23      35         1415\n",
              "23:40       4917       12200        2179  ...    23      40         1420\n",
              "23:45       4920       12214        2156  ...    23      45         1425\n",
              "23:50       4929       12081        2155  ...    23      50         1430\n",
              "23:55       4952       11803        2145  ...    23      55         1435\n",
              "\n",
              "[5 rows x 14 columns]"
            ]
          },
          "metadata": {
            "tags": []
          },
          "execution_count": 8
        }
      ]
    },
    {
      "cell_type": "code",
      "metadata": {
        "execution": {
          "iopub.status.busy": "2021-05-31T04:17:51.031509Z",
          "iopub.execute_input": "2021-05-31T04:17:51.031843Z",
          "iopub.status.idle": "2021-05-31T04:17:51.041485Z",
          "shell.execute_reply.started": "2021-05-31T04:17:51.031812Z",
          "shell.execute_reply": "2021-05-31T04:17:51.040587Z"
        },
        "trusted": true,
        "id": "0wgMpr-zsUm8"
      },
      "source": [
        "# df['Timestamp'] = df.index\n",
        "# df['DATE'] = df.iloc[0].Timestamp.replace('Supply ','')"
      ],
      "execution_count": 9,
      "outputs": []
    },
    {
      "cell_type": "code",
      "metadata": {
        "execution": {
          "iopub.status.busy": "2021-05-31T04:17:51.046399Z",
          "iopub.execute_input": "2021-05-31T04:17:51.046774Z",
          "iopub.status.idle": "2021-05-31T04:17:51.056675Z",
          "shell.execute_reply.started": "2021-05-31T04:17:51.046743Z",
          "shell.execute_reply": "2021-05-31T04:17:51.055444Z"
        },
        "trusted": true,
        "id": "SldyxlznsUm9"
      },
      "source": [
        "# Remove row 0 \n",
        "# df.drop([1], inplace = True)\n",
        "# df.columns = df.iloc[0]\n",
        "\n",
        "# df = df[1:len(df)-1]"
      ],
      "execution_count": 10,
      "outputs": []
    },
    {
      "cell_type": "code",
      "metadata": {
        "execution": {
          "iopub.status.busy": "2021-05-31T04:17:51.065341Z",
          "iopub.execute_input": "2021-05-31T04:17:51.065699Z",
          "iopub.status.idle": "2021-05-31T04:17:51.071465Z",
          "shell.execute_reply.started": "2021-05-31T04:17:51.065668Z",
          "shell.execute_reply": "2021-05-31T04:17:51.070434Z"
        },
        "trusted": true,
        "id": "7wJEUPJ3sUm9"
      },
      "source": [
        "# df['DATE'] =  pd.to_datetime(df['DATE'],format = '%m/%d/%Y', errors='coerce').dt.date\n",
        "# df['TIME'] = pd.to_datetime(df['Timestamp'],format = '%H:%M', errors='coerce').dt.time"
      ],
      "execution_count": 11,
      "outputs": []
    },
    {
      "cell_type": "code",
      "metadata": {
        "execution": {
          "iopub.status.busy": "2021-05-31T04:17:51.093088Z",
          "iopub.execute_input": "2021-05-31T04:17:51.093600Z",
          "iopub.status.idle": "2021-05-31T04:17:51.101045Z",
          "shell.execute_reply.started": "2021-05-31T04:17:51.093556Z",
          "shell.execute_reply": "2021-05-31T04:17:51.099889Z"
        },
        "trusted": true,
        "id": "d9QjuSIJsUm9"
      },
      "source": [
        "# # add hours and minutes for ml models\n",
        "# df['HOURS'] = pd.to_datetime(df['TIME'],format='%H:%M:%S').dt.hour\n",
        "# df['MINUTES'] = pd.to_datetime(df['TIME'],format='%H:%M:%S').dt.minute\n",
        "# df['MINUTES_PASS'] = df['MINUTES'] + df['HOURS']*60"
      ],
      "execution_count": 12,
      "outputs": []
    },
    {
      "cell_type": "code",
      "metadata": {
        "execution": {
          "iopub.status.busy": "2021-05-31T04:17:51.125416Z",
          "iopub.execute_input": "2021-05-31T04:17:51.125905Z",
          "iopub.status.idle": "2021-05-31T04:17:51.152067Z",
          "shell.execute_reply.started": "2021-05-31T04:17:51.125873Z",
          "shell.execute_reply": "2021-05-31T04:17:51.150975Z"
        },
        "trusted": true,
        "colab": {
          "base_uri": "https://localhost:8080/"
        },
        "id": "i6sHbQVFsUm-",
        "outputId": "75a8cf1b-e8c1-4299-d73e-4acf0177ee12"
      },
      "source": [
        "# append all \n",
        "\n",
        "df = dff.append(dff)\n",
        "df = df.append(dff2)\n",
        "df = df.append(dff3)\n",
        "df = df.append(dff4)\n",
        "df = df.append(dff5)\n",
        "df = df.append(dff6)\n",
        "len(df) "
      ],
      "execution_count": 13,
      "outputs": [
        {
          "output_type": "execute_result",
          "data": {
            "text/plain": [
              "2016"
            ]
          },
          "metadata": {
            "tags": []
          },
          "execution_count": 13
        }
      ]
    },
    {
      "cell_type": "code",
      "metadata": {
        "execution": {
          "iopub.status.busy": "2021-05-31T04:17:51.175426Z",
          "iopub.execute_input": "2021-05-31T04:17:51.175770Z",
          "iopub.status.idle": "2021-05-31T04:17:51.180041Z",
          "shell.execute_reply.started": "2021-05-31T04:17:51.175742Z",
          "shell.execute_reply": "2021-05-31T04:17:51.179081Z"
        },
        "trusted": true,
        "id": "vUmQBNXtsUm-"
      },
      "source": [
        "# Region = df['Region Code'].head(1).item()\n",
        "# Region\n",
        "\n",
        "Region=\"CA ISO\""
      ],
      "execution_count": 14,
      "outputs": []
    },
    {
      "cell_type": "markdown",
      "metadata": {
        "id": "RQgFMARasUm-"
      },
      "source": [
        "<a id=\"section-three\"></a>\n",
        "## 3. Filter and filler "
      ]
    },
    {
      "cell_type": "code",
      "metadata": {
        "execution": {
          "iopub.status.busy": "2021-05-31T04:17:51.226955Z",
          "iopub.execute_input": "2021-05-31T04:17:51.227401Z",
          "iopub.status.idle": "2021-05-31T04:17:51.233047Z",
          "shell.execute_reply.started": "2021-05-31T04:17:51.227372Z",
          "shell.execute_reply": "2021-05-31T04:17:51.232388Z"
        },
        "trusted": true,
        "colab": {
          "base_uri": "https://localhost:8080/"
        },
        "id": "NbwBlEZTsUm_",
        "outputId": "fbb8cdd2-7373-4610-d2a6-40943a12ec75"
      },
      "source": [
        "print(df.dtypes)"
      ],
      "execution_count": 15,
      "outputs": [
        {
          "output_type": "stream",
          "text": [
            "Renewables              object\n",
            "Natural gas             object\n",
            "Large hydro             object\n",
            "Imports                 object\n",
            "Batteries               object\n",
            "Nuclear                 object\n",
            "Coal                    object\n",
            "Other                   object\n",
            "Timestamp       datetime64[ns]\n",
            "DATE                    object\n",
            "TIME                    object\n",
            "HOURS                    int64\n",
            "MINUTES                  int64\n",
            "MINUTES_PASS             int64\n",
            "dtype: object\n"
          ],
          "name": "stdout"
        }
      ]
    },
    {
      "cell_type": "code",
      "metadata": {
        "execution": {
          "iopub.status.busy": "2021-05-31T04:17:51.268118Z",
          "iopub.execute_input": "2021-05-31T04:17:51.268668Z",
          "iopub.status.idle": "2021-05-31T04:17:51.288676Z",
          "shell.execute_reply.started": "2021-05-31T04:17:51.268633Z",
          "shell.execute_reply": "2021-05-31T04:17:51.287821Z"
        },
        "trusted": true,
        "colab": {
          "base_uri": "https://localhost:8080/",
          "height": 204
        },
        "id": "8ceeT5c1sUm_",
        "outputId": "541414a1-3664-41cc-aa52-e2ec7c11b3a5"
      },
      "source": [
        "# df['Hydro'] = df['Hydro'] + df ['Large hydro']\n",
        "# df['NaturalGas'] = df['NaturalGas'] + df ['Natural gas']\n",
        "df = df.rename(columns={\"Natural gas\": \"NaturalGas\",\n",
        "                        \"Renewables\" : \"Solar\",\n",
        "                        \"Large hydro\": \"Hydro\"\n",
        "                       })\n",
        "df.head()"
      ],
      "execution_count": 16,
      "outputs": [
        {
          "output_type": "execute_result",
          "data": {
            "text/html": [
              "<div>\n",
              "<style scoped>\n",
              "    .dataframe tbody tr th:only-of-type {\n",
              "        vertical-align: middle;\n",
              "    }\n",
              "\n",
              "    .dataframe tbody tr th {\n",
              "        vertical-align: top;\n",
              "    }\n",
              "\n",
              "    .dataframe thead th {\n",
              "        text-align: right;\n",
              "    }\n",
              "</style>\n",
              "<table border=\"1\" class=\"dataframe\">\n",
              "  <thead>\n",
              "    <tr style=\"text-align: right;\">\n",
              "      <th></th>\n",
              "      <th>Solar</th>\n",
              "      <th>NaturalGas</th>\n",
              "      <th>Hydro</th>\n",
              "      <th>Imports</th>\n",
              "      <th>Batteries</th>\n",
              "      <th>Nuclear</th>\n",
              "      <th>Coal</th>\n",
              "      <th>Other</th>\n",
              "      <th>Timestamp</th>\n",
              "      <th>DATE</th>\n",
              "      <th>TIME</th>\n",
              "      <th>HOURS</th>\n",
              "      <th>MINUTES</th>\n",
              "      <th>MINUTES_PASS</th>\n",
              "    </tr>\n",
              "  </thead>\n",
              "  <tbody>\n",
              "    <tr>\n",
              "      <th>0:00</th>\n",
              "      <td>6487</td>\n",
              "      <td>6999</td>\n",
              "      <td>1859</td>\n",
              "      <td>7899</td>\n",
              "      <td>-1</td>\n",
              "      <td>2266</td>\n",
              "      <td>9</td>\n",
              "      <td>0</td>\n",
              "      <td>2020-07-06 00:00:00</td>\n",
              "      <td>2020-07-06</td>\n",
              "      <td>00:00:00</td>\n",
              "      <td>0</td>\n",
              "      <td>0</td>\n",
              "      <td>0</td>\n",
              "    </tr>\n",
              "    <tr>\n",
              "      <th>0:05</th>\n",
              "      <td>6482</td>\n",
              "      <td>6674</td>\n",
              "      <td>1883</td>\n",
              "      <td>8142</td>\n",
              "      <td>12</td>\n",
              "      <td>2266</td>\n",
              "      <td>11</td>\n",
              "      <td>0</td>\n",
              "      <td>2020-07-06 00:05:00</td>\n",
              "      <td>2020-07-06</td>\n",
              "      <td>00:05:00</td>\n",
              "      <td>0</td>\n",
              "      <td>5</td>\n",
              "      <td>5</td>\n",
              "    </tr>\n",
              "    <tr>\n",
              "      <th>0:10</th>\n",
              "      <td>6487</td>\n",
              "      <td>6501</td>\n",
              "      <td>1844</td>\n",
              "      <td>8197</td>\n",
              "      <td>-6</td>\n",
              "      <td>2266</td>\n",
              "      <td>10</td>\n",
              "      <td>0</td>\n",
              "      <td>2020-07-06 00:10:00</td>\n",
              "      <td>2020-07-06</td>\n",
              "      <td>00:10:00</td>\n",
              "      <td>0</td>\n",
              "      <td>10</td>\n",
              "      <td>10</td>\n",
              "    </tr>\n",
              "    <tr>\n",
              "      <th>0:15</th>\n",
              "      <td>6466</td>\n",
              "      <td>6588</td>\n",
              "      <td>1852</td>\n",
              "      <td>8037</td>\n",
              "      <td>-31</td>\n",
              "      <td>2266</td>\n",
              "      <td>10</td>\n",
              "      <td>0</td>\n",
              "      <td>2020-07-06 00:15:00</td>\n",
              "      <td>2020-07-06</td>\n",
              "      <td>00:15:00</td>\n",
              "      <td>0</td>\n",
              "      <td>15</td>\n",
              "      <td>15</td>\n",
              "    </tr>\n",
              "    <tr>\n",
              "      <th>0:20</th>\n",
              "      <td>6422</td>\n",
              "      <td>6509</td>\n",
              "      <td>1860</td>\n",
              "      <td>8012</td>\n",
              "      <td>-31</td>\n",
              "      <td>2266</td>\n",
              "      <td>10</td>\n",
              "      <td>0</td>\n",
              "      <td>2020-07-06 00:20:00</td>\n",
              "      <td>2020-07-06</td>\n",
              "      <td>00:20:00</td>\n",
              "      <td>0</td>\n",
              "      <td>20</td>\n",
              "      <td>20</td>\n",
              "    </tr>\n",
              "  </tbody>\n",
              "</table>\n",
              "</div>"
            ],
            "text/plain": [
              "     Solar NaturalGas Hydro Imports  ...      TIME HOURS MINUTES MINUTES_PASS\n",
              "0:00  6487       6999  1859    7899  ...  00:00:00     0       0            0\n",
              "0:05  6482       6674  1883    8142  ...  00:05:00     0       5            5\n",
              "0:10  6487       6501  1844    8197  ...  00:10:00     0      10           10\n",
              "0:15  6466       6588  1852    8037  ...  00:15:00     0      15           15\n",
              "0:20  6422       6509  1860    8012  ...  00:20:00     0      20           20\n",
              "\n",
              "[5 rows x 14 columns]"
            ]
          },
          "metadata": {
            "tags": []
          },
          "execution_count": 16
        }
      ]
    },
    {
      "cell_type": "markdown",
      "metadata": {
        "id": "kDrpEmm8sUm_"
      },
      "source": [
        "## Fill up missing columns as 0 "
      ]
    },
    {
      "cell_type": "code",
      "metadata": {
        "execution": {
          "iopub.status.busy": "2021-05-31T04:17:51.302224Z",
          "iopub.execute_input": "2021-05-31T04:17:51.302548Z",
          "iopub.status.idle": "2021-05-31T04:17:51.325988Z",
          "shell.execute_reply.started": "2021-05-31T04:17:51.302501Z",
          "shell.execute_reply": "2021-05-31T04:17:51.325243Z"
        },
        "trusted": true,
        "colab": {
          "base_uri": "https://localhost:8080/",
          "height": 204
        },
        "id": "NJMEXSwcsUnA",
        "outputId": "7ca0ed46-e515-4543-f818-1ba4fcda198c"
      },
      "source": [
        "column_list = (\"Wind\",\"Solar\",\"Hydro\",\"Other\", \n",
        "               \"Oil\", \"NaturalGas\",\"Coal\",\"Nuclear\")\n",
        "\n",
        "for col in column_list:\n",
        "    if col not in df.columns:\n",
        "        df[col] = 0\n",
        "\n",
        "df.head()"
      ],
      "execution_count": 17,
      "outputs": [
        {
          "output_type": "execute_result",
          "data": {
            "text/html": [
              "<div>\n",
              "<style scoped>\n",
              "    .dataframe tbody tr th:only-of-type {\n",
              "        vertical-align: middle;\n",
              "    }\n",
              "\n",
              "    .dataframe tbody tr th {\n",
              "        vertical-align: top;\n",
              "    }\n",
              "\n",
              "    .dataframe thead th {\n",
              "        text-align: right;\n",
              "    }\n",
              "</style>\n",
              "<table border=\"1\" class=\"dataframe\">\n",
              "  <thead>\n",
              "    <tr style=\"text-align: right;\">\n",
              "      <th></th>\n",
              "      <th>Solar</th>\n",
              "      <th>NaturalGas</th>\n",
              "      <th>Hydro</th>\n",
              "      <th>Imports</th>\n",
              "      <th>Batteries</th>\n",
              "      <th>Nuclear</th>\n",
              "      <th>Coal</th>\n",
              "      <th>Other</th>\n",
              "      <th>Timestamp</th>\n",
              "      <th>DATE</th>\n",
              "      <th>TIME</th>\n",
              "      <th>HOURS</th>\n",
              "      <th>MINUTES</th>\n",
              "      <th>MINUTES_PASS</th>\n",
              "      <th>Wind</th>\n",
              "      <th>Oil</th>\n",
              "    </tr>\n",
              "  </thead>\n",
              "  <tbody>\n",
              "    <tr>\n",
              "      <th>0:00</th>\n",
              "      <td>6487</td>\n",
              "      <td>6999</td>\n",
              "      <td>1859</td>\n",
              "      <td>7899</td>\n",
              "      <td>-1</td>\n",
              "      <td>2266</td>\n",
              "      <td>9</td>\n",
              "      <td>0</td>\n",
              "      <td>2020-07-06 00:00:00</td>\n",
              "      <td>2020-07-06</td>\n",
              "      <td>00:00:00</td>\n",
              "      <td>0</td>\n",
              "      <td>0</td>\n",
              "      <td>0</td>\n",
              "      <td>0</td>\n",
              "      <td>0</td>\n",
              "    </tr>\n",
              "    <tr>\n",
              "      <th>0:05</th>\n",
              "      <td>6482</td>\n",
              "      <td>6674</td>\n",
              "      <td>1883</td>\n",
              "      <td>8142</td>\n",
              "      <td>12</td>\n",
              "      <td>2266</td>\n",
              "      <td>11</td>\n",
              "      <td>0</td>\n",
              "      <td>2020-07-06 00:05:00</td>\n",
              "      <td>2020-07-06</td>\n",
              "      <td>00:05:00</td>\n",
              "      <td>0</td>\n",
              "      <td>5</td>\n",
              "      <td>5</td>\n",
              "      <td>0</td>\n",
              "      <td>0</td>\n",
              "    </tr>\n",
              "    <tr>\n",
              "      <th>0:10</th>\n",
              "      <td>6487</td>\n",
              "      <td>6501</td>\n",
              "      <td>1844</td>\n",
              "      <td>8197</td>\n",
              "      <td>-6</td>\n",
              "      <td>2266</td>\n",
              "      <td>10</td>\n",
              "      <td>0</td>\n",
              "      <td>2020-07-06 00:10:00</td>\n",
              "      <td>2020-07-06</td>\n",
              "      <td>00:10:00</td>\n",
              "      <td>0</td>\n",
              "      <td>10</td>\n",
              "      <td>10</td>\n",
              "      <td>0</td>\n",
              "      <td>0</td>\n",
              "    </tr>\n",
              "    <tr>\n",
              "      <th>0:15</th>\n",
              "      <td>6466</td>\n",
              "      <td>6588</td>\n",
              "      <td>1852</td>\n",
              "      <td>8037</td>\n",
              "      <td>-31</td>\n",
              "      <td>2266</td>\n",
              "      <td>10</td>\n",
              "      <td>0</td>\n",
              "      <td>2020-07-06 00:15:00</td>\n",
              "      <td>2020-07-06</td>\n",
              "      <td>00:15:00</td>\n",
              "      <td>0</td>\n",
              "      <td>15</td>\n",
              "      <td>15</td>\n",
              "      <td>0</td>\n",
              "      <td>0</td>\n",
              "    </tr>\n",
              "    <tr>\n",
              "      <th>0:20</th>\n",
              "      <td>6422</td>\n",
              "      <td>6509</td>\n",
              "      <td>1860</td>\n",
              "      <td>8012</td>\n",
              "      <td>-31</td>\n",
              "      <td>2266</td>\n",
              "      <td>10</td>\n",
              "      <td>0</td>\n",
              "      <td>2020-07-06 00:20:00</td>\n",
              "      <td>2020-07-06</td>\n",
              "      <td>00:20:00</td>\n",
              "      <td>0</td>\n",
              "      <td>20</td>\n",
              "      <td>20</td>\n",
              "      <td>0</td>\n",
              "      <td>0</td>\n",
              "    </tr>\n",
              "  </tbody>\n",
              "</table>\n",
              "</div>"
            ],
            "text/plain": [
              "     Solar NaturalGas Hydro Imports  ... MINUTES MINUTES_PASS Wind Oil\n",
              "0:00  6487       6999  1859    7899  ...       0            0    0   0\n",
              "0:05  6482       6674  1883    8142  ...       5            5    0   0\n",
              "0:10  6487       6501  1844    8197  ...      10           10    0   0\n",
              "0:15  6466       6588  1852    8037  ...      15           15    0   0\n",
              "0:20  6422       6509  1860    8012  ...      20           20    0   0\n",
              "\n",
              "[5 rows x 16 columns]"
            ]
          },
          "metadata": {
            "tags": []
          },
          "execution_count": 17
        }
      ]
    },
    {
      "cell_type": "code",
      "metadata": {
        "execution": {
          "iopub.status.busy": "2021-05-31T04:17:51.327415Z",
          "iopub.execute_input": "2021-05-31T04:17:51.327875Z",
          "iopub.status.idle": "2021-05-31T04:17:51.345577Z",
          "shell.execute_reply.started": "2021-05-31T04:17:51.327846Z",
          "shell.execute_reply": "2021-05-31T04:17:51.344652Z"
        },
        "trusted": true,
        "colab": {
          "base_uri": "https://localhost:8080/"
        },
        "id": "HF44HtmHsUnA",
        "outputId": "e8080134-2d91-477b-a96a-bc1f9f9ee375"
      },
      "source": [
        "df['Nuclear'] = pd.to_numeric(df['Nuclear'], errors='coerce').fillna(0)\n",
        "df['Hydro'] = pd.to_numeric(df['Hydro'], errors='coerce').fillna(0)\n",
        "df['NaturalGas'] = pd.to_numeric(df['NaturalGas'], errors='coerce').fillna(0)\n",
        "df['Coal'] = pd.to_numeric(df['Coal'], errors='coerce').fillna(0)\n",
        "df['Solar'] = pd.to_numeric(df['Solar'], errors='coerce').fillna(0)\n",
        "df['Coal'] = pd.to_numeric(df['Coal'], errors='coerce').fillna(0)\n",
        "df['Oil'] = pd.to_numeric(df['Oil'], errors='coerce').fillna(0)\n",
        "df['Other'] = pd.to_numeric(df['Other'], errors='coerce').fillna(0)\n",
        "print(df.dtypes)"
      ],
      "execution_count": 18,
      "outputs": [
        {
          "output_type": "stream",
          "text": [
            "Solar                    int64\n",
            "NaturalGas               int64\n",
            "Hydro                    int64\n",
            "Imports                 object\n",
            "Batteries               object\n",
            "Nuclear                  int64\n",
            "Coal                     int64\n",
            "Other                    int64\n",
            "Timestamp       datetime64[ns]\n",
            "DATE                    object\n",
            "TIME                    object\n",
            "HOURS                    int64\n",
            "MINUTES                  int64\n",
            "MINUTES_PASS             int64\n",
            "Wind                     int64\n",
            "Oil                      int64\n",
            "dtype: object\n"
          ],
          "name": "stdout"
        }
      ]
    },
    {
      "cell_type": "markdown",
      "metadata": {
        "id": "SiikMEBusUnB"
      },
      "source": [
        "## Timestamp  different utility Graphs  "
      ]
    },
    {
      "cell_type": "code",
      "metadata": {
        "execution": {
          "iopub.status.busy": "2021-05-31T04:17:51.346863Z",
          "iopub.execute_input": "2021-05-31T04:17:51.347315Z",
          "iopub.status.idle": "2021-05-31T04:17:51.361926Z",
          "shell.execute_reply.started": "2021-05-31T04:17:51.347277Z",
          "shell.execute_reply": "2021-05-31T04:17:51.360808Z"
        },
        "trusted": true,
        "colab": {
          "base_uri": "https://localhost:8080/"
        },
        "id": "WvOr2GxOsUnB",
        "outputId": "fd635b80-04f3-4e31-939c-ee815d312554"
      },
      "source": [
        "dates = df['DATE'].unique()\n",
        "dates"
      ],
      "execution_count": 19,
      "outputs": [
        {
          "output_type": "execute_result",
          "data": {
            "text/plain": [
              "array([datetime.date(2020, 7, 6), datetime.date(2020, 7, 7),\n",
              "       datetime.date(2020, 7, 8), datetime.date(2020, 7, 9),\n",
              "       datetime.date(2020, 7, 10), datetime.date(2020, 7, 11)],\n",
              "      dtype=object)"
            ]
          },
          "metadata": {
            "tags": []
          },
          "execution_count": 19
        }
      ]
    },
    {
      "cell_type": "code",
      "metadata": {
        "execution": {
          "iopub.status.busy": "2021-05-31T04:17:51.386143Z",
          "iopub.execute_input": "2021-05-31T04:17:51.386458Z",
          "iopub.status.idle": "2021-05-31T04:17:51.390473Z",
          "shell.execute_reply.started": "2021-05-31T04:17:51.386431Z",
          "shell.execute_reply": "2021-05-31T04:17:51.389695Z"
        },
        "trusted": true,
        "id": "Yph04796sUnC"
      },
      "source": [
        "# remove first day which doesnt have all hours \n",
        "# dates= dates[1:]"
      ],
      "execution_count": 20,
      "outputs": []
    },
    {
      "cell_type": "code",
      "metadata": {
        "execution": {
          "iopub.status.busy": "2021-05-31T04:17:51.443465Z",
          "iopub.execute_input": "2021-05-31T04:17:51.443825Z",
          "iopub.status.idle": "2021-05-31T04:17:51.452835Z",
          "shell.execute_reply.started": "2021-05-31T04:17:51.443794Z",
          "shell.execute_reply": "2021-05-31T04:17:51.451924Z"
        },
        "trusted": true,
        "colab": {
          "base_uri": "https://localhost:8080/"
        },
        "id": "9CMWozhbsUnC",
        "outputId": "eb90c0c6-98a1-4328-c339-b3868cc1194c"
      },
      "source": [
        "# all the hours in day\n",
        "day1 = df[df['DATE']==dates[0]]\n",
        "day1['HOURS'].unique()"
      ],
      "execution_count": 21,
      "outputs": [
        {
          "output_type": "execute_result",
          "data": {
            "text/plain": [
              "array([ 0,  1,  2,  3,  4,  5,  6,  7,  8,  9, 10, 11, 12, 13, 14, 15, 16,\n",
              "       17, 18, 19, 20, 21, 22, 23])"
            ]
          },
          "metadata": {
            "tags": []
          },
          "execution_count": 21
        }
      ]
    },
    {
      "cell_type": "code",
      "metadata": {
        "execution": {
          "iopub.status.busy": "2021-05-31T04:17:51.460904Z",
          "iopub.execute_input": "2021-05-31T04:17:51.461413Z",
          "iopub.status.idle": "2021-05-31T04:17:51.464950Z",
          "shell.execute_reply.started": "2021-05-31T04:17:51.461376Z",
          "shell.execute_reply": "2021-05-31T04:17:51.463771Z"
        },
        "trusted": true,
        "id": "LneHnBJ2sUnC"
      },
      "source": [
        "# df['Other'] = df['Other'].astype(int) + df['Wood'].astype(int) + df['Refuse'].astype(int) + df['LandfillGas'].astype(int)\n",
        "# df = df.drop(columns=['Wood','Refuse','Renewables','LandfillGas'])\n",
        "# df.head()"
      ],
      "execution_count": 22,
      "outputs": []
    },
    {
      "cell_type": "code",
      "metadata": {
        "execution": {
          "iopub.status.busy": "2021-05-31T04:17:51.474524Z",
          "iopub.execute_input": "2021-05-31T04:17:51.475215Z",
          "iopub.status.idle": "2021-05-31T04:17:51.478958Z",
          "shell.execute_reply.started": "2021-05-31T04:17:51.475175Z",
          "shell.execute_reply": "2021-05-31T04:17:51.477947Z"
        },
        "trusted": true,
        "id": "XTw-mdJ8sUnC"
      },
      "source": [
        ""
      ],
      "execution_count": 22,
      "outputs": []
    },
    {
      "cell_type": "markdown",
      "metadata": {
        "id": "HzGEkAaqsUnD"
      },
      "source": [
        "### Inperpolate values for missing dates"
      ]
    },
    {
      "cell_type": "code",
      "metadata": {
        "execution": {
          "iopub.status.busy": "2021-05-31T04:17:51.487933Z",
          "iopub.execute_input": "2021-05-31T04:17:51.488677Z",
          "iopub.status.idle": "2021-05-31T04:17:51.493400Z",
          "shell.execute_reply.started": "2021-05-31T04:17:51.488627Z",
          "shell.execute_reply": "2021-05-31T04:17:51.492461Z"
        },
        "trusted": true,
        "id": "578NDmqesUnD"
      },
      "source": [
        "# index = pd.date_range(datetime.date(2020, 7, 6), periods=1440, freq='T')\n",
        "# series = pd.Series(range(1440), index=index, name='Timestamp')\n",
        "# series = pd.to_datetime(series.index,format = '%Y-%d-%m %H:%M:%S')\n",
        "# # print(series)\n",
        "\n",
        "# dhours = df[df['DATE']==datetime.date(2020, 7, 6)]\n",
        "# dunique_minpass = dhours['Timestamp'].unique()\n",
        "# # dunique_minpass = pd.to_datetime(dunique_minpass ,format = '%Y-%d-%m %H:%M:%S')\n",
        "# # print(dunique_minpass)\n",
        "\n",
        "# for m in series: \n",
        "#     if m not in dunique_minpass:\n",
        "#         print(\"missing tiemstamp \", m)\n",
        "#         dhours = dhours.append({ \n",
        "#             'Timestamp': m,\n",
        "#             'Renewables': 0\n",
        "#         }, ignore_index = True) \n",
        "#     else :\n",
        "#         print(\"Exists tmestamp \", m) "
      ],
      "execution_count": 23,
      "outputs": []
    },
    {
      "cell_type": "code",
      "metadata": {
        "execution": {
          "iopub.status.busy": "2021-05-31T04:17:51.525313Z",
          "iopub.execute_input": "2021-05-31T04:17:51.525897Z",
          "iopub.status.idle": "2021-05-31T04:17:51.541217Z",
          "shell.execute_reply.started": "2021-05-31T04:17:51.525861Z",
          "shell.execute_reply": "2021-05-31T04:17:51.540259Z"
        },
        "trusted": true,
        "colab": {
          "base_uri": "https://localhost:8080/",
          "height": 204
        },
        "id": "oYtb-nKxsUnD",
        "outputId": "3e7ba0f6-41a7-4daa-e8d9-a08e4b2cc144"
      },
      "source": [
        "df.head()"
      ],
      "execution_count": 24,
      "outputs": [
        {
          "output_type": "execute_result",
          "data": {
            "text/html": [
              "<div>\n",
              "<style scoped>\n",
              "    .dataframe tbody tr th:only-of-type {\n",
              "        vertical-align: middle;\n",
              "    }\n",
              "\n",
              "    .dataframe tbody tr th {\n",
              "        vertical-align: top;\n",
              "    }\n",
              "\n",
              "    .dataframe thead th {\n",
              "        text-align: right;\n",
              "    }\n",
              "</style>\n",
              "<table border=\"1\" class=\"dataframe\">\n",
              "  <thead>\n",
              "    <tr style=\"text-align: right;\">\n",
              "      <th></th>\n",
              "      <th>Solar</th>\n",
              "      <th>NaturalGas</th>\n",
              "      <th>Hydro</th>\n",
              "      <th>Imports</th>\n",
              "      <th>Batteries</th>\n",
              "      <th>Nuclear</th>\n",
              "      <th>Coal</th>\n",
              "      <th>Other</th>\n",
              "      <th>Timestamp</th>\n",
              "      <th>DATE</th>\n",
              "      <th>TIME</th>\n",
              "      <th>HOURS</th>\n",
              "      <th>MINUTES</th>\n",
              "      <th>MINUTES_PASS</th>\n",
              "      <th>Wind</th>\n",
              "      <th>Oil</th>\n",
              "    </tr>\n",
              "  </thead>\n",
              "  <tbody>\n",
              "    <tr>\n",
              "      <th>0:00</th>\n",
              "      <td>6487</td>\n",
              "      <td>6999</td>\n",
              "      <td>1859</td>\n",
              "      <td>7899</td>\n",
              "      <td>-1</td>\n",
              "      <td>2266</td>\n",
              "      <td>9</td>\n",
              "      <td>0</td>\n",
              "      <td>2020-07-06 00:00:00</td>\n",
              "      <td>2020-07-06</td>\n",
              "      <td>00:00:00</td>\n",
              "      <td>0</td>\n",
              "      <td>0</td>\n",
              "      <td>0</td>\n",
              "      <td>0</td>\n",
              "      <td>0</td>\n",
              "    </tr>\n",
              "    <tr>\n",
              "      <th>0:05</th>\n",
              "      <td>6482</td>\n",
              "      <td>6674</td>\n",
              "      <td>1883</td>\n",
              "      <td>8142</td>\n",
              "      <td>12</td>\n",
              "      <td>2266</td>\n",
              "      <td>11</td>\n",
              "      <td>0</td>\n",
              "      <td>2020-07-06 00:05:00</td>\n",
              "      <td>2020-07-06</td>\n",
              "      <td>00:05:00</td>\n",
              "      <td>0</td>\n",
              "      <td>5</td>\n",
              "      <td>5</td>\n",
              "      <td>0</td>\n",
              "      <td>0</td>\n",
              "    </tr>\n",
              "    <tr>\n",
              "      <th>0:10</th>\n",
              "      <td>6487</td>\n",
              "      <td>6501</td>\n",
              "      <td>1844</td>\n",
              "      <td>8197</td>\n",
              "      <td>-6</td>\n",
              "      <td>2266</td>\n",
              "      <td>10</td>\n",
              "      <td>0</td>\n",
              "      <td>2020-07-06 00:10:00</td>\n",
              "      <td>2020-07-06</td>\n",
              "      <td>00:10:00</td>\n",
              "      <td>0</td>\n",
              "      <td>10</td>\n",
              "      <td>10</td>\n",
              "      <td>0</td>\n",
              "      <td>0</td>\n",
              "    </tr>\n",
              "    <tr>\n",
              "      <th>0:15</th>\n",
              "      <td>6466</td>\n",
              "      <td>6588</td>\n",
              "      <td>1852</td>\n",
              "      <td>8037</td>\n",
              "      <td>-31</td>\n",
              "      <td>2266</td>\n",
              "      <td>10</td>\n",
              "      <td>0</td>\n",
              "      <td>2020-07-06 00:15:00</td>\n",
              "      <td>2020-07-06</td>\n",
              "      <td>00:15:00</td>\n",
              "      <td>0</td>\n",
              "      <td>15</td>\n",
              "      <td>15</td>\n",
              "      <td>0</td>\n",
              "      <td>0</td>\n",
              "    </tr>\n",
              "    <tr>\n",
              "      <th>0:20</th>\n",
              "      <td>6422</td>\n",
              "      <td>6509</td>\n",
              "      <td>1860</td>\n",
              "      <td>8012</td>\n",
              "      <td>-31</td>\n",
              "      <td>2266</td>\n",
              "      <td>10</td>\n",
              "      <td>0</td>\n",
              "      <td>2020-07-06 00:20:00</td>\n",
              "      <td>2020-07-06</td>\n",
              "      <td>00:20:00</td>\n",
              "      <td>0</td>\n",
              "      <td>20</td>\n",
              "      <td>20</td>\n",
              "      <td>0</td>\n",
              "      <td>0</td>\n",
              "    </tr>\n",
              "  </tbody>\n",
              "</table>\n",
              "</div>"
            ],
            "text/plain": [
              "      Solar  NaturalGas  Hydro Imports  ... MINUTES  MINUTES_PASS  Wind  Oil\n",
              "0:00   6487        6999   1859    7899  ...       0             0     0    0\n",
              "0:05   6482        6674   1883    8142  ...       5             5     0    0\n",
              "0:10   6487        6501   1844    8197  ...      10            10     0    0\n",
              "0:15   6466        6588   1852    8037  ...      15            15     0    0\n",
              "0:20   6422        6509   1860    8012  ...      20            20     0    0\n",
              "\n",
              "[5 rows x 16 columns]"
            ]
          },
          "metadata": {
            "tags": []
          },
          "execution_count": 24
        }
      ]
    },
    {
      "cell_type": "code",
      "metadata": {
        "id": "Q8IW2WZnjmD5"
      },
      "source": [
        "# index = pd.date_range(datetime.date(2020, 6, 7), periods=1440, freq='T')\n",
        "# series = pd.Series(range(0,1440,1), index=index, name='Timestamp')\n",
        "# series = pd.to_datetime(series.index, format = '%Y-%d-%m %H:%M')\n",
        "# series"
      ],
      "execution_count": 25,
      "outputs": []
    },
    {
      "cell_type": "code",
      "metadata": {
        "execution": {
          "iopub.status.busy": "2021-05-31T04:17:51.576198Z",
          "iopub.execute_input": "2021-05-31T04:17:51.576505Z",
          "iopub.status.idle": "2021-05-31T04:18:37.467024Z",
          "shell.execute_reply.started": "2021-05-31T04:17:51.576478Z",
          "shell.execute_reply": "2021-05-31T04:18:37.466078Z"
        },
        "trusted": true,
        "colab": {
          "base_uri": "https://localhost:8080/",
          "height": 1000
        },
        "id": "z8EaceUhsUnD",
        "outputId": "94c3f529-ca7b-4070-fc09-b34a9ea967b0"
      },
      "source": [
        "df2 = pd.DataFrame()\n",
        "\n",
        "for d in dates:\n",
        "    print(d)\n",
        "    dhours = df[df['DATE']==d]\n",
        "    dunique_minpass = dhours['Timestamp'].unique()\n",
        "    dunique_minpass = pd.to_datetime(dunique_minpass )\n",
        "    # print(\"List of supplied timestamps \")\n",
        "    # print(dunique_minpass.unique())\n",
        "\n",
        "    index = pd.date_range(d, periods=1440, freq='T')\n",
        "    series = pd.Series(range(0,1440,1), index=index, name='Timestamp')\n",
        "    series = pd.to_datetime(series.index)\n",
        "    print(series) \n",
        "\n",
        "    for m in series: \n",
        "        if m not in dunique_minpass:\n",
        "            # print(\"missing tiemstamp \" , m)\n",
        "            dhours = dhours.append({ \n",
        "              'Timestamp': m,\n",
        "              'Batteries': 0\n",
        "            }, ignore_index = True) \n",
        "    \n",
        "    dhours = dhours.sort_values(by='Timestamp')\n",
        "    dhours = dhours.interpolate(method ='linear', limit_direction ='forward')\n",
        "\n",
        "    # adding separate time and date columns\n",
        "    dhours[\"DATE\"] = pd.to_datetime(dhours[\"Timestamp\"]).dt.date # add new column with date\n",
        "    dhours[\"TIME\"] = pd.to_datetime(dhours[\"Timestamp\"]).dt.time # add new column with time\n",
        "\n",
        "    # add hours and minutes for ml models\n",
        "    dhours['HOURS'] = pd.to_datetime(dhours['TIME'],format='%H:%M:%S').dt.hour\n",
        "    dhours['MINUTES'] = pd.to_datetime(dhours['TIME'],format='%H:%M:%S').dt.minute\n",
        "    dhours['MINUTES_PASS'] = dhours['MINUTES'] + dhours['HOURS']*60\n",
        "\n",
        "    # change index to minute pass \n",
        "    dhours = dhours.set_index('MINUTES_PASS')\n",
        "\n",
        "    # remove duplicates \n",
        "    dhours = dhours.drop_duplicates(keep ='first')\n",
        "\n",
        "    # print(\" Now generated unique timestamps\")\n",
        "    # print(dhours['Timestamp'].unique())\n",
        "\n",
        "    df2 = df2.append(dhours)\n",
        "\n",
        "len(df2)\n",
        "df2.head(8)"
      ],
      "execution_count": 26,
      "outputs": [
        {
          "output_type": "stream",
          "text": [
            "2020-07-06\n",
            "DatetimeIndex(['2020-07-06 00:00:00', '2020-07-06 00:01:00',\n",
            "               '2020-07-06 00:02:00', '2020-07-06 00:03:00',\n",
            "               '2020-07-06 00:04:00', '2020-07-06 00:05:00',\n",
            "               '2020-07-06 00:06:00', '2020-07-06 00:07:00',\n",
            "               '2020-07-06 00:08:00', '2020-07-06 00:09:00',\n",
            "               ...\n",
            "               '2020-07-06 23:50:00', '2020-07-06 23:51:00',\n",
            "               '2020-07-06 23:52:00', '2020-07-06 23:53:00',\n",
            "               '2020-07-06 23:54:00', '2020-07-06 23:55:00',\n",
            "               '2020-07-06 23:56:00', '2020-07-06 23:57:00',\n",
            "               '2020-07-06 23:58:00', '2020-07-06 23:59:00'],\n",
            "              dtype='datetime64[ns]', length=1440, freq='T')\n",
            "2020-07-07\n",
            "DatetimeIndex(['2020-07-07 00:00:00', '2020-07-07 00:01:00',\n",
            "               '2020-07-07 00:02:00', '2020-07-07 00:03:00',\n",
            "               '2020-07-07 00:04:00', '2020-07-07 00:05:00',\n",
            "               '2020-07-07 00:06:00', '2020-07-07 00:07:00',\n",
            "               '2020-07-07 00:08:00', '2020-07-07 00:09:00',\n",
            "               ...\n",
            "               '2020-07-07 23:50:00', '2020-07-07 23:51:00',\n",
            "               '2020-07-07 23:52:00', '2020-07-07 23:53:00',\n",
            "               '2020-07-07 23:54:00', '2020-07-07 23:55:00',\n",
            "               '2020-07-07 23:56:00', '2020-07-07 23:57:00',\n",
            "               '2020-07-07 23:58:00', '2020-07-07 23:59:00'],\n",
            "              dtype='datetime64[ns]', length=1440, freq='T')\n",
            "2020-07-08\n",
            "DatetimeIndex(['2020-07-08 00:00:00', '2020-07-08 00:01:00',\n",
            "               '2020-07-08 00:02:00', '2020-07-08 00:03:00',\n",
            "               '2020-07-08 00:04:00', '2020-07-08 00:05:00',\n",
            "               '2020-07-08 00:06:00', '2020-07-08 00:07:00',\n",
            "               '2020-07-08 00:08:00', '2020-07-08 00:09:00',\n",
            "               ...\n",
            "               '2020-07-08 23:50:00', '2020-07-08 23:51:00',\n",
            "               '2020-07-08 23:52:00', '2020-07-08 23:53:00',\n",
            "               '2020-07-08 23:54:00', '2020-07-08 23:55:00',\n",
            "               '2020-07-08 23:56:00', '2020-07-08 23:57:00',\n",
            "               '2020-07-08 23:58:00', '2020-07-08 23:59:00'],\n",
            "              dtype='datetime64[ns]', length=1440, freq='T')\n",
            "2020-07-09\n",
            "DatetimeIndex(['2020-07-09 00:00:00', '2020-07-09 00:01:00',\n",
            "               '2020-07-09 00:02:00', '2020-07-09 00:03:00',\n",
            "               '2020-07-09 00:04:00', '2020-07-09 00:05:00',\n",
            "               '2020-07-09 00:06:00', '2020-07-09 00:07:00',\n",
            "               '2020-07-09 00:08:00', '2020-07-09 00:09:00',\n",
            "               ...\n",
            "               '2020-07-09 23:50:00', '2020-07-09 23:51:00',\n",
            "               '2020-07-09 23:52:00', '2020-07-09 23:53:00',\n",
            "               '2020-07-09 23:54:00', '2020-07-09 23:55:00',\n",
            "               '2020-07-09 23:56:00', '2020-07-09 23:57:00',\n",
            "               '2020-07-09 23:58:00', '2020-07-09 23:59:00'],\n",
            "              dtype='datetime64[ns]', length=1440, freq='T')\n",
            "2020-07-10\n",
            "DatetimeIndex(['2020-07-10 00:00:00', '2020-07-10 00:01:00',\n",
            "               '2020-07-10 00:02:00', '2020-07-10 00:03:00',\n",
            "               '2020-07-10 00:04:00', '2020-07-10 00:05:00',\n",
            "               '2020-07-10 00:06:00', '2020-07-10 00:07:00',\n",
            "               '2020-07-10 00:08:00', '2020-07-10 00:09:00',\n",
            "               ...\n",
            "               '2020-07-10 23:50:00', '2020-07-10 23:51:00',\n",
            "               '2020-07-10 23:52:00', '2020-07-10 23:53:00',\n",
            "               '2020-07-10 23:54:00', '2020-07-10 23:55:00',\n",
            "               '2020-07-10 23:56:00', '2020-07-10 23:57:00',\n",
            "               '2020-07-10 23:58:00', '2020-07-10 23:59:00'],\n",
            "              dtype='datetime64[ns]', length=1440, freq='T')\n",
            "2020-07-11\n",
            "DatetimeIndex(['2020-07-11 00:00:00', '2020-07-11 00:01:00',\n",
            "               '2020-07-11 00:02:00', '2020-07-11 00:03:00',\n",
            "               '2020-07-11 00:04:00', '2020-07-11 00:05:00',\n",
            "               '2020-07-11 00:06:00', '2020-07-11 00:07:00',\n",
            "               '2020-07-11 00:08:00', '2020-07-11 00:09:00',\n",
            "               ...\n",
            "               '2020-07-11 23:50:00', '2020-07-11 23:51:00',\n",
            "               '2020-07-11 23:52:00', '2020-07-11 23:53:00',\n",
            "               '2020-07-11 23:54:00', '2020-07-11 23:55:00',\n",
            "               '2020-07-11 23:56:00', '2020-07-11 23:57:00',\n",
            "               '2020-07-11 23:58:00', '2020-07-11 23:59:00'],\n",
            "              dtype='datetime64[ns]', length=1440, freq='T')\n"
          ],
          "name": "stdout"
        },
        {
          "output_type": "execute_result",
          "data": {
            "text/html": [
              "<div>\n",
              "<style scoped>\n",
              "    .dataframe tbody tr th:only-of-type {\n",
              "        vertical-align: middle;\n",
              "    }\n",
              "\n",
              "    .dataframe tbody tr th {\n",
              "        vertical-align: top;\n",
              "    }\n",
              "\n",
              "    .dataframe thead th {\n",
              "        text-align: right;\n",
              "    }\n",
              "</style>\n",
              "<table border=\"1\" class=\"dataframe\">\n",
              "  <thead>\n",
              "    <tr style=\"text-align: right;\">\n",
              "      <th></th>\n",
              "      <th>Solar</th>\n",
              "      <th>NaturalGas</th>\n",
              "      <th>Hydro</th>\n",
              "      <th>Imports</th>\n",
              "      <th>Batteries</th>\n",
              "      <th>Nuclear</th>\n",
              "      <th>Coal</th>\n",
              "      <th>Other</th>\n",
              "      <th>Timestamp</th>\n",
              "      <th>DATE</th>\n",
              "      <th>TIME</th>\n",
              "      <th>HOURS</th>\n",
              "      <th>MINUTES</th>\n",
              "      <th>Wind</th>\n",
              "      <th>Oil</th>\n",
              "    </tr>\n",
              "    <tr>\n",
              "      <th>MINUTES_PASS</th>\n",
              "      <th></th>\n",
              "      <th></th>\n",
              "      <th></th>\n",
              "      <th></th>\n",
              "      <th></th>\n",
              "      <th></th>\n",
              "      <th></th>\n",
              "      <th></th>\n",
              "      <th></th>\n",
              "      <th></th>\n",
              "      <th></th>\n",
              "      <th></th>\n",
              "      <th></th>\n",
              "      <th></th>\n",
              "      <th></th>\n",
              "    </tr>\n",
              "  </thead>\n",
              "  <tbody>\n",
              "    <tr>\n",
              "      <th>0</th>\n",
              "      <td>6487.0</td>\n",
              "      <td>6999.0</td>\n",
              "      <td>1859.0</td>\n",
              "      <td>7899</td>\n",
              "      <td>-1</td>\n",
              "      <td>2266.0</td>\n",
              "      <td>9.0</td>\n",
              "      <td>0.0</td>\n",
              "      <td>2020-07-06 00:00:00</td>\n",
              "      <td>2020-07-06</td>\n",
              "      <td>00:00:00</td>\n",
              "      <td>0</td>\n",
              "      <td>0</td>\n",
              "      <td>0.0</td>\n",
              "      <td>0.0</td>\n",
              "    </tr>\n",
              "    <tr>\n",
              "      <th>1</th>\n",
              "      <td>6486.0</td>\n",
              "      <td>6934.0</td>\n",
              "      <td>1863.8</td>\n",
              "      <td>NaN</td>\n",
              "      <td>0</td>\n",
              "      <td>2266.0</td>\n",
              "      <td>9.4</td>\n",
              "      <td>0.0</td>\n",
              "      <td>2020-07-06 00:01:00</td>\n",
              "      <td>2020-07-06</td>\n",
              "      <td>00:01:00</td>\n",
              "      <td>0</td>\n",
              "      <td>1</td>\n",
              "      <td>0.0</td>\n",
              "      <td>0.0</td>\n",
              "    </tr>\n",
              "    <tr>\n",
              "      <th>2</th>\n",
              "      <td>6485.0</td>\n",
              "      <td>6869.0</td>\n",
              "      <td>1868.6</td>\n",
              "      <td>NaN</td>\n",
              "      <td>0</td>\n",
              "      <td>2266.0</td>\n",
              "      <td>9.8</td>\n",
              "      <td>0.0</td>\n",
              "      <td>2020-07-06 00:02:00</td>\n",
              "      <td>2020-07-06</td>\n",
              "      <td>00:02:00</td>\n",
              "      <td>0</td>\n",
              "      <td>2</td>\n",
              "      <td>0.0</td>\n",
              "      <td>0.0</td>\n",
              "    </tr>\n",
              "    <tr>\n",
              "      <th>3</th>\n",
              "      <td>6484.0</td>\n",
              "      <td>6804.0</td>\n",
              "      <td>1873.4</td>\n",
              "      <td>NaN</td>\n",
              "      <td>0</td>\n",
              "      <td>2266.0</td>\n",
              "      <td>10.2</td>\n",
              "      <td>0.0</td>\n",
              "      <td>2020-07-06 00:03:00</td>\n",
              "      <td>2020-07-06</td>\n",
              "      <td>00:03:00</td>\n",
              "      <td>0</td>\n",
              "      <td>3</td>\n",
              "      <td>0.0</td>\n",
              "      <td>0.0</td>\n",
              "    </tr>\n",
              "    <tr>\n",
              "      <th>4</th>\n",
              "      <td>6483.0</td>\n",
              "      <td>6739.0</td>\n",
              "      <td>1878.2</td>\n",
              "      <td>NaN</td>\n",
              "      <td>0</td>\n",
              "      <td>2266.0</td>\n",
              "      <td>10.6</td>\n",
              "      <td>0.0</td>\n",
              "      <td>2020-07-06 00:04:00</td>\n",
              "      <td>2020-07-06</td>\n",
              "      <td>00:04:00</td>\n",
              "      <td>0</td>\n",
              "      <td>4</td>\n",
              "      <td>0.0</td>\n",
              "      <td>0.0</td>\n",
              "    </tr>\n",
              "    <tr>\n",
              "      <th>5</th>\n",
              "      <td>6482.0</td>\n",
              "      <td>6674.0</td>\n",
              "      <td>1883.0</td>\n",
              "      <td>8142</td>\n",
              "      <td>12</td>\n",
              "      <td>2266.0</td>\n",
              "      <td>11.0</td>\n",
              "      <td>0.0</td>\n",
              "      <td>2020-07-06 00:05:00</td>\n",
              "      <td>2020-07-06</td>\n",
              "      <td>00:05:00</td>\n",
              "      <td>0</td>\n",
              "      <td>5</td>\n",
              "      <td>0.0</td>\n",
              "      <td>0.0</td>\n",
              "    </tr>\n",
              "    <tr>\n",
              "      <th>6</th>\n",
              "      <td>6483.0</td>\n",
              "      <td>6639.4</td>\n",
              "      <td>1875.2</td>\n",
              "      <td>NaN</td>\n",
              "      <td>0</td>\n",
              "      <td>2266.0</td>\n",
              "      <td>10.8</td>\n",
              "      <td>0.0</td>\n",
              "      <td>2020-07-06 00:06:00</td>\n",
              "      <td>2020-07-06</td>\n",
              "      <td>00:06:00</td>\n",
              "      <td>0</td>\n",
              "      <td>6</td>\n",
              "      <td>0.0</td>\n",
              "      <td>0.0</td>\n",
              "    </tr>\n",
              "    <tr>\n",
              "      <th>7</th>\n",
              "      <td>6484.0</td>\n",
              "      <td>6604.8</td>\n",
              "      <td>1867.4</td>\n",
              "      <td>NaN</td>\n",
              "      <td>0</td>\n",
              "      <td>2266.0</td>\n",
              "      <td>10.6</td>\n",
              "      <td>0.0</td>\n",
              "      <td>2020-07-06 00:07:00</td>\n",
              "      <td>2020-07-06</td>\n",
              "      <td>00:07:00</td>\n",
              "      <td>0</td>\n",
              "      <td>7</td>\n",
              "      <td>0.0</td>\n",
              "      <td>0.0</td>\n",
              "    </tr>\n",
              "  </tbody>\n",
              "</table>\n",
              "</div>"
            ],
            "text/plain": [
              "               Solar  NaturalGas   Hydro Imports  ... HOURS  MINUTES  Wind  Oil\n",
              "MINUTES_PASS                                      ...                          \n",
              "0             6487.0      6999.0  1859.0    7899  ...     0        0   0.0  0.0\n",
              "1             6486.0      6934.0  1863.8     NaN  ...     0        1   0.0  0.0\n",
              "2             6485.0      6869.0  1868.6     NaN  ...     0        2   0.0  0.0\n",
              "3             6484.0      6804.0  1873.4     NaN  ...     0        3   0.0  0.0\n",
              "4             6483.0      6739.0  1878.2     NaN  ...     0        4   0.0  0.0\n",
              "5             6482.0      6674.0  1883.0    8142  ...     0        5   0.0  0.0\n",
              "6             6483.0      6639.4  1875.2     NaN  ...     0        6   0.0  0.0\n",
              "7             6484.0      6604.8  1867.4     NaN  ...     0        7   0.0  0.0\n",
              "\n",
              "[8 rows x 15 columns]"
            ]
          },
          "metadata": {
            "tags": []
          },
          "execution_count": 26
        }
      ]
    },
    {
      "cell_type": "code",
      "metadata": {
        "id": "gWHw8q0-L5Dc",
        "outputId": "c0ca2b50-5c2c-45e3-fb25-447e4dd0932f",
        "colab": {
          "base_uri": "https://localhost:8080/",
          "height": 436
        }
      },
      "source": [
        "df_backwards = pd.DataFrame()\n",
        "\n",
        "for d in dates:\n",
        "    print(d)\n",
        "    dhours = df[df['DATE']==d]\n",
        "    dunique_minpass = dhours['Timestamp'].unique()\n",
        "    dunique_minpass = pd.to_datetime(dunique_minpass )\n",
        "\n",
        "    index = pd.date_range(d, periods=1440, freq='T')\n",
        "    series = pd.Series(range(0,1440,1), index=index, name='Timestamp')\n",
        "    series = pd.to_datetime(series.index)\n",
        "\n",
        "    for m in series: \n",
        "        if m not in dunique_minpass:\n",
        "            dhours = dhours.append({ \n",
        "                'Timestamp': m,\n",
        "                'Batteries': 0\n",
        "            }, ignore_index = True) \n",
        "\n",
        "    dhours = dhours.sort_values(by='Timestamp')\n",
        "    dhours = dhours.interpolate(method ='pad', limit_direction ='forward')\n",
        "\n",
        "    # adding separate time and date columns\n",
        "    dhours[\"DATE\"] = pd.to_datetime(dhours[\"Timestamp\"]).dt.date # add new column with date\n",
        "    dhours[\"TIME\"] = pd.to_datetime(dhours[\"Timestamp\"]).dt.time # add new column with time\n",
        "\n",
        "    # add hours and minutes for ml models\n",
        "    dhours['HOURS'] = pd.to_datetime(dhours['TIME'],format='%H:%M:%S').dt.hour\n",
        "    dhours['MINUTES'] = pd.to_datetime(dhours['TIME'],format='%H:%M:%S').dt.minute\n",
        "    dhours['MINUTES_PASS'] = dhours['MINUTES'] + dhours['HOURS']*60\n",
        "\n",
        "    # change index to minute pass \n",
        "    dhours = dhours.set_index('MINUTES_PASS')\n",
        "\n",
        "    # remove duplicates \n",
        "    dhours = dhours.drop_duplicates(keep ='first')\n",
        "\n",
        "    df_backwards = df_backwards.append(dhours)\n",
        "\n",
        "len(df_backwards)\n",
        "df_backwards.head(8)"
      ],
      "execution_count": 27,
      "outputs": [
        {
          "output_type": "stream",
          "text": [
            "2020-07-06\n",
            "2020-07-07\n",
            "2020-07-08\n",
            "2020-07-09\n",
            "2020-07-10\n",
            "2020-07-11\n"
          ],
          "name": "stdout"
        },
        {
          "output_type": "execute_result",
          "data": {
            "text/html": [
              "<div>\n",
              "<style scoped>\n",
              "    .dataframe tbody tr th:only-of-type {\n",
              "        vertical-align: middle;\n",
              "    }\n",
              "\n",
              "    .dataframe tbody tr th {\n",
              "        vertical-align: top;\n",
              "    }\n",
              "\n",
              "    .dataframe thead th {\n",
              "        text-align: right;\n",
              "    }\n",
              "</style>\n",
              "<table border=\"1\" class=\"dataframe\">\n",
              "  <thead>\n",
              "    <tr style=\"text-align: right;\">\n",
              "      <th></th>\n",
              "      <th>Solar</th>\n",
              "      <th>NaturalGas</th>\n",
              "      <th>Hydro</th>\n",
              "      <th>Imports</th>\n",
              "      <th>Batteries</th>\n",
              "      <th>Nuclear</th>\n",
              "      <th>Coal</th>\n",
              "      <th>Other</th>\n",
              "      <th>Timestamp</th>\n",
              "      <th>DATE</th>\n",
              "      <th>TIME</th>\n",
              "      <th>HOURS</th>\n",
              "      <th>MINUTES</th>\n",
              "      <th>Wind</th>\n",
              "      <th>Oil</th>\n",
              "    </tr>\n",
              "    <tr>\n",
              "      <th>MINUTES_PASS</th>\n",
              "      <th></th>\n",
              "      <th></th>\n",
              "      <th></th>\n",
              "      <th></th>\n",
              "      <th></th>\n",
              "      <th></th>\n",
              "      <th></th>\n",
              "      <th></th>\n",
              "      <th></th>\n",
              "      <th></th>\n",
              "      <th></th>\n",
              "      <th></th>\n",
              "      <th></th>\n",
              "      <th></th>\n",
              "      <th></th>\n",
              "    </tr>\n",
              "  </thead>\n",
              "  <tbody>\n",
              "    <tr>\n",
              "      <th>0</th>\n",
              "      <td>6487.0</td>\n",
              "      <td>6999.0</td>\n",
              "      <td>1859.0</td>\n",
              "      <td>7899</td>\n",
              "      <td>-1</td>\n",
              "      <td>2266.0</td>\n",
              "      <td>9.0</td>\n",
              "      <td>0.0</td>\n",
              "      <td>2020-07-06 00:00:00</td>\n",
              "      <td>2020-07-06</td>\n",
              "      <td>00:00:00</td>\n",
              "      <td>0</td>\n",
              "      <td>0</td>\n",
              "      <td>0.0</td>\n",
              "      <td>0.0</td>\n",
              "    </tr>\n",
              "    <tr>\n",
              "      <th>1</th>\n",
              "      <td>6487.0</td>\n",
              "      <td>6999.0</td>\n",
              "      <td>1859.0</td>\n",
              "      <td>7899</td>\n",
              "      <td>0</td>\n",
              "      <td>2266.0</td>\n",
              "      <td>9.0</td>\n",
              "      <td>0.0</td>\n",
              "      <td>2020-07-06 00:01:00</td>\n",
              "      <td>2020-07-06</td>\n",
              "      <td>00:01:00</td>\n",
              "      <td>0</td>\n",
              "      <td>1</td>\n",
              "      <td>0.0</td>\n",
              "      <td>0.0</td>\n",
              "    </tr>\n",
              "    <tr>\n",
              "      <th>2</th>\n",
              "      <td>6487.0</td>\n",
              "      <td>6999.0</td>\n",
              "      <td>1859.0</td>\n",
              "      <td>7899</td>\n",
              "      <td>0</td>\n",
              "      <td>2266.0</td>\n",
              "      <td>9.0</td>\n",
              "      <td>0.0</td>\n",
              "      <td>2020-07-06 00:02:00</td>\n",
              "      <td>2020-07-06</td>\n",
              "      <td>00:02:00</td>\n",
              "      <td>0</td>\n",
              "      <td>2</td>\n",
              "      <td>0.0</td>\n",
              "      <td>0.0</td>\n",
              "    </tr>\n",
              "    <tr>\n",
              "      <th>3</th>\n",
              "      <td>6487.0</td>\n",
              "      <td>6999.0</td>\n",
              "      <td>1859.0</td>\n",
              "      <td>7899</td>\n",
              "      <td>0</td>\n",
              "      <td>2266.0</td>\n",
              "      <td>9.0</td>\n",
              "      <td>0.0</td>\n",
              "      <td>2020-07-06 00:03:00</td>\n",
              "      <td>2020-07-06</td>\n",
              "      <td>00:03:00</td>\n",
              "      <td>0</td>\n",
              "      <td>3</td>\n",
              "      <td>0.0</td>\n",
              "      <td>0.0</td>\n",
              "    </tr>\n",
              "    <tr>\n",
              "      <th>4</th>\n",
              "      <td>6487.0</td>\n",
              "      <td>6999.0</td>\n",
              "      <td>1859.0</td>\n",
              "      <td>7899</td>\n",
              "      <td>0</td>\n",
              "      <td>2266.0</td>\n",
              "      <td>9.0</td>\n",
              "      <td>0.0</td>\n",
              "      <td>2020-07-06 00:04:00</td>\n",
              "      <td>2020-07-06</td>\n",
              "      <td>00:04:00</td>\n",
              "      <td>0</td>\n",
              "      <td>4</td>\n",
              "      <td>0.0</td>\n",
              "      <td>0.0</td>\n",
              "    </tr>\n",
              "    <tr>\n",
              "      <th>5</th>\n",
              "      <td>6482.0</td>\n",
              "      <td>6674.0</td>\n",
              "      <td>1883.0</td>\n",
              "      <td>8142</td>\n",
              "      <td>12</td>\n",
              "      <td>2266.0</td>\n",
              "      <td>11.0</td>\n",
              "      <td>0.0</td>\n",
              "      <td>2020-07-06 00:05:00</td>\n",
              "      <td>2020-07-06</td>\n",
              "      <td>00:05:00</td>\n",
              "      <td>0</td>\n",
              "      <td>5</td>\n",
              "      <td>0.0</td>\n",
              "      <td>0.0</td>\n",
              "    </tr>\n",
              "    <tr>\n",
              "      <th>6</th>\n",
              "      <td>6482.0</td>\n",
              "      <td>6674.0</td>\n",
              "      <td>1883.0</td>\n",
              "      <td>8142</td>\n",
              "      <td>0</td>\n",
              "      <td>2266.0</td>\n",
              "      <td>11.0</td>\n",
              "      <td>0.0</td>\n",
              "      <td>2020-07-06 00:06:00</td>\n",
              "      <td>2020-07-06</td>\n",
              "      <td>00:06:00</td>\n",
              "      <td>0</td>\n",
              "      <td>6</td>\n",
              "      <td>0.0</td>\n",
              "      <td>0.0</td>\n",
              "    </tr>\n",
              "    <tr>\n",
              "      <th>7</th>\n",
              "      <td>6482.0</td>\n",
              "      <td>6674.0</td>\n",
              "      <td>1883.0</td>\n",
              "      <td>8142</td>\n",
              "      <td>0</td>\n",
              "      <td>2266.0</td>\n",
              "      <td>11.0</td>\n",
              "      <td>0.0</td>\n",
              "      <td>2020-07-06 00:07:00</td>\n",
              "      <td>2020-07-06</td>\n",
              "      <td>00:07:00</td>\n",
              "      <td>0</td>\n",
              "      <td>7</td>\n",
              "      <td>0.0</td>\n",
              "      <td>0.0</td>\n",
              "    </tr>\n",
              "  </tbody>\n",
              "</table>\n",
              "</div>"
            ],
            "text/plain": [
              "               Solar  NaturalGas   Hydro  Imports  ...  HOURS  MINUTES  Wind  Oil\n",
              "MINUTES_PASS                                       ...                           \n",
              "0             6487.0      6999.0  1859.0     7899  ...      0        0   0.0  0.0\n",
              "1             6487.0      6999.0  1859.0     7899  ...      0        1   0.0  0.0\n",
              "2             6487.0      6999.0  1859.0     7899  ...      0        2   0.0  0.0\n",
              "3             6487.0      6999.0  1859.0     7899  ...      0        3   0.0  0.0\n",
              "4             6487.0      6999.0  1859.0     7899  ...      0        4   0.0  0.0\n",
              "5             6482.0      6674.0  1883.0     8142  ...      0        5   0.0  0.0\n",
              "6             6482.0      6674.0  1883.0     8142  ...      0        6   0.0  0.0\n",
              "7             6482.0      6674.0  1883.0     8142  ...      0        7   0.0  0.0\n",
              "\n",
              "[8 rows x 15 columns]"
            ]
          },
          "metadata": {
            "tags": []
          },
          "execution_count": 27
        }
      ]
    },
    {
      "cell_type": "code",
      "metadata": {
        "execution": {
          "iopub.status.busy": "2021-05-31T04:18:37.469250Z",
          "iopub.execute_input": "2021-05-31T04:18:37.469661Z",
          "iopub.status.idle": "2021-05-31T04:18:37.510449Z",
          "shell.execute_reply.started": "2021-05-31T04:18:37.469617Z",
          "shell.execute_reply": "2021-05-31T04:18:37.509538Z"
        },
        "trusted": true,
        "id": "bhZpFAKisUnE"
      },
      "source": [
        "df = df.replace('undefined', 0)\n",
        "df = df.fillna(0)\n",
        "df = df.replace(np.nan, 0)\n",
        "# drop Imports and Batteries \n",
        "df.drop(['Imports','Batteries'], axis=1, inplace=True)  \n",
        "df.head(15)\n",
        "\n",
        "\n",
        "df2 = df2.replace('undefined', 0)\n",
        "df2 = df2.fillna(0)\n",
        "df2 = df2.replace(np.nan, 0)\n",
        "# drop Imports and Batteries \n",
        "df2.drop(['Imports','Batteries'], axis=1, inplace=True)  \n",
        "\n",
        "\n",
        "df_backwards = df_backwards.replace('undefined', 0)\n",
        "df_backwards = df_backwards.fillna(0)\n",
        "df_backwards = df_backwards.replace(np.nan, 0)\n",
        "# drop Imports and Batteries \n",
        "df_backwards.drop(['Imports','Batteries'], axis=1, inplace=True)  "
      ],
      "execution_count": 28,
      "outputs": []
    },
    {
      "cell_type": "code",
      "metadata": {
        "execution": {
          "iopub.status.busy": "2021-05-31T04:18:37.511959Z",
          "iopub.execute_input": "2021-05-31T04:18:37.512235Z",
          "iopub.status.idle": "2021-05-31T04:18:37.531195Z",
          "shell.execute_reply.started": "2021-05-31T04:18:37.512207Z",
          "shell.execute_reply": "2021-05-31T04:18:37.530261Z"
        },
        "trusted": true,
        "colab": {
          "base_uri": "https://localhost:8080/",
          "height": 450
        },
        "id": "droZaRB9sUnE",
        "outputId": "5db76156-00f5-4483-974e-8b7cc1b9a8dd"
      },
      "source": [
        "df[\"total_generation\"] = df[\"Wind\"] + df[\"Solar\"] + df[\"Hydro\"] + df[\"Other\"] + df[\"Oil\"] + df[\"NaturalGas\"] + df[\"Coal\"] + df[\"Nuclear\"]\n",
        "df[[\"TIME\",\"total_generation\"]]\n",
        "\n",
        "df2[\"total_generation\"] = df2[\"Wind\"] + df2[\"Solar\"] + df2[\"Hydro\"] + df2[\"Other\"] + df2[\"Oil\"] + df2[\"NaturalGas\"] + df2[\"Coal\"] + df2[\"Nuclear\"]\n",
        "df2[[\"TIME\",\"total_generation\"]]\n",
        "\n",
        "df_backwards[\"total_generation\"] = df_backwards[\"Wind\"] + df_backwards[\"Solar\"] + df_backwards[\"Hydro\"] + df_backwards[\"Other\"] + df_backwards[\"Oil\"] + df_backwards[\"NaturalGas\"] + df_backwards[\"Coal\"] + df_backwards[\"Nuclear\"]\n",
        "df_backwards[[\"TIME\",\"total_generation\"]]"
      ],
      "execution_count": 29,
      "outputs": [
        {
          "output_type": "execute_result",
          "data": {
            "text/html": [
              "<div>\n",
              "<style scoped>\n",
              "    .dataframe tbody tr th:only-of-type {\n",
              "        vertical-align: middle;\n",
              "    }\n",
              "\n",
              "    .dataframe tbody tr th {\n",
              "        vertical-align: top;\n",
              "    }\n",
              "\n",
              "    .dataframe thead th {\n",
              "        text-align: right;\n",
              "    }\n",
              "</style>\n",
              "<table border=\"1\" class=\"dataframe\">\n",
              "  <thead>\n",
              "    <tr style=\"text-align: right;\">\n",
              "      <th></th>\n",
              "      <th>TIME</th>\n",
              "      <th>total_generation</th>\n",
              "    </tr>\n",
              "    <tr>\n",
              "      <th>MINUTES_PASS</th>\n",
              "      <th></th>\n",
              "      <th></th>\n",
              "    </tr>\n",
              "  </thead>\n",
              "  <tbody>\n",
              "    <tr>\n",
              "      <th>0</th>\n",
              "      <td>00:00:00</td>\n",
              "      <td>17620.0</td>\n",
              "    </tr>\n",
              "    <tr>\n",
              "      <th>1</th>\n",
              "      <td>00:01:00</td>\n",
              "      <td>17620.0</td>\n",
              "    </tr>\n",
              "    <tr>\n",
              "      <th>2</th>\n",
              "      <td>00:02:00</td>\n",
              "      <td>17620.0</td>\n",
              "    </tr>\n",
              "    <tr>\n",
              "      <th>3</th>\n",
              "      <td>00:03:00</td>\n",
              "      <td>17620.0</td>\n",
              "    </tr>\n",
              "    <tr>\n",
              "      <th>4</th>\n",
              "      <td>00:04:00</td>\n",
              "      <td>17620.0</td>\n",
              "    </tr>\n",
              "    <tr>\n",
              "      <th>...</th>\n",
              "      <td>...</td>\n",
              "      <td>...</td>\n",
              "    </tr>\n",
              "    <tr>\n",
              "      <th>1435</th>\n",
              "      <td>23:55:00</td>\n",
              "      <td>21176.0</td>\n",
              "    </tr>\n",
              "    <tr>\n",
              "      <th>1436</th>\n",
              "      <td>23:56:00</td>\n",
              "      <td>21176.0</td>\n",
              "    </tr>\n",
              "    <tr>\n",
              "      <th>1437</th>\n",
              "      <td>23:57:00</td>\n",
              "      <td>21176.0</td>\n",
              "    </tr>\n",
              "    <tr>\n",
              "      <th>1438</th>\n",
              "      <td>23:58:00</td>\n",
              "      <td>21176.0</td>\n",
              "    </tr>\n",
              "    <tr>\n",
              "      <th>1439</th>\n",
              "      <td>23:59:00</td>\n",
              "      <td>21176.0</td>\n",
              "    </tr>\n",
              "  </tbody>\n",
              "</table>\n",
              "<p>8640 rows × 2 columns</p>\n",
              "</div>"
            ],
            "text/plain": [
              "                  TIME  total_generation\n",
              "MINUTES_PASS                            \n",
              "0             00:00:00           17620.0\n",
              "1             00:01:00           17620.0\n",
              "2             00:02:00           17620.0\n",
              "3             00:03:00           17620.0\n",
              "4             00:04:00           17620.0\n",
              "...                ...               ...\n",
              "1435          23:55:00           21176.0\n",
              "1436          23:56:00           21176.0\n",
              "1437          23:57:00           21176.0\n",
              "1438          23:58:00           21176.0\n",
              "1439          23:59:00           21176.0\n",
              "\n",
              "[8640 rows x 2 columns]"
            ]
          },
          "metadata": {
            "tags": []
          },
          "execution_count": 29
        }
      ]
    },
    {
      "cell_type": "markdown",
      "metadata": {
        "id": "4ytPty2HsUnF"
      },
      "source": [
        "Add unix timestamp"
      ]
    },
    {
      "cell_type": "code",
      "metadata": {
        "execution": {
          "iopub.status.busy": "2021-05-31T04:18:37.532490Z",
          "iopub.execute_input": "2021-05-31T04:18:37.532799Z",
          "iopub.status.idle": "2021-05-31T04:18:37.551418Z",
          "shell.execute_reply.started": "2021-05-31T04:18:37.532770Z",
          "shell.execute_reply": "2021-05-31T04:18:37.550398Z"
        },
        "trusted": true,
        "colab": {
          "base_uri": "https://localhost:8080/"
        },
        "id": "NNugNBIZsUnF",
        "outputId": "155bef1c-2c5e-4268-f2b3-482b73175b5c"
      },
      "source": [
        "df_unix = pd.to_datetime(df[\"Timestamp\"],origin='unix')\n",
        "df[\"Timestamp (Unix)\"] = (df_unix - pd.Timestamp(\"1970-01-01\")) // pd.Timedelta('1s')\n",
        "df[\"Timestamp (Unix)\"].head()"
      ],
      "execution_count": 30,
      "outputs": [
        {
          "output_type": "execute_result",
          "data": {
            "text/plain": [
              "0:00    1593993600\n",
              "0:05    1593993900\n",
              "0:10    1593994200\n",
              "0:15    1593994500\n",
              "0:20    1593994800\n",
              "Name: Timestamp (Unix), dtype: int64"
            ]
          },
          "metadata": {
            "tags": []
          },
          "execution_count": 30
        }
      ]
    },
    {
      "cell_type": "markdown",
      "metadata": {
        "id": "IN0gaMmUsUnF"
      },
      "source": [
        "### output csv \n",
        "\n",
        "CSV outPut total_generation(MW) and total_generation(W) and \n",
        "one Timestamp (Unix) and total_generation(W)"
      ]
    },
    {
      "cell_type": "code",
      "metadata": {
        "execution": {
          "iopub.status.busy": "2021-05-31T04:18:37.554764Z",
          "iopub.execute_input": "2021-05-31T04:18:37.555078Z",
          "iopub.status.idle": "2021-05-31T04:18:37.713294Z",
          "shell.execute_reply.started": "2021-05-31T04:18:37.555049Z",
          "shell.execute_reply": "2021-05-31T04:18:37.712297Z"
        },
        "trusted": true,
        "id": "7LpglizJsUnG"
      },
      "source": [
        "# ot = df\n",
        "# ot['total_generation(W)'] = ot['total_generation']*1000000\n",
        "# ot.to_csv(Region+'.csv',index=False, header=True)\n",
        "# ot.to_csv(Region+'_genunix.csv', columns=['Timestamp (Unix)','total_generation(W)'], index=False, header=True)"
      ],
      "execution_count": 31,
      "outputs": []
    },
    {
      "cell_type": "markdown",
      "metadata": {
        "id": "nqn-VgYAsUnG"
      },
      "source": [
        "Output date wise"
      ]
    },
    {
      "cell_type": "code",
      "metadata": {
        "execution": {
          "iopub.status.busy": "2021-05-31T04:18:37.715636Z",
          "iopub.execute_input": "2021-05-31T04:18:37.715935Z",
          "iopub.status.idle": "2021-05-31T04:18:37.899051Z",
          "shell.execute_reply.started": "2021-05-31T04:18:37.715907Z",
          "shell.execute_reply": "2021-05-31T04:18:37.898108Z"
        },
        "trusted": true,
        "id": "zFPMQZsbsUnG"
      },
      "source": [
        "# for d in dates:\n",
        "#     print(d)\n",
        "#     # all the hours in day\n",
        "#     ot2 = df[df['DATE']==d]\n",
        "#     ot2.to_csv(Region+\"_\"+str(d)+'.csv',index=False, header=True)\n",
        "#     ot2.to_csv(Region+'_genunix_'+str(d)+'.csv', columns=['Timestamp (Unix)','total_generation(W)'],index=False, header=True)"
      ],
      "execution_count": 32,
      "outputs": []
    },
    {
      "cell_type": "markdown",
      "metadata": {
        "id": "InAZxDi-sUnH"
      },
      "source": [
        "<a id=\"section-four\"></a>\n",
        "# 4.  Daily graphs"
      ]
    },
    {
      "cell_type": "code",
      "metadata": {
        "colab": {
          "base_uri": "https://localhost:8080/",
          "height": 674
        },
        "id": "R84g1-JWVmxd",
        "outputId": "ae9143df-0ac6-4b28-eae8-80505f472820"
      },
      "source": [
        "fig, axs = plt.subplots(nrows=3, ncols=2)\n",
        "fig.set_size_inches(20, 10)\n",
        "fig.subplots_adjust(wspace=0.2)\n",
        "fig.subplots_adjust(hspace=0.5)\n",
        "\n",
        "fig = plt.figure()\n",
        "\n",
        "for pp,ax in zip(dates, axs.flatten()):\n",
        "\n",
        "  df2[df2['DATE']==pp].plot.bar(  x=\"TIME\", y=[\"total_generation\"], ax = ax, color=\"Green\")\n",
        "  df[df['DATE']==pp].plot.bar( x=\"TIME\", y=[\"total_generation\"], ax = ax, color=\"Blue\")\n",
        "  \n",
        "  # for frame in [ df,df2]:\n",
        "  #   sub_df = frame[frame['DATE']==pp]\n",
        "  #   ax.plot(sub_df['total_generation'])\n",
        "\n",
        "  ax.set_title(\"Total generation in \"+ Region + \" on \"+ pp.strftime('%d %B, %Y'))\n",
        "  ax.set_ylabel(\"generation(Mw)\")\n",
        "  ax.set_xlabel(\"minutes passed\")\n",
        "  ax.set_ylim(bottom = 0,top=39000)\n",
        "\n",
        "    # plt.xlim(0,18000)\n",
        "    # plt.ylim(0,30)\n",
        "    # plt.show()"
      ],
      "execution_count": 35,
      "outputs": [
        {
          "output_type": "display_data",
          "data": {
            "image/png": "[encoded data removed]",
            "text/plain": [
              "<Figure size 1440x720 with 6 Axes>"
            ]
          },
          "metadata": {
            "tags": [],
            "needs_background": "light"
          }
        },
        {
          "output_type": "display_data",
          "data": {
            "text/plain": [
              "<Figure size 432x288 with 0 Axes>"
            ]
          },
          "metadata": {
            "tags": []
          }
        }
      ]
    },
    {
      "cell_type": "code",
      "metadata": {
        "id": "jRgIKw-YPDNN"
      },
      "source": [
        "fig, axs = plt.subplots(nrows=3, ncols=2)\n",
        "fig.set_size_inches(20, 10)\n",
        "fig.subplots_adjust(wspace=0.2)\n",
        "fig.subplots_adjust(hspace=0.5)\n",
        "\n",
        "fig = plt.figure()\n",
        "\n",
        "for pp,ax in zip(dates, axs.flatten()):\n",
        "\n",
        "  df[df['DATE']==pp].plot(x='TIME', y=[\"total_generation\"], ax = ax, color=\"Blue\")\n",
        "  df_backwards[df_backwards['DATE']==pp].plot(x='TIME', y=[\"total_generation\"], ax = ax, color=\"Brown\")\n",
        "  # for frame in [ df,df2]:\n",
        "  #   sub_df = frame[frame['DATE']==pp]\n",
        "  #   ax.plot(sub_df['total_generation'])\n",
        " \n",
        "  mean_gen = round(sub_df[\"total_generation\"].mean())\n",
        "  max_gen = sub_df[\"total_generation\"].max()\n",
        "  maxh = sub_df.loc[sub_df[\"total_generation\"]== max_gen]\n",
        "  maxh = maxh[\"HOURS\"]\n",
        "  ax.axhline(y=mean_gen, xmin=-1, xmax=1, color='r', linestyle='--', lw=2)\n",
        "  ax.text(5,mean_gen+1000, \"Mean \" + str(mean_gen) + \"(MWh)\" )\n",
        "\n",
        "  ax.set_title(\"Total generation in \"+ Region + \" on \"+ pp.strftime('%d %B, %Y'))\n",
        "  ax.set_ylabel(\"generation(Mw)\")\n",
        "  ax.set_xlabel(\"minutes passed\")\n",
        "  ax.set_ylim(bottom = 0,top=39000)"
      ],
      "execution_count": null,
      "outputs": []
    },
    {
      "cell_type": "code",
      "metadata": {
        "id": "bsnrstydRdcR"
      },
      "source": [
        "df_backwards.head(15)"
      ],
      "execution_count": null,
      "outputs": []
    },
    {
      "cell_type": "code",
      "metadata": {
        "execution": {
          "iopub.status.busy": "2021-05-31T04:18:37.900610Z",
          "iopub.execute_input": "2021-05-31T04:18:37.900893Z",
          "iopub.status.idle": "2021-05-31T04:18:37.905463Z",
          "shell.execute_reply.started": "2021-05-31T04:18:37.900868Z",
          "shell.execute_reply": "2021-05-31T04:18:37.904307Z"
        },
        "trusted": true,
        "id": "PTcTNbzWsUnH"
      },
      "source": [
        "# chats of all days in series \n",
        "\n",
        "# for pp in df_nw['DATE'].unique():\n",
        "# #     print(df_nw[pp])\n",
        "#     print(pp)\n",
        "#     sub_df=df_nw[df_nw['DATE']==pp]\n",
        "#     ax = sub_df.plot(x='HOURS', y=[\"total_generation\"], title = \"Total generation in \"+ Region + \" on \"+ pp.strftime('%B %d, %Y'))\n",
        "#     ax.axhline(y=sub_df[\"total_generation\"].mean(), xmin=-1, xmax=1, color='r', linestyle='--', lw=2)"
      ],
      "execution_count": null,
      "outputs": []
    },
    {
      "cell_type": "code",
      "metadata": {
        "execution": {
          "iopub.status.busy": "2021-05-31T04:18:37.907073Z",
          "iopub.execute_input": "2021-05-31T04:18:37.907391Z",
          "iopub.status.idle": "2021-05-31T04:18:38.662392Z",
          "shell.execute_reply.started": "2021-05-31T04:18:37.907364Z",
          "shell.execute_reply": "2021-05-31T04:18:38.661402Z"
        },
        "trusted": true,
        "id": "2MM73ztnsUnH"
      },
      "source": [
        "fig, axs = plt.subplots(nrows=3, ncols=2)\n",
        "fig.set_size_inches(20, 10)\n",
        "fig.subplots_adjust(wspace=0.2)\n",
        "fig.subplots_adjust(hspace=0.5)\n",
        "\n",
        "for pp,ax in zip(dates,axs.flatten()):\n",
        "#     print(df_nw[pp])\n",
        "    print(pp)\n",
        "    sub_df=df[df['DATE']==pp]\n",
        "    sub_df.plot(x='HOURS', y=[\"total_generation\"],ax = ax, title = \"Total generation in \"+ Region + \" on \"+ pp.strftime('%B %d, %Y'))\n",
        "    \n",
        "    ax.set_ylabel(\"generation(Mw)\")\n",
        "    \n",
        "    mean_gen = round(sub_df[\"total_generation\"].mean())\n",
        "    max_gen = sub_df[\"total_generation\"].max()\n",
        "    maxh = sub_df.loc[sub_df[\"total_generation\"]== max_gen]\n",
        "    maxh = maxh[\"HOURS\"]\n",
        "    ax.axhline(y=mean_gen, xmin=-1, xmax=1, color='r', linestyle='--', lw=2)\n",
        "    \n",
        "    ax.text(5,mean_gen+1000, \"Mean \" + str(mean_gen) + \"(MWh)\" )\n",
        "    \n",
        "    ax.get_legend().remove()\n",
        "    \n",
        "#     ax.annotate('Peak '+ str(max_gen)+ \"(MWh)\", xy=(maxh,max_gen), xytext=(maxh+1, max_gen+1000),\n",
        "#              arrowprops=dict(arrowstyle='-|>') ,ha='left', rotation=0)\n",
        "    \n",
        "    ax.set_ylim(bottom = 0,top=37000)\n",
        "\n",
        "# ax.axhline(y=df_nw[\"total_generation\"].median(), xmin=-1, xmax=1, color='g', linestyle='--', lw=2)"
      ],
      "execution_count": null,
      "outputs": []
    },
    {
      "cell_type": "code",
      "metadata": {
        "id": "bCqH9Q56M7Ij"
      },
      "source": [
        ""
      ],
      "execution_count": null,
      "outputs": []
    },
    {
      "cell_type": "markdown",
      "metadata": {
        "id": "FJsZs6DRsUnI"
      },
      "source": [
        "## Daily chart for the week "
      ]
    },
    {
      "cell_type": "code",
      "metadata": {
        "execution": {
          "iopub.status.busy": "2021-05-31T04:25:06.815134Z",
          "iopub.execute_input": "2021-05-31T04:25:06.815683Z",
          "iopub.status.idle": "2021-05-31T04:25:08.454636Z",
          "shell.execute_reply.started": "2021-05-31T04:25:06.815638Z",
          "shell.execute_reply": "2021-05-31T04:25:08.453486Z"
        },
        "trusted": true,
        "id": "9DY_f-W2sUnI"
      },
      "source": [
        "fig, axs = plt.subplots(nrows=3, ncols=2)\n",
        "fig.set_size_inches(20, 10)\n",
        "fig.subplots_adjust(wspace=0.2)\n",
        "fig.subplots_adjust(hspace=0.5)\n",
        "\n",
        "fig.legend(column_list)\n",
        "\n",
        "    \n",
        "for pp,ax in zip(dates,axs.flatten()):\n",
        "#     print(df_nw[pp])\n",
        "    print(pp)\n",
        "    sub_df = df[df['DATE']==pp]\n",
        "    sub_df.plot.line(x='MINUTES_PASS', y = column_list[0], ax = ax, title = \"Fuel Mix for generation in \"+ Region + \" on \"+ pp.strftime('%B %d, %Y'),legend=False)\n",
        "    sub_df.plot.line(x='MINUTES_PASS', y = column_list[1], ax = ax,legend=False)\n",
        "    sub_df.plot.line(x='MINUTES_PASS', y = column_list[2], ax = ax,legend=False)    \n",
        "    sub_df.plot.line(x='MINUTES_PASS', y = column_list[3], ax = ax,legend=False)\n",
        "    sub_df.plot.line(x='MINUTES_PASS', y = column_list[4], ax = ax,legend=False)\n",
        "    sub_df.plot.line(x='MINUTES_PASS', y = column_list[5], ax = ax,legend=False)\n",
        "    sub_df.plot.line(x='MINUTES_PASS', y = column_list[6], ax = ax,legend=False)\n",
        "    sub_df.plot.line(x='MINUTES_PASS', y = column_list[7], ax = ax,legend=False)\n",
        "    sub_df.plot.line(x='MINUTES_PASS', y =['total_generation'], ax = ax,legend=False)\n",
        "    \n",
        "    ax.set_ylabel(\"generation(Mw)\")\n",
        "    \n",
        "    mean_gen = round(sub_df[\"total_generation\"].mean())\n",
        "    max_gen = sub_df[\"total_generation\"].max()\n",
        "    maxh = sub_df.loc[sub_df[\"total_generation\"]== max_gen]\n",
        "    maxh = maxh[\"MINUTES_PASS\"]\n",
        "    ax.axhline(y=mean_gen, xmin=-1, xmax=1, color='r', linestyle='--', lw=2)\n",
        "    \n",
        "    ax.text(5,mean_gen+1000, \"Mean \" + str(mean_gen) + \"(MW)\" )\n",
        "\n",
        "#     ax.get_legend().remove()\n",
        "    \n",
        "#     ax.annotate('Peak '+ str(max_gen)+ \"(MWh)\", xy=(maxh,max_gen), xytext=(maxh+1, max_gen+1000),\n",
        "#              arrowprops=dict(arrowstyle='-|>') ,ha='left', rotation=0)\n",
        "    \n",
        "    ax.set_ylim(bottom = 0,top=39000)\n",
        "    \n",
        "ax.legend(loc='center left', bbox_to_anchor=(1.0, 0.5))"
      ],
      "execution_count": null,
      "outputs": []
    },
    {
      "cell_type": "code",
      "metadata": {
        "execution": {
          "iopub.status.busy": "2021-05-31T04:18:40.028403Z",
          "iopub.execute_input": "2021-05-31T04:18:40.028846Z",
          "iopub.status.idle": "2021-05-31T04:18:40.034085Z",
          "shell.execute_reply.started": "2021-05-31T04:18:40.028799Z",
          "shell.execute_reply": "2021-05-31T04:18:40.032868Z"
        },
        "trusted": true,
        "id": "rt32s4uesUnJ"
      },
      "source": [
        "# # Line Chart ( Trend during the day)\n",
        "# plt = df.plot.line(x='HOURS',\n",
        "#                     y = column_list,\n",
        "#                     title = \"Generation in \"+ Region + \" on \"+ Date)\n",
        "# plt.legend(loc='center left', bbox_to_anchor=(1.0, 0.5))"
      ],
      "execution_count": null,
      "outputs": []
    },
    {
      "cell_type": "code",
      "metadata": {
        "execution": {
          "iopub.status.busy": "2021-05-31T04:18:40.035259Z",
          "iopub.execute_input": "2021-05-31T04:18:40.035554Z",
          "iopub.status.idle": "2021-05-31T04:18:40.053470Z",
          "shell.execute_reply.started": "2021-05-31T04:18:40.035500Z",
          "shell.execute_reply": "2021-05-31T04:18:40.052452Z"
        },
        "trusted": true,
        "id": "ZSFHpE2ysUnJ"
      },
      "source": [
        "# usage in one day \n",
        "# df_nw.plot(x='HOURS',  kind='hist')\n",
        "\n",
        "# df_nw.plot(x='HOURS', y=[\"Wind Generation (MWh)\",\"Solar Generation (MWh)\",\"Hydro Generation (MWh)\",\"Other Generation (MWh)\", \n",
        "#                         \"Petroleum Generation (MWh)\", \"Natural gas Generation (MWh)\",\"Coal Generation (MWh)\",\"Nuclear Generation (MWh)\"], kind='hist')"
      ],
      "execution_count": null,
      "outputs": []
    },
    {
      "cell_type": "markdown",
      "metadata": {
        "id": "wzEkYyxUsUnJ"
      },
      "source": [
        "## Peak Hour"
      ]
    },
    {
      "cell_type": "code",
      "metadata": {
        "execution": {
          "iopub.status.busy": "2021-05-31T04:18:40.054412Z",
          "iopub.execute_input": "2021-05-31T04:18:40.054706Z",
          "iopub.status.idle": "2021-05-31T04:18:40.080166Z",
          "shell.execute_reply.started": "2021-05-31T04:18:40.054677Z",
          "shell.execute_reply": "2021-05-31T04:18:40.079247Z"
        },
        "trusted": true,
        "id": "xjfBq1sJsUnJ"
      },
      "source": [
        "## Peak Min\n",
        "peakmin = df[df[\"total_generation\"] == df[\"total_generation\"].max()]\n",
        "peakmin = peakmin.reset_index(drop=True)\n",
        "peakmin"
      ],
      "execution_count": null,
      "outputs": []
    },
    {
      "cell_type": "code",
      "metadata": {
        "execution": {
          "iopub.status.busy": "2021-05-31T04:18:40.081402Z",
          "iopub.execute_input": "2021-05-31T04:18:40.081696Z",
          "iopub.status.idle": "2021-05-31T04:18:40.137595Z",
          "shell.execute_reply.started": "2021-05-31T04:18:40.081669Z",
          "shell.execute_reply": "2021-05-31T04:18:40.136242Z"
        },
        "trusted": true,
        "id": "kC3mM2E8sUnJ"
      },
      "source": [
        "## Peak Hour\n",
        "# df_nw= df_nw[df_nw[\"DATE\"].astype(str) == Date]\n",
        "peakhour = df[(df['HOURS'].values==peakmin.HOURS.values) & (df[\"DATE\"].values==peakmin.DATE.values) ]\n",
        "peakhour"
      ],
      "execution_count": null,
      "outputs": []
    },
    {
      "cell_type": "code",
      "metadata": {
        "execution": {
          "iopub.status.busy": "2021-05-31T04:18:40.139144Z",
          "iopub.execute_input": "2021-05-31T04:18:40.139439Z",
          "iopub.status.idle": "2021-05-31T04:18:40.149293Z",
          "shell.execute_reply.started": "2021-05-31T04:18:40.139411Z",
          "shell.execute_reply": "2021-05-31T04:18:40.148329Z"
        },
        "trusted": true,
        "id": "3buCSjYBsUnK"
      },
      "source": [
        "## Average generation \n",
        "average = peakhour[\"total_generation\"].mean()\n",
        "average"
      ],
      "execution_count": null,
      "outputs": []
    },
    {
      "cell_type": "code",
      "metadata": {
        "execution": {
          "iopub.status.busy": "2021-05-31T04:18:40.150429Z",
          "iopub.execute_input": "2021-05-31T04:18:40.150828Z",
          "iopub.status.idle": "2021-05-31T04:18:40.340747Z",
          "shell.execute_reply.started": "2021-05-31T04:18:40.150787Z",
          "shell.execute_reply": "2021-05-31T04:18:40.339604Z"
        },
        "trusted": true,
        "id": "PRBsQkRzsUnK"
      },
      "source": [
        "peakhour.plot(y = ['Wind', 'Solar', 'Hydro', 'Other', 'Oil', 'NaturalGas', 'Coal'])\n",
        "ax.hlines(23, -.5,.5, linestyles='dashed')\n",
        "ax.annotate('average',(-0.4, average))"
      ],
      "execution_count": null,
      "outputs": []
    },
    {
      "cell_type": "markdown",
      "metadata": {
        "id": "d8uj2qYpsUnK"
      },
      "source": [
        "pick value in order off release fromm peakhour"
      ]
    },
    {
      "cell_type": "code",
      "metadata": {
        "execution": {
          "iopub.status.busy": "2021-05-31T04:18:40.342028Z",
          "iopub.execute_input": "2021-05-31T04:18:40.342303Z",
          "iopub.status.idle": "2021-05-31T04:18:40.355972Z",
          "shell.execute_reply.started": "2021-05-31T04:18:40.342277Z",
          "shell.execute_reply": "2021-05-31T04:18:40.354860Z"
        },
        "trusted": true,
        "id": "dVeJgvxOsUnK"
      },
      "source": [
        "# peakhour =  peakhour.iloc[: , column_list].copy()  \n",
        "peakt= peakmin[['Wind', 'Solar', 'Hydro', 'Other', 'Oil', 'NaturalGas', 'Coal', 'Nuclear']].transpose()\n",
        "\n",
        "# # peakhourt=peakhour2.reindex([\"Nuclear Generation (MW)\", \"Wind Generation (MW)\", \"Solar Generation (MW)\",\"Hydro Generation (MW)\" ,  \n",
        "# #                          \"Coal Generation (MW)\", \"Natural gas Generation (MW)\",\"Petroleum Generation (MW)\",\"Other Generation (MW)\"])\n",
        "\n",
        "for col in peakt.columns:\n",
        "    peakt = peakt.rename(columns={col:'generation'})\n",
        "    \n",
        "peakt"
      ],
      "execution_count": null,
      "outputs": []
    },
    {
      "cell_type": "code",
      "metadata": {
        "execution": {
          "iopub.status.busy": "2021-05-31T04:18:40.357470Z",
          "iopub.execute_input": "2021-05-31T04:18:40.357797Z",
          "iopub.status.idle": "2021-05-31T04:18:40.374637Z",
          "shell.execute_reply.started": "2021-05-31T04:18:40.357768Z",
          "shell.execute_reply": "2021-05-31T04:18:40.373657Z"
        },
        "trusted": true,
        "id": "_rz-42JysUnL"
      },
      "source": [
        "# pie chart Percentage for Contribution by fuel during peak hour\n",
        "peakt[\"percent\"] = (peakt['generation'] / peakt['generation'].sum()) * 100\n",
        "peakt[\"percent\"] = peakt[\"percent\"].round(1)\n",
        "\n",
        "# peakt = peakt.mask(peakhour2< 0, 0)\n",
        "peakt"
      ],
      "execution_count": null,
      "outputs": []
    },
    {
      "cell_type": "code",
      "metadata": {
        "execution": {
          "iopub.status.busy": "2021-05-31T04:18:40.376041Z",
          "iopub.execute_input": "2021-05-31T04:18:40.376312Z",
          "iopub.status.idle": "2021-05-31T04:18:40.523840Z",
          "shell.execute_reply.started": "2021-05-31T04:18:40.376285Z",
          "shell.execute_reply": "2021-05-31T04:18:40.522865Z"
        },
        "trusted": true,
        "id": "fqOM70ApsUnL"
      },
      "source": [
        "peakt[\"generation\"].plot.bar(stacked=True)"
      ],
      "execution_count": null,
      "outputs": []
    },
    {
      "cell_type": "code",
      "metadata": {
        "execution": {
          "iopub.status.busy": "2021-05-31T04:18:40.524945Z",
          "iopub.execute_input": "2021-05-31T04:18:40.525182Z",
          "iopub.status.idle": "2021-05-31T04:18:40.629403Z",
          "shell.execute_reply.started": "2021-05-31T04:18:40.525159Z",
          "shell.execute_reply": "2021-05-31T04:18:40.628267Z"
        },
        "trusted": true,
        "id": "Vgb0eRVSsUnL"
      },
      "source": [
        "pie_peakhour= peakt.plot.pie(y='percent',title=\"Fuel Mix in \"+ Region + \" on \"+ str(peakmin.DATE.values[0])+\" \"+str(peakmin.Timestamp.values[0]) , figsize=(5, 5))\n",
        "pie_peakhour.legend(bbox_to_anchor=(1,1), loc=\"centre right\")"
      ],
      "execution_count": null,
      "outputs": []
    },
    {
      "cell_type": "code",
      "metadata": {
        "execution": {
          "iopub.status.busy": "2021-05-31T04:18:40.630986Z",
          "iopub.execute_input": "2021-05-31T04:18:40.631360Z",
          "iopub.status.idle": "2021-05-31T04:18:40.637039Z",
          "shell.execute_reply.started": "2021-05-31T04:18:40.631318Z",
          "shell.execute_reply": "2021-05-31T04:18:40.636056Z"
        },
        "trusted": true,
        "id": "P2PGjcZtsUnL"
      },
      "source": [
        "peakt = peakt.drop(columns='percent')"
      ],
      "execution_count": null,
      "outputs": []
    },
    {
      "cell_type": "code",
      "metadata": {
        "execution": {
          "iopub.status.busy": "2021-05-31T04:18:40.638458Z",
          "iopub.execute_input": "2021-05-31T04:18:40.639001Z",
          "iopub.status.idle": "2021-05-31T04:18:40.648972Z",
          "shell.execute_reply.started": "2021-05-31T04:18:40.638958Z",
          "shell.execute_reply": "2021-05-31T04:18:40.647804Z"
        },
        "trusted": true,
        "id": "kudPn8JDsUnM"
      },
      "source": [
        "# Cummulative_generation\n",
        "# peakt['Cummulative_generation']  = peakt[\"generation\"].cumsum()\n",
        "# peakt"
      ],
      "execution_count": null,
      "outputs": []
    },
    {
      "cell_type": "code",
      "metadata": {
        "execution": {
          "iopub.status.busy": "2021-05-31T04:18:40.650421Z",
          "iopub.execute_input": "2021-05-31T04:18:40.650811Z",
          "iopub.status.idle": "2021-05-31T04:18:40.662347Z",
          "shell.execute_reply.started": "2021-05-31T04:18:40.650783Z",
          "shell.execute_reply": "2021-05-31T04:18:40.661360Z"
        },
        "trusted": true,
        "id": "r49XSiybsUnM"
      },
      "source": [
        "# peakt.plot(x=\"Cummulative_generation\")"
      ],
      "execution_count": null,
      "outputs": []
    },
    {
      "cell_type": "code",
      "metadata": {
        "execution": {
          "iopub.status.busy": "2021-05-31T04:18:40.663378Z",
          "iopub.execute_input": "2021-05-31T04:18:40.663755Z",
          "iopub.status.idle": "2021-05-31T04:18:40.673509Z",
          "shell.execute_reply.started": "2021-05-31T04:18:40.663728Z",
          "shell.execute_reply": "2021-05-31T04:18:40.672732Z"
        },
        "trusted": true,
        "id": "FsC1W_YGsUnM"
      },
      "source": [
        "# draw graph for cummultaive consumption \n",
        "# peakhour2.plot(\"Cummulative_consumption\")\n",
        "\n",
        "# peakhour2.plot.bar(peakhour2[\"Cummulative_consumption\"], drawstyle='steps')\n",
        "# peakhour2.reset_index().plot.line(peakhour2[\"Cummulative_consumption\"], peakhour2.index, drawstyle='steps')"
      ],
      "execution_count": null,
      "outputs": []
    }
  ]
}