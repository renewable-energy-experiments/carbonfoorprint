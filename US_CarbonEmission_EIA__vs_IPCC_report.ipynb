{
  "nbformat": 4,
  "nbformat_minor": 0,
  "metadata": {
    "colab": {
      "name": "US_CarbonEmission_EIA_ vs_IPCC_report.ipynb",
      "provenance": [],
      "include_colab_link": true
    },
    "kernelspec": {
      "name": "python3",
      "display_name": "Python 3"
    },
    "language_info": {
      "name": "python"
    }
  },
  "cells": [
    {
      "cell_type": "markdown",
      "metadata": {
        "id": "view-in-github",
        "colab_type": "text"
      },
      "source": [
        "<a href=\"https://colab.research.google.com/github/renewable-energy-experiments/carbonfoorprint/blob/master/US_CarbonEmission_EIA__vs_IPCC_report.ipynb\" target=\"_parent\"><img src=\"https://colab.research.google.com/assets/colab-badge.svg\" alt=\"Open In Colab\"/></a>"
      ]
    },
    {
      "cell_type": "markdown",
      "metadata": {
        "id": "Qoy7C-2K_VdY"
      },
      "source": [
        "<h1><center> US electricity generation by energy source ( price , co2 emission by grids)<center><h1> \n",
        "  High granularity Power generation CA ISO ( California) "
      ]
    },
    {
      "cell_type": "markdown",
      "metadata": {
        "id": "UAG4GYl1_d3H"
      },
      "source": [
        "# Table of Contents\n",
        "* [1. DataSet Description](#section-one)\n",
        "* [2. Plot Generation graph](#section-two)\n",
        "* [3. Plot Carbon Emission graph ( only fossil fuels)  ](#section-three)\n",
        "* [4. Plot Carbon Emission graph ( Renwables Lifecycle emission included) ](#section-four)"
      ]
    },
    {
      "cell_type": "code",
      "metadata": {
        "id": "Itm_n0uPOTZD"
      },
      "source": [
        "import os\n",
        "import pandas as pd\n",
        "import numpy as np\n",
        "import datetime\n",
        "import seaborn as sns\n",
        "import matplotlib.pyplot as plt\n",
        "%matplotlib inline\n",
        "import plotly.express as px\n",
        "import plotly.graph_objects as go\n",
        "import matplotlib.dates as mdates \n",
        "xformatter = mdates.DateFormatter('%H:%M') # for time axis plots\n",
        "\n",
        "# import plotly.offline as py\n",
        "# py.init_notebook_mode(connected=True)\n",
        "\n",
        "import sklearn\n",
        "from scipy.optimize import curve_fit\n",
        "\n",
        "import warnings\n",
        "warnings.filterwarnings('ignore')"
      ],
      "execution_count": 2,
      "outputs": []
    },
    {
      "cell_type": "markdown",
      "metadata": {
        "id": "mQ89WJCF_hwp"
      },
      "source": [
        "<a id=\"section-one\"></a>\n",
        "# 1. DataSet Description\n",
        "\n",
        "1. Dataset is weekly reports from EIA for WAshington 2018.\n",
        "\n",
        "\n",
        "2. Non renewable ignoring Carbon emission from EIA \n",
        "https://www.eia.gov/environment/emissions/state/ \n",
        "Energy-Related CO2 Emission Data Tables , Table 3.2018 State energy-related carbon dioxide emissions by fuel\n",
        "\n",
        "3. Carbon ifecycle emission including non renewables from IPCC\n",
        "https://www.ipcc.ch/site/assets/uploads/2018/02/ipcc_wg3_ar5_annex-iii.pdf#page=7\n",
        "Table A.III.2 | Emissions of selected electricity supply technologies (gCO2eq/kWh)i , page 1335 \n"
      ]
    },
    {
      "cell_type": "code",
      "metadata": {
        "colab": {
          "base_uri": "https://localhost:8080/",
          "height": 238
        },
        "id": "Gx95-URU_bcn",
        "outputId": "6bdee9fa-fed9-44ad-d393-00a2b2c46ac8"
      },
      "source": [
        "# Import generation  data \n",
        "df = pd.read_csv(\"/content/NW_energy_by_source_july_1st_week_2018.csv.csv\")\n",
        "df.head()"
      ],
      "execution_count": 6,
      "outputs": [
        {
          "output_type": "execute_result",
          "data": {
            "text/html": [
              "<div>\n",
              "<style scoped>\n",
              "    .dataframe tbody tr th:only-of-type {\n",
              "        vertical-align: middle;\n",
              "    }\n",
              "\n",
              "    .dataframe tbody tr th {\n",
              "        vertical-align: top;\n",
              "    }\n",
              "\n",
              "    .dataframe thead th {\n",
              "        text-align: right;\n",
              "    }\n",
              "</style>\n",
              "<table border=\"1\" class=\"dataframe\">\n",
              "  <thead>\n",
              "    <tr style=\"text-align: right;\">\n",
              "      <th></th>\n",
              "      <th>Region Code</th>\n",
              "      <th>Timestamp (Hour Ending)</th>\n",
              "      <th>Wind Generation (MWh)</th>\n",
              "      <th>Solar Generation (MWh)</th>\n",
              "      <th>Hydro Generation (MWh)</th>\n",
              "      <th>Other Generation (MWh)</th>\n",
              "      <th>Petroleum Generation (MWh)</th>\n",
              "      <th>Natural gas Generation (MWh)</th>\n",
              "      <th>Coal Generation (MWh)</th>\n",
              "      <th>Nuclear Generation (MWh)</th>\n",
              "    </tr>\n",
              "  </thead>\n",
              "  <tbody>\n",
              "    <tr>\n",
              "      <th>0</th>\n",
              "      <td>NW</td>\n",
              "      <td>7/1/2018 1 a.m. MDT</td>\n",
              "      <td>1391</td>\n",
              "      <td>-1</td>\n",
              "      <td>864</td>\n",
              "      <td>47</td>\n",
              "      <td>59</td>\n",
              "      <td>1925</td>\n",
              "      <td>5839</td>\n",
              "      <td>NaN</td>\n",
              "    </tr>\n",
              "    <tr>\n",
              "      <th>1</th>\n",
              "      <td>NW</td>\n",
              "      <td>7/1/2018 2 a.m. MDT</td>\n",
              "      <td>4651</td>\n",
              "      <td>-1</td>\n",
              "      <td>16111</td>\n",
              "      <td>734</td>\n",
              "      <td>60</td>\n",
              "      <td>6222</td>\n",
              "      <td>8689</td>\n",
              "      <td>1146.0</td>\n",
              "    </tr>\n",
              "    <tr>\n",
              "      <th>2</th>\n",
              "      <td>NW</td>\n",
              "      <td>7/1/2018 3 a.m. MDT</td>\n",
              "      <td>4139</td>\n",
              "      <td>0</td>\n",
              "      <td>15155</td>\n",
              "      <td>748</td>\n",
              "      <td>59</td>\n",
              "      <td>6055</td>\n",
              "      <td>8655</td>\n",
              "      <td>1148.0</td>\n",
              "    </tr>\n",
              "    <tr>\n",
              "      <th>3</th>\n",
              "      <td>NW</td>\n",
              "      <td>7/1/2018 4 a.m. MDT</td>\n",
              "      <td>3562</td>\n",
              "      <td>0</td>\n",
              "      <td>15037</td>\n",
              "      <td>754</td>\n",
              "      <td>59</td>\n",
              "      <td>5798</td>\n",
              "      <td>8508</td>\n",
              "      <td>1150.0</td>\n",
              "    </tr>\n",
              "    <tr>\n",
              "      <th>4</th>\n",
              "      <td>NW</td>\n",
              "      <td>7/1/2018 5 a.m. MDT</td>\n",
              "      <td>3345</td>\n",
              "      <td>0</td>\n",
              "      <td>15064</td>\n",
              "      <td>774</td>\n",
              "      <td>58</td>\n",
              "      <td>5749</td>\n",
              "      <td>8387</td>\n",
              "      <td>1152.0</td>\n",
              "    </tr>\n",
              "  </tbody>\n",
              "</table>\n",
              "</div>"
            ],
            "text/plain": [
              "  Region Code  ... Nuclear Generation (MWh)\n",
              "0          NW  ...                      NaN\n",
              "1          NW  ...                   1146.0\n",
              "2          NW  ...                   1148.0\n",
              "3          NW  ...                   1150.0\n",
              "4          NW  ...                   1152.0\n",
              "\n",
              "[5 rows x 10 columns]"
            ]
          },
          "metadata": {
            "tags": []
          },
          "execution_count": 6
        }
      ]
    },
    {
      "cell_type": "code",
      "metadata": {
        "colab": {
          "base_uri": "https://localhost:8080/",
          "height": 297
        },
        "id": "a-o4PHH0NrRT",
        "outputId": "1c9f1cdf-4e86-48aa-aaa6-47c7c2777950"
      },
      "source": [
        "# Import carbon emission IPCC 2014 data along with carbon foorptint for renewables\n",
        "df_carbon = pd.read_csv(\"/content/US Utility grids - LCOE, Co2 Emissions - Carbon3.csv\")\n",
        "df_carbon"
      ],
      "execution_count": 7,
      "outputs": [
        {
          "output_type": "execute_result",
          "data": {
            "text/html": [
              "<div>\n",
              "<style scoped>\n",
              "    .dataframe tbody tr th:only-of-type {\n",
              "        vertical-align: middle;\n",
              "    }\n",
              "\n",
              "    .dataframe tbody tr th {\n",
              "        vertical-align: top;\n",
              "    }\n",
              "\n",
              "    .dataframe thead th {\n",
              "        text-align: right;\n",
              "    }\n",
              "</style>\n",
              "<table border=\"1\" class=\"dataframe\">\n",
              "  <thead>\n",
              "    <tr style=\"text-align: right;\">\n",
              "      <th></th>\n",
              "      <th>Fuel Type</th>\n",
              "      <th>Lifecycle emissions (gCO2eq/kWh)</th>\n",
              "      <th>Lifecycle emissions (kgCO2eq/MWh)</th>\n",
              "    </tr>\n",
              "  </thead>\n",
              "  <tbody>\n",
              "    <tr>\n",
              "      <th>0</th>\n",
              "      <td>Nuclear</td>\n",
              "      <td>12</td>\n",
              "      <td>12</td>\n",
              "    </tr>\n",
              "    <tr>\n",
              "      <th>1</th>\n",
              "      <td>Hydro</td>\n",
              "      <td>24</td>\n",
              "      <td>24</td>\n",
              "    </tr>\n",
              "    <tr>\n",
              "      <th>2</th>\n",
              "      <td>Wind</td>\n",
              "      <td>12</td>\n",
              "      <td>12</td>\n",
              "    </tr>\n",
              "    <tr>\n",
              "      <th>3</th>\n",
              "      <td>Solar</td>\n",
              "      <td>48</td>\n",
              "      <td>48</td>\n",
              "    </tr>\n",
              "    <tr>\n",
              "      <th>4</th>\n",
              "      <td>NaturalGas</td>\n",
              "      <td>490</td>\n",
              "      <td>490</td>\n",
              "    </tr>\n",
              "    <tr>\n",
              "      <th>5</th>\n",
              "      <td>Oil</td>\n",
              "      <td>490</td>\n",
              "      <td>490</td>\n",
              "    </tr>\n",
              "    <tr>\n",
              "      <th>6</th>\n",
              "      <td>Coal</td>\n",
              "      <td>820</td>\n",
              "      <td>820</td>\n",
              "    </tr>\n",
              "    <tr>\n",
              "      <th>7</th>\n",
              "      <td>Other</td>\n",
              "      <td>24</td>\n",
              "      <td>24</td>\n",
              "    </tr>\n",
              "  </tbody>\n",
              "</table>\n",
              "</div>"
            ],
            "text/plain": [
              "    Fuel Type  ...  Lifecycle emissions (kgCO2eq/MWh)\n",
              "0     Nuclear  ...                                 12\n",
              "1       Hydro  ...                                 24\n",
              "2        Wind  ...                                 12\n",
              "3       Solar  ...                                 48\n",
              "4  NaturalGas  ...                                490\n",
              "5         Oil  ...                                490\n",
              "6        Coal  ...                                820\n",
              "7       Other  ...                                 24\n",
              "\n",
              "[8 rows x 3 columns]"
            ]
          },
          "metadata": {
            "tags": []
          },
          "execution_count": 7
        }
      ]
    },
    {
      "cell_type": "code",
      "metadata": {
        "colab": {
          "base_uri": "https://localhost:8080/",
          "height": 235
        },
        "id": "Y9ZmKIQKeeh6",
        "outputId": "9cec9ba1-b1d7-4abe-da54-634caeb9dfbd"
      },
      "source": [
        "# Import carbon emission EIA 2018 data without carbon foorptint for renewables\n",
        "# df_carbon2 = pd.read_csv(\"/content/table3.csv\")\n",
        "# df_carbon2.head()\n",
        "\n",
        "df_carbon2 = pd.read_excel('/content/table3.xlsx', index_col=0, header =3)\n",
        "# df_carbon2= df_carbon2[2:]\n",
        "df_carbon2.drop(df_carbon2.iloc[:,4:], axis = 1, inplace = True)\n",
        "\n",
        "df_carbon2 = df_carbon2.rename(columns={\"Petroleum\": \"Oil\",\n",
        "                                        \"Natural Gas \": \"NaturalGas\"\n",
        "                       })\n",
        "\n",
        "df_carbon2.head()"
      ],
      "execution_count": 84,
      "outputs": [
        {
          "output_type": "execute_result",
          "data": {
            "text/html": [
              "<div>\n",
              "<style scoped>\n",
              "    .dataframe tbody tr th:only-of-type {\n",
              "        vertical-align: middle;\n",
              "    }\n",
              "\n",
              "    .dataframe tbody tr th {\n",
              "        vertical-align: top;\n",
              "    }\n",
              "\n",
              "    .dataframe thead th {\n",
              "        text-align: right;\n",
              "    }\n",
              "</style>\n",
              "<table border=\"1\" class=\"dataframe\">\n",
              "  <thead>\n",
              "    <tr style=\"text-align: right;\">\n",
              "      <th></th>\n",
              "      <th>Coal</th>\n",
              "      <th>Oil</th>\n",
              "      <th>NaturalGas</th>\n",
              "      <th>Total</th>\n",
              "    </tr>\n",
              "    <tr>\n",
              "      <th>State</th>\n",
              "      <th></th>\n",
              "      <th></th>\n",
              "      <th></th>\n",
              "      <th></th>\n",
              "    </tr>\n",
              "  </thead>\n",
              "  <tbody>\n",
              "    <tr>\n",
              "      <th>Alabama</th>\n",
              "      <td>35.92</td>\n",
              "      <td>36.67</td>\n",
              "      <td>40.90</td>\n",
              "      <td>113.49</td>\n",
              "    </tr>\n",
              "    <tr>\n",
              "      <th>Alaska</th>\n",
              "      <td>1.64</td>\n",
              "      <td>15.19</td>\n",
              "      <td>18.37</td>\n",
              "      <td>35.20</td>\n",
              "    </tr>\n",
              "    <tr>\n",
              "      <th>Arizona</th>\n",
              "      <td>31.66</td>\n",
              "      <td>37.48</td>\n",
              "      <td>21.25</td>\n",
              "      <td>90.39</td>\n",
              "    </tr>\n",
              "    <tr>\n",
              "      <th>Arkansas</th>\n",
              "      <td>29.05</td>\n",
              "      <td>22.95</td>\n",
              "      <td>19.47</td>\n",
              "      <td>71.47</td>\n",
              "    </tr>\n",
              "    <tr>\n",
              "      <th>California</th>\n",
              "      <td>3.15</td>\n",
              "      <td>242.69</td>\n",
              "      <td>117.12</td>\n",
              "      <td>362.96</td>\n",
              "    </tr>\n",
              "  </tbody>\n",
              "</table>\n",
              "</div>"
            ],
            "text/plain": [
              "             Coal     Oil  NaturalGas   Total\n",
              "State                                        \n",
              "Alabama     35.92   36.67       40.90  113.49\n",
              "Alaska       1.64   15.19       18.37   35.20\n",
              "Arizona     31.66   37.48       21.25   90.39\n",
              "Arkansas    29.05   22.95       19.47   71.47\n",
              "California   3.15  242.69      117.12  362.96"
            ]
          },
          "metadata": {
            "tags": []
          },
          "execution_count": 84
        }
      ]
    },
    {
      "cell_type": "code",
      "metadata": {
        "id": "GHY3dYrmOeP6"
      },
      "source": [
        "Region=\"NorthWestern (Washington)\""
      ],
      "execution_count": 14,
      "outputs": []
    },
    {
      "cell_type": "code",
      "metadata": {
        "id": "P_FY2_YI5-SC"
      },
      "source": [
        "column_list_gen = (\"Wind\",\"Solar\",\"Hydro\",\"Nuclear\", \"Other\", \n",
        "                \"NaturalGas\",\"Oil\",\"Coal\",\"total_generation\")"
      ],
      "execution_count": 15,
      "outputs": []
    },
    {
      "cell_type": "code",
      "metadata": {
        "colab": {
          "base_uri": "https://localhost:8080/",
          "height": 204
        },
        "id": "UJwaSM6Khuck",
        "outputId": "b8d60f3e-46ac-4234-de90-143e506479dc"
      },
      "source": [
        "df = df.rename(columns={\"Wind Generation (MWh)\": \"Wind\",\n",
        "                        \"Solar Generation (MWh)\" : \"Solar\",\n",
        "                        \"Hydro Generation (MWh)\": \"Hydro\",\n",
        "                        \"Nuclear Generation (MWh)\": \"Nuclear\",\n",
        "                        \"Other Generation (MWh)\": \"Other\",\n",
        "                        \"Natural gas Generation (MWh)\": \"NaturalGas\",\n",
        "                        \"Petroleum Generation (MWh)\" : \"Oil\",\n",
        "                        \"Coal Generation (MWh)\": \"Coal\"\n",
        "                       })\n",
        "df.head()"
      ],
      "execution_count": 19,
      "outputs": [
        {
          "output_type": "execute_result",
          "data": {
            "text/html": [
              "<div>\n",
              "<style scoped>\n",
              "    .dataframe tbody tr th:only-of-type {\n",
              "        vertical-align: middle;\n",
              "    }\n",
              "\n",
              "    .dataframe tbody tr th {\n",
              "        vertical-align: top;\n",
              "    }\n",
              "\n",
              "    .dataframe thead th {\n",
              "        text-align: right;\n",
              "    }\n",
              "</style>\n",
              "<table border=\"1\" class=\"dataframe\">\n",
              "  <thead>\n",
              "    <tr style=\"text-align: right;\">\n",
              "      <th></th>\n",
              "      <th>Region Code</th>\n",
              "      <th>Timestamp (Hour Ending)</th>\n",
              "      <th>Wind</th>\n",
              "      <th>Solar</th>\n",
              "      <th>Hydro</th>\n",
              "      <th>Other</th>\n",
              "      <th>Oil</th>\n",
              "      <th>NaturalGas</th>\n",
              "      <th>Coal</th>\n",
              "      <th>Nuclear</th>\n",
              "    </tr>\n",
              "  </thead>\n",
              "  <tbody>\n",
              "    <tr>\n",
              "      <th>0</th>\n",
              "      <td>NW</td>\n",
              "      <td>7/1/2018 1 a.m. MDT</td>\n",
              "      <td>1391</td>\n",
              "      <td>-1</td>\n",
              "      <td>864</td>\n",
              "      <td>47</td>\n",
              "      <td>59</td>\n",
              "      <td>1925</td>\n",
              "      <td>5839</td>\n",
              "      <td>NaN</td>\n",
              "    </tr>\n",
              "    <tr>\n",
              "      <th>1</th>\n",
              "      <td>NW</td>\n",
              "      <td>7/1/2018 2 a.m. MDT</td>\n",
              "      <td>4651</td>\n",
              "      <td>-1</td>\n",
              "      <td>16111</td>\n",
              "      <td>734</td>\n",
              "      <td>60</td>\n",
              "      <td>6222</td>\n",
              "      <td>8689</td>\n",
              "      <td>1146.0</td>\n",
              "    </tr>\n",
              "    <tr>\n",
              "      <th>2</th>\n",
              "      <td>NW</td>\n",
              "      <td>7/1/2018 3 a.m. MDT</td>\n",
              "      <td>4139</td>\n",
              "      <td>0</td>\n",
              "      <td>15155</td>\n",
              "      <td>748</td>\n",
              "      <td>59</td>\n",
              "      <td>6055</td>\n",
              "      <td>8655</td>\n",
              "      <td>1148.0</td>\n",
              "    </tr>\n",
              "    <tr>\n",
              "      <th>3</th>\n",
              "      <td>NW</td>\n",
              "      <td>7/1/2018 4 a.m. MDT</td>\n",
              "      <td>3562</td>\n",
              "      <td>0</td>\n",
              "      <td>15037</td>\n",
              "      <td>754</td>\n",
              "      <td>59</td>\n",
              "      <td>5798</td>\n",
              "      <td>8508</td>\n",
              "      <td>1150.0</td>\n",
              "    </tr>\n",
              "    <tr>\n",
              "      <th>4</th>\n",
              "      <td>NW</td>\n",
              "      <td>7/1/2018 5 a.m. MDT</td>\n",
              "      <td>3345</td>\n",
              "      <td>0</td>\n",
              "      <td>15064</td>\n",
              "      <td>774</td>\n",
              "      <td>58</td>\n",
              "      <td>5749</td>\n",
              "      <td>8387</td>\n",
              "      <td>1152.0</td>\n",
              "    </tr>\n",
              "  </tbody>\n",
              "</table>\n",
              "</div>"
            ],
            "text/plain": [
              "  Region Code Timestamp (Hour Ending)  Wind  ...  NaturalGas  Coal  Nuclear\n",
              "0          NW     7/1/2018 1 a.m. MDT  1391  ...        1925  5839      NaN\n",
              "1          NW     7/1/2018 2 a.m. MDT  4651  ...        6222  8689   1146.0\n",
              "2          NW     7/1/2018 3 a.m. MDT  4139  ...        6055  8655   1148.0\n",
              "3          NW     7/1/2018 4 a.m. MDT  3562  ...        5798  8508   1150.0\n",
              "4          NW     7/1/2018 5 a.m. MDT  3345  ...        5749  8387   1152.0\n",
              "\n",
              "[5 rows x 10 columns]"
            ]
          },
          "metadata": {
            "tags": []
          },
          "execution_count": 19
        }
      ]
    },
    {
      "cell_type": "code",
      "metadata": {
        "colab": {
          "base_uri": "https://localhost:8080/",
          "height": 204
        },
        "id": "ooKqFYmvjMN7",
        "outputId": "4717de94-6ce4-4a8b-8bc8-3b3bbc6f8602"
      },
      "source": [
        "df['Timestamp (Hour Ending)'] = pd.to_datetime(df['Timestamp (Hour Ending)'],format = '%d-%m-%Y %H:%M', errors='ignore')\n",
        "df[\"DATE\"] = pd.to_datetime(df[\"Timestamp (Hour Ending)\"]).dt.date # add new column with date\n",
        "df[\"TIME\"] = pd.to_datetime(df[\"Timestamp (Hour Ending)\"]).dt.time # add new column with time\n",
        "# add hours and minutes for ml models\n",
        "df['HOURS'] = pd.to_datetime(df['TIME'],format='%H:%M:%S').dt.hour\n",
        "\n",
        "df.head()"
      ],
      "execution_count": 28,
      "outputs": [
        {
          "output_type": "execute_result",
          "data": {
            "text/html": [
              "<div>\n",
              "<style scoped>\n",
              "    .dataframe tbody tr th:only-of-type {\n",
              "        vertical-align: middle;\n",
              "    }\n",
              "\n",
              "    .dataframe tbody tr th {\n",
              "        vertical-align: top;\n",
              "    }\n",
              "\n",
              "    .dataframe thead th {\n",
              "        text-align: right;\n",
              "    }\n",
              "</style>\n",
              "<table border=\"1\" class=\"dataframe\">\n",
              "  <thead>\n",
              "    <tr style=\"text-align: right;\">\n",
              "      <th></th>\n",
              "      <th>Region Code</th>\n",
              "      <th>Timestamp (Hour Ending)</th>\n",
              "      <th>Wind</th>\n",
              "      <th>Solar</th>\n",
              "      <th>Hydro</th>\n",
              "      <th>Other</th>\n",
              "      <th>Oil</th>\n",
              "      <th>NaturalGas</th>\n",
              "      <th>Coal</th>\n",
              "      <th>Nuclear</th>\n",
              "      <th>Timestamp</th>\n",
              "      <th>DATE</th>\n",
              "      <th>TIME</th>\n",
              "      <th>HOURS</th>\n",
              "    </tr>\n",
              "  </thead>\n",
              "  <tbody>\n",
              "    <tr>\n",
              "      <th>0</th>\n",
              "      <td>NW</td>\n",
              "      <td>7/1/2018 1 a.m. MDT</td>\n",
              "      <td>1391</td>\n",
              "      <td>-1</td>\n",
              "      <td>864</td>\n",
              "      <td>47</td>\n",
              "      <td>59</td>\n",
              "      <td>1925</td>\n",
              "      <td>5839</td>\n",
              "      <td>NaN</td>\n",
              "      <td>0</td>\n",
              "      <td>2018-07-01</td>\n",
              "      <td>01:00:00</td>\n",
              "      <td>1</td>\n",
              "    </tr>\n",
              "    <tr>\n",
              "      <th>1</th>\n",
              "      <td>NW</td>\n",
              "      <td>7/1/2018 2 a.m. MDT</td>\n",
              "      <td>4651</td>\n",
              "      <td>-1</td>\n",
              "      <td>16111</td>\n",
              "      <td>734</td>\n",
              "      <td>60</td>\n",
              "      <td>6222</td>\n",
              "      <td>8689</td>\n",
              "      <td>1146.0</td>\n",
              "      <td>1</td>\n",
              "      <td>2018-07-01</td>\n",
              "      <td>02:00:00</td>\n",
              "      <td>2</td>\n",
              "    </tr>\n",
              "    <tr>\n",
              "      <th>2</th>\n",
              "      <td>NW</td>\n",
              "      <td>7/1/2018 3 a.m. MDT</td>\n",
              "      <td>4139</td>\n",
              "      <td>0</td>\n",
              "      <td>15155</td>\n",
              "      <td>748</td>\n",
              "      <td>59</td>\n",
              "      <td>6055</td>\n",
              "      <td>8655</td>\n",
              "      <td>1148.0</td>\n",
              "      <td>2</td>\n",
              "      <td>2018-07-01</td>\n",
              "      <td>03:00:00</td>\n",
              "      <td>3</td>\n",
              "    </tr>\n",
              "    <tr>\n",
              "      <th>3</th>\n",
              "      <td>NW</td>\n",
              "      <td>7/1/2018 4 a.m. MDT</td>\n",
              "      <td>3562</td>\n",
              "      <td>0</td>\n",
              "      <td>15037</td>\n",
              "      <td>754</td>\n",
              "      <td>59</td>\n",
              "      <td>5798</td>\n",
              "      <td>8508</td>\n",
              "      <td>1150.0</td>\n",
              "      <td>3</td>\n",
              "      <td>2018-07-01</td>\n",
              "      <td>04:00:00</td>\n",
              "      <td>4</td>\n",
              "    </tr>\n",
              "    <tr>\n",
              "      <th>4</th>\n",
              "      <td>NW</td>\n",
              "      <td>7/1/2018 5 a.m. MDT</td>\n",
              "      <td>3345</td>\n",
              "      <td>0</td>\n",
              "      <td>15064</td>\n",
              "      <td>774</td>\n",
              "      <td>58</td>\n",
              "      <td>5749</td>\n",
              "      <td>8387</td>\n",
              "      <td>1152.0</td>\n",
              "      <td>4</td>\n",
              "      <td>2018-07-01</td>\n",
              "      <td>05:00:00</td>\n",
              "      <td>5</td>\n",
              "    </tr>\n",
              "  </tbody>\n",
              "</table>\n",
              "</div>"
            ],
            "text/plain": [
              "  Region Code Timestamp (Hour Ending)  Wind  ...        DATE      TIME  HOURS\n",
              "0          NW     7/1/2018 1 a.m. MDT  1391  ...  2018-07-01  01:00:00      1\n",
              "1          NW     7/1/2018 2 a.m. MDT  4651  ...  2018-07-01  02:00:00      2\n",
              "2          NW     7/1/2018 3 a.m. MDT  4139  ...  2018-07-01  03:00:00      3\n",
              "3          NW     7/1/2018 4 a.m. MDT  3562  ...  2018-07-01  04:00:00      4\n",
              "4          NW     7/1/2018 5 a.m. MDT  3345  ...  2018-07-01  05:00:00      5\n",
              "\n",
              "[5 rows x 14 columns]"
            ]
          },
          "metadata": {
            "tags": []
          },
          "execution_count": 28
        }
      ]
    },
    {
      "cell_type": "code",
      "metadata": {
        "colab": {
          "base_uri": "https://localhost:8080/",
          "height": 419
        },
        "id": "j-_8b9gXlt1B",
        "outputId": "321ba60d-80db-41d7-a6c8-4ed80d38ef4c"
      },
      "source": [
        "df[\"total_generation\"] = df[\"Wind\"] + df[\"Solar\"] + df[\"Hydro\"] + df[\"Other\"]+ df[\"Oil\"] + df[\"NaturalGas\"] + df[\"Coal\"] + df[\"Nuclear\"]\n",
        "df[[\"TIME\",\"total_generation\"]]"
      ],
      "execution_count": 32,
      "outputs": [
        {
          "output_type": "execute_result",
          "data": {
            "text/html": [
              "<div>\n",
              "<style scoped>\n",
              "    .dataframe tbody tr th:only-of-type {\n",
              "        vertical-align: middle;\n",
              "    }\n",
              "\n",
              "    .dataframe tbody tr th {\n",
              "        vertical-align: top;\n",
              "    }\n",
              "\n",
              "    .dataframe thead th {\n",
              "        text-align: right;\n",
              "    }\n",
              "</style>\n",
              "<table border=\"1\" class=\"dataframe\">\n",
              "  <thead>\n",
              "    <tr style=\"text-align: right;\">\n",
              "      <th></th>\n",
              "      <th>TIME</th>\n",
              "      <th>total_generation</th>\n",
              "    </tr>\n",
              "  </thead>\n",
              "  <tbody>\n",
              "    <tr>\n",
              "      <th>0</th>\n",
              "      <td>01:00:00</td>\n",
              "      <td>NaN</td>\n",
              "    </tr>\n",
              "    <tr>\n",
              "      <th>1</th>\n",
              "      <td>02:00:00</td>\n",
              "      <td>37612.0</td>\n",
              "    </tr>\n",
              "    <tr>\n",
              "      <th>2</th>\n",
              "      <td>03:00:00</td>\n",
              "      <td>35959.0</td>\n",
              "    </tr>\n",
              "    <tr>\n",
              "      <th>3</th>\n",
              "      <td>04:00:00</td>\n",
              "      <td>34868.0</td>\n",
              "    </tr>\n",
              "    <tr>\n",
              "      <th>4</th>\n",
              "      <td>05:00:00</td>\n",
              "      <td>34529.0</td>\n",
              "    </tr>\n",
              "    <tr>\n",
              "      <th>...</th>\n",
              "      <td>...</td>\n",
              "      <td>...</td>\n",
              "    </tr>\n",
              "    <tr>\n",
              "      <th>163</th>\n",
              "      <td>20:00:00</td>\n",
              "      <td>51436.0</td>\n",
              "    </tr>\n",
              "    <tr>\n",
              "      <th>164</th>\n",
              "      <td>21:00:00</td>\n",
              "      <td>50537.0</td>\n",
              "    </tr>\n",
              "    <tr>\n",
              "      <th>165</th>\n",
              "      <td>22:00:00</td>\n",
              "      <td>48267.0</td>\n",
              "    </tr>\n",
              "    <tr>\n",
              "      <th>166</th>\n",
              "      <td>23:00:00</td>\n",
              "      <td>46763.0</td>\n",
              "    </tr>\n",
              "    <tr>\n",
              "      <th>167</th>\n",
              "      <td>00:00:00</td>\n",
              "      <td>43637.0</td>\n",
              "    </tr>\n",
              "  </tbody>\n",
              "</table>\n",
              "<p>168 rows × 2 columns</p>\n",
              "</div>"
            ],
            "text/plain": [
              "         TIME  total_generation\n",
              "0    01:00:00               NaN\n",
              "1    02:00:00           37612.0\n",
              "2    03:00:00           35959.0\n",
              "3    04:00:00           34868.0\n",
              "4    05:00:00           34529.0\n",
              "..        ...               ...\n",
              "163  20:00:00           51436.0\n",
              "164  21:00:00           50537.0\n",
              "165  22:00:00           48267.0\n",
              "166  23:00:00           46763.0\n",
              "167  00:00:00           43637.0\n",
              "\n",
              "[168 rows x 2 columns]"
            ]
          },
          "metadata": {
            "tags": []
          },
          "execution_count": 32
        }
      ]
    },
    {
      "cell_type": "markdown",
      "metadata": {
        "id": "2dOpDaYyjDXz"
      },
      "source": [
        "<a id=\"section-two\"></a>\n",
        "# 2. Plot Generation graph"
      ]
    },
    {
      "cell_type": "code",
      "metadata": {
        "colab": {
          "base_uri": "https://localhost:8080/",
          "height": 368
        },
        "id": "Cak47qzp5rSo",
        "outputId": "c6639edb-79de-4feb-cde8-1b89f81a11ba"
      },
      "source": [
        "fig, ax = plt.subplots()\n",
        "fig.set_size_inches(12, 5)\n",
        "\n",
        "sub_df= df[df['DATE']==datetime.date(2018, 7, 2)]\n",
        "sub_df.plot.line(x='HOURS', y = np.array(column_list_gen), ax = ax, title = \"Fuel Mix for generation in \"+ Region , legend=False)\n",
        "\n",
        "ax.set_ylabel(\"generation(Mw)\")\n",
        "\n",
        "mean_gen = round(sub_df[\"total_generation\"].mean())\n",
        "max_gen = sub_df[\"total_generation\"].max()\n",
        "maxh = sub_df.loc[sub_df[\"total_generation\"]== max_gen]\n",
        "maxh = maxh[\"HOURS\"]\n",
        "ax.axhline(y=mean_gen, xmin=-1, xmax=1, color='r', linestyle='--', lw=2)\n",
        "\n",
        "ax.text(5,mean_gen+1000, \"Mean \" + str(mean_gen) + \"(MW)\" )\n",
        "\n",
        "#     ax.get_legend().remove()\n",
        "\n",
        "ax.annotate('Peak '+ str(max_gen)+ \"(MWh)\", xy=(maxh,max_gen), xytext=(maxh+1, max_gen+1000),\n",
        "          arrowprops=dict(arrowstyle='-|>') ,ha='left', rotation=0)\n",
        "\n",
        "# ax.set_ylim(bottom = 0,top=39000)\n",
        "    \n",
        "ax.legend(loc='center left', bbox_to_anchor=(1.0, 0.5))"
      ],
      "execution_count": 40,
      "outputs": [
        {
          "output_type": "execute_result",
          "data": {
            "text/plain": [
              "<matplotlib.legend.Legend at 0x7f21e18f08d0>"
            ]
          },
          "metadata": {
            "tags": []
          },
          "execution_count": 40
        },
        {
          "output_type": "display_data",
          "data": {
            "image/png": "[encoded data removed]",
            "text/plain": [
              "<Figure size 864x360 with 1 Axes>"
            ]
          },
          "metadata": {
            "tags": [],
            "needs_background": "light"
          }
        }
      ]
    },
    {
      "cell_type": "markdown",
      "metadata": {
        "id": "XEBCfOLKqLZ4"
      },
      "source": [
        "<a id=\"section-three\"></a>\n",
        "# 3. Plot Carbon graphs ( only fossil fuel sources )"
      ]
    },
    {
      "cell_type": "code",
      "metadata": {
        "colab": {
          "base_uri": "https://localhost:8080/",
          "height": 111
        },
        "id": "jg3VnS2GvEXf",
        "outputId": "0c833579-b284-41b2-cb9f-7a9496f0bb68"
      },
      "source": [
        "df_carbon2 = df_carbon2[df_carbon2.index==\"Washington\"]\n",
        "df_carbon2"
      ],
      "execution_count": 147,
      "outputs": [
        {
          "output_type": "execute_result",
          "data": {
            "text/html": [
              "<div>\n",
              "<style scoped>\n",
              "    .dataframe tbody tr th:only-of-type {\n",
              "        vertical-align: middle;\n",
              "    }\n",
              "\n",
              "    .dataframe tbody tr th {\n",
              "        vertical-align: top;\n",
              "    }\n",
              "\n",
              "    .dataframe thead th {\n",
              "        text-align: right;\n",
              "    }\n",
              "</style>\n",
              "<table border=\"1\" class=\"dataframe\">\n",
              "  <thead>\n",
              "    <tr style=\"text-align: right;\">\n",
              "      <th></th>\n",
              "      <th>Coal</th>\n",
              "      <th>Oil</th>\n",
              "      <th>NaturalGas</th>\n",
              "      <th>Total</th>\n",
              "      <th>total_emission</th>\n",
              "    </tr>\n",
              "    <tr>\n",
              "      <th>State</th>\n",
              "      <th></th>\n",
              "      <th></th>\n",
              "      <th></th>\n",
              "      <th></th>\n",
              "      <th></th>\n",
              "    </tr>\n",
              "  </thead>\n",
              "  <tbody>\n",
              "    <tr>\n",
              "      <th>Washington</th>\n",
              "      <td>5.84</td>\n",
              "      <td>55.24</td>\n",
              "      <td>17.76</td>\n",
              "      <td>78.85</td>\n",
              "      <td>78.84</td>\n",
              "    </tr>\n",
              "  </tbody>\n",
              "</table>\n",
              "</div>"
            ],
            "text/plain": [
              "            Coal    Oil  NaturalGas  Total  total_emission\n",
              "State                                                     \n",
              "Washington  5.84  55.24       17.76  78.85           78.84"
            ]
          },
          "metadata": {
            "tags": []
          },
          "execution_count": 147
        }
      ]
    },
    {
      "cell_type": "code",
      "metadata": {
        "colab": {
          "base_uri": "https://localhost:8080/",
          "height": 416
        },
        "id": "tk7vHGbUqYRw",
        "outputId": "cc6cf936-a513-4bb4-d5e0-d87fd0b56bd2"
      },
      "source": [
        "# for col in df[np.array(column_list_gen)].columns:\n",
        "#     # print(df[col])\n",
        "#     print(col)\n",
        "#     for carboncol in df_carbon2.columns:\n",
        "#         # print(carbon)\n",
        "#         if col in carboncol:\n",
        "#             print(\"Match between two tables for \"+col+ \" and \"+ carboncol )\n",
        "#             print(df_carbon2[carboncol][0])\n",
        "#             df['carbon2_'+col] = df[col] * df_carbon2[carboncol][0]\n",
        "            \n",
        "# df.head()\n",
        "\n",
        "import seaborn as sns\n",
        "cmap = sns.color_palette(\"gray_r\", n_colors=4)\n",
        "\n",
        "fig, ax = plt.subplots()\n",
        "fig.set_size_inches(12, 5)\n",
        "\n",
        "df_carbon2.sum().plot.bar(\n",
        "            ax = ax, \n",
        "            color=cmap, \n",
        "            title=\"Total carbon emission annual \")\n",
        "ax.set_ylabel(\"Carbon Emission (million metric tons of carbon dioxide)\")  "
      ],
      "execution_count": 148,
      "outputs": [
        {
          "output_type": "execute_result",
          "data": {
            "text/plain": [
              "Text(0, 0.5, 'Carbon Emission (million metric tons of carbon dioxide)')"
            ]
          },
          "metadata": {
            "tags": []
          },
          "execution_count": 148
        },
        {
          "output_type": "display_data",
          "data": {
            "image/png": "[encoded data removed]",
            "text/plain": [
              "<Figure size 864x360 with 1 Axes>"
            ]
          },
          "metadata": {
            "tags": [],
            "needs_background": "light"
          }
        }
      ]
    },
    {
      "cell_type": "code",
      "metadata": {
        "colab": {
          "base_uri": "https://localhost:8080/",
          "height": 111
        },
        "id": "WqB2nSeoxFHv",
        "outputId": "76749f66-796b-4da1-f89a-7bb50e981b77"
      },
      "source": [
        "# df_carbon2['total_emission']= df_carbon2[\"NaturalGas\"] + df_carbon2[\"Oil\"] + df_carbon2[\"Coal\"]\n",
        "# df_carbon2_avgday = df_carbon2_avgday.drop(['total_emission'], axis = 1)\n",
        "\n",
        "## million metric tons annually to avg day metric tons \n",
        "df_carbon2_avgday = df_carbon2.iloc[: ,: ] * 1000000 /365\n",
        "\n",
        "##  metric tons to kg for daily \n",
        "df_carbon2_avgday = df_carbon2.iloc[: ,: ] * 1000\n",
        "\n",
        "df_carbon2_avgday.head()"
      ],
      "execution_count": 144,
      "outputs": [
        {
          "output_type": "execute_result",
          "data": {
            "text/html": [
              "<div>\n",
              "<style scoped>\n",
              "    .dataframe tbody tr th:only-of-type {\n",
              "        vertical-align: middle;\n",
              "    }\n",
              "\n",
              "    .dataframe tbody tr th {\n",
              "        vertical-align: top;\n",
              "    }\n",
              "\n",
              "    .dataframe thead th {\n",
              "        text-align: right;\n",
              "    }\n",
              "</style>\n",
              "<table border=\"1\" class=\"dataframe\">\n",
              "  <thead>\n",
              "    <tr style=\"text-align: right;\">\n",
              "      <th></th>\n",
              "      <th>Coal</th>\n",
              "      <th>Oil</th>\n",
              "      <th>NaturalGas</th>\n",
              "      <th>Total</th>\n",
              "    </tr>\n",
              "    <tr>\n",
              "      <th>State</th>\n",
              "      <th></th>\n",
              "      <th></th>\n",
              "      <th></th>\n",
              "      <th></th>\n",
              "    </tr>\n",
              "  </thead>\n",
              "  <tbody>\n",
              "    <tr>\n",
              "      <th>Washington</th>\n",
              "      <td>5840.0</td>\n",
              "      <td>55240.0</td>\n",
              "      <td>17760.0</td>\n",
              "      <td>78850.0</td>\n",
              "    </tr>\n",
              "  </tbody>\n",
              "</table>\n",
              "</div>"
            ],
            "text/plain": [
              "              Coal      Oil  NaturalGas    Total\n",
              "State                                           \n",
              "Washington  5840.0  55240.0     17760.0  78850.0"
            ]
          },
          "metadata": {
            "tags": []
          },
          "execution_count": 144
        }
      ]
    },
    {
      "cell_type": "code",
      "metadata": {
        "id": "uzQmo_w1w4Ze"
      },
      "source": [
        "# column_list2 = (\n",
        "#                 \"carbon2_NaturalGas\",\"carbon2_Oil\",\"carbon2_Coal\",\"carbon2_total_emission\")"
      ],
      "execution_count": 124,
      "outputs": []
    },
    {
      "cell_type": "code",
      "metadata": {
        "colab": {
          "base_uri": "https://localhost:8080/",
          "height": 400
        },
        "id": "2Tif9Dp9qR_L",
        "outputId": "47961a6f-2e2d-4edd-f8b0-667716fb067e"
      },
      "source": [
        "import seaborn as sns\n",
        "cmap = sns.color_palette(\"gray_r\", n_colors=4)\n",
        "\n",
        "fig, ax = plt.subplots()\n",
        "fig.set_size_inches(12, 5)\n",
        "\n",
        "df_carbon2_avgday.sum().plot.bar(\n",
        "            ax = ax, \n",
        "            color=cmap, \n",
        "            title=\"Total carbon emission ( avg day) \")\n",
        "ax.set_ylabel(\"Carbon Emission (kg carbon dioxide)\")  \n",
        "\n",
        "# fig, ax = plt.subplots()\n",
        "# fig.set_size_inches(12, 5)\n",
        "\n",
        "# date = datetime.date(2018, 7, 2)\n",
        "# sub_df_carbon2= df[df['DATE']== date]\n",
        "\n",
        "# sub_df_carbon2.plot(x='HOURS', y = np.array(column_list2), ax = ax, \n",
        "#              color=cmap, \n",
        "#               # kind='area', stacked=False,\n",
        "#               title = \"Carbon Emission by Fuel for generation in \"+ Region + \" on \"+ str(date),legend=False)\n",
        "# ax.set_ylabel(\"Carbon Emission (kgCO2eq/MWh)\")   \n",
        "# # ax.set_ylim(bottom = 0,top=50000)\n",
        "# ax.legend(loc='center left', bbox_to_anchor=(1.0, 0.5))"
      ],
      "execution_count": 145,
      "outputs": [
        {
          "output_type": "execute_result",
          "data": {
            "text/plain": [
              "Text(0, 0.5, 'Carbon Emission (metric tons of carbon dioxide)')"
            ]
          },
          "metadata": {
            "tags": []
          },
          "execution_count": 145
        },
        {
          "output_type": "display_data",
          "data": {
            "image/png": "[encoded data removed]",
            "text/plain": [
              "<Figure size 864x360 with 1 Axes>"
            ]
          },
          "metadata": {
            "tags": [],
            "needs_background": "light"
          }
        }
      ]
    },
    {
      "cell_type": "markdown",
      "metadata": {
        "id": "tVmNCFPCo4it"
      },
      "source": [
        "<a id=\"section-four\"></a>\n",
        "# 4. Plot Carbon graphs ( with Lifecycle Emission of Carbon rich + Renewable fuel sources )"
      ]
    },
    {
      "cell_type": "code",
      "metadata": {
        "id": "DKqk6EUkIUba"
      },
      "source": [
        "column_list = (\"carbon_Wind\",\"carbon_Solar\",\"carbon_Hydro\",\"carbon_Nuclear\", \"carbon_Other\", \n",
        "                \"carbon_NaturalGas\",\"carbon_Oil\",\"carbon_Coal\",\"carbon_total_emission\")"
      ],
      "execution_count": null,
      "outputs": []
    },
    {
      "cell_type": "code",
      "metadata": {
        "colab": {
          "base_uri": "https://localhost:8080/",
          "height": 455
        },
        "id": "t60fI-obHzGZ",
        "outputId": "4de2d774-e65f-45b0-f8eb-265b858ba5ee"
      },
      "source": [
        "import seaborn as sns\n",
        "cmap = sns.color_palette(\"gray_r\", n_colors=9)\n",
        "\n",
        "fig, ax = plt.subplots()\n",
        "fig.set_size_inches(12, 5)\n",
        "date = datetime.date(2018, 7, 2)\n",
        "df= df[df['DATE']== date]\n",
        "df[np.array(column_list)].sum().plot.bar(\n",
        "              ax = ax, \n",
        "             color=cmap, \n",
        "              # kind='area', stacked=False,\n",
        "            title=\"Total carbon emission on \"+ str(date))\n",
        "ax.set_ylabel(\"Carbon Emission (kgCO2eq/MWh)\")   "
      ],
      "execution_count": 131,
      "outputs": [
        {
          "output_type": "execute_result",
          "data": {
            "text/plain": [
              "Text(0, 0.5, 'Carbon Emission (kgCO2eq/MWh)')"
            ]
          },
          "metadata": {
            "tags": []
          },
          "execution_count": 131
        },
        {
          "output_type": "display_data",
          "data": {
            "image/png": "[encoded data removed]",
            "text/plain": [
              "<Figure size 864x360 with 1 Axes>"
            ]
          },
          "metadata": {
            "tags": [],
            "needs_background": "light"
          }
        }
      ]
    },
    {
      "cell_type": "code",
      "metadata": {
        "colab": {
          "base_uri": "https://localhost:8080/",
          "height": 487
        },
        "id": "Nsb_pOcWOvJ9",
        "outputId": "18a5e464-e917-4c32-8fff-228f583c57b6"
      },
      "source": [
        "for col in df.columns:\n",
        "    # print(df[col])\n",
        "    for j,carbon in df_carbon.iterrows():\n",
        "        if col in carbon[0]:\n",
        "            print(\"Match between two tables for \"+col+ \" and \"+ carbon[0] +\" - \"+ str(carbon[1]))\n",
        "            df['carbon_'+col] = df[col] * carbon[1]\n",
        "            \n",
        "df.head()"
      ],
      "execution_count": 41,
      "outputs": [
        {
          "output_type": "stream",
          "text": [
            "Match between two tables for Wind and Wind - 12\n",
            "Match between two tables for Solar and Solar - 48\n",
            "Match between two tables for Hydro and Hydro - 24\n",
            "Match between two tables for Other and Other - 24\n",
            "Match between two tables for Oil and Oil - 490\n",
            "Match between two tables for NaturalGas and NaturalGas - 490\n",
            "Match between two tables for Coal and Coal - 820\n",
            "Match between two tables for Nuclear and Nuclear - 12\n"
          ],
          "name": "stdout"
        },
        {
          "output_type": "execute_result",
          "data": {
            "text/html": [
              "<div>\n",
              "<style scoped>\n",
              "    .dataframe tbody tr th:only-of-type {\n",
              "        vertical-align: middle;\n",
              "    }\n",
              "\n",
              "    .dataframe tbody tr th {\n",
              "        vertical-align: top;\n",
              "    }\n",
              "\n",
              "    .dataframe thead th {\n",
              "        text-align: right;\n",
              "    }\n",
              "</style>\n",
              "<table border=\"1\" class=\"dataframe\">\n",
              "  <thead>\n",
              "    <tr style=\"text-align: right;\">\n",
              "      <th></th>\n",
              "      <th>Region Code</th>\n",
              "      <th>Timestamp (Hour Ending)</th>\n",
              "      <th>Wind</th>\n",
              "      <th>Solar</th>\n",
              "      <th>Hydro</th>\n",
              "      <th>Other</th>\n",
              "      <th>Oil</th>\n",
              "      <th>NaturalGas</th>\n",
              "      <th>Coal</th>\n",
              "      <th>Nuclear</th>\n",
              "      <th>Timestamp</th>\n",
              "      <th>DATE</th>\n",
              "      <th>TIME</th>\n",
              "      <th>HOURS</th>\n",
              "      <th>total_generation</th>\n",
              "      <th>carbon_Wind</th>\n",
              "      <th>carbon_Solar</th>\n",
              "      <th>carbon_Hydro</th>\n",
              "      <th>carbon_Other</th>\n",
              "      <th>carbon_Oil</th>\n",
              "      <th>carbon_NaturalGas</th>\n",
              "      <th>carbon_Coal</th>\n",
              "      <th>carbon_Nuclear</th>\n",
              "    </tr>\n",
              "  </thead>\n",
              "  <tbody>\n",
              "    <tr>\n",
              "      <th>0</th>\n",
              "      <td>NW</td>\n",
              "      <td>7/1/2018 1 a.m. MDT</td>\n",
              "      <td>1391</td>\n",
              "      <td>-1</td>\n",
              "      <td>864</td>\n",
              "      <td>47</td>\n",
              "      <td>59</td>\n",
              "      <td>1925</td>\n",
              "      <td>5839</td>\n",
              "      <td>NaN</td>\n",
              "      <td>0</td>\n",
              "      <td>2018-07-01</td>\n",
              "      <td>01:00:00</td>\n",
              "      <td>1</td>\n",
              "      <td>NaN</td>\n",
              "      <td>16692</td>\n",
              "      <td>-48</td>\n",
              "      <td>20736</td>\n",
              "      <td>1128</td>\n",
              "      <td>28910</td>\n",
              "      <td>943250</td>\n",
              "      <td>4787980</td>\n",
              "      <td>NaN</td>\n",
              "    </tr>\n",
              "    <tr>\n",
              "      <th>1</th>\n",
              "      <td>NW</td>\n",
              "      <td>7/1/2018 2 a.m. MDT</td>\n",
              "      <td>4651</td>\n",
              "      <td>-1</td>\n",
              "      <td>16111</td>\n",
              "      <td>734</td>\n",
              "      <td>60</td>\n",
              "      <td>6222</td>\n",
              "      <td>8689</td>\n",
              "      <td>1146.0</td>\n",
              "      <td>1</td>\n",
              "      <td>2018-07-01</td>\n",
              "      <td>02:00:00</td>\n",
              "      <td>2</td>\n",
              "      <td>37612.0</td>\n",
              "      <td>55812</td>\n",
              "      <td>-48</td>\n",
              "      <td>386664</td>\n",
              "      <td>17616</td>\n",
              "      <td>29400</td>\n",
              "      <td>3048780</td>\n",
              "      <td>7124980</td>\n",
              "      <td>13752.0</td>\n",
              "    </tr>\n",
              "    <tr>\n",
              "      <th>2</th>\n",
              "      <td>NW</td>\n",
              "      <td>7/1/2018 3 a.m. MDT</td>\n",
              "      <td>4139</td>\n",
              "      <td>0</td>\n",
              "      <td>15155</td>\n",
              "      <td>748</td>\n",
              "      <td>59</td>\n",
              "      <td>6055</td>\n",
              "      <td>8655</td>\n",
              "      <td>1148.0</td>\n",
              "      <td>2</td>\n",
              "      <td>2018-07-01</td>\n",
              "      <td>03:00:00</td>\n",
              "      <td>3</td>\n",
              "      <td>35959.0</td>\n",
              "      <td>49668</td>\n",
              "      <td>0</td>\n",
              "      <td>363720</td>\n",
              "      <td>17952</td>\n",
              "      <td>28910</td>\n",
              "      <td>2966950</td>\n",
              "      <td>7097100</td>\n",
              "      <td>13776.0</td>\n",
              "    </tr>\n",
              "    <tr>\n",
              "      <th>3</th>\n",
              "      <td>NW</td>\n",
              "      <td>7/1/2018 4 a.m. MDT</td>\n",
              "      <td>3562</td>\n",
              "      <td>0</td>\n",
              "      <td>15037</td>\n",
              "      <td>754</td>\n",
              "      <td>59</td>\n",
              "      <td>5798</td>\n",
              "      <td>8508</td>\n",
              "      <td>1150.0</td>\n",
              "      <td>3</td>\n",
              "      <td>2018-07-01</td>\n",
              "      <td>04:00:00</td>\n",
              "      <td>4</td>\n",
              "      <td>34868.0</td>\n",
              "      <td>42744</td>\n",
              "      <td>0</td>\n",
              "      <td>360888</td>\n",
              "      <td>18096</td>\n",
              "      <td>28910</td>\n",
              "      <td>2841020</td>\n",
              "      <td>6976560</td>\n",
              "      <td>13800.0</td>\n",
              "    </tr>\n",
              "    <tr>\n",
              "      <th>4</th>\n",
              "      <td>NW</td>\n",
              "      <td>7/1/2018 5 a.m. MDT</td>\n",
              "      <td>3345</td>\n",
              "      <td>0</td>\n",
              "      <td>15064</td>\n",
              "      <td>774</td>\n",
              "      <td>58</td>\n",
              "      <td>5749</td>\n",
              "      <td>8387</td>\n",
              "      <td>1152.0</td>\n",
              "      <td>4</td>\n",
              "      <td>2018-07-01</td>\n",
              "      <td>05:00:00</td>\n",
              "      <td>5</td>\n",
              "      <td>34529.0</td>\n",
              "      <td>40140</td>\n",
              "      <td>0</td>\n",
              "      <td>361536</td>\n",
              "      <td>18576</td>\n",
              "      <td>28420</td>\n",
              "      <td>2817010</td>\n",
              "      <td>6877340</td>\n",
              "      <td>13824.0</td>\n",
              "    </tr>\n",
              "  </tbody>\n",
              "</table>\n",
              "</div>"
            ],
            "text/plain": [
              "  Region Code Timestamp (Hour Ending)  ...  carbon_Coal  carbon_Nuclear\n",
              "0          NW     7/1/2018 1 a.m. MDT  ...      4787980             NaN\n",
              "1          NW     7/1/2018 2 a.m. MDT  ...      7124980         13752.0\n",
              "2          NW     7/1/2018 3 a.m. MDT  ...      7097100         13776.0\n",
              "3          NW     7/1/2018 4 a.m. MDT  ...      6976560         13800.0\n",
              "4          NW     7/1/2018 5 a.m. MDT  ...      6877340         13824.0\n",
              "\n",
              "[5 rows x 23 columns]"
            ]
          },
          "metadata": {
            "tags": []
          },
          "execution_count": 41
        }
      ]
    },
    {
      "cell_type": "code",
      "metadata": {
        "colab": {
          "base_uri": "https://localhost:8080/",
          "height": 343
        },
        "id": "MjEsuMdZ0zw0",
        "outputId": "a3e1f49d-6579-4b3d-96e0-09f37bddb88d"
      },
      "source": [
        "df['carbon_total_emission']= df[\"carbon_Wind\"] + df[\"carbon_Solar\"]+ df[\"carbon_Hydro\"] + df[\"carbon_Other\"]+ df[\"carbon_Oil\"] + df[\"carbon_NaturalGas\"] + df[\"carbon_Coal\"]+ df[\"carbon_Nuclear\"]\n",
        "df.head()"
      ],
      "execution_count": 48,
      "outputs": [
        {
          "output_type": "execute_result",
          "data": {
            "text/html": [
              "<div>\n",
              "<style scoped>\n",
              "    .dataframe tbody tr th:only-of-type {\n",
              "        vertical-align: middle;\n",
              "    }\n",
              "\n",
              "    .dataframe tbody tr th {\n",
              "        vertical-align: top;\n",
              "    }\n",
              "\n",
              "    .dataframe thead th {\n",
              "        text-align: right;\n",
              "    }\n",
              "</style>\n",
              "<table border=\"1\" class=\"dataframe\">\n",
              "  <thead>\n",
              "    <tr style=\"text-align: right;\">\n",
              "      <th></th>\n",
              "      <th>Region Code</th>\n",
              "      <th>Timestamp (Hour Ending)</th>\n",
              "      <th>Wind</th>\n",
              "      <th>Solar</th>\n",
              "      <th>Hydro</th>\n",
              "      <th>Other</th>\n",
              "      <th>Oil</th>\n",
              "      <th>NaturalGas</th>\n",
              "      <th>Coal</th>\n",
              "      <th>Nuclear</th>\n",
              "      <th>Timestamp</th>\n",
              "      <th>DATE</th>\n",
              "      <th>TIME</th>\n",
              "      <th>HOURS</th>\n",
              "      <th>total_generation</th>\n",
              "      <th>carbon_Wind</th>\n",
              "      <th>carbon_Solar</th>\n",
              "      <th>carbon_Hydro</th>\n",
              "      <th>carbon_Other</th>\n",
              "      <th>carbon_Oil</th>\n",
              "      <th>carbon_NaturalGas</th>\n",
              "      <th>carbon_Coal</th>\n",
              "      <th>carbon_Nuclear</th>\n",
              "      <th>carbon_total_emission</th>\n",
              "    </tr>\n",
              "  </thead>\n",
              "  <tbody>\n",
              "    <tr>\n",
              "      <th>0</th>\n",
              "      <td>NW</td>\n",
              "      <td>7/1/2018 1 a.m. MDT</td>\n",
              "      <td>1391</td>\n",
              "      <td>-1</td>\n",
              "      <td>864</td>\n",
              "      <td>47</td>\n",
              "      <td>59</td>\n",
              "      <td>1925</td>\n",
              "      <td>5839</td>\n",
              "      <td>NaN</td>\n",
              "      <td>0</td>\n",
              "      <td>2018-07-01</td>\n",
              "      <td>01:00:00</td>\n",
              "      <td>1</td>\n",
              "      <td>NaN</td>\n",
              "      <td>16692</td>\n",
              "      <td>-48</td>\n",
              "      <td>20736</td>\n",
              "      <td>1128</td>\n",
              "      <td>28910</td>\n",
              "      <td>943250</td>\n",
              "      <td>4787980</td>\n",
              "      <td>NaN</td>\n",
              "      <td>NaN</td>\n",
              "    </tr>\n",
              "    <tr>\n",
              "      <th>1</th>\n",
              "      <td>NW</td>\n",
              "      <td>7/1/2018 2 a.m. MDT</td>\n",
              "      <td>4651</td>\n",
              "      <td>-1</td>\n",
              "      <td>16111</td>\n",
              "      <td>734</td>\n",
              "      <td>60</td>\n",
              "      <td>6222</td>\n",
              "      <td>8689</td>\n",
              "      <td>1146.0</td>\n",
              "      <td>1</td>\n",
              "      <td>2018-07-01</td>\n",
              "      <td>02:00:00</td>\n",
              "      <td>2</td>\n",
              "      <td>37612.0</td>\n",
              "      <td>55812</td>\n",
              "      <td>-48</td>\n",
              "      <td>386664</td>\n",
              "      <td>17616</td>\n",
              "      <td>29400</td>\n",
              "      <td>3048780</td>\n",
              "      <td>7124980</td>\n",
              "      <td>13752.0</td>\n",
              "      <td>10676956.0</td>\n",
              "    </tr>\n",
              "    <tr>\n",
              "      <th>2</th>\n",
              "      <td>NW</td>\n",
              "      <td>7/1/2018 3 a.m. MDT</td>\n",
              "      <td>4139</td>\n",
              "      <td>0</td>\n",
              "      <td>15155</td>\n",
              "      <td>748</td>\n",
              "      <td>59</td>\n",
              "      <td>6055</td>\n",
              "      <td>8655</td>\n",
              "      <td>1148.0</td>\n",
              "      <td>2</td>\n",
              "      <td>2018-07-01</td>\n",
              "      <td>03:00:00</td>\n",
              "      <td>3</td>\n",
              "      <td>35959.0</td>\n",
              "      <td>49668</td>\n",
              "      <td>0</td>\n",
              "      <td>363720</td>\n",
              "      <td>17952</td>\n",
              "      <td>28910</td>\n",
              "      <td>2966950</td>\n",
              "      <td>7097100</td>\n",
              "      <td>13776.0</td>\n",
              "      <td>10538076.0</td>\n",
              "    </tr>\n",
              "    <tr>\n",
              "      <th>3</th>\n",
              "      <td>NW</td>\n",
              "      <td>7/1/2018 4 a.m. MDT</td>\n",
              "      <td>3562</td>\n",
              "      <td>0</td>\n",
              "      <td>15037</td>\n",
              "      <td>754</td>\n",
              "      <td>59</td>\n",
              "      <td>5798</td>\n",
              "      <td>8508</td>\n",
              "      <td>1150.0</td>\n",
              "      <td>3</td>\n",
              "      <td>2018-07-01</td>\n",
              "      <td>04:00:00</td>\n",
              "      <td>4</td>\n",
              "      <td>34868.0</td>\n",
              "      <td>42744</td>\n",
              "      <td>0</td>\n",
              "      <td>360888</td>\n",
              "      <td>18096</td>\n",
              "      <td>28910</td>\n",
              "      <td>2841020</td>\n",
              "      <td>6976560</td>\n",
              "      <td>13800.0</td>\n",
              "      <td>10282018.0</td>\n",
              "    </tr>\n",
              "    <tr>\n",
              "      <th>4</th>\n",
              "      <td>NW</td>\n",
              "      <td>7/1/2018 5 a.m. MDT</td>\n",
              "      <td>3345</td>\n",
              "      <td>0</td>\n",
              "      <td>15064</td>\n",
              "      <td>774</td>\n",
              "      <td>58</td>\n",
              "      <td>5749</td>\n",
              "      <td>8387</td>\n",
              "      <td>1152.0</td>\n",
              "      <td>4</td>\n",
              "      <td>2018-07-01</td>\n",
              "      <td>05:00:00</td>\n",
              "      <td>5</td>\n",
              "      <td>34529.0</td>\n",
              "      <td>40140</td>\n",
              "      <td>0</td>\n",
              "      <td>361536</td>\n",
              "      <td>18576</td>\n",
              "      <td>28420</td>\n",
              "      <td>2817010</td>\n",
              "      <td>6877340</td>\n",
              "      <td>13824.0</td>\n",
              "      <td>10156846.0</td>\n",
              "    </tr>\n",
              "  </tbody>\n",
              "</table>\n",
              "</div>"
            ],
            "text/plain": [
              "  Region Code Timestamp (Hour Ending)  ...  carbon_Nuclear  carbon_total_emission\n",
              "0          NW     7/1/2018 1 a.m. MDT  ...             NaN                    NaN\n",
              "1          NW     7/1/2018 2 a.m. MDT  ...         13752.0             10676956.0\n",
              "2          NW     7/1/2018 3 a.m. MDT  ...         13776.0             10538076.0\n",
              "3          NW     7/1/2018 4 a.m. MDT  ...         13800.0             10282018.0\n",
              "4          NW     7/1/2018 5 a.m. MDT  ...         13824.0             10156846.0\n",
              "\n",
              "[5 rows x 24 columns]"
            ]
          },
          "metadata": {
            "tags": []
          },
          "execution_count": 48
        }
      ]
    },
    {
      "cell_type": "code",
      "metadata": {
        "id": "ZHJG96xAv0US"
      },
      "source": [
        ""
      ],
      "execution_count": 49,
      "outputs": []
    },
    {
      "cell_type": "code",
      "metadata": {
        "colab": {
          "base_uri": "https://localhost:8080/"
        },
        "id": "EYjlAv6ZwghS",
        "outputId": "14a8b850-395d-4f78-ce3b-fafc69e881e2"
      },
      "source": [
        "dates = df['DATE'].unique()\n",
        "dates"
      ],
      "execution_count": 50,
      "outputs": [
        {
          "output_type": "execute_result",
          "data": {
            "text/plain": [
              "array([datetime.date(2018, 7, 1), datetime.date(2018, 7, 2),\n",
              "       datetime.date(2018, 7, 3), datetime.date(2018, 7, 4),\n",
              "       datetime.date(2018, 7, 5), datetime.date(2018, 7, 6),\n",
              "       datetime.date(2018, 7, 7), datetime.date(2018, 7, 8)], dtype=object)"
            ]
          },
          "metadata": {
            "tags": []
          },
          "execution_count": 50
        }
      ]
    },
    {
      "cell_type": "code",
      "metadata": {
        "colab": {
          "base_uri": "https://localhost:8080/",
          "height": 368
        },
        "id": "0kvbA_qu3CUT",
        "outputId": "020a26bb-f580-49e2-ad9f-1d502f96b395"
      },
      "source": [
        "import seaborn as sns\n",
        "cmap = sns.color_palette(\"gray_r\", n_colors=9)\n",
        "\n",
        "fig, ax = plt.subplots()\n",
        "fig.set_size_inches(12, 5)\n",
        "date = datetime.date(2018, 7, 2)\n",
        "sub_df_carbon= df[df['DATE']== date]\n",
        "sub_df_carbon.plot(x='HOURS', y = np.array(column_list), ax = ax, \n",
        "             color=cmap, \n",
        "              # kind='area', stacked=False,\n",
        "              title = \"Carbon Emission by Fuel for generation in \"+ Region + \" on \"+ str(date),legend=False)\n",
        "ax.set_ylabel(\"Carbon Emission (kgCO2eq/MWh)\")   \n",
        "ax.legend(loc='center left', bbox_to_anchor=(1.0, 0.5))"
      ],
      "execution_count": 56,
      "outputs": [
        {
          "output_type": "execute_result",
          "data": {
            "text/plain": [
              "<matplotlib.legend.Legend at 0x7f21e157cd90>"
            ]
          },
          "metadata": {
            "tags": []
          },
          "execution_count": 56
        },
        {
          "output_type": "display_data",
          "data": {
            "image/png": "[encoded data removed]",
            "text/plain": [
              "<Figure size 864x360 with 1 Axes>"
            ]
          },
          "metadata": {
            "tags": [],
            "needs_background": "light"
          }
        }
      ]
    },
    {
      "cell_type": "code",
      "metadata": {
        "id": "kQIhDn1u4Day"
      },
      "source": [
        ""
      ],
      "execution_count": 52,
      "outputs": []
    },
    {
      "cell_type": "code",
      "metadata": {
        "id": "LhPZ6OYQ8EO2"
      },
      "source": [
        "# import seaborn as sns\n",
        "# cmap = sns.color_palette(\"Blues_r\", n_colors=4)\n",
        "\n",
        "# fig, ax = plt.subplots()\n",
        "# fig.set_size_inches(12, 5)\n",
        "# df.plot(x='MINUTES_PASS', y = np.array(column_list)[0:4], ax = ax, \n",
        "#              color=cmap, \n",
        "#               # kind='area', stacked=False,\n",
        "#               title = \"Carbon Emission by Fuel for generation in \"+ Region + \" on \"+ pp,legend=False)\n",
        "# ax.set_ylabel(\"Carbon Emission (kgCO2eq/MWh)\")   \n",
        "# # ax.set_ylim(bottom = 0,top=50000)\n",
        "# ax.legend(loc='center left', bbox_to_anchor=(1.0, 0.5))"
      ],
      "execution_count": 53,
      "outputs": []
    },
    {
      "cell_type": "code",
      "metadata": {
        "id": "qs7FH7WZ-_VS"
      },
      "source": [
        "# ## Without total carbon emission \n",
        "# import seaborn as sns\n",
        "# cmap = sns.color_palette(\"gray_r\", n_colors=8)\n",
        "\n",
        "# fig, ax = plt.subplots()\n",
        "# fig.set_size_inches(12, 5)\n",
        "# df.plot(x='MINUTES_PASS', y = np.array(column_list)[0:8], ax = ax, \n",
        "#              color=cmap, \n",
        "#               kind='area', stacked=True,\n",
        "#               title = \"Carbon Emission by Fuel for generation in \"+ Region + \" on \"+ pp,legend=False)\n",
        "# ax.set_ylabel(\"Carbon Emission (kgCO2eq/MWh)\")\n",
        "# ax.legend(loc='center left', bbox_to_anchor=(1.0, 0.5))"
      ],
      "execution_count": 54,
      "outputs": []
    },
    {
      "cell_type": "code",
      "metadata": {
        "id": "rBxpCNcaxCRT"
      },
      "source": [
        "# ## With total carbon emission \n",
        "# import seaborn as sns\n",
        "# cmap = sns.color_palette(\"gray_r\", n_colors=9)\n",
        "\n",
        "# fig, ax = plt.subplots()\n",
        "# fig.set_size_inches(12, 5)\n",
        "# df.plot(x='MINUTES_PASS', y = np.array(column_list), ax = ax, \n",
        "#              color=cmap, \n",
        "#           kind='area', stacked=True,\n",
        "#               title = \"Carbon Emission by Fuel for generation in \"+ Region + \" on \"+ pp,legend=False)\n",
        "# ax.set_ylabel(\"Carbon Emission (kgCO2eq/MWh)\")\n",
        "\n",
        "# # mean_gen = round(sub_df[\"total_generation\"].mean())\n",
        "# # max_gen = sub_df[\"total_generation\"].max()\n",
        "# # maxh = sub_df.loc[sub_df[\"total_generation\"]== max_gen]\n",
        "# # maxh = maxh[\"HOURS\"]\n",
        "\n",
        "# # Mark Mean Line \n",
        "# # ax.axhline(y=mean_gen, xmin=-1, xmax=1, color='r', linestyle='--', lw=2)\n",
        "# # ax.text(5,mean_gen+1000, \"Mean \" + str(mean_gen) + \"(MW)\" )\n",
        "\n",
        "# # ax.get_legend().remove()\n",
        "\n",
        "# # Mark Peak consumption \n",
        "# # ax.annotate('Peak '+ str(max_gen)+ \"(MWh)\", xy=(maxh,max_gen), xytext=(maxh+1, max_gen+1000),\n",
        "# #              arrowprops=dict(arrowstyle='-|>') ,ha='left', rotation=0)\n",
        "    \n",
        "# ax.legend(loc='center left', bbox_to_anchor=(1.0, 0.5))\n",
        "# # plot.show(block=True);"
      ],
      "execution_count": 58,
      "outputs": []
    },
    {
      "cell_type": "code",
      "metadata": {
        "colab": {
          "base_uri": "https://localhost:8080/",
          "height": 709
        },
        "id": "7HDzdPQWwQly",
        "outputId": "c0b25022-e22f-4778-bf58-3de268817a48"
      },
      "source": [
        "# fig, axs = plt.subplots(nrows=3, ncols=2)\n",
        "# fig.set_size_inches(20, 10)\n",
        "# fig.subplots_adjust(wspace=0.2)\n",
        "# fig.subplots_adjust(hspace=0.5)\n",
        "\n",
        "# fig.legend(column_list)\n",
        "  \n",
        "# for pp,ax in zip(dates,axs.flatten()):\n",
        "#     print(pp)\n",
        "#     sub_df = df[df['DATE']==pp]\n",
        "#     sub_df.plot.line(x='MINUTES_PASS', y = column_list[0], ax = ax, title = \"Fuel Mix for generation in \"+ Region + \" on \"+ pp,legend=False)\n",
        "#     sub_df.plot.line(x='MINUTES_PASS', y = column_list[1], ax = ax,legend=False)\n",
        "#     sub_df.plot.line(x='MINUTES_PASS', y = column_list[2], ax = ax,legend=False)    \n",
        "#     sub_df.plot.line(x='MINUTES_PASS', y = column_list[3], ax = ax,legend=False)\n",
        "#     sub_df.plot.line(x='MINUTES_PASS', y = column_list[4], ax = ax,legend=False)\n",
        "#     sub_df.plot.line(x='MINUTES_PASS', y = column_list[5], ax = ax,legend=False)\n",
        "#     sub_df.plot.line(x='MINUTES_PASS', y = column_list[6], ax = ax,legend=False)\n",
        "#     sub_df.plot.line(x='MINUTES_PASS', y = column_list[7], ax = ax,legend=False)\n",
        "#     sub_df.plot.line(x='MINUTES_PASS', y =['total_generation'], ax = ax,legend=False)\n",
        "    \n",
        "#     ax.set_ylabel(\"generation(Mw)\")\n",
        "    \n",
        "#     mean_gen = round(sub_df[\"total_generation\"].mean())\n",
        "#     max_gen = sub_df[\"total_generation\"].max()\n",
        "#     maxh = sub_df.loc[sub_df[\"total_generation\"]== max_gen]\n",
        "#     maxh = maxh[\"MINUTES_PASS\"]\n",
        "#     ax.axhline(y=mean_gen, xmin=-1, xmax=1, color='r', linestyle='--', lw=2)\n",
        "    \n",
        "#     ax.text(5,mean_gen+1000, \"Mean \" + str(mean_gen) + \"(MW)\" )\n",
        "\n",
        "# #     ax.get_legend().remove()\n",
        "    \n",
        "# #     ax.annotate('Peak '+ str(max_gen)+ \"(MWh)\", xy=(maxh,max_gen), xytext=(maxh+1, max_gen+1000),\n",
        "# #              arrowprops=dict(arrowstyle='-|>') ,ha='left', rotation=0)\n",
        "    \n",
        "#     ax.set_ylim(bottom = 0,top=39000)\n",
        "    \n",
        "# ax.legend(loc='center left', bbox_to_anchor=(1.0, 0.5))"
      ],
      "execution_count": null,
      "outputs": [
        {
          "output_type": "stream",
          "text": [
            "2020-09-07\n"
          ],
          "name": "stdout"
        },
        {
          "output_type": "execute_result",
          "data": {
            "text/plain": [
              "<matplotlib.legend.Legend at 0x7f38a5d02a50>"
            ]
          },
          "metadata": {
            "tags": []
          },
          "execution_count": 64
        },
        {
          "output_type": "display_data",
          "data": {
            "image/png": "[encoded data removed]",
            "text/plain": [
              "<Figure size 1440x720 with 6 Axes>"
            ]
          },
          "metadata": {
            "tags": [],
            "needs_background": "light"
          }
        }
      ]
    }
  ]
}